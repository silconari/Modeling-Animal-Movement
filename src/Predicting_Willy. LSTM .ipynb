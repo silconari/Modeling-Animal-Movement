{
 "cells": [
  {
   "cell_type": "code",
   "execution_count": 1,
   "id": "16469181",
   "metadata": {},
   "outputs": [
    {
     "name": "stderr",
     "output_type": "stream",
     "text": [
      "2021-10-24 19:14:32.184076: W tensorflow/stream_executor/platform/default/dso_loader.cc:64] Could not load dynamic library 'libcudart.so.11.0'; dlerror: libcudart.so.11.0: cannot open shared object file: No such file or directory\n",
      "2021-10-24 19:14:32.184182: I tensorflow/stream_executor/cuda/cudart_stub.cc:29] Ignore above cudart dlerror if you do not have a GPU set up on your machine.\n"
     ]
    }
   ],
   "source": [
    "import pandas as pd\n",
    "import glob\n",
    "import tensorflow as tf\n",
    "from tensorflow.data import Dataset\n",
    "from matplotlib import pyplot\n",
    "from tensorflow.keras.callbacks import TensorBoard\n",
    "import numpy as np"
   ]
  },
  {
   "cell_type": "code",
   "execution_count": 2,
   "id": "a1f6fe25",
   "metadata": {},
   "outputs": [],
   "source": [
    "df_23043 = pd.read_csv(\"../data/datasets_by_whale/1999CA-Bmu-23043.csv\")[[\"location-long\", \"location-lat\"]] \n",
    "#whale with largest route"
   ]
  },
  {
   "cell_type": "markdown",
   "id": "a6e897b6",
   "metadata": {},
   "source": [
    "### Split data for train and test "
   ]
  },
  {
   "cell_type": "code",
   "execution_count": 3,
   "id": "de2e8461",
   "metadata": {},
   "outputs": [],
   "source": [
    "def split_data(df):\n",
    "\n",
    "    n = len(df)\n",
    "    train_df = df[0:int(n*0.7)]\n",
    "    test_df = df[int(n*0.7):]\n",
    "\n",
    "    num_features = df.shape[1]\n",
    "    \n",
    "    return train_df,test_df"
   ]
  },
  {
   "cell_type": "code",
   "execution_count": 4,
   "id": "c1c92efa",
   "metadata": {},
   "outputs": [],
   "source": [
    "train_df,test_df = split_data(df_23043)"
   ]
  },
  {
   "cell_type": "markdown",
   "id": "7946c1c4",
   "metadata": {},
   "source": [
    "### Create data windows "
   ]
  },
  {
   "cell_type": "code",
   "execution_count": 5,
   "id": "33996eb8",
   "metadata": {},
   "outputs": [],
   "source": [
    "def data_windowing(train_df,test_df):\n",
    "    n_points = 20\n",
    "    window_length = n_points+ 1 \n",
    "    \n",
    "    window_train = tf.keras.utils.timeseries_dataset_from_array(\n",
    "    train_df, targets=None,sequence_length = window_length, sequence_stride=1, sampling_rate=1,\n",
    "    batch_size=32, shuffle=False, seed=None, start_index=None, end_index=None)\n",
    "\n",
    "    window_test = tf.keras.utils.timeseries_dataset_from_array(\n",
    "    test_df, targets=None,sequence_length = window_length, sequence_stride=1, sampling_rate=1,\n",
    "    batch_size=32, shuffle=False, seed=None, start_index=None, end_index=None)\n",
    "\n",
    "    return window_train, window_test"
   ]
  },
  {
   "cell_type": "code",
   "execution_count": 6,
   "id": "710bc036",
   "metadata": {},
   "outputs": [
    {
     "name": "stderr",
     "output_type": "stream",
     "text": [
      "2021-10-24 19:15:16.322268: W tensorflow/stream_executor/platform/default/dso_loader.cc:64] Could not load dynamic library 'libcuda.so.1'; dlerror: libcuda.so.1: cannot open shared object file: No such file or directory\n",
      "2021-10-24 19:15:16.322345: W tensorflow/stream_executor/cuda/cuda_driver.cc:269] failed call to cuInit: UNKNOWN ERROR (303)\n",
      "2021-10-24 19:15:16.322521: I tensorflow/stream_executor/cuda/cuda_diagnostics.cc:156] kernel driver does not appear to be running on this host (DESKTOP-R3AGIN3): /proc/driver/nvidia/version does not exist\n",
      "2021-10-24 19:15:16.323610: I tensorflow/core/platform/cpu_feature_guard.cc:142] This TensorFlow binary is optimized with oneAPI Deep Neural Network Library (oneDNN) to use the following CPU instructions in performance-critical operations:  AVX2 FMA\n",
      "To enable them in other operations, rebuild TensorFlow with the appropriate compiler flags.\n"
     ]
    }
   ],
   "source": [
    "window_train,window_test = data_windowing(train_df,test_df)"
   ]
  },
  {
   "cell_type": "markdown",
   "id": "e1e67a5f",
   "metadata": {},
   "source": [
    "### Splits windows in X,y"
   ]
  },
  {
   "cell_type": "code",
   "execution_count": 7,
   "id": "6de001cc",
   "metadata": {},
   "outputs": [],
   "source": [
    "def data_map(elem):\n",
    "    n_points = 20\n",
    "    window_length = n_points+ 1 \n",
    "    X,y = elem[:,:-1,:],elem[:,-1:,0:2] # X= features; y = labels(the next coordenate point)\n",
    "    X.set_shape([None, n_points, None])\n",
    "    y.set_shape([None, window_length - n_points, None])\n",
    "    \n",
    "    return (X,y)\n"
   ]
  },
  {
   "cell_type": "code",
   "execution_count": 8,
   "id": "adf303c5",
   "metadata": {},
   "outputs": [],
   "source": [
    "train = window_train.map(data_map)\n",
    "test = window_test.map(data_map)"
   ]
  },
  {
   "cell_type": "markdown",
   "id": "9910e548",
   "metadata": {},
   "source": [
    "### Trainning a neural network model"
   ]
  },
  {
   "cell_type": "code",
   "execution_count": 9,
   "id": "09b2fd88",
   "metadata": {},
   "outputs": [],
   "source": [
    "lstm_model = tf.keras.models.Sequential([\n",
    "    tf.keras.layers.LSTM(32, return_sequences=False),\n",
    "    tf.keras.layers.Dense(units=10),\n",
    "    tf.keras.layers.Dropout(rate=0.1),\n",
    "    tf.keras.layers.Dense(units=10),\n",
    "    tf.keras.layers.Dense(units=10),\n",
    "    tf.keras.layers.Dense(units=10),\n",
    "    tf.keras.layers.Dense(units=2)\n",
    "])"
   ]
  },
  {
   "cell_type": "code",
   "execution_count": 10,
   "id": "ecf320f2",
   "metadata": {},
   "outputs": [],
   "source": [
    "lstm_model.compile(loss=tf.losses.MeanSquaredError(),optimizer=tf.optimizers.Adam(learning_rate=0.0005),metrics=[tf.metrics.MeanAbsoluteError()])"
   ]
  },
  {
   "cell_type": "code",
   "execution_count": 11,
   "id": "06aef6dc",
   "metadata": {},
   "outputs": [
    {
     "name": "stderr",
     "output_type": "stream",
     "text": [
      "2021-10-24 19:15:20.876211: I tensorflow/core/profiler/lib/profiler_session.cc:131] Profiler session initializing.\n",
      "2021-10-24 19:15:20.876283: I tensorflow/core/profiler/lib/profiler_session.cc:146] Profiler session started.\n",
      "2021-10-24 19:15:20.878800: I tensorflow/core/profiler/lib/profiler_session.cc:164] Profiler session tear down.\n",
      "2021-10-24 19:15:20.955212: I tensorflow/compiler/mlir/mlir_graph_optimization_pass.cc:185] None of the MLIR Optimization Passes are enabled (registered 2)\n"
     ]
    },
    {
     "name": "stdout",
     "output_type": "stream",
     "text": [
      "Epoch 1/100\n",
      "2/9 [=====>........................] - ETA: 0s - loss: 7851.1235 - mean_absolute_error: 77.6766 "
     ]
    },
    {
     "name": "stderr",
     "output_type": "stream",
     "text": [
      "2021-10-24 19:15:22.960269: I tensorflow/core/profiler/lib/profiler_session.cc:131] Profiler session initializing.\n",
      "2021-10-24 19:15:22.960373: I tensorflow/core/profiler/lib/profiler_session.cc:146] Profiler session started.\n",
      "2021-10-24 19:15:23.005042: I tensorflow/core/profiler/lib/profiler_session.cc:66] Profiler session collecting data.\n",
      "2021-10-24 19:15:23.015932: I tensorflow/core/profiler/lib/profiler_session.cc:164] Profiler session tear down.\n",
      "2021-10-24 19:15:23.060054: I tensorflow/core/profiler/rpc/client/save_profile.cc:136] Creating directory: ./logs/train/plugins/profile/2021_10_24_19_15_23\n",
      "\n",
      "2021-10-24 19:15:23.078211: I tensorflow/core/profiler/rpc/client/save_profile.cc:142] Dumped gzipped tool data for trace.json.gz to ./logs/train/plugins/profile/2021_10_24_19_15_23/DESKTOP-R3AGIN3.trace.json.gz\n",
      "2021-10-24 19:15:23.104816: I tensorflow/core/profiler/rpc/client/save_profile.cc:136] Creating directory: ./logs/train/plugins/profile/2021_10_24_19_15_23\n",
      "\n",
      "2021-10-24 19:15:23.111541: I tensorflow/core/profiler/rpc/client/save_profile.cc:142] Dumped gzipped tool data for memory_profile.json.gz to ./logs/train/plugins/profile/2021_10_24_19_15_23/DESKTOP-R3AGIN3.memory_profile.json.gz\n"
     ]
    },
    {
     "name": "stdout",
     "output_type": "stream",
     "text": [
      "8/9 [=========================>....] - ETA: 0s - loss: 7979.5342 - mean_absolute_error: 78.4795"
     ]
    },
    {
     "name": "stderr",
     "output_type": "stream",
     "text": [
      "2021-10-24 19:15:23.191079: I tensorflow/core/profiler/rpc/client/capture_profile.cc:251] Creating directory: ./logs/train/plugins/profile/2021_10_24_19_15_23\n",
      "Dumped tool data for xplane.pb to ./logs/train/plugins/profile/2021_10_24_19_15_23/DESKTOP-R3AGIN3.xplane.pb\n",
      "Dumped tool data for overview_page.pb to ./logs/train/plugins/profile/2021_10_24_19_15_23/DESKTOP-R3AGIN3.overview_page.pb\n",
      "Dumped tool data for input_pipeline.pb to ./logs/train/plugins/profile/2021_10_24_19_15_23/DESKTOP-R3AGIN3.input_pipeline.pb\n",
      "Dumped tool data for tensorflow_stats.pb to ./logs/train/plugins/profile/2021_10_24_19_15_23/DESKTOP-R3AGIN3.tensorflow_stats.pb\n",
      "Dumped tool data for kernel_stats.pb to ./logs/train/plugins/profile/2021_10_24_19_15_23/DESKTOP-R3AGIN3.kernel_stats.pb\n",
      "\n"
     ]
    },
    {
     "name": "stdout",
     "output_type": "stream",
     "text": [
      "9/9 [==============================] - 3s 126ms/step - loss: 7994.8594 - mean_absolute_error: 78.5241 - val_loss: 7411.3662 - val_mean_absolute_error: 73.6775\n",
      "Epoch 2/100\n",
      "9/9 [==============================] - 0s 55ms/step - loss: 7945.8232 - mean_absolute_error: 78.1249 - val_loss: 7367.5137 - val_mean_absolute_error: 73.3153\n",
      "Epoch 3/100\n",
      "9/9 [==============================] - 0s 38ms/step - loss: 7895.1294 - mean_absolute_error: 77.7495 - val_loss: 7319.7310 - val_mean_absolute_error: 72.9407\n",
      "Epoch 4/100\n",
      "9/9 [==============================] - 0s 31ms/step - loss: 7843.0288 - mean_absolute_error: 77.3789 - val_loss: 7263.3213 - val_mean_absolute_error: 72.5027\n",
      "Epoch 5/100\n",
      "9/9 [==============================] - 0s 54ms/step - loss: 7773.6528 - mean_absolute_error: 76.8893 - val_loss: 7191.3823 - val_mean_absolute_error: 71.9424\n",
      "Epoch 6/100\n",
      "9/9 [==============================] - 0s 40ms/step - loss: 7685.6260 - mean_absolute_error: 76.2492 - val_loss: 7097.4111 - val_mean_absolute_error: 71.2253\n",
      "Epoch 7/100\n",
      "9/9 [==============================] - 0s 53ms/step - loss: 7570.1836 - mean_absolute_error: 75.4479 - val_loss: 6983.3853 - val_mean_absolute_error: 70.4079\n",
      "Epoch 8/100\n",
      "9/9 [==============================] - 0s 56ms/step - loss: 7432.6367 - mean_absolute_error: 74.5597 - val_loss: 6844.5083 - val_mean_absolute_error: 69.4604\n",
      "Epoch 9/100\n",
      "9/9 [==============================] - 0s 47ms/step - loss: 7263.5474 - mean_absolute_error: 73.4933 - val_loss: 6663.2637 - val_mean_absolute_error: 68.2400\n",
      "Epoch 10/100\n",
      "9/9 [==============================] - 0s 38ms/step - loss: 7038.7485 - mean_absolute_error: 72.0917 - val_loss: 6416.4482 - val_mean_absolute_error: 66.5754\n",
      "Epoch 11/100\n",
      "9/9 [==============================] - 0s 36ms/step - loss: 6709.8301 - mean_absolute_error: 69.9958 - val_loss: 6064.6104 - val_mean_absolute_error: 64.1608\n",
      "Epoch 12/100\n",
      "9/9 [==============================] - 0s 32ms/step - loss: 6281.9116 - mean_absolute_error: 67.2356 - val_loss: 5567.9917 - val_mean_absolute_error: 60.6059\n",
      "Epoch 13/100\n",
      "9/9 [==============================] - 0s 41ms/step - loss: 5649.5928 - mean_absolute_error: 62.8518 - val_loss: 4972.5186 - val_mean_absolute_error: 56.0994\n",
      "Epoch 14/100\n",
      "9/9 [==============================] - 0s 44ms/step - loss: 5026.0181 - mean_absolute_error: 58.3135 - val_loss: 4342.1353 - val_mean_absolute_error: 50.9989\n",
      "Epoch 15/100\n",
      "9/9 [==============================] - 0s 39ms/step - loss: 4295.8638 - mean_absolute_error: 52.5404 - val_loss: 3614.7148 - val_mean_absolute_error: 45.0906\n",
      "Epoch 16/100\n",
      "9/9 [==============================] - 1s 68ms/step - loss: 3497.9846 - mean_absolute_error: 45.5629 - val_loss: 2895.5520 - val_mean_absolute_error: 40.2398\n",
      "Epoch 17/100\n",
      "9/9 [==============================] - 1s 58ms/step - loss: 2814.0059 - mean_absolute_error: 39.1747 - val_loss: 2200.2939 - val_mean_absolute_error: 35.9634\n",
      "Epoch 18/100\n",
      "9/9 [==============================] - 0s 42ms/step - loss: 2096.2170 - mean_absolute_error: 34.6674 - val_loss: 1531.1859 - val_mean_absolute_error: 32.3949\n",
      "Epoch 19/100\n",
      "9/9 [==============================] - 0s 53ms/step - loss: 1368.1530 - mean_absolute_error: 29.9278 - val_loss: 1031.4275 - val_mean_absolute_error: 28.6259\n",
      "Epoch 20/100\n",
      "9/9 [==============================] - 0s 45ms/step - loss: 943.2878 - mean_absolute_error: 26.0271 - val_loss: 678.6271 - val_mean_absolute_error: 24.3214\n",
      "Epoch 21/100\n",
      "9/9 [==============================] - 0s 33ms/step - loss: 576.4558 - mean_absolute_error: 21.0040 - val_loss: 440.5521 - val_mean_absolute_error: 19.7489\n",
      "Epoch 22/100\n",
      "9/9 [==============================] - 0s 30ms/step - loss: 383.7491 - mean_absolute_error: 16.5878 - val_loss: 294.0451 - val_mean_absolute_error: 15.2295\n",
      "Epoch 23/100\n",
      "9/9 [==============================] - 0s 53ms/step - loss: 278.3450 - mean_absolute_error: 12.8033 - val_loss: 209.3742 - val_mean_absolute_error: 11.7599\n",
      "Epoch 24/100\n",
      "9/9 [==============================] - 0s 47ms/step - loss: 191.4840 - mean_absolute_error: 11.1926 - val_loss: 151.5555 - val_mean_absolute_error: 9.5339\n",
      "Epoch 25/100\n",
      "9/9 [==============================] - 0s 46ms/step - loss: 154.2328 - mean_absolute_error: 9.9733 - val_loss: 113.2232 - val_mean_absolute_error: 8.1022\n",
      "Epoch 26/100\n",
      "9/9 [==============================] - 0s 40ms/step - loss: 128.5370 - mean_absolute_error: 9.0878 - val_loss: 86.1237 - val_mean_absolute_error: 6.8861\n",
      "Epoch 27/100\n",
      "9/9 [==============================] - 0s 43ms/step - loss: 130.3071 - mean_absolute_error: 8.5313 - val_loss: 69.7619 - val_mean_absolute_error: 5.9936\n",
      "Epoch 28/100\n",
      "9/9 [==============================] - 0s 29ms/step - loss: 126.3527 - mean_absolute_error: 8.0344 - val_loss: 60.3055 - val_mean_absolute_error: 5.6236\n",
      "Epoch 29/100\n",
      "9/9 [==============================] - 0s 32ms/step - loss: 121.5644 - mean_absolute_error: 7.9561 - val_loss: 55.6556 - val_mean_absolute_error: 5.4862\n",
      "Epoch 30/100\n",
      "9/9 [==============================] - 1s 121ms/step - loss: 134.7702 - mean_absolute_error: 8.0339 - val_loss: 52.6160 - val_mean_absolute_error: 5.3793\n",
      "Epoch 31/100\n",
      "9/9 [==============================] - 1s 164ms/step - loss: 106.9662 - mean_absolute_error: 7.4962 - val_loss: 51.6494 - val_mean_absolute_error: 5.3744\n",
      "Epoch 32/100\n",
      "9/9 [==============================] - 2s 173ms/step - loss: 107.7863 - mean_absolute_error: 7.6134 - val_loss: 50.0585 - val_mean_absolute_error: 5.2865\n",
      "Epoch 33/100\n",
      "9/9 [==============================] - 1s 69ms/step - loss: 110.8140 - mean_absolute_error: 7.4372 - val_loss: 49.0799 - val_mean_absolute_error: 5.2246\n",
      "Epoch 34/100\n",
      "9/9 [==============================] - 1s 59ms/step - loss: 133.5339 - mean_absolute_error: 7.8777 - val_loss: 49.1028 - val_mean_absolute_error: 5.2401\n",
      "Epoch 35/100\n",
      "9/9 [==============================] - 0s 45ms/step - loss: 95.8787 - mean_absolute_error: 7.1555 - val_loss: 48.9556 - val_mean_absolute_error: 5.2318\n",
      "Epoch 36/100\n",
      "9/9 [==============================] - 1s 126ms/step - loss: 114.1580 - mean_absolute_error: 7.5752 - val_loss: 50.6773 - val_mean_absolute_error: 5.3678\n",
      "Epoch 37/100\n",
      "9/9 [==============================] - 2s 212ms/step - loss: 106.1959 - mean_absolute_error: 7.4789 - val_loss: 52.8537 - val_mean_absolute_error: 5.5238\n",
      "Epoch 38/100\n",
      "9/9 [==============================] - 1s 157ms/step - loss: 102.8037 - mean_absolute_error: 7.7625 - val_loss: 51.1054 - val_mean_absolute_error: 5.4030\n",
      "Epoch 39/100\n",
      "9/9 [==============================] - 1s 62ms/step - loss: 114.2960 - mean_absolute_error: 7.7034 - val_loss: 49.4661 - val_mean_absolute_error: 5.2849\n",
      "Epoch 40/100\n",
      "9/9 [==============================] - 0s 49ms/step - loss: 116.2133 - mean_absolute_error: 7.6385 - val_loss: 49.3681 - val_mean_absolute_error: 5.2809\n"
     ]
    }
   ],
   "source": [
    "early_stopping = tf.keras.callbacks.EarlyStopping(monitor='loss',\n",
    "                                                patience=5,\n",
    "                                                mode='min')\n",
    "\n",
    "tensorboard_callback = TensorBoard(log_dir=\"./logs\", histogram_freq=2)\n",
    "\n",
    "history = lstm_model.fit(train, epochs=100,\n",
    "                         validation_data=test,\n",
    "                         callbacks=[early_stopping, tensorboard_callback])\n"
   ]
  },
  {
   "cell_type": "code",
   "execution_count": 12,
   "id": "70bac8e2",
   "metadata": {},
   "outputs": [
    {
     "data": {
      "image/png": "[encoded data removed]",
      "text/plain": [
       "<Figure size 576x576 with 1 Axes>"
      ]
     },
     "metadata": {
      "needs_background": "light"
     },
     "output_type": "display_data"
    }
   ],
   "source": [
    "pyplot.figure(figsize=(8,8))\n",
    "pyplot.title('Loss / Mean Squared Error')\n",
    "pyplot.plot(history.history['loss'], label='train')\n",
    "pyplot.plot(history.history['val_loss'], label='test')\n",
    "pyplot.legend()\n",
    "pyplot.show()"
   ]
  },
  {
   "cell_type": "code",
   "execution_count": 13,
   "id": "64856d96",
   "metadata": {},
   "outputs": [
    {
     "data": {
      "text/html": [
       "<div>\n",
       "<style scoped>\n",
       "    .dataframe tbody tr th:only-of-type {\n",
       "        vertical-align: middle;\n",
       "    }\n",
       "\n",
       "    .dataframe tbody tr th {\n",
       "        vertical-align: top;\n",
       "    }\n",
       "\n",
       "    .dataframe thead th {\n",
       "        text-align: right;\n",
       "    }\n",
       "</style>\n",
       "<table border=\"1\" class=\"dataframe\">\n",
       "  <thead>\n",
       "    <tr style=\"text-align: right;\">\n",
       "      <th></th>\n",
       "      <th>location-long</th>\n",
       "      <th>location-lat</th>\n",
       "    </tr>\n",
       "  </thead>\n",
       "  <tbody>\n",
       "    <tr>\n",
       "      <th>290</th>\n",
       "      <td>-123.140</td>\n",
       "      <td>37.667</td>\n",
       "    </tr>\n",
       "    <tr>\n",
       "      <th>291</th>\n",
       "      <td>-122.513</td>\n",
       "      <td>37.741</td>\n",
       "    </tr>\n",
       "    <tr>\n",
       "      <th>292</th>\n",
       "      <td>-123.055</td>\n",
       "      <td>37.716</td>\n",
       "    </tr>\n",
       "    <tr>\n",
       "      <th>293</th>\n",
       "      <td>-123.105</td>\n",
       "      <td>37.725</td>\n",
       "    </tr>\n",
       "    <tr>\n",
       "      <th>294</th>\n",
       "      <td>-123.265</td>\n",
       "      <td>37.712</td>\n",
       "    </tr>\n",
       "    <tr>\n",
       "      <th>295</th>\n",
       "      <td>-123.220</td>\n",
       "      <td>37.522</td>\n",
       "    </tr>\n",
       "    <tr>\n",
       "      <th>296</th>\n",
       "      <td>-123.032</td>\n",
       "      <td>37.607</td>\n",
       "    </tr>\n",
       "    <tr>\n",
       "      <th>297</th>\n",
       "      <td>-123.182</td>\n",
       "      <td>37.659</td>\n",
       "    </tr>\n",
       "    <tr>\n",
       "      <th>298</th>\n",
       "      <td>-122.890</td>\n",
       "      <td>37.546</td>\n",
       "    </tr>\n",
       "    <tr>\n",
       "      <th>299</th>\n",
       "      <td>-122.928</td>\n",
       "      <td>37.625</td>\n",
       "    </tr>\n",
       "    <tr>\n",
       "      <th>300</th>\n",
       "      <td>-122.907</td>\n",
       "      <td>37.781</td>\n",
       "    </tr>\n",
       "    <tr>\n",
       "      <th>301</th>\n",
       "      <td>-123.129</td>\n",
       "      <td>37.588</td>\n",
       "    </tr>\n",
       "    <tr>\n",
       "      <th>302</th>\n",
       "      <td>-122.951</td>\n",
       "      <td>37.591</td>\n",
       "    </tr>\n",
       "    <tr>\n",
       "      <th>303</th>\n",
       "      <td>-123.081</td>\n",
       "      <td>37.509</td>\n",
       "    </tr>\n",
       "    <tr>\n",
       "      <th>304</th>\n",
       "      <td>-123.017</td>\n",
       "      <td>37.495</td>\n",
       "    </tr>\n",
       "    <tr>\n",
       "      <th>305</th>\n",
       "      <td>-123.080</td>\n",
       "      <td>37.577</td>\n",
       "    </tr>\n",
       "    <tr>\n",
       "      <th>306</th>\n",
       "      <td>-122.968</td>\n",
       "      <td>37.511</td>\n",
       "    </tr>\n",
       "    <tr>\n",
       "      <th>307</th>\n",
       "      <td>-123.381</td>\n",
       "      <td>37.576</td>\n",
       "    </tr>\n",
       "    <tr>\n",
       "      <th>308</th>\n",
       "      <td>-122.904</td>\n",
       "      <td>37.427</td>\n",
       "    </tr>\n",
       "    <tr>\n",
       "      <th>309</th>\n",
       "      <td>-123.132</td>\n",
       "      <td>37.471</td>\n",
       "    </tr>\n",
       "    <tr>\n",
       "      <th>310</th>\n",
       "      <td>-122.878</td>\n",
       "      <td>37.589</td>\n",
       "    </tr>\n",
       "  </tbody>\n",
       "</table>\n",
       "</div>"
      ],
      "text/plain": [
       "     location-long  location-lat\n",
       "290       -123.140        37.667\n",
       "291       -122.513        37.741\n",
       "292       -123.055        37.716\n",
       "293       -123.105        37.725\n",
       "294       -123.265        37.712\n",
       "295       -123.220        37.522\n",
       "296       -123.032        37.607\n",
       "297       -123.182        37.659\n",
       "298       -122.890        37.546\n",
       "299       -122.928        37.625\n",
       "300       -122.907        37.781\n",
       "301       -123.129        37.588\n",
       "302       -122.951        37.591\n",
       "303       -123.081        37.509\n",
       "304       -123.017        37.495\n",
       "305       -123.080        37.577\n",
       "306       -122.968        37.511\n",
       "307       -123.381        37.576\n",
       "308       -122.904        37.427\n",
       "309       -123.132        37.471\n",
       "310       -122.878        37.589"
      ]
     },
     "execution_count": 13,
     "metadata": {},
     "output_type": "execute_result"
    }
   ],
   "source": [
    "test_df[:21]"
   ]
  },
  {
   "cell_type": "code",
   "execution_count": 14,
   "id": "90c02c35",
   "metadata": {},
   "outputs": [
    {
     "data": {
      "text/plain": [
       "(1, 20, 2)"
      ]
     },
     "execution_count": 14,
     "metadata": {},
     "output_type": "execute_result"
    }
   ],
   "source": [
    "np.array([list(test.take(1).as_numpy_iterator())[0][0][0]]).shape"
   ]
  },
  {
   "cell_type": "code",
   "execution_count": 15,
   "id": "7a3fe791",
   "metadata": {},
   "outputs": [
    {
     "data": {
      "text/plain": [
       "(None, 20, 2)"
      ]
     },
     "execution_count": 15,
     "metadata": {},
     "output_type": "execute_result"
    }
   ],
   "source": [
    "lstm_model.layers[0].input_shape"
   ]
  },
  {
   "cell_type": "code",
   "execution_count": 16,
   "id": "b3f8bc81",
   "metadata": {},
   "outputs": [],
   "source": [
    "y_pred = lstm_model.predict(np.array([test_df[:20]]))[0]"
   ]
  },
  {
   "cell_type": "code",
   "execution_count": 17,
   "id": "dcd85e82",
   "metadata": {},
   "outputs": [
    {
     "data": {
      "text/plain": [
       "array([-119.443306,   34.806698], dtype=float32)"
      ]
     },
     "execution_count": 17,
     "metadata": {},
     "output_type": "execute_result"
    }
   ],
   "source": [
    "y_pred"
   ]
  },
  {
   "cell_type": "code",
   "execution_count": 18,
   "id": "3882a2cb",
   "metadata": {},
   "outputs": [
    {
     "data": {
      "text/plain": [
       "location-long   -123.031\n",
       "location-lat      37.511\n",
       "Name: 311, dtype: float64"
      ]
     },
     "execution_count": 18,
     "metadata": {},
     "output_type": "execute_result"
    }
   ],
   "source": [
    "test_df.iloc[21]"
   ]
  },
  {
   "cell_type": "code",
   "execution_count": 19,
   "id": "13a5aca1",
   "metadata": {},
   "outputs": [
    {
     "data": {
      "image/png": "[encoded data removed]",
      "text/plain": [
       "<Figure size 432x360 with 1 Axes>"
      ]
     },
     "metadata": {
      "needs_background": "light"
     },
     "output_type": "display_data"
    }
   ],
   "source": [
    "pyplot.figure(figsize=(6,5))\n",
    "pyplot.plot(test_df[:20][\"location-long\"], test_df[:20][\"location-lat\"], label='true')\n",
    "pyplot.scatter(y_pred[0], y_pred[1],  c=\"red\", label='pred')\n",
    "pyplot.scatter(test_df.iloc[21][0], test_df.iloc[21][1],  c=\"green\", label='pred')\n",
    "pyplot.xlabel(\"longitude\")\n",
    "pyplot.ylabel(\"latitude\")\n",
    "pyplot.legend()\n",
    "pyplot.show()"
   ]
  },
  {
   "cell_type": "markdown",
   "id": "27fa3aa3",
   "metadata": {},
   "source": [
    "### Predicting a new route"
   ]
  },
  {
   "cell_type": "code",
   "execution_count": 92,
   "id": "bd2080ec",
   "metadata": {},
   "outputs": [
    {
     "name": "stdout",
     "output_type": "stream",
     "text": [
      "    location-long  location-lat\n",
      "0     -123.140000     37.667000\n",
      "1     -122.513000     37.741000\n",
      "2     -123.055000     37.716000\n",
      "3     -123.105000     37.725000\n",
      "4     -123.265000     37.712000\n",
      "5     -123.220000     37.522000\n",
      "6     -123.032000     37.607000\n",
      "7     -123.182000     37.659000\n",
      "8     -122.890000     37.546000\n",
      "9     -122.928000     37.625000\n",
      "10    -122.907000     37.781000\n",
      "11    -123.129000     37.588000\n",
      "12    -122.951000     37.591000\n",
      "13    -123.081000     37.509000\n",
      "14    -123.017000     37.495000\n",
      "15    -123.080000     37.577000\n",
      "16    -122.968000     37.511000\n",
      "17    -123.381000     37.576000\n",
      "18    -122.904000     37.427000\n",
      "19    -123.132000     37.471000\n",
      "20    -119.443306     34.806698\n",
      "21    -119.561455     34.833618\n",
      "22    -119.560547     34.833488\n",
      "23    -119.560562     34.833492\n",
      "24    -119.560562     34.833492\n",
      "25    -119.560562     34.833492\n",
      "26    -119.560562     34.833492\n",
      "27    -119.560562     34.833492\n",
      "28    -119.560570     34.833492\n",
      "29    -119.560555     34.833492\n"
     ]
    }
   ],
   "source": [
    "route_predict = test_df[:20]\n",
    "new_points = 10\n",
    "for n in range(new_points):\n",
    "    n = n+1\n",
    "    points = np.array([route_predict[n:20+n]])\n",
    "    r_predict=lstm_model.predict(points)\n",
    "    route_predict = route_predict.append(pd.DataFrame(r_predict, columns=[\"location-long\", \"location-lat\"]), ignore_index=True)\n",
    "    \n",
    "print(route_predict) #Predicción de 10 puntos nuevos \n"
   ]
  },
  {
   "cell_type": "code",
   "execution_count": 93,
   "id": "7184a62b",
   "metadata": {},
   "outputs": [
    {
     "name": "stdout",
     "output_type": "stream",
     "text": [
      "<class 'pandas.core.frame.DataFrame'>\n",
      "RangeIndex: 30 entries, 0 to 29\n",
      "Data columns (total 2 columns):\n",
      " #   Column         Non-Null Count  Dtype  \n",
      "---  ------         --------------  -----  \n",
      " 0   location-long  30 non-null     float64\n",
      " 1   location-lat   30 non-null     float64\n",
      "dtypes: float64(2)\n",
      "memory usage: 608.0 bytes\n"
     ]
    }
   ],
   "source": [
    "route_predict.info()"
   ]
  },
  {
   "cell_type": "code",
   "execution_count": 94,
   "id": "a2f3ee90",
   "metadata": {},
   "outputs": [],
   "source": [
    "from folium import Map, Marker, PolyLine"
   ]
  },
  {
   "cell_type": "code",
   "execution_count": 95,
   "id": "cc04b67f",
   "metadata": {},
   "outputs": [],
   "source": [
    "route = route_predict.to_numpy()"
   ]
  },
  {
   "cell_type": "code",
   "execution_count": 83,
   "id": "166b3fe0",
   "metadata": {},
   "outputs": [
    {
     "data": {
      "text/plain": [
       "<folium.vector_layers.PolyLine at 0x7fe696a5b430>"
      ]
     },
     "execution_count": 83,
     "metadata": {},
     "output_type": "execute_result"
    }
   ],
   "source": [
    " m = Map([28.773552, -115.176131])\n",
    "\n",
    "for point in route:\n",
    "    Marker(location=[point[1], point[0]]).add_to(m)\n",
    "PolyLine(route, color=\"red\", weight=2.5, opacity=1).add_to(m)"
   ]
  },
  {
   "cell_type": "code",
   "execution_count": 84,
   "id": "675f1e8d",
   "metadata": {},
   "outputs": [
    {
     "data": {
      "text/html": [
       "<div style=\"width:100%;\"><div style=\"position:relative;width:100%;height:0;padding-bottom:60%;\"><span style=\"color:#565656\">Make this Notebook Trusted to load map: File -> Trust Notebook</span><iframe src=\"about:blank\" style=\"position:absolute;width:100%;height:100%;left:0;top:0;border:none !important;\" data-html=%3C%21DOCTYPE%20html%3E%0A%3Chead%3E%20%20%20%20%0A%20%20%20%20%3Cmeta%20http-equiv%3D%22content-type%22%20content%3D%22text/html%3B%20charset%3DUTF-8%22%20/%3E%0A%20%20%20%20%0A%20%20%20%20%20%20%20%20%3Cscript%3E%0A%20%20%20%20%20%20%20%20%20%20%20%20L_NO_TOUCH%20%3D%20false%3B%0A%20%20%20%20%20%20%20%20%20%20%20%20L_DISABLE_3D%20%3D%20false%3B%0A%20%20%20%20%20%20%20%20%3C/script%3E%0A%20%20%20%20%0A%20%20%20%20%3Cstyle%3Ehtml%2C%20body%20%7Bwidth%3A%20100%25%3Bheight%3A%20100%25%3Bmargin%3A%200%3Bpadding%3A%200%3B%7D%3C/style%3E%0A%20%20%20%20%3Cstyle%3E%23map%20%7Bposition%3Aabsolute%3Btop%3A0%3Bbottom%3A0%3Bright%3A0%3Bleft%3A0%3B%7D%3C/style%3E%0A%20%20%20%20%3Cscript%20src%3D%22https%3A//cdn.jsdelivr.net/npm/leaflet%401.6.0/dist/leaflet.js%22%3E%3C/script%3E%0A%20%20%20%20%3Cscript%20src%3D%22https%3A//code.jquery.com/jquery-1.12.4.min.js%22%3E%3C/script%3E%0A%20%20%20%20%3Cscript%20src%3D%22https%3A//maxcdn.bootstrapcdn.com/bootstrap/3.2.0/js/bootstrap.min.js%22%3E%3C/script%3E%0A%20%20%20%20%3Cscript%20src%3D%22https%3A//cdnjs.cloudflare.com/ajax/libs/Leaflet.awesome-markers/2.0.2/leaflet.awesome-markers.js%22%3E%3C/script%3E%0A%20%20%20%20%3Clink%20rel%3D%22stylesheet%22%20href%3D%22https%3A//cdn.jsdelivr.net/npm/leaflet%401.6.0/dist/leaflet.css%22/%3E%0A%20%20%20%20%3Clink%20rel%3D%22stylesheet%22%20href%3D%22https%3A//maxcdn.bootstrapcdn.com/bootstrap/3.2.0/css/bootstrap.min.css%22/%3E%0A%20%20%20%20%3Clink%20rel%3D%22stylesheet%22%20href%3D%22https%3A//maxcdn.bootstrapcdn.com/bootstrap/3.2.0/css/bootstrap-theme.min.css%22/%3E%0A%20%20%20%20%3Clink%20rel%3D%22stylesheet%22%20href%3D%22https%3A//maxcdn.bootstrapcdn.com/font-awesome/4.6.3/css/font-awesome.min.css%22/%3E%0A%20%20%20%20%3Clink%20rel%3D%22stylesheet%22%20href%3D%22https%3A//cdnjs.cloudflare.com/ajax/libs/Leaflet.awesome-markers/2.0.2/leaflet.awesome-markers.css%22/%3E%0A%20%20%20%20%3Clink%20rel%3D%22stylesheet%22%20href%3D%22https%3A//cdn.jsdelivr.net/gh/python-visualization/folium/folium/templates/leaflet.awesome.rotate.min.css%22/%3E%0A%20%20%20%20%0A%20%20%20%20%20%20%20%20%20%20%20%20%3Cmeta%20name%3D%22viewport%22%20content%3D%22width%3Ddevice-width%2C%0A%20%20%20%20%20%20%20%20%20%20%20%20%20%20%20%20initial-scale%3D1.0%2C%20maximum-scale%3D1.0%2C%20user-scalable%3Dno%22%20/%3E%0A%20%20%20%20%20%20%20%20%20%20%20%20%3Cstyle%3E%0A%20%20%20%20%20%20%20%20%20%20%20%20%20%20%20%20%23map_8375484b52ca4e999c65f98ba928df1d%20%7B%0A%20%20%20%20%20%20%20%20%20%20%20%20%20%20%20%20%20%20%20%20position%3A%20relative%3B%0A%20%20%20%20%20%20%20%20%20%20%20%20%20%20%20%20%20%20%20%20width%3A%20100.0%25%3B%0A%20%20%20%20%20%20%20%20%20%20%20%20%20%20%20%20%20%20%20%20height%3A%20100.0%25%3B%0A%20%20%20%20%20%20%20%20%20%20%20%20%20%20%20%20%20%20%20%20left%3A%200.0%25%3B%0A%20%20%20%20%20%20%20%20%20%20%20%20%20%20%20%20%20%20%20%20top%3A%200.0%25%3B%0A%20%20%20%20%20%20%20%20%20%20%20%20%20%20%20%20%7D%0A%20%20%20%20%20%20%20%20%20%20%20%20%3C/style%3E%0A%20%20%20%20%20%20%20%20%0A%3C/head%3E%0A%3Cbody%3E%20%20%20%20%0A%20%20%20%20%0A%20%20%20%20%20%20%20%20%20%20%20%20%3Cdiv%20class%3D%22folium-map%22%20id%3D%22map_8375484b52ca4e999c65f98ba928df1d%22%20%3E%3C/div%3E%0A%20%20%20%20%20%20%20%20%0A%3C/body%3E%0A%3Cscript%3E%20%20%20%20%0A%20%20%20%20%0A%20%20%20%20%20%20%20%20%20%20%20%20var%20map_8375484b52ca4e999c65f98ba928df1d%20%3D%20L.map%28%0A%20%20%20%20%20%20%20%20%20%20%20%20%20%20%20%20%22map_8375484b52ca4e999c65f98ba928df1d%22%2C%0A%20%20%20%20%20%20%20%20%20%20%20%20%20%20%20%20%7B%0A%20%20%20%20%20%20%20%20%20%20%20%20%20%20%20%20%20%20%20%20center%3A%20%5B28.773552%2C%20-115.176131%5D%2C%0A%20%20%20%20%20%20%20%20%20%20%20%20%20%20%20%20%20%20%20%20crs%3A%20L.CRS.EPSG3857%2C%0A%20%20%20%20%20%20%20%20%20%20%20%20%20%20%20%20%20%20%20%20zoom%3A%2010%2C%0A%20%20%20%20%20%20%20%20%20%20%20%20%20%20%20%20%20%20%20%20zoomControl%3A%20true%2C%0A%20%20%20%20%20%20%20%20%20%20%20%20%20%20%20%20%20%20%20%20preferCanvas%3A%20false%2C%0A%20%20%20%20%20%20%20%20%20%20%20%20%20%20%20%20%7D%0A%20%20%20%20%20%20%20%20%20%20%20%20%29%3B%0A%0A%20%20%20%20%20%20%20%20%20%20%20%20%0A%0A%20%20%20%20%20%20%20%20%0A%20%20%20%20%0A%20%20%20%20%20%20%20%20%20%20%20%20var%20tile_layer_e79983315be84698ba22257da2a7f6f5%20%3D%20L.tileLayer%28%0A%20%20%20%20%20%20%20%20%20%20%20%20%20%20%20%20%22https%3A//%7Bs%7D.tile.openstreetmap.org/%7Bz%7D/%7Bx%7D/%7By%7D.png%22%2C%0A%20%20%20%20%20%20%20%20%20%20%20%20%20%20%20%20%7B%22attribution%22%3A%20%22Data%20by%20%5Cu0026copy%3B%20%5Cu003ca%20href%3D%5C%22http%3A//openstreetmap.org%5C%22%5Cu003eOpenStreetMap%5Cu003c/a%5Cu003e%2C%20under%20%5Cu003ca%20href%3D%5C%22http%3A//www.openstreetmap.org/copyright%5C%22%5Cu003eODbL%5Cu003c/a%5Cu003e.%22%2C%20%22detectRetina%22%3A%20false%2C%20%22maxNativeZoom%22%3A%2018%2C%20%22maxZoom%22%3A%2018%2C%20%22minZoom%22%3A%200%2C%20%22noWrap%22%3A%20false%2C%20%22opacity%22%3A%201%2C%20%22subdomains%22%3A%20%22abc%22%2C%20%22tms%22%3A%20false%7D%0A%20%20%20%20%20%20%20%20%20%20%20%20%29.addTo%28map_8375484b52ca4e999c65f98ba928df1d%29%3B%0A%20%20%20%20%20%20%20%20%0A%20%20%20%20%0A%20%20%20%20%20%20%20%20%20%20%20%20var%20marker_a852fda43e884ca78f0a7e550315e100%20%3D%20L.marker%28%0A%20%20%20%20%20%20%20%20%20%20%20%20%20%20%20%20%5B37.667%2C%20-123.14%5D%2C%0A%20%20%20%20%20%20%20%20%20%20%20%20%20%20%20%20%7B%7D%0A%20%20%20%20%20%20%20%20%20%20%20%20%29.addTo%28map_8375484b52ca4e999c65f98ba928df1d%29%3B%0A%20%20%20%20%20%20%20%20%0A%20%20%20%20%0A%20%20%20%20%20%20%20%20%20%20%20%20var%20marker_b28c68dbb9b047b49064e5453c637b02%20%3D%20L.marker%28%0A%20%20%20%20%20%20%20%20%20%20%20%20%20%20%20%20%5B37.741%2C%20-122.513%5D%2C%0A%20%20%20%20%20%20%20%20%20%20%20%20%20%20%20%20%7B%7D%0A%20%20%20%20%20%20%20%20%20%20%20%20%29.addTo%28map_8375484b52ca4e999c65f98ba928df1d%29%3B%0A%20%20%20%20%20%20%20%20%0A%20%20%20%20%0A%20%20%20%20%20%20%20%20%20%20%20%20var%20marker_2c9fdfde07c8406b8c317e8b7621c842%20%3D%20L.marker%28%0A%20%20%20%20%20%20%20%20%20%20%20%20%20%20%20%20%5B37.716%2C%20-123.055%5D%2C%0A%20%20%20%20%20%20%20%20%20%20%20%20%20%20%20%20%7B%7D%0A%20%20%20%20%20%20%20%20%20%20%20%20%29.addTo%28map_8375484b52ca4e999c65f98ba928df1d%29%3B%0A%20%20%20%20%20%20%20%20%0A%20%20%20%20%0A%20%20%20%20%20%20%20%20%20%20%20%20var%20marker_866c4b05868340d3bac3db946c1ed36b%20%3D%20L.marker%28%0A%20%20%20%20%20%20%20%20%20%20%20%20%20%20%20%20%5B37.725%2C%20-123.10500000000002%5D%2C%0A%20%20%20%20%20%20%20%20%20%20%20%20%20%20%20%20%7B%7D%0A%20%20%20%20%20%20%20%20%20%20%20%20%29.addTo%28map_8375484b52ca4e999c65f98ba928df1d%29%3B%0A%20%20%20%20%20%20%20%20%0A%20%20%20%20%0A%20%20%20%20%20%20%20%20%20%20%20%20var%20marker_ab599c65220a49a6a5d1d8cd304ee4df%20%3D%20L.marker%28%0A%20%20%20%20%20%20%20%20%20%20%20%20%20%20%20%20%5B37.712%2C%20-123.265%5D%2C%0A%20%20%20%20%20%20%20%20%20%20%20%20%20%20%20%20%7B%7D%0A%20%20%20%20%20%20%20%20%20%20%20%20%29.addTo%28map_8375484b52ca4e999c65f98ba928df1d%29%3B%0A%20%20%20%20%20%20%20%20%0A%20%20%20%20%0A%20%20%20%20%20%20%20%20%20%20%20%20var%20marker_a7c35e64a0494032a445f0f9c7ec05c7%20%3D%20L.marker%28%0A%20%20%20%20%20%20%20%20%20%20%20%20%20%20%20%20%5B37.522%2C%20-123.22%5D%2C%0A%20%20%20%20%20%20%20%20%20%20%20%20%20%20%20%20%7B%7D%0A%20%20%20%20%20%20%20%20%20%20%20%20%29.addTo%28map_8375484b52ca4e999c65f98ba928df1d%29%3B%0A%20%20%20%20%20%20%20%20%0A%20%20%20%20%0A%20%20%20%20%20%20%20%20%20%20%20%20var%20marker_4039e0e7651c4b4b85ebf5bf9838f7e0%20%3D%20L.marker%28%0A%20%20%20%20%20%20%20%20%20%20%20%20%20%20%20%20%5B37.607%2C%20-123.03199999999998%5D%2C%0A%20%20%20%20%20%20%20%20%20%20%20%20%20%20%20%20%7B%7D%0A%20%20%20%20%20%20%20%20%20%20%20%20%29.addTo%28map_8375484b52ca4e999c65f98ba928df1d%29%3B%0A%20%20%20%20%20%20%20%20%0A%20%20%20%20%0A%20%20%20%20%20%20%20%20%20%20%20%20var%20marker_bd72813d56a74c8086ed11a14ff094c8%20%3D%20L.marker%28%0A%20%20%20%20%20%20%20%20%20%20%20%20%20%20%20%20%5B37.659%2C%20-123.18200000000002%5D%2C%0A%20%20%20%20%20%20%20%20%20%20%20%20%20%20%20%20%7B%7D%0A%20%20%20%20%20%20%20%20%20%20%20%20%29.addTo%28map_8375484b52ca4e999c65f98ba928df1d%29%3B%0A%20%20%20%20%20%20%20%20%0A%20%20%20%20%0A%20%20%20%20%20%20%20%20%20%20%20%20var%20marker_841790e465074e349f55c892b7be4a95%20%3D%20L.marker%28%0A%20%20%20%20%20%20%20%20%20%20%20%20%20%20%20%20%5B37.546%2C%20-122.89%5D%2C%0A%20%20%20%20%20%20%20%20%20%20%20%20%20%20%20%20%7B%7D%0A%20%20%20%20%20%20%20%20%20%20%20%20%29.addTo%28map_8375484b52ca4e999c65f98ba928df1d%29%3B%0A%20%20%20%20%20%20%20%20%0A%20%20%20%20%0A%20%20%20%20%20%20%20%20%20%20%20%20var%20marker_f1c19cd3126a4103b67e814a40d1d867%20%3D%20L.marker%28%0A%20%20%20%20%20%20%20%20%20%20%20%20%20%20%20%20%5B37.625%2C%20-122.928%5D%2C%0A%20%20%20%20%20%20%20%20%20%20%20%20%20%20%20%20%7B%7D%0A%20%20%20%20%20%20%20%20%20%20%20%20%29.addTo%28map_8375484b52ca4e999c65f98ba928df1d%29%3B%0A%20%20%20%20%20%20%20%20%0A%20%20%20%20%0A%20%20%20%20%20%20%20%20%20%20%20%20var%20marker_d3903c0e60bf41128643ddaeca2902e1%20%3D%20L.marker%28%0A%20%20%20%20%20%20%20%20%20%20%20%20%20%20%20%20%5B37.781%2C%20-122.90699999999998%5D%2C%0A%20%20%20%20%20%20%20%20%20%20%20%20%20%20%20%20%7B%7D%0A%20%20%20%20%20%20%20%20%20%20%20%20%29.addTo%28map_8375484b52ca4e999c65f98ba928df1d%29%3B%0A%20%20%20%20%20%20%20%20%0A%20%20%20%20%0A%20%20%20%20%20%20%20%20%20%20%20%20var%20marker_07cb34ff4b644a7bbccfeb6ebd4b6e60%20%3D%20L.marker%28%0A%20%20%20%20%20%20%20%20%20%20%20%20%20%20%20%20%5B37.588%2C%20-123.12900000000002%5D%2C%0A%20%20%20%20%20%20%20%20%20%20%20%20%20%20%20%20%7B%7D%0A%20%20%20%20%20%20%20%20%20%20%20%20%29.addTo%28map_8375484b52ca4e999c65f98ba928df1d%29%3B%0A%20%20%20%20%20%20%20%20%0A%20%20%20%20%0A%20%20%20%20%20%20%20%20%20%20%20%20var%20marker_fc0f2192c08e443bb1fd56927f36a882%20%3D%20L.marker%28%0A%20%20%20%20%20%20%20%20%20%20%20%20%20%20%20%20%5B37.591%2C%20-122.951%5D%2C%0A%20%20%20%20%20%20%20%20%20%20%20%20%20%20%20%20%7B%7D%0A%20%20%20%20%20%20%20%20%20%20%20%20%29.addTo%28map_8375484b52ca4e999c65f98ba928df1d%29%3B%0A%20%20%20%20%20%20%20%20%0A%20%20%20%20%0A%20%20%20%20%20%20%20%20%20%20%20%20var%20marker_3cbd54180c2848b19ddfd09f7201b7f5%20%3D%20L.marker%28%0A%20%20%20%20%20%20%20%20%20%20%20%20%20%20%20%20%5B37.509%2C%20-123.08100000000002%5D%2C%0A%20%20%20%20%20%20%20%20%20%20%20%20%20%20%20%20%7B%7D%0A%20%20%20%20%20%20%20%20%20%20%20%20%29.addTo%28map_8375484b52ca4e999c65f98ba928df1d%29%3B%0A%20%20%20%20%20%20%20%20%0A%20%20%20%20%0A%20%20%20%20%20%20%20%20%20%20%20%20var%20marker_071f2953d1a041e79f17d9838e756960%20%3D%20L.marker%28%0A%20%20%20%20%20%20%20%20%20%20%20%20%20%20%20%20%5B37.495%2C%20-123.017%5D%2C%0A%20%20%20%20%20%20%20%20%20%20%20%20%20%20%20%20%7B%7D%0A%20%20%20%20%20%20%20%20%20%20%20%20%29.addTo%28map_8375484b52ca4e999c65f98ba928df1d%29%3B%0A%20%20%20%20%20%20%20%20%0A%20%20%20%20%0A%20%20%20%20%20%20%20%20%20%20%20%20var%20marker_8d86e03cb013497fb3fd742a73b2c046%20%3D%20L.marker%28%0A%20%20%20%20%20%20%20%20%20%20%20%20%20%20%20%20%5B37.577%2C%20-123.07999999999998%5D%2C%0A%20%20%20%20%20%20%20%20%20%20%20%20%20%20%20%20%7B%7D%0A%20%20%20%20%20%20%20%20%20%20%20%20%29.addTo%28map_8375484b52ca4e999c65f98ba928df1d%29%3B%0A%20%20%20%20%20%20%20%20%0A%20%20%20%20%0A%20%20%20%20%20%20%20%20%20%20%20%20var%20marker_5c3af1b3ad4e4f77a4cca98f21907477%20%3D%20L.marker%28%0A%20%20%20%20%20%20%20%20%20%20%20%20%20%20%20%20%5B37.511%2C%20-122.96800000000002%5D%2C%0A%20%20%20%20%20%20%20%20%20%20%20%20%20%20%20%20%7B%7D%0A%20%20%20%20%20%20%20%20%20%20%20%20%29.addTo%28map_8375484b52ca4e999c65f98ba928df1d%29%3B%0A%20%20%20%20%20%20%20%20%0A%20%20%20%20%0A%20%20%20%20%20%20%20%20%20%20%20%20var%20marker_194108c76fb8413ea3e2c037d830b833%20%3D%20L.marker%28%0A%20%20%20%20%20%20%20%20%20%20%20%20%20%20%20%20%5B37.576%2C%20-123.381%5D%2C%0A%20%20%20%20%20%20%20%20%20%20%20%20%20%20%20%20%7B%7D%0A%20%20%20%20%20%20%20%20%20%20%20%20%29.addTo%28map_8375484b52ca4e999c65f98ba928df1d%29%3B%0A%20%20%20%20%20%20%20%20%0A%20%20%20%20%0A%20%20%20%20%20%20%20%20%20%20%20%20var%20marker_c1f3b19e43ee4d678c5c0c4d64b57740%20%3D%20L.marker%28%0A%20%20%20%20%20%20%20%20%20%20%20%20%20%20%20%20%5B37.427%2C%20-122.904%5D%2C%0A%20%20%20%20%20%20%20%20%20%20%20%20%20%20%20%20%7B%7D%0A%20%20%20%20%20%20%20%20%20%20%20%20%29.addTo%28map_8375484b52ca4e999c65f98ba928df1d%29%3B%0A%20%20%20%20%20%20%20%20%0A%20%20%20%20%0A%20%20%20%20%20%20%20%20%20%20%20%20var%20marker_6d215146a3634c858429bd20244bdf23%20%3D%20L.marker%28%0A%20%20%20%20%20%20%20%20%20%20%20%20%20%20%20%20%5B37.471%2C%20-123.132%5D%2C%0A%20%20%20%20%20%20%20%20%20%20%20%20%20%20%20%20%7B%7D%0A%20%20%20%20%20%20%20%20%20%20%20%20%29.addTo%28map_8375484b52ca4e999c65f98ba928df1d%29%3B%0A%20%20%20%20%20%20%20%20%0A%20%20%20%20%0A%20%20%20%20%20%20%20%20%20%20%20%20var%20marker_522fa9a716304a23940ac3d9d3b2d5bf%20%3D%20L.marker%28%0A%20%20%20%20%20%20%20%20%20%20%20%20%20%20%20%20%5B34.806697845458984%2C%20-119.44330596923828%5D%2C%0A%20%20%20%20%20%20%20%20%20%20%20%20%20%20%20%20%7B%7D%0A%20%20%20%20%20%20%20%20%20%20%20%20%29.addTo%28map_8375484b52ca4e999c65f98ba928df1d%29%3B%0A%20%20%20%20%20%20%20%20%0A%20%20%20%20%0A%20%20%20%20%20%20%20%20%20%20%20%20var%20marker_c0dcaf03b9634379a4bbb9837e27cfa2%20%3D%20L.marker%28%0A%20%20%20%20%20%20%20%20%20%20%20%20%20%20%20%20%5B34.8336181640625%2C%20-119.56145477294922%5D%2C%0A%20%20%20%20%20%20%20%20%20%20%20%20%20%20%20%20%7B%7D%0A%20%20%20%20%20%20%20%20%20%20%20%20%29.addTo%28map_8375484b52ca4e999c65f98ba928df1d%29%3B%0A%20%20%20%20%20%20%20%20%0A%20%20%20%20%0A%20%20%20%20%20%20%20%20%20%20%20%20var%20marker_d7eeaa0880434d659e81d5ba4d7ef49b%20%3D%20L.marker%28%0A%20%20%20%20%20%20%20%20%20%20%20%20%20%20%20%20%5B34.83348846435547%2C%20-119.560546875%5D%2C%0A%20%20%20%20%20%20%20%20%20%20%20%20%20%20%20%20%7B%7D%0A%20%20%20%20%20%20%20%20%20%20%20%20%29.addTo%28map_8375484b52ca4e999c65f98ba928df1d%29%3B%0A%20%20%20%20%20%20%20%20%0A%20%20%20%20%0A%20%20%20%20%20%20%20%20%20%20%20%20var%20marker_ae27e6e334234acf866cd6254aa72a81%20%3D%20L.marker%28%0A%20%20%20%20%20%20%20%20%20%20%20%20%20%20%20%20%5B34.833492279052734%2C%20-119.56056213378906%5D%2C%0A%20%20%20%20%20%20%20%20%20%20%20%20%20%20%20%20%7B%7D%0A%20%20%20%20%20%20%20%20%20%20%20%20%29.addTo%28map_8375484b52ca4e999c65f98ba928df1d%29%3B%0A%20%20%20%20%20%20%20%20%0A%20%20%20%20%0A%20%20%20%20%20%20%20%20%20%20%20%20var%20marker_47692f9d00174dbb9621744a2f72e05f%20%3D%20L.marker%28%0A%20%20%20%20%20%20%20%20%20%20%20%20%20%20%20%20%5B34.833492279052734%2C%20-119.56056213378906%5D%2C%0A%20%20%20%20%20%20%20%20%20%20%20%20%20%20%20%20%7B%7D%0A%20%20%20%20%20%20%20%20%20%20%20%20%29.addTo%28map_8375484b52ca4e999c65f98ba928df1d%29%3B%0A%20%20%20%20%20%20%20%20%0A%20%20%20%20%0A%20%20%20%20%20%20%20%20%20%20%20%20var%20marker_8078387fa4a9456fa383aa0fa2634963%20%3D%20L.marker%28%0A%20%20%20%20%20%20%20%20%20%20%20%20%20%20%20%20%5B34.833492279052734%2C%20-119.56056213378906%5D%2C%0A%20%20%20%20%20%20%20%20%20%20%20%20%20%20%20%20%7B%7D%0A%20%20%20%20%20%20%20%20%20%20%20%20%29.addTo%28map_8375484b52ca4e999c65f98ba928df1d%29%3B%0A%20%20%20%20%20%20%20%20%0A%20%20%20%20%0A%20%20%20%20%20%20%20%20%20%20%20%20var%20marker_11770b4cea6d40489dbde2e7893f3071%20%3D%20L.marker%28%0A%20%20%20%20%20%20%20%20%20%20%20%20%20%20%20%20%5B34.833492279052734%2C%20-119.56056213378906%5D%2C%0A%20%20%20%20%20%20%20%20%20%20%20%20%20%20%20%20%7B%7D%0A%20%20%20%20%20%20%20%20%20%20%20%20%29.addTo%28map_8375484b52ca4e999c65f98ba928df1d%29%3B%0A%20%20%20%20%20%20%20%20%0A%20%20%20%20%0A%20%20%20%20%20%20%20%20%20%20%20%20var%20marker_aa6af12e5e5e472194765310cb00ca5f%20%3D%20L.marker%28%0A%20%20%20%20%20%20%20%20%20%20%20%20%20%20%20%20%5B34.833492279052734%2C%20-119.56056213378906%5D%2C%0A%20%20%20%20%20%20%20%20%20%20%20%20%20%20%20%20%7B%7D%0A%20%20%20%20%20%20%20%20%20%20%20%20%29.addTo%28map_8375484b52ca4e999c65f98ba928df1d%29%3B%0A%20%20%20%20%20%20%20%20%0A%20%20%20%20%0A%20%20%20%20%20%20%20%20%20%20%20%20var%20marker_14615ae30418498fa1fa39a77909f7db%20%3D%20L.marker%28%0A%20%20%20%20%20%20%20%20%20%20%20%20%20%20%20%20%5B34.833492279052734%2C%20-119.5605697631836%5D%2C%0A%20%20%20%20%20%20%20%20%20%20%20%20%20%20%20%20%7B%7D%0A%20%20%20%20%20%20%20%20%20%20%20%20%29.addTo%28map_8375484b52ca4e999c65f98ba928df1d%29%3B%0A%20%20%20%20%20%20%20%20%0A%20%20%20%20%0A%20%20%20%20%20%20%20%20%20%20%20%20var%20marker_18fc9a96d50b45ec9e6a0591a0842a3e%20%3D%20L.marker%28%0A%20%20%20%20%20%20%20%20%20%20%20%20%20%20%20%20%5B34.833492279052734%2C%20-119.56055450439453%5D%2C%0A%20%20%20%20%20%20%20%20%20%20%20%20%20%20%20%20%7B%7D%0A%20%20%20%20%20%20%20%20%20%20%20%20%29.addTo%28map_8375484b52ca4e999c65f98ba928df1d%29%3B%0A%20%20%20%20%20%20%20%20%0A%20%20%20%20%0A%20%20%20%20%20%20%20%20%20%20%20%20var%20poly_line_921afba8a6d4463da9e4b99d20aa0890%20%3D%20L.polyline%28%0A%20%20%20%20%20%20%20%20%20%20%20%20%20%20%20%20%5B%5B-123.14%2C%2037.667%5D%2C%20%5B-122.513%2C%2037.741%5D%2C%20%5B-123.055%2C%2037.716%5D%2C%20%5B-123.10500000000002%2C%2037.725%5D%2C%20%5B-123.265%2C%2037.712%5D%2C%20%5B-123.22%2C%2037.522%5D%2C%20%5B-123.03199999999998%2C%2037.607%5D%2C%20%5B-123.18200000000002%2C%2037.659%5D%2C%20%5B-122.89%2C%2037.546%5D%2C%20%5B-122.928%2C%2037.625%5D%2C%20%5B-122.90699999999998%2C%2037.781%5D%2C%20%5B-123.12900000000002%2C%2037.588%5D%2C%20%5B-122.951%2C%2037.591%5D%2C%20%5B-123.08100000000002%2C%2037.509%5D%2C%20%5B-123.017%2C%2037.495%5D%2C%20%5B-123.07999999999998%2C%2037.577%5D%2C%20%5B-122.96800000000002%2C%2037.511%5D%2C%20%5B-123.381%2C%2037.576%5D%2C%20%5B-122.904%2C%2037.427%5D%2C%20%5B-123.132%2C%2037.471%5D%2C%20%5B-119.44330596923828%2C%2034.806697845458984%5D%2C%20%5B-119.56145477294922%2C%2034.8336181640625%5D%2C%20%5B-119.560546875%2C%2034.83348846435547%5D%2C%20%5B-119.56056213378906%2C%2034.833492279052734%5D%2C%20%5B-119.56056213378906%2C%2034.833492279052734%5D%2C%20%5B-119.56056213378906%2C%2034.833492279052734%5D%2C%20%5B-119.56056213378906%2C%2034.833492279052734%5D%2C%20%5B-119.56056213378906%2C%2034.833492279052734%5D%2C%20%5B-119.5605697631836%2C%2034.833492279052734%5D%2C%20%5B-119.56055450439453%2C%2034.833492279052734%5D%5D%2C%0A%20%20%20%20%20%20%20%20%20%20%20%20%20%20%20%20%7B%22bubblingMouseEvents%22%3A%20true%2C%20%22color%22%3A%20%22red%22%2C%20%22dashArray%22%3A%20null%2C%20%22dashOffset%22%3A%20null%2C%20%22fill%22%3A%20false%2C%20%22fillColor%22%3A%20%22red%22%2C%20%22fillOpacity%22%3A%200.2%2C%20%22fillRule%22%3A%20%22evenodd%22%2C%20%22lineCap%22%3A%20%22round%22%2C%20%22lineJoin%22%3A%20%22round%22%2C%20%22noClip%22%3A%20false%2C%20%22opacity%22%3A%201%2C%20%22smoothFactor%22%3A%201.0%2C%20%22stroke%22%3A%20true%2C%20%22weight%22%3A%202.5%7D%0A%20%20%20%20%20%20%20%20%20%20%20%20%29.addTo%28map_8375484b52ca4e999c65f98ba928df1d%29%3B%0A%20%20%20%20%20%20%20%20%0A%3C/script%3E onload=\"this.contentDocument.open();this.contentDocument.write(    decodeURIComponent(this.getAttribute('data-html')));this.contentDocument.close();\" allowfullscreen webkitallowfullscreen mozallowfullscreen></iframe></div></div>"
      ],
      "text/plain": [
       "<folium.folium.Map at 0x7fe696a76730>"
      ]
     },
     "execution_count": 84,
     "metadata": {},
     "output_type": "execute_result"
    }
   ],
   "source": [
    "m"
   ]
  },
  {
   "cell_type": "code",
   "execution_count": null,
   "id": "b3eb6056",
   "metadata": {},
   "outputs": [],
   "source": []
  }
 ],
 "metadata": {
  "kernelspec": {
   "display_name": "Python 3 (ipykernel)",
   "language": "python",
   "name": "python3"
  },
  "language_info": {
   "codemirror_mode": {
    "name": "ipython",
    "version": 3
   },
   "file_extension": ".py",
   "mimetype": "text/x-python",
   "name": "python",
   "nbconvert_exporter": "python",
   "pygments_lexer": "ipython3",
   "version": "3.9.7"
  }
 },
 "nbformat": 4,
 "nbformat_minor": 5
}
