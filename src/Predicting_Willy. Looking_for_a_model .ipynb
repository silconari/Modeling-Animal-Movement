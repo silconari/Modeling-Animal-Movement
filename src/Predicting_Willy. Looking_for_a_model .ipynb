{
 "cells": [
  {
   "cell_type": "code",
   "execution_count": 1,
   "id": "16469181",
   "metadata": {},
   "outputs": [
    {
     "name": "stderr",
     "output_type": "stream",
     "text": [
      "2021-10-22 11:02:21.491694: W tensorflow/stream_executor/platform/default/dso_loader.cc:64] Could not load dynamic library 'libcudart.so.11.0'; dlerror: libcudart.so.11.0: cannot open shared object file: No such file or directory\n",
      "2021-10-22 11:02:21.491758: I tensorflow/stream_executor/cuda/cudart_stub.cc:29] Ignore above cudart dlerror if you do not have a GPU set up on your machine.\n"
     ]
    }
   ],
   "source": [
    "import pandas as pd\n",
    "import glob\n",
    "import tensorflow as tf\n",
    "from tensorflow.data import Dataset\n",
    "from matplotlib import pyplot\n",
    "from tensorflow.keras.callbacks import TensorBoard\n",
    "import numpy as np"
   ]
  },
  {
   "cell_type": "code",
   "execution_count": 2,
   "id": "a1f6fe25",
   "metadata": {},
   "outputs": [],
   "source": [
    "df_23043 = pd.read_csv(\"../data/datasets_by_whale/1999CA-Bmu-23043.csv\")[[\"location-long\", \"location-lat\"]] \n",
    "#whale with largest route"
   ]
  },
  {
   "cell_type": "markdown",
   "id": "a6e897b6",
   "metadata": {},
   "source": [
    "### Split data for train and test "
   ]
  },
  {
   "cell_type": "code",
   "execution_count": 3,
   "id": "de2e8461",
   "metadata": {},
   "outputs": [],
   "source": [
    "def split_data(df):\n",
    "\n",
    "    n = len(df)\n",
    "    train_df = df[0:int(n*0.7)]\n",
    "    test_df = df[int(n*0.7):]\n",
    "\n",
    "    num_features = df.shape[1]\n",
    "    \n",
    "    return train_df,test_df"
   ]
  },
  {
   "cell_type": "code",
   "execution_count": 4,
   "id": "c1c92efa",
   "metadata": {},
   "outputs": [],
   "source": [
    "train_df,test_df = split_data(df_23043)"
   ]
  },
  {
   "cell_type": "markdown",
   "id": "7946c1c4",
   "metadata": {},
   "source": [
    "### Create data windows "
   ]
  },
  {
   "cell_type": "code",
   "execution_count": 5,
   "id": "33996eb8",
   "metadata": {},
   "outputs": [],
   "source": [
    "def data_windowing(train_df,test_df):\n",
    "    n_points = 20\n",
    "    window_length = n_points+ 1 \n",
    "    \n",
    "    window_train = tf.keras.utils.timeseries_dataset_from_array(\n",
    "    train_df, targets=None,sequence_length = window_length, sequence_stride=1, sampling_rate=1,\n",
    "    batch_size=32, shuffle=False, seed=None, start_index=None, end_index=None)\n",
    "\n",
    "    window_test = tf.keras.utils.timeseries_dataset_from_array(\n",
    "    test_df, targets=None,sequence_length = window_length, sequence_stride=1, sampling_rate=1,\n",
    "    batch_size=32, shuffle=False, seed=None, start_index=None, end_index=None)\n",
    "\n",
    "    return window_train, window_test"
   ]
  },
  {
   "cell_type": "code",
   "execution_count": 6,
   "id": "710bc036",
   "metadata": {},
   "outputs": [
    {
     "name": "stderr",
     "output_type": "stream",
     "text": [
      "2021-10-22 11:02:25.408904: W tensorflow/stream_executor/platform/default/dso_loader.cc:64] Could not load dynamic library 'libcuda.so.1'; dlerror: libcuda.so.1: cannot open shared object file: No such file or directory\n",
      "2021-10-22 11:02:25.408949: W tensorflow/stream_executor/cuda/cuda_driver.cc:269] failed call to cuInit: UNKNOWN ERROR (303)\n",
      "2021-10-22 11:02:25.409056: I tensorflow/stream_executor/cuda/cuda_diagnostics.cc:156] kernel driver does not appear to be running on this host (DESKTOP-R3AGIN3): /proc/driver/nvidia/version does not exist\n",
      "2021-10-22 11:02:25.410310: I tensorflow/core/platform/cpu_feature_guard.cc:142] This TensorFlow binary is optimized with oneAPI Deep Neural Network Library (oneDNN) to use the following CPU instructions in performance-critical operations:  AVX2 FMA\n",
      "To enable them in other operations, rebuild TensorFlow with the appropriate compiler flags.\n"
     ]
    }
   ],
   "source": [
    "window_train,window_test = data_windowing(train_df,test_df)"
   ]
  },
  {
   "cell_type": "markdown",
   "id": "e1e67a5f",
   "metadata": {},
   "source": [
    "### Splits windows in X,y"
   ]
  },
  {
   "cell_type": "code",
   "execution_count": 7,
   "id": "6de001cc",
   "metadata": {},
   "outputs": [],
   "source": [
    "def data_map(elem):\n",
    "    n_points = 20\n",
    "    window_length = n_points+ 1 \n",
    "    X,y = elem[:,:-1,:],elem[:,-1:,0:2] # X= features; y = labels(the next coordenate point)\n",
    "    X.set_shape([None, n_points, None])\n",
    "    y.set_shape([None, window_length - n_points, None])\n",
    "    \n",
    "    return (X,y)\n"
   ]
  },
  {
   "cell_type": "code",
   "execution_count": 8,
   "id": "adf303c5",
   "metadata": {},
   "outputs": [],
   "source": [
    "train = window_train.map(data_map)\n",
    "test = window_test.map(data_map)"
   ]
  },
  {
   "cell_type": "markdown",
   "id": "9910e548",
   "metadata": {},
   "source": [
    "### Trainning a neural network model"
   ]
  },
  {
   "cell_type": "code",
   "execution_count": 9,
   "id": "09b2fd88",
   "metadata": {},
   "outputs": [],
   "source": [
    "lstm_model = tf.keras.models.Sequential([\n",
    "    tf.keras.layers.LSTM(32, return_sequences=False),\n",
    "    tf.keras.layers.Dense(units=10),\n",
    "    tf.keras.layers.Dropout(rate=0.1),\n",
    "    tf.keras.layers.Dense(units=10),\n",
    "    tf.keras.layers.Dense(units=10),\n",
    "    tf.keras.layers.Dense(units=10),\n",
    "    tf.keras.layers.Dense(units=2)\n",
    "])"
   ]
  },
  {
   "cell_type": "code",
   "execution_count": 10,
   "id": "ecf320f2",
   "metadata": {},
   "outputs": [],
   "source": [
    "lstm_model.compile(loss=tf.losses.MeanSquaredError(),optimizer=tf.optimizers.Adam(learning_rate=0.0005),metrics=[tf.metrics.MeanAbsoluteError()])"
   ]
  },
  {
   "cell_type": "code",
   "execution_count": 11,
   "id": "06aef6dc",
   "metadata": {},
   "outputs": [
    {
     "name": "stderr",
     "output_type": "stream",
     "text": [
      "2021-10-22 11:02:25.604774: I tensorflow/core/profiler/lib/profiler_session.cc:131] Profiler session initializing.\n",
      "2021-10-22 11:02:25.604817: I tensorflow/core/profiler/lib/profiler_session.cc:146] Profiler session started.\n",
      "2021-10-22 11:02:25.608047: I tensorflow/core/profiler/lib/profiler_session.cc:164] Profiler session tear down.\n",
      "2021-10-22 11:02:25.676183: I tensorflow/compiler/mlir/mlir_graph_optimization_pass.cc:185] None of the MLIR Optimization Passes are enabled (registered 2)\n"
     ]
    },
    {
     "name": "stdout",
     "output_type": "stream",
     "text": [
      "Epoch 1/100\n",
      "3/9 [=========>....................] - ETA: 0s - loss: 7730.6665 - mean_absolute_error: 76.8411"
     ]
    },
    {
     "name": "stderr",
     "output_type": "stream",
     "text": [
      "2021-10-22 11:02:27.329888: I tensorflow/core/profiler/lib/profiler_session.cc:131] Profiler session initializing.\n",
      "2021-10-22 11:02:27.329931: I tensorflow/core/profiler/lib/profiler_session.cc:146] Profiler session started.\n",
      "2021-10-22 11:02:27.349073: I tensorflow/core/profiler/lib/profiler_session.cc:66] Profiler session collecting data.\n",
      "2021-10-22 11:02:27.358138: I tensorflow/core/profiler/lib/profiler_session.cc:164] Profiler session tear down.\n",
      "2021-10-22 11:02:27.397074: I tensorflow/core/profiler/rpc/client/save_profile.cc:136] Creating directory: ./logs/train/plugins/profile/2021_10_22_11_02_27\n",
      "\n",
      "2021-10-22 11:02:27.411969: I tensorflow/core/profiler/rpc/client/save_profile.cc:142] Dumped gzipped tool data for trace.json.gz to ./logs/train/plugins/profile/2021_10_22_11_02_27/DESKTOP-R3AGIN3.trace.json.gz\n",
      "2021-10-22 11:02:27.432644: I tensorflow/core/profiler/rpc/client/save_profile.cc:136] Creating directory: ./logs/train/plugins/profile/2021_10_22_11_02_27\n",
      "\n",
      "2021-10-22 11:02:27.435688: I tensorflow/core/profiler/rpc/client/save_profile.cc:142] Dumped gzipped tool data for memory_profile.json.gz to ./logs/train/plugins/profile/2021_10_22_11_02_27/DESKTOP-R3AGIN3.memory_profile.json.gz\n",
      "2021-10-22 11:02:27.454618: I tensorflow/core/profiler/rpc/client/capture_profile.cc:251] Creating directory: ./logs/train/plugins/profile/2021_10_22_11_02_27\n",
      "Dumped tool data for xplane.pb to ./logs/train/plugins/profile/2021_10_22_11_02_27/DESKTOP-R3AGIN3.xplane.pb\n",
      "Dumped tool data for overview_page.pb to ./logs/train/plugins/profile/2021_10_22_11_02_27/DESKTOP-R3AGIN3.overview_page.pb\n",
      "Dumped tool data for input_pipeline.pb to ./logs/train/plugins/profile/2021_10_22_11_02_27/DESKTOP-R3AGIN3.input_pipeline.pb\n",
      "Dumped tool data for tensorflow_stats.pb to ./logs/train/plugins/profile/2021_10_22_11_02_27/DESKTOP-R3AGIN3.tensorflow_stats.pb\n",
      "Dumped tool data for kernel_stats.pb to ./logs/train/plugins/profile/2021_10_22_11_02_27/DESKTOP-R3AGIN3.kernel_stats.pb\n",
      "\n"
     ]
    },
    {
     "name": "stdout",
     "output_type": "stream",
     "text": [
      "9/9 [==============================] - 2s 80ms/step - loss: 7869.5493 - mean_absolute_error: 77.6996 - val_loss: 7225.2065 - val_mean_absolute_error: 72.3696\n",
      "Epoch 2/100\n",
      "9/9 [==============================] - 0s 21ms/step - loss: 7739.6743 - mean_absolute_error: 76.8817 - val_loss: 7100.6108 - val_mean_absolute_error: 71.5356\n",
      "Epoch 3/100\n",
      "9/9 [==============================] - 0s 19ms/step - loss: 7577.3564 - mean_absolute_error: 75.8432 - val_loss: 6944.8633 - val_mean_absolute_error: 70.5823\n",
      "Epoch 4/100\n",
      "9/9 [==============================] - 0s 19ms/step - loss: 7389.3599 - mean_absolute_error: 74.7829 - val_loss: 6763.6445 - val_mean_absolute_error: 69.5371\n",
      "Epoch 5/100\n",
      "9/9 [==============================] - 0s 20ms/step - loss: 7147.5444 - mean_absolute_error: 73.4476 - val_loss: 6467.3857 - val_mean_absolute_error: 67.7782\n",
      "Epoch 6/100\n",
      "9/9 [==============================] - 0s 19ms/step - loss: 6854.2925 - mean_absolute_error: 71.7709 - val_loss: 6203.9121 - val_mean_absolute_error: 66.1990\n",
      "Epoch 7/100\n",
      "9/9 [==============================] - 0s 20ms/step - loss: 6569.1812 - mean_absolute_error: 70.1067 - val_loss: 5917.4209 - val_mean_absolute_error: 64.4409\n",
      "Epoch 8/100\n",
      "9/9 [==============================] - 0s 19ms/step - loss: 6234.9077 - mean_absolute_error: 68.1686 - val_loss: 5607.4492 - val_mean_absolute_error: 62.4982\n",
      "Epoch 9/100\n",
      "9/9 [==============================] - 0s 19ms/step - loss: 5899.7471 - mean_absolute_error: 66.1227 - val_loss: 5261.3809 - val_mean_absolute_error: 60.2710\n",
      "Epoch 10/100\n",
      "9/9 [==============================] - 0s 19ms/step - loss: 5509.1792 - mean_absolute_error: 63.7099 - val_loss: 4853.4209 - val_mean_absolute_error: 57.5473\n",
      "Epoch 11/100\n",
      "9/9 [==============================] - 0s 21ms/step - loss: 5089.2148 - mean_absolute_error: 61.0075 - val_loss: 4356.9517 - val_mean_absolute_error: 54.0679\n",
      "Epoch 12/100\n",
      "9/9 [==============================] - 0s 20ms/step - loss: 4483.4849 - mean_absolute_error: 56.8796 - val_loss: 3817.9155 - val_mean_absolute_error: 50.0338\n",
      "Epoch 13/100\n",
      "9/9 [==============================] - 0s 19ms/step - loss: 3901.5842 - mean_absolute_error: 52.6620 - val_loss: 3237.1370 - val_mean_absolute_error: 45.3060\n",
      "Epoch 14/100\n",
      "9/9 [==============================] - 0s 20ms/step - loss: 3297.8665 - mean_absolute_error: 47.7625 - val_loss: 2539.0300 - val_mean_absolute_error: 39.0282\n",
      "Epoch 15/100\n",
      "9/9 [==============================] - 0s 22ms/step - loss: 2341.8208 - mean_absolute_error: 39.0807 - val_loss: 1615.5503 - val_mean_absolute_error: 30.5523\n",
      "Epoch 16/100\n",
      "9/9 [==============================] - 0s 19ms/step - loss: 1393.5040 - mean_absolute_error: 28.1162 - val_loss: 868.2534 - val_mean_absolute_error: 23.1467\n",
      "Epoch 17/100\n",
      "9/9 [==============================] - 0s 19ms/step - loss: 790.9547 - mean_absolute_error: 21.1262 - val_loss: 405.0609 - val_mean_absolute_error: 17.4157\n",
      "Epoch 18/100\n",
      "9/9 [==============================] - 0s 20ms/step - loss: 405.0987 - mean_absolute_error: 15.2652 - val_loss: 196.7182 - val_mean_absolute_error: 12.3603\n",
      "Epoch 19/100\n",
      "9/9 [==============================] - 0s 19ms/step - loss: 194.3501 - mean_absolute_error: 10.5060 - val_loss: 153.6307 - val_mean_absolute_error: 9.5559\n",
      "Epoch 20/100\n",
      "9/9 [==============================] - 0s 20ms/step - loss: 168.9156 - mean_absolute_error: 10.9032 - val_loss: 123.3386 - val_mean_absolute_error: 8.5842\n",
      "Epoch 21/100\n",
      "9/9 [==============================] - 0s 19ms/step - loss: 165.1588 - mean_absolute_error: 10.2859 - val_loss: 84.9775 - val_mean_absolute_error: 6.9207\n",
      "Epoch 22/100\n",
      "9/9 [==============================] - 0s 19ms/step - loss: 141.5956 - mean_absolute_error: 9.2972 - val_loss: 63.6823 - val_mean_absolute_error: 5.8053\n",
      "Epoch 23/100\n",
      "9/9 [==============================] - 0s 20ms/step - loss: 157.7841 - mean_absolute_error: 9.1667 - val_loss: 53.9873 - val_mean_absolute_error: 5.4528\n",
      "Epoch 24/100\n",
      "9/9 [==============================] - 0s 18ms/step - loss: 131.3913 - mean_absolute_error: 8.4172 - val_loss: 49.0510 - val_mean_absolute_error: 5.2603\n",
      "Epoch 25/100\n",
      "9/9 [==============================] - 0s 19ms/step - loss: 146.3833 - mean_absolute_error: 8.5047 - val_loss: 47.0389 - val_mean_absolute_error: 5.1865\n",
      "Epoch 26/100\n",
      "9/9 [==============================] - 0s 19ms/step - loss: 122.6374 - mean_absolute_error: 8.2941 - val_loss: 47.0699 - val_mean_absolute_error: 5.2125\n",
      "Epoch 27/100\n",
      "9/9 [==============================] - 0s 20ms/step - loss: 139.0438 - mean_absolute_error: 8.5353 - val_loss: 46.6505 - val_mean_absolute_error: 5.1976\n",
      "Epoch 28/100\n",
      "9/9 [==============================] - 0s 19ms/step - loss: 129.6924 - mean_absolute_error: 8.2426 - val_loss: 46.7465 - val_mean_absolute_error: 5.2072\n",
      "Epoch 29/100\n",
      "9/9 [==============================] - 0s 18ms/step - loss: 133.4938 - mean_absolute_error: 8.2453 - val_loss: 45.2970 - val_mean_absolute_error: 5.1168\n",
      "Epoch 30/100\n",
      "9/9 [==============================] - 0s 19ms/step - loss: 140.2144 - mean_absolute_error: 8.4456 - val_loss: 45.9319 - val_mean_absolute_error: 5.1519\n",
      "Epoch 31/100\n",
      "9/9 [==============================] - 0s 19ms/step - loss: 120.9617 - mean_absolute_error: 8.2326 - val_loss: 45.9721 - val_mean_absolute_error: 5.1499\n",
      "Epoch 32/100\n",
      "9/9 [==============================] - 0s 18ms/step - loss: 120.1049 - mean_absolute_error: 8.1205 - val_loss: 44.8528 - val_mean_absolute_error: 5.0791\n",
      "Epoch 33/100\n",
      "9/9 [==============================] - 0s 19ms/step - loss: 126.5281 - mean_absolute_error: 8.1254 - val_loss: 44.1390 - val_mean_absolute_error: 5.0367\n",
      "Epoch 34/100\n",
      "9/9 [==============================] - 0s 19ms/step - loss: 128.7496 - mean_absolute_error: 8.2678 - val_loss: 45.4465 - val_mean_absolute_error: 5.1111\n",
      "Epoch 35/100\n",
      "9/9 [==============================] - 0s 18ms/step - loss: 147.9118 - mean_absolute_error: 8.8321 - val_loss: 48.5159 - val_mean_absolute_error: 5.2987\n",
      "Epoch 36/100\n",
      "9/9 [==============================] - 0s 18ms/step - loss: 123.8717 - mean_absolute_error: 8.3851 - val_loss: 47.2302 - val_mean_absolute_error: 5.2221\n",
      "Epoch 37/100\n",
      "9/9 [==============================] - 0s 19ms/step - loss: 126.6951 - mean_absolute_error: 8.0498 - val_loss: 45.6602 - val_mean_absolute_error: 5.1269\n"
     ]
    }
   ],
   "source": [
    "early_stopping = tf.keras.callbacks.EarlyStopping(monitor='loss',\n",
    "                                                patience=5,\n",
    "                                                mode='min')\n",
    "\n",
    "tensorboard_callback = TensorBoard(log_dir=\"./logs\", histogram_freq=2)\n",
    "\n",
    "history = lstm_model.fit(train, epochs=100,\n",
    "                         validation_data=test,\n",
    "                         callbacks=[early_stopping, tensorboard_callback])\n"
   ]
  },
  {
   "cell_type": "code",
   "execution_count": 12,
   "id": "70bac8e2",
   "metadata": {},
   "outputs": [
    {
     "data": {
      "image/png": "[encoded data removed]",
      "text/plain": [
       "<Figure size 576x576 with 1 Axes>"
      ]
     },
     "metadata": {
      "needs_background": "light"
     },
     "output_type": "display_data"
    }
   ],
   "source": [
    "pyplot.figure(figsize=(8,8))\n",
    "pyplot.title('Loss / Mean Squared Error')\n",
    "pyplot.plot(history.history['loss'], label='train')\n",
    "pyplot.plot(history.history['val_loss'], label='test')\n",
    "pyplot.legend()\n",
    "pyplot.show()"
   ]
  },
  {
   "cell_type": "code",
   "execution_count": 13,
   "id": "64856d96",
   "metadata": {},
   "outputs": [
    {
     "data": {
      "text/html": [
       "<div>\n",
       "<style scoped>\n",
       "    .dataframe tbody tr th:only-of-type {\n",
       "        vertical-align: middle;\n",
       "    }\n",
       "\n",
       "    .dataframe tbody tr th {\n",
       "        vertical-align: top;\n",
       "    }\n",
       "\n",
       "    .dataframe thead th {\n",
       "        text-align: right;\n",
       "    }\n",
       "</style>\n",
       "<table border=\"1\" class=\"dataframe\">\n",
       "  <thead>\n",
       "    <tr style=\"text-align: right;\">\n",
       "      <th></th>\n",
       "      <th>location-long</th>\n",
       "      <th>location-lat</th>\n",
       "    </tr>\n",
       "  </thead>\n",
       "  <tbody>\n",
       "    <tr>\n",
       "      <th>290</th>\n",
       "      <td>-123.140</td>\n",
       "      <td>37.667</td>\n",
       "    </tr>\n",
       "    <tr>\n",
       "      <th>291</th>\n",
       "      <td>-122.513</td>\n",
       "      <td>37.741</td>\n",
       "    </tr>\n",
       "    <tr>\n",
       "      <th>292</th>\n",
       "      <td>-123.055</td>\n",
       "      <td>37.716</td>\n",
       "    </tr>\n",
       "    <tr>\n",
       "      <th>293</th>\n",
       "      <td>-123.105</td>\n",
       "      <td>37.725</td>\n",
       "    </tr>\n",
       "    <tr>\n",
       "      <th>294</th>\n",
       "      <td>-123.265</td>\n",
       "      <td>37.712</td>\n",
       "    </tr>\n",
       "    <tr>\n",
       "      <th>295</th>\n",
       "      <td>-123.220</td>\n",
       "      <td>37.522</td>\n",
       "    </tr>\n",
       "    <tr>\n",
       "      <th>296</th>\n",
       "      <td>-123.032</td>\n",
       "      <td>37.607</td>\n",
       "    </tr>\n",
       "    <tr>\n",
       "      <th>297</th>\n",
       "      <td>-123.182</td>\n",
       "      <td>37.659</td>\n",
       "    </tr>\n",
       "    <tr>\n",
       "      <th>298</th>\n",
       "      <td>-122.890</td>\n",
       "      <td>37.546</td>\n",
       "    </tr>\n",
       "    <tr>\n",
       "      <th>299</th>\n",
       "      <td>-122.928</td>\n",
       "      <td>37.625</td>\n",
       "    </tr>\n",
       "    <tr>\n",
       "      <th>300</th>\n",
       "      <td>-122.907</td>\n",
       "      <td>37.781</td>\n",
       "    </tr>\n",
       "    <tr>\n",
       "      <th>301</th>\n",
       "      <td>-123.129</td>\n",
       "      <td>37.588</td>\n",
       "    </tr>\n",
       "    <tr>\n",
       "      <th>302</th>\n",
       "      <td>-122.951</td>\n",
       "      <td>37.591</td>\n",
       "    </tr>\n",
       "    <tr>\n",
       "      <th>303</th>\n",
       "      <td>-123.081</td>\n",
       "      <td>37.509</td>\n",
       "    </tr>\n",
       "    <tr>\n",
       "      <th>304</th>\n",
       "      <td>-123.017</td>\n",
       "      <td>37.495</td>\n",
       "    </tr>\n",
       "    <tr>\n",
       "      <th>305</th>\n",
       "      <td>-123.080</td>\n",
       "      <td>37.577</td>\n",
       "    </tr>\n",
       "    <tr>\n",
       "      <th>306</th>\n",
       "      <td>-122.968</td>\n",
       "      <td>37.511</td>\n",
       "    </tr>\n",
       "    <tr>\n",
       "      <th>307</th>\n",
       "      <td>-123.381</td>\n",
       "      <td>37.576</td>\n",
       "    </tr>\n",
       "    <tr>\n",
       "      <th>308</th>\n",
       "      <td>-122.904</td>\n",
       "      <td>37.427</td>\n",
       "    </tr>\n",
       "    <tr>\n",
       "      <th>309</th>\n",
       "      <td>-123.132</td>\n",
       "      <td>37.471</td>\n",
       "    </tr>\n",
       "    <tr>\n",
       "      <th>310</th>\n",
       "      <td>-122.878</td>\n",
       "      <td>37.589</td>\n",
       "    </tr>\n",
       "  </tbody>\n",
       "</table>\n",
       "</div>"
      ],
      "text/plain": [
       "     location-long  location-lat\n",
       "290       -123.140        37.667\n",
       "291       -122.513        37.741\n",
       "292       -123.055        37.716\n",
       "293       -123.105        37.725\n",
       "294       -123.265        37.712\n",
       "295       -123.220        37.522\n",
       "296       -123.032        37.607\n",
       "297       -123.182        37.659\n",
       "298       -122.890        37.546\n",
       "299       -122.928        37.625\n",
       "300       -122.907        37.781\n",
       "301       -123.129        37.588\n",
       "302       -122.951        37.591\n",
       "303       -123.081        37.509\n",
       "304       -123.017        37.495\n",
       "305       -123.080        37.577\n",
       "306       -122.968        37.511\n",
       "307       -123.381        37.576\n",
       "308       -122.904        37.427\n",
       "309       -123.132        37.471\n",
       "310       -122.878        37.589"
      ]
     },
     "execution_count": 13,
     "metadata": {},
     "output_type": "execute_result"
    }
   ],
   "source": [
    "test_df[:21]"
   ]
  },
  {
   "cell_type": "code",
   "execution_count": 14,
   "id": "90c02c35",
   "metadata": {},
   "outputs": [
    {
     "data": {
      "text/plain": [
       "(1, 20, 2)"
      ]
     },
     "execution_count": 14,
     "metadata": {},
     "output_type": "execute_result"
    }
   ],
   "source": [
    "np.array([list(test.take(1).as_numpy_iterator())[0][0][0]]).shape"
   ]
  },
  {
   "cell_type": "code",
   "execution_count": 15,
   "id": "7a3fe791",
   "metadata": {},
   "outputs": [
    {
     "data": {
      "text/plain": [
       "(None, 20, 2)"
      ]
     },
     "execution_count": 15,
     "metadata": {},
     "output_type": "execute_result"
    }
   ],
   "source": [
    "lstm_model.layers[0].input_shape"
   ]
  },
  {
   "cell_type": "code",
   "execution_count": 16,
   "id": "b3f8bc81",
   "metadata": {},
   "outputs": [],
   "source": [
    "y_pred = lstm_model.predict(np.array([test_df[:20]]))[0]"
   ]
  },
  {
   "cell_type": "code",
   "execution_count": 17,
   "id": "dcd85e82",
   "metadata": {},
   "outputs": [
    {
     "data": {
      "text/plain": [
       "array([-119.40815,   34.82724], dtype=float32)"
      ]
     },
     "execution_count": 17,
     "metadata": {},
     "output_type": "execute_result"
    }
   ],
   "source": [
    "y_pred"
   ]
  },
  {
   "cell_type": "code",
   "execution_count": 18,
   "id": "3882a2cb",
   "metadata": {},
   "outputs": [
    {
     "data": {
      "text/plain": [
       "location-long   -123.031\n",
       "location-lat      37.511\n",
       "Name: 311, dtype: float64"
      ]
     },
     "execution_count": 18,
     "metadata": {},
     "output_type": "execute_result"
    }
   ],
   "source": [
    "test_df.iloc[21]"
   ]
  },
  {
   "cell_type": "code",
   "execution_count": 20,
   "id": "13a5aca1",
   "metadata": {},
   "outputs": [
    {
     "data": {
      "image/png": "[encoded data removed]",
      "text/plain": [
       "<Figure size 432x360 with 1 Axes>"
      ]
     },
     "metadata": {
      "needs_background": "light"
     },
     "output_type": "display_data"
    }
   ],
   "source": [
    "pyplot.figure(figsize=(6,5))\n",
    "pyplot.plot(test_df[:20][\"location-long\"], test_df[:20][\"location-lat\"], label='true')\n",
    "pyplot.scatter(y_pred[0], y_pred[1],  c=\"red\", label='pred')\n",
    "pyplot.scatter(test_df.iloc[21][0], test_df.iloc[21][1],  c=\"green\", label='pred')\n",
    "pyplot.xlabel(\"longitude\")\n",
    "pyplot.ylabel(\"latitude\")\n",
    "pyplot.legend()\n",
    "pyplot.show()"
   ]
  },
  {
   "cell_type": "markdown",
   "id": "af3a6e8b",
   "metadata": {},
   "source": [
    "### Predicting a new route"
   ]
  },
  {
   "cell_type": "code",
   "execution_count": 57,
   "id": "34641a41",
   "metadata": {},
   "outputs": [
    {
     "name": "stdout",
     "output_type": "stream",
     "text": [
      "40\n",
      "[[-123.14    37.667]\n",
      " [-122.513   37.741]\n",
      " [-123.055   37.716]\n",
      " [-123.105   37.725]\n",
      " [-123.265   37.712]\n",
      " [-123.22    37.522]\n",
      " [-123.032   37.607]\n",
      " [-123.182   37.659]\n",
      " [-122.89    37.546]\n",
      " [-122.928   37.625]\n",
      " [-122.907   37.781]\n",
      " [-123.129   37.588]\n",
      " [-122.951   37.591]\n",
      " [-123.081   37.509]\n",
      " [-123.017   37.495]\n",
      " [-123.08    37.577]\n",
      " [-122.968   37.511]\n",
      " [-123.381   37.576]\n",
      " [-122.904   37.427]\n",
      " [-123.132   37.471]]\n"
     ]
    },
    {
     "ename": "ValueError",
     "evalue": "in user code:\n\n    /home/silvia/miniconda3/envs/animal_movement/lib/python3.9/site-packages/keras/engine/training.py:1586 predict_function  *\n        return step_function(self, iterator)\n    /home/silvia/miniconda3/envs/animal_movement/lib/python3.9/site-packages/keras/engine/training.py:1576 step_function  **\n        outputs = model.distribute_strategy.run(run_step, args=(data,))\n    /home/silvia/miniconda3/envs/animal_movement/lib/python3.9/site-packages/tensorflow/python/distribute/distribute_lib.py:1286 run\n        return self._extended.call_for_each_replica(fn, args=args, kwargs=kwargs)\n    /home/silvia/miniconda3/envs/animal_movement/lib/python3.9/site-packages/tensorflow/python/distribute/distribute_lib.py:2849 call_for_each_replica\n        return self._call_for_each_replica(fn, args, kwargs)\n    /home/silvia/miniconda3/envs/animal_movement/lib/python3.9/site-packages/tensorflow/python/distribute/distribute_lib.py:3632 _call_for_each_replica\n        return fn(*args, **kwargs)\n    /home/silvia/miniconda3/envs/animal_movement/lib/python3.9/site-packages/keras/engine/training.py:1569 run_step  **\n        outputs = model.predict_step(data)\n    /home/silvia/miniconda3/envs/animal_movement/lib/python3.9/site-packages/keras/engine/training.py:1537 predict_step\n        return self(x, training=False)\n    /home/silvia/miniconda3/envs/animal_movement/lib/python3.9/site-packages/keras/engine/base_layer.py:1020 __call__\n        input_spec.assert_input_compatibility(self.input_spec, inputs, self.name)\n    /home/silvia/miniconda3/envs/animal_movement/lib/python3.9/site-packages/keras/engine/input_spec.py:214 assert_input_compatibility\n        raise ValueError('Input ' + str(input_index) + ' of layer ' +\n\n    ValueError: Input 0 of layer sequential is incompatible with the layer: expected ndim=3, found ndim=2. Full shape received: (None, 2)\n",
     "output_type": "error",
     "traceback": [
      "\u001b[0;31m---------------------------------------------------------------------------\u001b[0m",
      "\u001b[0;31mValueError\u001b[0m                                Traceback (most recent call last)",
      "\u001b[0;32m/tmp/ipykernel_259/1263554266.py\u001b[0m in \u001b[0;36m<module>\u001b[0;34m\u001b[0m\n\u001b[1;32m      7\u001b[0m \u001b[0mprint\u001b[0m\u001b[0;34m(\u001b[0m\u001b[0mn\u001b[0m\u001b[0;34m)\u001b[0m\u001b[0;34m\u001b[0m\u001b[0;34m\u001b[0m\u001b[0m\n\u001b[1;32m      8\u001b[0m \u001b[0mprint\u001b[0m\u001b[0;34m(\u001b[0m\u001b[0mpoints\u001b[0m\u001b[0;34m)\u001b[0m\u001b[0;34m\u001b[0m\u001b[0;34m\u001b[0m\u001b[0m\n\u001b[0;32m----> 9\u001b[0;31m \u001b[0mr_predict\u001b[0m\u001b[0;34m=\u001b[0m\u001b[0mlstm_model\u001b[0m\u001b[0;34m.\u001b[0m\u001b[0mpredict\u001b[0m\u001b[0;34m(\u001b[0m\u001b[0mpoints\u001b[0m\u001b[0;34m)\u001b[0m\u001b[0;34m\u001b[0m\u001b[0;34m\u001b[0m\u001b[0m\n\u001b[0m\u001b[1;32m     10\u001b[0m \u001b[0mroute_predict\u001b[0m \u001b[0;34m=\u001b[0m \u001b[0mroute_predict\u001b[0m\u001b[0;34m.\u001b[0m\u001b[0mappend\u001b[0m\u001b[0;34m(\u001b[0m\u001b[0mr_predict\u001b[0m\u001b[0;34m)\u001b[0m\u001b[0;34m\u001b[0m\u001b[0;34m\u001b[0m\u001b[0m\n\u001b[1;32m     11\u001b[0m \u001b[0mtruth\u001b[0m \u001b[0;34m=\u001b[0m \u001b[0mtest_df\u001b[0m\u001b[0;34m.\u001b[0m\u001b[0miloc\u001b[0m\u001b[0;34m[\u001b[0m\u001b[0mn\u001b[0m\u001b[0;34m]\u001b[0m\u001b[0;34m\u001b[0m\u001b[0;34m\u001b[0m\u001b[0m\n",
      "\u001b[0;32m~/miniconda3/envs/animal_movement/lib/python3.9/site-packages/keras/engine/training.py\u001b[0m in \u001b[0;36mpredict\u001b[0;34m(self, x, batch_size, verbose, steps, callbacks, max_queue_size, workers, use_multiprocessing)\u001b[0m\n\u001b[1;32m   1749\u001b[0m           \u001b[0;32mfor\u001b[0m \u001b[0mstep\u001b[0m \u001b[0;32min\u001b[0m \u001b[0mdata_handler\u001b[0m\u001b[0;34m.\u001b[0m\u001b[0msteps\u001b[0m\u001b[0;34m(\u001b[0m\u001b[0;34m)\u001b[0m\u001b[0;34m:\u001b[0m\u001b[0;34m\u001b[0m\u001b[0;34m\u001b[0m\u001b[0m\n\u001b[1;32m   1750\u001b[0m             \u001b[0mcallbacks\u001b[0m\u001b[0;34m.\u001b[0m\u001b[0mon_predict_batch_begin\u001b[0m\u001b[0;34m(\u001b[0m\u001b[0mstep\u001b[0m\u001b[0;34m)\u001b[0m\u001b[0;34m\u001b[0m\u001b[0;34m\u001b[0m\u001b[0m\n\u001b[0;32m-> 1751\u001b[0;31m             \u001b[0mtmp_batch_outputs\u001b[0m \u001b[0;34m=\u001b[0m \u001b[0mself\u001b[0m\u001b[0;34m.\u001b[0m\u001b[0mpredict_function\u001b[0m\u001b[0;34m(\u001b[0m\u001b[0miterator\u001b[0m\u001b[0;34m)\u001b[0m\u001b[0;34m\u001b[0m\u001b[0;34m\u001b[0m\u001b[0m\n\u001b[0m\u001b[1;32m   1752\u001b[0m             \u001b[0;32mif\u001b[0m \u001b[0mdata_handler\u001b[0m\u001b[0;34m.\u001b[0m\u001b[0mshould_sync\u001b[0m\u001b[0;34m:\u001b[0m\u001b[0;34m\u001b[0m\u001b[0;34m\u001b[0m\u001b[0m\n\u001b[1;32m   1753\u001b[0m               \u001b[0mcontext\u001b[0m\u001b[0;34m.\u001b[0m\u001b[0masync_wait\u001b[0m\u001b[0;34m(\u001b[0m\u001b[0;34m)\u001b[0m\u001b[0;34m\u001b[0m\u001b[0;34m\u001b[0m\u001b[0m\n",
      "\u001b[0;32m~/miniconda3/envs/animal_movement/lib/python3.9/site-packages/tensorflow/python/eager/def_function.py\u001b[0m in \u001b[0;36m__call__\u001b[0;34m(self, *args, **kwds)\u001b[0m\n\u001b[1;32m    883\u001b[0m \u001b[0;34m\u001b[0m\u001b[0m\n\u001b[1;32m    884\u001b[0m       \u001b[0;32mwith\u001b[0m \u001b[0mOptionalXlaContext\u001b[0m\u001b[0;34m(\u001b[0m\u001b[0mself\u001b[0m\u001b[0;34m.\u001b[0m\u001b[0m_jit_compile\u001b[0m\u001b[0;34m)\u001b[0m\u001b[0;34m:\u001b[0m\u001b[0;34m\u001b[0m\u001b[0;34m\u001b[0m\u001b[0m\n\u001b[0;32m--> 885\u001b[0;31m         \u001b[0mresult\u001b[0m \u001b[0;34m=\u001b[0m \u001b[0mself\u001b[0m\u001b[0;34m.\u001b[0m\u001b[0m_call\u001b[0m\u001b[0;34m(\u001b[0m\u001b[0;34m*\u001b[0m\u001b[0margs\u001b[0m\u001b[0;34m,\u001b[0m \u001b[0;34m**\u001b[0m\u001b[0mkwds\u001b[0m\u001b[0;34m)\u001b[0m\u001b[0;34m\u001b[0m\u001b[0;34m\u001b[0m\u001b[0m\n\u001b[0m\u001b[1;32m    886\u001b[0m \u001b[0;34m\u001b[0m\u001b[0m\n\u001b[1;32m    887\u001b[0m       \u001b[0mnew_tracing_count\u001b[0m \u001b[0;34m=\u001b[0m \u001b[0mself\u001b[0m\u001b[0;34m.\u001b[0m\u001b[0mexperimental_get_tracing_count\u001b[0m\u001b[0;34m(\u001b[0m\u001b[0;34m)\u001b[0m\u001b[0;34m\u001b[0m\u001b[0;34m\u001b[0m\u001b[0m\n",
      "\u001b[0;32m~/miniconda3/envs/animal_movement/lib/python3.9/site-packages/tensorflow/python/eager/def_function.py\u001b[0m in \u001b[0;36m_call\u001b[0;34m(self, *args, **kwds)\u001b[0m\n\u001b[1;32m    922\u001b[0m       \u001b[0;31m# In this case we have not created variables on the first call. So we can\u001b[0m\u001b[0;34m\u001b[0m\u001b[0;34m\u001b[0m\u001b[0m\n\u001b[1;32m    923\u001b[0m       \u001b[0;31m# run the first trace but we should fail if variables are created.\u001b[0m\u001b[0;34m\u001b[0m\u001b[0;34m\u001b[0m\u001b[0m\n\u001b[0;32m--> 924\u001b[0;31m       \u001b[0mresults\u001b[0m \u001b[0;34m=\u001b[0m \u001b[0mself\u001b[0m\u001b[0;34m.\u001b[0m\u001b[0m_stateful_fn\u001b[0m\u001b[0;34m(\u001b[0m\u001b[0;34m*\u001b[0m\u001b[0margs\u001b[0m\u001b[0;34m,\u001b[0m \u001b[0;34m**\u001b[0m\u001b[0mkwds\u001b[0m\u001b[0;34m)\u001b[0m\u001b[0;34m\u001b[0m\u001b[0;34m\u001b[0m\u001b[0m\n\u001b[0m\u001b[1;32m    925\u001b[0m       \u001b[0;32mif\u001b[0m \u001b[0mself\u001b[0m\u001b[0;34m.\u001b[0m\u001b[0m_created_variables\u001b[0m \u001b[0;32mand\u001b[0m \u001b[0;32mnot\u001b[0m \u001b[0mALLOW_DYNAMIC_VARIABLE_CREATION\u001b[0m\u001b[0;34m:\u001b[0m\u001b[0;34m\u001b[0m\u001b[0;34m\u001b[0m\u001b[0m\n\u001b[1;32m    926\u001b[0m         raise ValueError(\"Creating variables on a non-first call to a function\"\n",
      "\u001b[0;32m~/miniconda3/envs/animal_movement/lib/python3.9/site-packages/tensorflow/python/eager/function.py\u001b[0m in \u001b[0;36m__call__\u001b[0;34m(self, *args, **kwargs)\u001b[0m\n\u001b[1;32m   3036\u001b[0m     \u001b[0;32mwith\u001b[0m \u001b[0mself\u001b[0m\u001b[0;34m.\u001b[0m\u001b[0m_lock\u001b[0m\u001b[0;34m:\u001b[0m\u001b[0;34m\u001b[0m\u001b[0;34m\u001b[0m\u001b[0m\n\u001b[1;32m   3037\u001b[0m       (graph_function,\n\u001b[0;32m-> 3038\u001b[0;31m        filtered_flat_args) = self._maybe_define_function(args, kwargs)\n\u001b[0m\u001b[1;32m   3039\u001b[0m     return graph_function._call_flat(\n\u001b[1;32m   3040\u001b[0m         filtered_flat_args, captured_inputs=graph_function.captured_inputs)  # pylint: disable=protected-access\n",
      "\u001b[0;32m~/miniconda3/envs/animal_movement/lib/python3.9/site-packages/tensorflow/python/eager/function.py\u001b[0m in \u001b[0;36m_maybe_define_function\u001b[0;34m(self, args, kwargs)\u001b[0m\n\u001b[1;32m   3457\u001b[0m               \u001b[0mself\u001b[0m\u001b[0;34m.\u001b[0m\u001b[0minput_signature\u001b[0m \u001b[0;32mis\u001b[0m \u001b[0;32mNone\u001b[0m \u001b[0;32mand\u001b[0m\u001b[0;34m\u001b[0m\u001b[0;34m\u001b[0m\u001b[0m\n\u001b[1;32m   3458\u001b[0m               call_context_key in self._function_cache.missed):\n\u001b[0;32m-> 3459\u001b[0;31m             return self._define_function_with_shape_relaxation(\n\u001b[0m\u001b[1;32m   3460\u001b[0m                 args, kwargs, flat_args, filtered_flat_args, cache_key_context)\n\u001b[1;32m   3461\u001b[0m \u001b[0;34m\u001b[0m\u001b[0m\n",
      "\u001b[0;32m~/miniconda3/envs/animal_movement/lib/python3.9/site-packages/tensorflow/python/eager/function.py\u001b[0m in \u001b[0;36m_define_function_with_shape_relaxation\u001b[0;34m(self, args, kwargs, flat_args, filtered_flat_args, cache_key_context)\u001b[0m\n\u001b[1;32m   3379\u001b[0m           expand_composites=True)\n\u001b[1;32m   3380\u001b[0m \u001b[0;34m\u001b[0m\u001b[0m\n\u001b[0;32m-> 3381\u001b[0;31m     graph_function = self._create_graph_function(\n\u001b[0m\u001b[1;32m   3382\u001b[0m         args, kwargs, override_flat_arg_shapes=relaxed_arg_shapes)\n\u001b[1;32m   3383\u001b[0m     \u001b[0mself\u001b[0m\u001b[0;34m.\u001b[0m\u001b[0m_function_cache\u001b[0m\u001b[0;34m.\u001b[0m\u001b[0marg_relaxed\u001b[0m\u001b[0;34m[\u001b[0m\u001b[0mrank_only_cache_key\u001b[0m\u001b[0;34m]\u001b[0m \u001b[0;34m=\u001b[0m \u001b[0mgraph_function\u001b[0m\u001b[0;34m\u001b[0m\u001b[0;34m\u001b[0m\u001b[0m\n",
      "\u001b[0;32m~/miniconda3/envs/animal_movement/lib/python3.9/site-packages/tensorflow/python/eager/function.py\u001b[0m in \u001b[0;36m_create_graph_function\u001b[0;34m(self, args, kwargs, override_flat_arg_shapes)\u001b[0m\n\u001b[1;32m   3296\u001b[0m     \u001b[0marg_names\u001b[0m \u001b[0;34m=\u001b[0m \u001b[0mbase_arg_names\u001b[0m \u001b[0;34m+\u001b[0m \u001b[0mmissing_arg_names\u001b[0m\u001b[0;34m\u001b[0m\u001b[0;34m\u001b[0m\u001b[0m\n\u001b[1;32m   3297\u001b[0m     graph_function = ConcreteFunction(\n\u001b[0;32m-> 3298\u001b[0;31m         func_graph_module.func_graph_from_py_func(\n\u001b[0m\u001b[1;32m   3299\u001b[0m             \u001b[0mself\u001b[0m\u001b[0;34m.\u001b[0m\u001b[0m_name\u001b[0m\u001b[0;34m,\u001b[0m\u001b[0;34m\u001b[0m\u001b[0;34m\u001b[0m\u001b[0m\n\u001b[1;32m   3300\u001b[0m             \u001b[0mself\u001b[0m\u001b[0;34m.\u001b[0m\u001b[0m_python_function\u001b[0m\u001b[0;34m,\u001b[0m\u001b[0;34m\u001b[0m\u001b[0;34m\u001b[0m\u001b[0m\n",
      "\u001b[0;32m~/miniconda3/envs/animal_movement/lib/python3.9/site-packages/tensorflow/python/framework/func_graph.py\u001b[0m in \u001b[0;36mfunc_graph_from_py_func\u001b[0;34m(name, python_func, args, kwargs, signature, func_graph, autograph, autograph_options, add_control_dependencies, arg_names, op_return_value, collections, capture_by_value, override_flat_arg_shapes, acd_record_initial_resource_uses)\u001b[0m\n\u001b[1;32m   1005\u001b[0m         \u001b[0m_\u001b[0m\u001b[0;34m,\u001b[0m \u001b[0moriginal_func\u001b[0m \u001b[0;34m=\u001b[0m \u001b[0mtf_decorator\u001b[0m\u001b[0;34m.\u001b[0m\u001b[0munwrap\u001b[0m\u001b[0;34m(\u001b[0m\u001b[0mpython_func\u001b[0m\u001b[0;34m)\u001b[0m\u001b[0;34m\u001b[0m\u001b[0;34m\u001b[0m\u001b[0m\n\u001b[1;32m   1006\u001b[0m \u001b[0;34m\u001b[0m\u001b[0m\n\u001b[0;32m-> 1007\u001b[0;31m       \u001b[0mfunc_outputs\u001b[0m \u001b[0;34m=\u001b[0m \u001b[0mpython_func\u001b[0m\u001b[0;34m(\u001b[0m\u001b[0;34m*\u001b[0m\u001b[0mfunc_args\u001b[0m\u001b[0;34m,\u001b[0m \u001b[0;34m**\u001b[0m\u001b[0mfunc_kwargs\u001b[0m\u001b[0;34m)\u001b[0m\u001b[0;34m\u001b[0m\u001b[0;34m\u001b[0m\u001b[0m\n\u001b[0m\u001b[1;32m   1008\u001b[0m \u001b[0;34m\u001b[0m\u001b[0m\n\u001b[1;32m   1009\u001b[0m       \u001b[0;31m# invariant: `func_outputs` contains only Tensors, CompositeTensors,\u001b[0m\u001b[0;34m\u001b[0m\u001b[0;34m\u001b[0m\u001b[0m\n",
      "\u001b[0;32m~/miniconda3/envs/animal_movement/lib/python3.9/site-packages/tensorflow/python/eager/def_function.py\u001b[0m in \u001b[0;36mwrapped_fn\u001b[0;34m(*args, **kwds)\u001b[0m\n\u001b[1;32m    666\u001b[0m         \u001b[0;31m# the function a weak reference to itself to avoid a reference cycle.\u001b[0m\u001b[0;34m\u001b[0m\u001b[0;34m\u001b[0m\u001b[0m\n\u001b[1;32m    667\u001b[0m         \u001b[0;32mwith\u001b[0m \u001b[0mOptionalXlaContext\u001b[0m\u001b[0;34m(\u001b[0m\u001b[0mcompile_with_xla\u001b[0m\u001b[0;34m)\u001b[0m\u001b[0;34m:\u001b[0m\u001b[0;34m\u001b[0m\u001b[0;34m\u001b[0m\u001b[0m\n\u001b[0;32m--> 668\u001b[0;31m           \u001b[0mout\u001b[0m \u001b[0;34m=\u001b[0m \u001b[0mweak_wrapped_fn\u001b[0m\u001b[0;34m(\u001b[0m\u001b[0;34m)\u001b[0m\u001b[0;34m.\u001b[0m\u001b[0m__wrapped__\u001b[0m\u001b[0;34m(\u001b[0m\u001b[0;34m*\u001b[0m\u001b[0margs\u001b[0m\u001b[0;34m,\u001b[0m \u001b[0;34m**\u001b[0m\u001b[0mkwds\u001b[0m\u001b[0;34m)\u001b[0m\u001b[0;34m\u001b[0m\u001b[0;34m\u001b[0m\u001b[0m\n\u001b[0m\u001b[1;32m    669\u001b[0m         \u001b[0;32mreturn\u001b[0m \u001b[0mout\u001b[0m\u001b[0;34m\u001b[0m\u001b[0;34m\u001b[0m\u001b[0m\n\u001b[1;32m    670\u001b[0m \u001b[0;34m\u001b[0m\u001b[0m\n",
      "\u001b[0;32m~/miniconda3/envs/animal_movement/lib/python3.9/site-packages/tensorflow/python/framework/func_graph.py\u001b[0m in \u001b[0;36mwrapper\u001b[0;34m(*args, **kwargs)\u001b[0m\n\u001b[1;32m    992\u001b[0m           \u001b[0;32mexcept\u001b[0m \u001b[0mException\u001b[0m \u001b[0;32mas\u001b[0m \u001b[0me\u001b[0m\u001b[0;34m:\u001b[0m  \u001b[0;31m# pylint:disable=broad-except\u001b[0m\u001b[0;34m\u001b[0m\u001b[0;34m\u001b[0m\u001b[0m\n\u001b[1;32m    993\u001b[0m             \u001b[0;32mif\u001b[0m \u001b[0mhasattr\u001b[0m\u001b[0;34m(\u001b[0m\u001b[0me\u001b[0m\u001b[0;34m,\u001b[0m \u001b[0;34m\"ag_error_metadata\"\u001b[0m\u001b[0;34m)\u001b[0m\u001b[0;34m:\u001b[0m\u001b[0;34m\u001b[0m\u001b[0;34m\u001b[0m\u001b[0m\n\u001b[0;32m--> 994\u001b[0;31m               \u001b[0;32mraise\u001b[0m \u001b[0me\u001b[0m\u001b[0;34m.\u001b[0m\u001b[0mag_error_metadata\u001b[0m\u001b[0;34m.\u001b[0m\u001b[0mto_exception\u001b[0m\u001b[0;34m(\u001b[0m\u001b[0me\u001b[0m\u001b[0;34m)\u001b[0m\u001b[0;34m\u001b[0m\u001b[0;34m\u001b[0m\u001b[0m\n\u001b[0m\u001b[1;32m    995\u001b[0m             \u001b[0;32melse\u001b[0m\u001b[0;34m:\u001b[0m\u001b[0;34m\u001b[0m\u001b[0;34m\u001b[0m\u001b[0m\n\u001b[1;32m    996\u001b[0m               \u001b[0;32mraise\u001b[0m\u001b[0;34m\u001b[0m\u001b[0;34m\u001b[0m\u001b[0m\n",
      "\u001b[0;31mValueError\u001b[0m: in user code:\n\n    /home/silvia/miniconda3/envs/animal_movement/lib/python3.9/site-packages/keras/engine/training.py:1586 predict_function  *\n        return step_function(self, iterator)\n    /home/silvia/miniconda3/envs/animal_movement/lib/python3.9/site-packages/keras/engine/training.py:1576 step_function  **\n        outputs = model.distribute_strategy.run(run_step, args=(data,))\n    /home/silvia/miniconda3/envs/animal_movement/lib/python3.9/site-packages/tensorflow/python/distribute/distribute_lib.py:1286 run\n        return self._extended.call_for_each_replica(fn, args=args, kwargs=kwargs)\n    /home/silvia/miniconda3/envs/animal_movement/lib/python3.9/site-packages/tensorflow/python/distribute/distribute_lib.py:2849 call_for_each_replica\n        return self._call_for_each_replica(fn, args, kwargs)\n    /home/silvia/miniconda3/envs/animal_movement/lib/python3.9/site-packages/tensorflow/python/distribute/distribute_lib.py:3632 _call_for_each_replica\n        return fn(*args, **kwargs)\n    /home/silvia/miniconda3/envs/animal_movement/lib/python3.9/site-packages/keras/engine/training.py:1569 run_step  **\n        outputs = model.predict_step(data)\n    /home/silvia/miniconda3/envs/animal_movement/lib/python3.9/site-packages/keras/engine/training.py:1537 predict_step\n        return self(x, training=False)\n    /home/silvia/miniconda3/envs/animal_movement/lib/python3.9/site-packages/keras/engine/base_layer.py:1020 __call__\n        input_spec.assert_input_compatibility(self.input_spec, inputs, self.name)\n    /home/silvia/miniconda3/envs/animal_movement/lib/python3.9/site-packages/keras/engine/input_spec.py:214 assert_input_compatibility\n        raise ValueError('Input ' + str(input_index) + ' of layer ' +\n\n    ValueError: Input 0 of layer sequential is incompatible with the layer: expected ndim=3, found ndim=2. Full shape received: (None, 2)\n"
     ]
    }
   ],
   "source": [
    "n = 20\n",
    "points = np.array([test_df[:n]])[0]\n",
    "route_predict = pd.DataFrame()\n",
    "\n",
    "for i in points:\n",
    "    n = n+1\n",
    "print(n)\n",
    "print(points)\n",
    "r_predict=lstm_model.predict(points)\n",
    "route_predict = route_predict.append(r_predict)\n",
    "truth = test_df.iloc[n]\n",
    "print(truth)\n"
   ]
  },
  {
   "cell_type": "code",
   "execution_count": null,
   "id": "cf97e0ea",
   "metadata": {},
   "outputs": [],
   "source": []
  }
 ],
 "metadata": {
  "kernelspec": {
   "display_name": "Python 3 (ipykernel)",
   "language": "python",
   "name": "python3"
  },
  "language_info": {
   "codemirror_mode": {
    "name": "ipython",
    "version": 3
   },
   "file_extension": ".py",
   "mimetype": "text/x-python",
   "name": "python",
   "nbconvert_exporter": "python",
   "pygments_lexer": "ipython3",
   "version": "3.9.7"
  }
 },
 "nbformat": 4,
 "nbformat_minor": 5
}
