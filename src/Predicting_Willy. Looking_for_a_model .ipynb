{
 "cells": [
  {
   "cell_type": "code",
   "execution_count": 1,
   "id": "16469181",
   "metadata": {},
   "outputs": [
    {
     "name": "stderr",
     "output_type": "stream",
     "text": [
      "2021-10-21 13:47:08.557905: W tensorflow/stream_executor/platform/default/dso_loader.cc:64] Could not load dynamic library 'libcudart.so.11.0'; dlerror: libcudart.so.11.0: cannot open shared object file: No such file or directory\n",
      "2021-10-21 13:47:08.557945: I tensorflow/stream_executor/cuda/cudart_stub.cc:29] Ignore above cudart dlerror if you do not have a GPU set up on your machine.\n"
     ]
    }
   ],
   "source": [
    "import pandas as pd\n",
    "import glob\n",
    "import tensorflow as tf\n",
    "from tensorflow.data import Dataset\n",
    "from matplotlib import pyplot\n",
    "from tensorflow.keras.callbacks import TensorBoard\n",
    "import numpy as np"
   ]
  },
  {
   "cell_type": "code",
   "execution_count": 2,
   "id": "a1f6fe25",
   "metadata": {},
   "outputs": [],
   "source": [
    "df_23043 = pd.read_csv(\"../data/datasets_by_whale/1999CA-Bmu-23043.csv\")[[\"location-long\", \"location-lat\"]] \n",
    "#whale with largest route"
   ]
  },
  {
   "cell_type": "markdown",
   "id": "a6e897b6",
   "metadata": {},
   "source": [
    "### Split data for train and test "
   ]
  },
  {
   "cell_type": "code",
   "execution_count": 3,
   "id": "de2e8461",
   "metadata": {},
   "outputs": [],
   "source": [
    "def split_data(df):\n",
    "\n",
    "    n = len(df)\n",
    "    train_df = df[0:int(n*0.7)]\n",
    "    test_df = df[int(n*0.7):]\n",
    "\n",
    "    num_features = df.shape[1]\n",
    "    \n",
    "    return train_df,test_df"
   ]
  },
  {
   "cell_type": "code",
   "execution_count": 4,
   "id": "c1c92efa",
   "metadata": {},
   "outputs": [],
   "source": [
    "train_df,test_df = split_data(df_23043)"
   ]
  },
  {
   "cell_type": "markdown",
   "id": "7946c1c4",
   "metadata": {},
   "source": [
    "### Create data windows "
   ]
  },
  {
   "cell_type": "code",
   "execution_count": 5,
   "id": "33996eb8",
   "metadata": {},
   "outputs": [],
   "source": [
    "def data_windowing(train_df,test_df):\n",
    "    n_points = 20\n",
    "    window_length = n_points+ 1 \n",
    "    \n",
    "    window_train = tf.keras.utils.timeseries_dataset_from_array(\n",
    "    train_df, targets=None,sequence_length = window_length, sequence_stride=1, sampling_rate=1,\n",
    "    batch_size=32, shuffle=False, seed=None, start_index=None, end_index=None)\n",
    "\n",
    "    window_test = tf.keras.utils.timeseries_dataset_from_array(\n",
    "    test_df, targets=None,sequence_length = window_length, sequence_stride=1, sampling_rate=1,\n",
    "    batch_size=32, shuffle=False, seed=None, start_index=None, end_index=None)\n",
    "\n",
    "    return window_train, window_test"
   ]
  },
  {
   "cell_type": "code",
   "execution_count": 6,
   "id": "710bc036",
   "metadata": {},
   "outputs": [
    {
     "name": "stderr",
     "output_type": "stream",
     "text": [
      "2021-10-21 13:47:10.025304: W tensorflow/stream_executor/platform/default/dso_loader.cc:64] Could not load dynamic library 'libcuda.so.1'; dlerror: libcuda.so.1: cannot open shared object file: No such file or directory\n",
      "2021-10-21 13:47:10.025356: W tensorflow/stream_executor/cuda/cuda_driver.cc:269] failed call to cuInit: UNKNOWN ERROR (303)\n",
      "2021-10-21 13:47:10.025377: I tensorflow/stream_executor/cuda/cuda_diagnostics.cc:156] kernel driver does not appear to be running on this host (DESKTOP-R3AGIN3): /proc/driver/nvidia/version does not exist\n",
      "2021-10-21 13:47:10.025669: I tensorflow/core/platform/cpu_feature_guard.cc:142] This TensorFlow binary is optimized with oneAPI Deep Neural Network Library (oneDNN) to use the following CPU instructions in performance-critical operations:  AVX2 FMA\n",
      "To enable them in other operations, rebuild TensorFlow with the appropriate compiler flags.\n"
     ]
    }
   ],
   "source": [
    "window_train,window_test = data_windowing(train_df,test_df)"
   ]
  },
  {
   "cell_type": "markdown",
   "id": "e1e67a5f",
   "metadata": {},
   "source": [
    "### Splits windows in X,y"
   ]
  },
  {
   "cell_type": "code",
   "execution_count": 7,
   "id": "6de001cc",
   "metadata": {},
   "outputs": [],
   "source": [
    "def data_map(elem):\n",
    "    n_points = 20\n",
    "    window_length = n_points+ 1 \n",
    "    X,y = elem[:,:-1,:],elem[:,-1:,0:2] # X= features; y = labels(the next coordenate point)\n",
    "    X.set_shape([None, n_points, None])\n",
    "    y.set_shape([None, window_length - n_points, None])\n",
    "    \n",
    "    return (X,y)\n"
   ]
  },
  {
   "cell_type": "code",
   "execution_count": 8,
   "id": "adf303c5",
   "metadata": {},
   "outputs": [],
   "source": [
    "train = window_train.map(data_map)\n",
    "test = window_test.map(data_map)"
   ]
  },
  {
   "cell_type": "markdown",
   "id": "9910e548",
   "metadata": {},
   "source": [
    "### Trainning a neural network model"
   ]
  },
  {
   "cell_type": "code",
   "execution_count": 9,
   "id": "09b2fd88",
   "metadata": {},
   "outputs": [],
   "source": [
    "lstm_model = tf.keras.models.Sequential([\n",
    "    tf.keras.layers.LSTM(32, return_sequences=False),\n",
    "    tf.keras.layers.Dense(units=10),\n",
    "    tf.keras.layers.Dropout(rate=0.1),\n",
    "    tf.keras.layers.Dense(units=10),\n",
    "    tf.keras.layers.Dense(units=10),\n",
    "    tf.keras.layers.Dense(units=10),\n",
    "    tf.keras.layers.Dense(units=2)\n",
    "])"
   ]
  },
  {
   "cell_type": "code",
   "execution_count": 10,
   "id": "ecf320f2",
   "metadata": {},
   "outputs": [],
   "source": [
    "lstm_model.compile(loss=tf.losses.MeanSquaredError(),optimizer=tf.optimizers.Adam(learning_rate=0.0005),metrics=[tf.metrics.MeanAbsoluteError()])"
   ]
  },
  {
   "cell_type": "code",
   "execution_count": 11,
   "id": "06aef6dc",
   "metadata": {},
   "outputs": [
    {
     "name": "stderr",
     "output_type": "stream",
     "text": [
      "2021-10-21 13:47:11.338020: I tensorflow/core/profiler/lib/profiler_session.cc:131] Profiler session initializing.\n",
      "2021-10-21 13:47:11.338059: I tensorflow/core/profiler/lib/profiler_session.cc:146] Profiler session started.\n",
      "2021-10-21 13:47:11.338427: I tensorflow/core/profiler/lib/profiler_session.cc:164] Profiler session tear down.\n",
      "2021-10-21 13:47:11.369218: I tensorflow/compiler/mlir/mlir_graph_optimization_pass.cc:185] None of the MLIR Optimization Passes are enabled (registered 2)\n"
     ]
    },
    {
     "name": "stdout",
     "output_type": "stream",
     "text": [
      "Epoch 1/100\n",
      "7/9 [======================>.......] - ETA: 0s - loss: 7991.4702 - mean_absolute_error: 78.1370"
     ]
    },
    {
     "name": "stderr",
     "output_type": "stream",
     "text": [
      "2021-10-21 13:47:12.886031: I tensorflow/core/profiler/lib/profiler_session.cc:131] Profiler session initializing.\n",
      "2021-10-21 13:47:12.886077: I tensorflow/core/profiler/lib/profiler_session.cc:146] Profiler session started.\n",
      "2021-10-21 13:47:12.903766: I tensorflow/core/profiler/lib/profiler_session.cc:66] Profiler session collecting data.\n",
      "2021-10-21 13:47:12.910513: I tensorflow/core/profiler/lib/profiler_session.cc:164] Profiler session tear down.\n",
      "2021-10-21 13:47:12.940561: I tensorflow/core/profiler/rpc/client/save_profile.cc:136] Creating directory: ./logs/train/plugins/profile/2021_10_21_13_47_12\n",
      "\n",
      "2021-10-21 13:47:12.954828: I tensorflow/core/profiler/rpc/client/save_profile.cc:142] Dumped gzipped tool data for trace.json.gz to ./logs/train/plugins/profile/2021_10_21_13_47_12/DESKTOP-R3AGIN3.trace.json.gz\n",
      "2021-10-21 13:47:12.967030: I tensorflow/core/profiler/rpc/client/save_profile.cc:136] Creating directory: ./logs/train/plugins/profile/2021_10_21_13_47_12\n",
      "\n",
      "2021-10-21 13:47:12.969685: I tensorflow/core/profiler/rpc/client/save_profile.cc:142] Dumped gzipped tool data for memory_profile.json.gz to ./logs/train/plugins/profile/2021_10_21_13_47_12/DESKTOP-R3AGIN3.memory_profile.json.gz\n",
      "2021-10-21 13:47:12.983183: I tensorflow/core/profiler/rpc/client/capture_profile.cc:251] Creating directory: ./logs/train/plugins/profile/2021_10_21_13_47_12\n",
      "Dumped tool data for xplane.pb to ./logs/train/plugins/profile/2021_10_21_13_47_12/DESKTOP-R3AGIN3.xplane.pb\n",
      "Dumped tool data for overview_page.pb to ./logs/train/plugins/profile/2021_10_21_13_47_12/DESKTOP-R3AGIN3.overview_page.pb\n",
      "Dumped tool data for input_pipeline.pb to ./logs/train/plugins/profile/2021_10_21_13_47_12/DESKTOP-R3AGIN3.input_pipeline.pb\n",
      "Dumped tool data for tensorflow_stats.pb to ./logs/train/plugins/profile/2021_10_21_13_47_12/DESKTOP-R3AGIN3.tensorflow_stats.pb\n",
      "Dumped tool data for kernel_stats.pb to ./logs/train/plugins/profile/2021_10_21_13_47_12/DESKTOP-R3AGIN3.kernel_stats.pb\n",
      "\n"
     ]
    },
    {
     "name": "stdout",
     "output_type": "stream",
     "text": [
      "9/9 [==============================] - 2s 74ms/step - loss: 8051.4165 - mean_absolute_error: 78.4986 - val_loss: 7460.3296 - val_mean_absolute_error: 73.6283\n",
      "Epoch 2/100\n",
      "9/9 [==============================] - 0s 17ms/step - loss: 7981.5547 - mean_absolute_error: 78.0798 - val_loss: 7404.8413 - val_mean_absolute_error: 73.2384\n",
      "Epoch 3/100\n",
      "9/9 [==============================] - 0s 17ms/step - loss: 7915.1221 - mean_absolute_error: 77.6556 - val_loss: 7348.0977 - val_mean_absolute_error: 72.8183\n",
      "Epoch 4/100\n",
      "9/9 [==============================] - 0s 16ms/step - loss: 7847.2900 - mean_absolute_error: 77.2029 - val_loss: 7284.4609 - val_mean_absolute_error: 72.3456\n",
      "Epoch 5/100\n",
      "9/9 [==============================] - 0s 16ms/step - loss: 7773.4658 - mean_absolute_error: 76.7074 - val_loss: 7210.5254 - val_mean_absolute_error: 71.8052\n",
      "Epoch 6/100\n",
      "9/9 [==============================] - 0s 16ms/step - loss: 7682.6167 - mean_absolute_error: 76.1020 - val_loss: 7121.1299 - val_mean_absolute_error: 71.1525\n",
      "Epoch 7/100\n",
      "9/9 [==============================] - 0s 17ms/step - loss: 7571.7031 - mean_absolute_error: 75.3761 - val_loss: 7004.3359 - val_mean_absolute_error: 70.2912\n",
      "Epoch 8/100\n",
      "9/9 [==============================] - 0s 16ms/step - loss: 7412.7090 - mean_absolute_error: 74.3039 - val_loss: 6836.2554 - val_mean_absolute_error: 69.0604\n",
      "Epoch 9/100\n",
      "9/9 [==============================] - 0s 17ms/step - loss: 7180.8037 - mean_absolute_error: 72.7082 - val_loss: 6595.5352 - val_mean_absolute_error: 67.2425\n",
      "Epoch 10/100\n",
      "9/9 [==============================] - 0s 16ms/step - loss: 6874.9600 - mean_absolute_error: 70.5496 - val_loss: 6272.0903 - val_mean_absolute_error: 64.7040\n",
      "Epoch 11/100\n",
      "9/9 [==============================] - 0s 16ms/step - loss: 6468.0415 - mean_absolute_error: 67.5330 - val_loss: 5784.2344 - val_mean_absolute_error: 60.7238\n",
      "Epoch 12/100\n",
      "9/9 [==============================] - 0s 19ms/step - loss: 5838.9907 - mean_absolute_error: 62.6726 - val_loss: 5101.7993 - val_mean_absolute_error: 54.9995\n",
      "Epoch 13/100\n",
      "9/9 [==============================] - 0s 16ms/step - loss: 5024.0962 - mean_absolute_error: 56.1181 - val_loss: 4299.7695 - val_mean_absolute_error: 48.5858\n",
      "Epoch 14/100\n",
      "9/9 [==============================] - 0s 16ms/step - loss: 4155.6787 - mean_absolute_error: 48.2442 - val_loss: 3482.2065 - val_mean_absolute_error: 44.0108\n",
      "Epoch 15/100\n",
      "9/9 [==============================] - 0s 16ms/step - loss: 3276.8323 - mean_absolute_error: 42.4174 - val_loss: 2769.8438 - val_mean_absolute_error: 41.3997\n",
      "Epoch 16/100\n",
      "9/9 [==============================] - 0s 16ms/step - loss: 2575.7856 - mean_absolute_error: 39.5191 - val_loss: 2109.6526 - val_mean_absolute_error: 38.8042\n",
      "Epoch 17/100\n",
      "9/9 [==============================] - 0s 16ms/step - loss: 1939.6255 - mean_absolute_error: 36.3011 - val_loss: 1536.6869 - val_mean_absolute_error: 35.1448\n",
      "Epoch 18/100\n",
      "9/9 [==============================] - 0s 16ms/step - loss: 1356.9199 - mean_absolute_error: 32.1202 - val_loss: 1046.7562 - val_mean_absolute_error: 30.3177\n",
      "Epoch 19/100\n",
      "9/9 [==============================] - 0s 15ms/step - loss: 863.7875 - mean_absolute_error: 26.4251 - val_loss: 628.2234 - val_mean_absolute_error: 24.0182\n",
      "Epoch 20/100\n",
      "9/9 [==============================] - 0s 16ms/step - loss: 523.7137 - mean_absolute_error: 20.3048 - val_loss: 366.8020 - val_mean_absolute_error: 17.8062\n",
      "Epoch 21/100\n",
      "9/9 [==============================] - 0s 16ms/step - loss: 308.8202 - mean_absolute_error: 14.1663 - val_loss: 204.2603 - val_mean_absolute_error: 12.2001\n",
      "Epoch 22/100\n",
      "9/9 [==============================] - 0s 17ms/step - loss: 185.1063 - mean_absolute_error: 10.7633 - val_loss: 109.2061 - val_mean_absolute_error: 8.0199\n",
      "Epoch 23/100\n",
      "9/9 [==============================] - 0s 17ms/step - loss: 129.6495 - mean_absolute_error: 8.7735 - val_loss: 61.5354 - val_mean_absolute_error: 5.6395\n",
      "Epoch 24/100\n",
      "9/9 [==============================] - 0s 16ms/step - loss: 101.1640 - mean_absolute_error: 7.5659 - val_loss: 43.7639 - val_mean_absolute_error: 4.9378\n",
      "Epoch 25/100\n",
      "9/9 [==============================] - 0s 16ms/step - loss: 118.6611 - mean_absolute_error: 7.7536 - val_loss: 39.1154 - val_mean_absolute_error: 4.7412\n",
      "Epoch 26/100\n",
      "9/9 [==============================] - 0s 17ms/step - loss: 124.6376 - mean_absolute_error: 8.0460 - val_loss: 39.6322 - val_mean_absolute_error: 4.7870\n",
      "Epoch 27/100\n",
      "9/9 [==============================] - 0s 16ms/step - loss: 104.6052 - mean_absolute_error: 7.3987 - val_loss: 40.8238 - val_mean_absolute_error: 4.8298\n",
      "Epoch 28/100\n",
      "9/9 [==============================] - 0s 16ms/step - loss: 121.6169 - mean_absolute_error: 8.0072 - val_loss: 43.0293 - val_mean_absolute_error: 4.9277\n",
      "Epoch 29/100\n",
      "9/9 [==============================] - 0s 16ms/step - loss: 133.2377 - mean_absolute_error: 8.1471 - val_loss: 44.6925 - val_mean_absolute_error: 4.9988\n"
     ]
    }
   ],
   "source": [
    "early_stopping = tf.keras.callbacks.EarlyStopping(monitor='loss',\n",
    "                                                patience=5,\n",
    "                                                mode='min')\n",
    "\n",
    "tensorboard_callback = TensorBoard(log_dir=\"./logs\", histogram_freq=2)\n",
    "\n",
    "history = lstm_model.fit(train, epochs=100,\n",
    "                         validation_data=test,\n",
    "                         callbacks=[early_stopping, tensorboard_callback])\n"
   ]
  },
  {
   "cell_type": "code",
   "execution_count": 12,
   "id": "70bac8e2",
   "metadata": {},
   "outputs": [
    {
     "data": {
      "image/png": "[encoded data removed]",
      "text/plain": [
       "<Figure size 576x576 with 1 Axes>"
      ]
     },
     "metadata": {
      "needs_background": "light"
     },
     "output_type": "display_data"
    }
   ],
   "source": [
    "pyplot.figure(figsize=(8,8))\n",
    "pyplot.title('Loss / Mean Squared Error')\n",
    "pyplot.plot(history.history['loss'], label='train')\n",
    "pyplot.plot(history.history['val_loss'], label='test')\n",
    "pyplot.legend()\n",
    "pyplot.show()"
   ]
  },
  {
   "cell_type": "code",
   "execution_count": 13,
   "id": "64856d96",
   "metadata": {},
   "outputs": [
    {
     "data": {
      "text/html": [
       "<div>\n",
       "<style scoped>\n",
       "    .dataframe tbody tr th:only-of-type {\n",
       "        vertical-align: middle;\n",
       "    }\n",
       "\n",
       "    .dataframe tbody tr th {\n",
       "        vertical-align: top;\n",
       "    }\n",
       "\n",
       "    .dataframe thead th {\n",
       "        text-align: right;\n",
       "    }\n",
       "</style>\n",
       "<table border=\"1\" class=\"dataframe\">\n",
       "  <thead>\n",
       "    <tr style=\"text-align: right;\">\n",
       "      <th></th>\n",
       "      <th>location-long</th>\n",
       "      <th>location-lat</th>\n",
       "    </tr>\n",
       "  </thead>\n",
       "  <tbody>\n",
       "    <tr>\n",
       "      <th>290</th>\n",
       "      <td>-123.140</td>\n",
       "      <td>37.667</td>\n",
       "    </tr>\n",
       "    <tr>\n",
       "      <th>291</th>\n",
       "      <td>-122.513</td>\n",
       "      <td>37.741</td>\n",
       "    </tr>\n",
       "    <tr>\n",
       "      <th>292</th>\n",
       "      <td>-123.055</td>\n",
       "      <td>37.716</td>\n",
       "    </tr>\n",
       "    <tr>\n",
       "      <th>293</th>\n",
       "      <td>-123.105</td>\n",
       "      <td>37.725</td>\n",
       "    </tr>\n",
       "    <tr>\n",
       "      <th>294</th>\n",
       "      <td>-123.265</td>\n",
       "      <td>37.712</td>\n",
       "    </tr>\n",
       "    <tr>\n",
       "      <th>295</th>\n",
       "      <td>-123.220</td>\n",
       "      <td>37.522</td>\n",
       "    </tr>\n",
       "    <tr>\n",
       "      <th>296</th>\n",
       "      <td>-123.032</td>\n",
       "      <td>37.607</td>\n",
       "    </tr>\n",
       "    <tr>\n",
       "      <th>297</th>\n",
       "      <td>-123.182</td>\n",
       "      <td>37.659</td>\n",
       "    </tr>\n",
       "    <tr>\n",
       "      <th>298</th>\n",
       "      <td>-122.890</td>\n",
       "      <td>37.546</td>\n",
       "    </tr>\n",
       "    <tr>\n",
       "      <th>299</th>\n",
       "      <td>-122.928</td>\n",
       "      <td>37.625</td>\n",
       "    </tr>\n",
       "    <tr>\n",
       "      <th>300</th>\n",
       "      <td>-122.907</td>\n",
       "      <td>37.781</td>\n",
       "    </tr>\n",
       "    <tr>\n",
       "      <th>301</th>\n",
       "      <td>-123.129</td>\n",
       "      <td>37.588</td>\n",
       "    </tr>\n",
       "    <tr>\n",
       "      <th>302</th>\n",
       "      <td>-122.951</td>\n",
       "      <td>37.591</td>\n",
       "    </tr>\n",
       "    <tr>\n",
       "      <th>303</th>\n",
       "      <td>-123.081</td>\n",
       "      <td>37.509</td>\n",
       "    </tr>\n",
       "    <tr>\n",
       "      <th>304</th>\n",
       "      <td>-123.017</td>\n",
       "      <td>37.495</td>\n",
       "    </tr>\n",
       "    <tr>\n",
       "      <th>305</th>\n",
       "      <td>-123.080</td>\n",
       "      <td>37.577</td>\n",
       "    </tr>\n",
       "    <tr>\n",
       "      <th>306</th>\n",
       "      <td>-122.968</td>\n",
       "      <td>37.511</td>\n",
       "    </tr>\n",
       "    <tr>\n",
       "      <th>307</th>\n",
       "      <td>-123.381</td>\n",
       "      <td>37.576</td>\n",
       "    </tr>\n",
       "    <tr>\n",
       "      <th>308</th>\n",
       "      <td>-122.904</td>\n",
       "      <td>37.427</td>\n",
       "    </tr>\n",
       "    <tr>\n",
       "      <th>309</th>\n",
       "      <td>-123.132</td>\n",
       "      <td>37.471</td>\n",
       "    </tr>\n",
       "    <tr>\n",
       "      <th>310</th>\n",
       "      <td>-122.878</td>\n",
       "      <td>37.589</td>\n",
       "    </tr>\n",
       "  </tbody>\n",
       "</table>\n",
       "</div>"
      ],
      "text/plain": [
       "     location-long  location-lat\n",
       "290       -123.140        37.667\n",
       "291       -122.513        37.741\n",
       "292       -123.055        37.716\n",
       "293       -123.105        37.725\n",
       "294       -123.265        37.712\n",
       "295       -123.220        37.522\n",
       "296       -123.032        37.607\n",
       "297       -123.182        37.659\n",
       "298       -122.890        37.546\n",
       "299       -122.928        37.625\n",
       "300       -122.907        37.781\n",
       "301       -123.129        37.588\n",
       "302       -122.951        37.591\n",
       "303       -123.081        37.509\n",
       "304       -123.017        37.495\n",
       "305       -123.080        37.577\n",
       "306       -122.968        37.511\n",
       "307       -123.381        37.576\n",
       "308       -122.904        37.427\n",
       "309       -123.132        37.471\n",
       "310       -122.878        37.589"
      ]
     },
     "execution_count": 13,
     "metadata": {},
     "output_type": "execute_result"
    }
   ],
   "source": [
    "test_df[:21]"
   ]
  },
  {
   "cell_type": "code",
   "execution_count": 14,
   "id": "90c02c35",
   "metadata": {},
   "outputs": [
    {
     "data": {
      "text/plain": [
       "(1, 20, 2)"
      ]
     },
     "execution_count": 14,
     "metadata": {},
     "output_type": "execute_result"
    }
   ],
   "source": [
    "np.array([list(test.take(1).as_numpy_iterator())[0][0][0]]).shape"
   ]
  },
  {
   "cell_type": "code",
   "execution_count": 15,
   "id": "7a3fe791",
   "metadata": {},
   "outputs": [
    {
     "data": {
      "text/plain": [
       "(None, 20, 2)"
      ]
     },
     "execution_count": 15,
     "metadata": {},
     "output_type": "execute_result"
    }
   ],
   "source": [
    "lstm_model.layers[0].input_shape"
   ]
  },
  {
   "cell_type": "code",
   "execution_count": 16,
   "id": "b3f8bc81",
   "metadata": {},
   "outputs": [],
   "source": [
    "y_pred = lstm_model.predict(np.array([test_df[:20]]))[0]"
   ]
  },
  {
   "cell_type": "code",
   "execution_count": 17,
   "id": "dcd85e82",
   "metadata": {},
   "outputs": [
    {
     "data": {
      "text/plain": [
       "array([-119.71365 ,   34.967392], dtype=float32)"
      ]
     },
     "execution_count": 17,
     "metadata": {},
     "output_type": "execute_result"
    }
   ],
   "source": [
    "y_pred"
   ]
  },
  {
   "cell_type": "code",
   "execution_count": 18,
   "id": "3882a2cb",
   "metadata": {},
   "outputs": [
    {
     "data": {
      "text/plain": [
       "location-long   -123.031\n",
       "location-lat      37.511\n",
       "Name: 311, dtype: float64"
      ]
     },
     "execution_count": 18,
     "metadata": {},
     "output_type": "execute_result"
    }
   ],
   "source": [
    "test_df.iloc[21]"
   ]
  },
  {
   "cell_type": "code",
   "execution_count": 19,
   "id": "13a5aca1",
   "metadata": {},
   "outputs": [
    {
     "data": {
      "image/png": "[encoded data removed]",
      "text/plain": [
       "<Figure size 360x360 with 1 Axes>"
      ]
     },
     "metadata": {
      "needs_background": "light"
     },
     "output_type": "display_data"
    }
   ],
   "source": [
    "pyplot.figure(figsize=(5,5))\n",
    "pyplot.plot(test_df[:20][\"location-long\"], test_df[:20][\"location-lat\"], label='true')\n",
    "pyplot.scatter(y_pred[0], y_pred[1],  c=\"red\", label='pred')\n",
    "pyplot.scatter(test_df.iloc[21][0], test_df.iloc[21][1],  c=\"green\", label='pred')\n",
    "pyplot.legend()\n",
    "pyplot.show()"
   ]
  },
  {
   "cell_type": "code",
   "execution_count": null,
   "id": "930a2eee",
   "metadata": {},
   "outputs": [],
   "source": []
  }
 ],
 "metadata": {
  "kernelspec": {
   "display_name": "Python 3 (ipykernel)",
   "language": "python",
   "name": "python3"
  },
  "language_info": {
   "codemirror_mode": {
    "name": "ipython",
    "version": 3
   },
   "file_extension": ".py",
   "mimetype": "text/x-python",
   "name": "python",
   "nbconvert_exporter": "python",
   "pygments_lexer": "ipython3",
   "version": "3.9.7"
  }
 },
 "nbformat": 4,
 "nbformat_minor": 5
}
