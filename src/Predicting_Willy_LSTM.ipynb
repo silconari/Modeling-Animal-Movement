{
 "cells": [
  {
   "cell_type": "code",
   "execution_count": 2,
   "id": "16469181",
   "metadata": {},
   "outputs": [
    {
     "name": "stderr",
     "output_type": "stream",
     "text": [
      "2021-10-26 19:39:24.348713: W tensorflow/stream_executor/platform/default/dso_loader.cc:64] Could not load dynamic library 'libcudart.so.11.0'; dlerror: libcudart.so.11.0: cannot open shared object file: No such file or directory\n",
      "2021-10-26 19:39:24.349925: I tensorflow/stream_executor/cuda/cudart_stub.cc:29] Ignore above cudart dlerror if you do not have a GPU set up on your machine.\n"
     ]
    }
   ],
   "source": [
    "import pandas as pd\n",
    "import glob\n",
    "import tensorflow as tf\n",
    "from tensorflow.data import Dataset\n",
    "from matplotlib import pyplot\n",
    "from tensorflow.keras.callbacks import TensorBoard\n",
    "import numpy as np"
   ]
  },
  {
   "cell_type": "code",
   "execution_count": 3,
   "id": "a1f6fe25",
   "metadata": {},
   "outputs": [],
   "source": [
    "df_23043 = pd.read_csv(\"../data/datasets_by_whale/1999CA-Bmu-23043.csv\")[[\"location-long\", \"location-lat\"]] \n",
    "#whale with largest route"
   ]
  },
  {
   "cell_type": "markdown",
   "id": "a6e897b6",
   "metadata": {},
   "source": [
    "### Split data for train and test "
   ]
  },
  {
   "cell_type": "code",
   "execution_count": 4,
   "id": "de2e8461",
   "metadata": {},
   "outputs": [],
   "source": [
    "def split_data(df):\n",
    "\n",
    "    n = len(df)\n",
    "    train_df = df[0:int(n*0.7)]\n",
    "    test_df = df[int(n*0.7):]\n",
    "\n",
    "    num_features = df.shape[1]\n",
    "    \n",
    "    return train_df,test_df"
   ]
  },
  {
   "cell_type": "code",
   "execution_count": 5,
   "id": "c1c92efa",
   "metadata": {},
   "outputs": [],
   "source": [
    "train_df,test_df = split_data(df_23043)"
   ]
  },
  {
   "cell_type": "markdown",
   "id": "7946c1c4",
   "metadata": {},
   "source": [
    "### Create data windows "
   ]
  },
  {
   "cell_type": "code",
   "execution_count": 6,
   "id": "33996eb8",
   "metadata": {},
   "outputs": [],
   "source": [
    "def data_windowing(train_df,test_df):\n",
    "    n_points = 20\n",
    "    window_length = n_points+ 1 \n",
    "    \n",
    "    window_train = tf.keras.utils.timeseries_dataset_from_array(\n",
    "    train_df, targets=None,sequence_length = window_length, sequence_stride=1, sampling_rate=1,\n",
    "    batch_size=32, shuffle=False, seed=None, start_index=None, end_index=None)\n",
    "\n",
    "    window_test = tf.keras.utils.timeseries_dataset_from_array(\n",
    "    test_df, targets=None,sequence_length = window_length, sequence_stride=1, sampling_rate=1,\n",
    "    batch_size=32, shuffle=False, seed=None, start_index=None, end_index=None)\n",
    "\n",
    "    return window_train, window_test"
   ]
  },
  {
   "cell_type": "code",
   "execution_count": 7,
   "id": "710bc036",
   "metadata": {},
   "outputs": [
    {
     "name": "stderr",
     "output_type": "stream",
     "text": [
      "2021-10-26 19:39:29.657619: W tensorflow/stream_executor/platform/default/dso_loader.cc:64] Could not load dynamic library 'libcuda.so.1'; dlerror: libcuda.so.1: cannot open shared object file: No such file or directory\n",
      "2021-10-26 19:39:29.657689: W tensorflow/stream_executor/cuda/cuda_driver.cc:269] failed call to cuInit: UNKNOWN ERROR (303)\n",
      "2021-10-26 19:39:29.658160: I tensorflow/stream_executor/cuda/cuda_diagnostics.cc:156] kernel driver does not appear to be running on this host (DESKTOP-R3AGIN3): /proc/driver/nvidia/version does not exist\n",
      "2021-10-26 19:39:29.661345: I tensorflow/core/platform/cpu_feature_guard.cc:142] This TensorFlow binary is optimized with oneAPI Deep Neural Network Library (oneDNN) to use the following CPU instructions in performance-critical operations:  AVX2 FMA\n",
      "To enable them in other operations, rebuild TensorFlow with the appropriate compiler flags.\n"
     ]
    }
   ],
   "source": [
    "window_train,window_test = data_windowing(train_df,test_df)"
   ]
  },
  {
   "cell_type": "markdown",
   "id": "e1e67a5f",
   "metadata": {},
   "source": [
    "### Splits windows in X,y"
   ]
  },
  {
   "cell_type": "code",
   "execution_count": 8,
   "id": "6de001cc",
   "metadata": {},
   "outputs": [],
   "source": [
    "def data_map(elem):\n",
    "    n_points = 20\n",
    "    window_length = n_points+ 1 \n",
    "    X,y = elem[:,:-1,:],elem[:,-1:,0:2] # X= features; y = labels(the next coordenate point)\n",
    "    X.set_shape([None, n_points, None])\n",
    "    y.set_shape([None, window_length - n_points, None])\n",
    "    \n",
    "    return (X,y)\n"
   ]
  },
  {
   "cell_type": "code",
   "execution_count": 9,
   "id": "adf303c5",
   "metadata": {},
   "outputs": [],
   "source": [
    "train = window_train.map(data_map)\n",
    "test = window_test.map(data_map)"
   ]
  },
  {
   "cell_type": "markdown",
   "id": "9910e548",
   "metadata": {},
   "source": [
    "### Trainning a neural network model"
   ]
  },
  {
   "cell_type": "code",
   "execution_count": 10,
   "id": "09b2fd88",
   "metadata": {},
   "outputs": [],
   "source": [
    "lstm_model = tf.keras.models.Sequential([\n",
    "    tf.keras.layers.LSTM(32, return_sequences=False),\n",
    "    tf.keras.layers.Dense(units=10),\n",
    "    tf.keras.layers.Dropout(rate=0.1),\n",
    "    tf.keras.layers.Dense(units=10),\n",
    "    tf.keras.layers.Dense(units=10),\n",
    "    tf.keras.layers.Dense(units=10),\n",
    "    tf.keras.layers.Dense(units=2)\n",
    "])"
   ]
  },
  {
   "cell_type": "code",
   "execution_count": 11,
   "id": "ecf320f2",
   "metadata": {},
   "outputs": [],
   "source": [
    "lstm_model.compile(loss=tf.losses.MeanSquaredError(),optimizer=tf.optimizers.Adam(learning_rate=0.0005),metrics=[tf.metrics.MeanAbsoluteError()])"
   ]
  },
  {
   "cell_type": "code",
   "execution_count": 12,
   "id": "06aef6dc",
   "metadata": {},
   "outputs": [
    {
     "name": "stderr",
     "output_type": "stream",
     "text": [
      "2021-10-26 19:39:31.644651: I tensorflow/core/profiler/lib/profiler_session.cc:131] Profiler session initializing.\n",
      "2021-10-26 19:39:31.644693: I tensorflow/core/profiler/lib/profiler_session.cc:146] Profiler session started.\n",
      "2021-10-26 19:39:31.647852: I tensorflow/core/profiler/lib/profiler_session.cc:164] Profiler session tear down.\n",
      "2021-10-26 19:39:31.709897: I tensorflow/compiler/mlir/mlir_graph_optimization_pass.cc:185] None of the MLIR Optimization Passes are enabled (registered 2)\n"
     ]
    },
    {
     "name": "stdout",
     "output_type": "stream",
     "text": [
      "Epoch 1/100\n",
      "6/9 [===================>..........] - ETA: 0s - loss: 7769.2056 - mean_absolute_error: 77.4447"
     ]
    },
    {
     "name": "stderr",
     "output_type": "stream",
     "text": [
      "2021-10-26 19:39:33.353145: I tensorflow/core/profiler/lib/profiler_session.cc:131] Profiler session initializing.\n",
      "2021-10-26 19:39:33.353193: I tensorflow/core/profiler/lib/profiler_session.cc:146] Profiler session started.\n",
      "2021-10-26 19:39:33.371320: I tensorflow/core/profiler/lib/profiler_session.cc:66] Profiler session collecting data.\n",
      "2021-10-26 19:39:33.380114: I tensorflow/core/profiler/lib/profiler_session.cc:164] Profiler session tear down.\n",
      "2021-10-26 19:39:33.421588: I tensorflow/core/profiler/rpc/client/save_profile.cc:136] Creating directory: ./logs/train/plugins/profile/2021_10_26_19_39_33\n",
      "\n",
      "2021-10-26 19:39:33.436709: I tensorflow/core/profiler/rpc/client/save_profile.cc:142] Dumped gzipped tool data for trace.json.gz to ./logs/train/plugins/profile/2021_10_26_19_39_33/DESKTOP-R3AGIN3.trace.json.gz\n",
      "2021-10-26 19:39:33.457922: I tensorflow/core/profiler/rpc/client/save_profile.cc:136] Creating directory: ./logs/train/plugins/profile/2021_10_26_19_39_33\n",
      "\n",
      "2021-10-26 19:39:33.461290: I tensorflow/core/profiler/rpc/client/save_profile.cc:142] Dumped gzipped tool data for memory_profile.json.gz to ./logs/train/plugins/profile/2021_10_26_19_39_33/DESKTOP-R3AGIN3.memory_profile.json.gz\n",
      "2021-10-26 19:39:33.478775: I tensorflow/core/profiler/rpc/client/capture_profile.cc:251] Creating directory: ./logs/train/plugins/profile/2021_10_26_19_39_33\n",
      "Dumped tool data for xplane.pb to ./logs/train/plugins/profile/2021_10_26_19_39_33/DESKTOP-R3AGIN3.xplane.pb\n",
      "Dumped tool data for overview_page.pb to ./logs/train/plugins/profile/2021_10_26_19_39_33/DESKTOP-R3AGIN3.overview_page.pb\n",
      "Dumped tool data for input_pipeline.pb to ./logs/train/plugins/profile/2021_10_26_19_39_33/DESKTOP-R3AGIN3.input_pipeline.pb\n",
      "Dumped tool data for tensorflow_stats.pb to ./logs/train/plugins/profile/2021_10_26_19_39_33/DESKTOP-R3AGIN3.tensorflow_stats.pb\n",
      "Dumped tool data for kernel_stats.pb to ./logs/train/plugins/profile/2021_10_26_19_39_33/DESKTOP-R3AGIN3.kernel_stats.pb\n",
      "\n"
     ]
    },
    {
     "name": "stdout",
     "output_type": "stream",
     "text": [
      "9/9 [==============================] - 2s 79ms/step - loss: 7854.1509 - mean_absolute_error: 77.9715 - val_loss: 7266.6812 - val_mean_absolute_error: 73.2479\n",
      "Epoch 2/100\n",
      "9/9 [==============================] - 0s 20ms/step - loss: 7787.9834 - mean_absolute_error: 77.8290 - val_loss: 7193.4189 - val_mean_absolute_error: 73.0820\n",
      "Epoch 3/100\n",
      "9/9 [==============================] - 0s 25ms/step - loss: 7706.1304 - mean_absolute_error: 77.6378 - val_loss: 7097.4028 - val_mean_absolute_error: 72.8514\n",
      "Epoch 4/100\n",
      "9/9 [==============================] - 0s 22ms/step - loss: 7597.9082 - mean_absolute_error: 77.3701 - val_loss: 6970.7021 - val_mean_absolute_error: 72.5266\n",
      "Epoch 5/100\n",
      "9/9 [==============================] - 0s 18ms/step - loss: 7463.0186 - mean_absolute_error: 77.0108 - val_loss: 6807.6001 - val_mean_absolute_error: 72.0782\n",
      "Epoch 6/100\n",
      "9/9 [==============================] - 0s 18ms/step - loss: 7280.8154 - mean_absolute_error: 76.4969 - val_loss: 6607.3359 - val_mean_absolute_error: 71.4874\n",
      "Epoch 7/100\n",
      "9/9 [==============================] - 0s 17ms/step - loss: 7066.9585 - mean_absolute_error: 75.8582 - val_loss: 6373.8423 - val_mean_absolute_error: 70.7556\n",
      "Epoch 8/100\n",
      "9/9 [==============================] - 0s 17ms/step - loss: 6798.4966 - mean_absolute_error: 75.0037 - val_loss: 6084.9175 - val_mean_absolute_error: 69.7960\n",
      "Epoch 9/100\n",
      "9/9 [==============================] - 0s 23ms/step - loss: 6506.1670 - mean_absolute_error: 73.9947 - val_loss: 5693.9478 - val_mean_absolute_error: 68.4174\n",
      "Epoch 10/100\n",
      "9/9 [==============================] - 0s 26ms/step - loss: 6102.8696 - mean_absolute_error: 72.5371 - val_loss: 5153.3638 - val_mean_absolute_error: 66.3126\n",
      "Epoch 11/100\n",
      "9/9 [==============================] - 0s 28ms/step - loss: 5470.5645 - mean_absolute_error: 69.9784 - val_loss: 4573.8193 - val_mean_absolute_error: 63.6903\n",
      "Epoch 12/100\n",
      "9/9 [==============================] - 0s 21ms/step - loss: 4861.2144 - mean_absolute_error: 67.1309 - val_loss: 4001.1011 - val_mean_absolute_error: 60.6649\n",
      "Epoch 13/100\n",
      "9/9 [==============================] - 0s 18ms/step - loss: 4173.7480 - mean_absolute_error: 63.3429 - val_loss: 3282.9202 - val_mean_absolute_error: 56.1234\n",
      "Epoch 14/100\n",
      "9/9 [==============================] - 0s 25ms/step - loss: 3452.5176 - mean_absolute_error: 58.3790 - val_loss: 2661.5491 - val_mean_absolute_error: 51.1957\n",
      "Epoch 15/100\n",
      "9/9 [==============================] - 0s 22ms/step - loss: 2916.6580 - mean_absolute_error: 53.6255 - val_loss: 2148.0752 - val_mean_absolute_error: 45.8763\n",
      "Epoch 16/100\n",
      "9/9 [==============================] - 0s 22ms/step - loss: 2384.9216 - mean_absolute_error: 47.6388 - val_loss: 1724.5525 - val_mean_absolute_error: 40.1452\n",
      "Epoch 17/100\n",
      "9/9 [==============================] - 0s 21ms/step - loss: 2030.8625 - mean_absolute_error: 42.4321 - val_loss: 1393.0585 - val_mean_absolute_error: 34.4922\n",
      "Epoch 18/100\n",
      "9/9 [==============================] - 0s 31ms/step - loss: 1670.7061 - mean_absolute_error: 36.5866 - val_loss: 1136.5734 - val_mean_absolute_error: 29.7477\n",
      "Epoch 19/100\n",
      "9/9 [==============================] - 0s 34ms/step - loss: 1416.9366 - mean_absolute_error: 31.9720 - val_loss: 908.4140 - val_mean_absolute_error: 24.9540\n",
      "Epoch 20/100\n",
      "9/9 [==============================] - 0s 43ms/step - loss: 1171.7555 - mean_absolute_error: 28.5361 - val_loss: 710.9960 - val_mean_absolute_error: 20.6056\n",
      "Epoch 21/100\n",
      "9/9 [==============================] - 0s 44ms/step - loss: 940.2913 - mean_absolute_error: 25.8205 - val_loss: 540.2346 - val_mean_absolute_error: 17.9023\n",
      "Epoch 22/100\n",
      "9/9 [==============================] - 0s 38ms/step - loss: 754.1782 - mean_absolute_error: 23.4882 - val_loss: 397.4498 - val_mean_absolute_error: 15.5300\n",
      "Epoch 23/100\n",
      "9/9 [==============================] - 0s 30ms/step - loss: 585.8032 - mean_absolute_error: 20.6714 - val_loss: 283.9920 - val_mean_absolute_error: 13.2989\n",
      "Epoch 24/100\n",
      "9/9 [==============================] - 0s 54ms/step - loss: 468.3006 - mean_absolute_error: 18.9199 - val_loss: 196.8306 - val_mean_absolute_error: 11.1557\n",
      "Epoch 25/100\n",
      "9/9 [==============================] - 0s 41ms/step - loss: 359.5526 - mean_absolute_error: 16.8144 - val_loss: 131.9904 - val_mean_absolute_error: 9.1682\n",
      "Epoch 26/100\n",
      "9/9 [==============================] - 0s 37ms/step - loss: 264.5682 - mean_absolute_error: 14.5011 - val_loss: 86.5388 - val_mean_absolute_error: 7.3972\n",
      "Epoch 27/100\n",
      "9/9 [==============================] - 0s 22ms/step - loss: 214.3102 - mean_absolute_error: 13.1066 - val_loss: 56.7194 - val_mean_absolute_error: 5.8462\n",
      "Epoch 28/100\n",
      "9/9 [==============================] - 0s 28ms/step - loss: 168.3765 - mean_absolute_error: 11.4044 - val_loss: 39.4724 - val_mean_absolute_error: 5.1453\n",
      "Epoch 29/100\n",
      "9/9 [==============================] - 0s 20ms/step - loss: 133.9989 - mean_absolute_error: 9.7922 - val_loss: 31.4900 - val_mean_absolute_error: 4.7380\n",
      "Epoch 30/100\n",
      "9/9 [==============================] - 0s 20ms/step - loss: 117.0822 - mean_absolute_error: 8.5580 - val_loss: 29.5597 - val_mean_absolute_error: 4.5841\n",
      "Epoch 31/100\n",
      "9/9 [==============================] - 0s 19ms/step - loss: 101.3678 - mean_absolute_error: 7.7315 - val_loss: 31.5887 - val_mean_absolute_error: 4.6364\n",
      "Epoch 32/100\n",
      "9/9 [==============================] - 0s 18ms/step - loss: 85.6778 - mean_absolute_error: 6.6757 - val_loss: 34.5500 - val_mean_absolute_error: 4.6874\n",
      "Epoch 33/100\n",
      "9/9 [==============================] - 0s 17ms/step - loss: 94.7235 - mean_absolute_error: 6.9127 - val_loss: 37.9854 - val_mean_absolute_error: 4.7844\n",
      "Epoch 34/100\n",
      "9/9 [==============================] - 0s 17ms/step - loss: 76.3679 - mean_absolute_error: 6.1953 - val_loss: 40.5836 - val_mean_absolute_error: 4.8888\n",
      "Epoch 35/100\n",
      "9/9 [==============================] - 0s 17ms/step - loss: 104.0897 - mean_absolute_error: 7.3285 - val_loss: 42.9817 - val_mean_absolute_error: 5.0138\n",
      "Epoch 36/100\n",
      "9/9 [==============================] - 0s 17ms/step - loss: 101.8674 - mean_absolute_error: 7.0371 - val_loss: 44.8958 - val_mean_absolute_error: 5.1188\n",
      "Epoch 37/100\n",
      "9/9 [==============================] - 0s 16ms/step - loss: 122.3663 - mean_absolute_error: 7.3643 - val_loss: 46.0119 - val_mean_absolute_error: 5.1740\n",
      "Epoch 38/100\n",
      "9/9 [==============================] - 0s 16ms/step - loss: 93.3755 - mean_absolute_error: 6.7170 - val_loss: 47.7979 - val_mean_absolute_error: 5.2872\n",
      "Epoch 39/100\n",
      "9/9 [==============================] - 0s 18ms/step - loss: 108.8379 - mean_absolute_error: 7.4965 - val_loss: 48.7766 - val_mean_absolute_error: 5.3450\n"
     ]
    }
   ],
   "source": [
    "early_stopping = tf.keras.callbacks.EarlyStopping(monitor='loss',\n",
    "                                                patience=5,\n",
    "                                                mode='min')\n",
    "\n",
    "tensorboard_callback = TensorBoard(log_dir=\"./logs\", histogram_freq=2)\n",
    "\n",
    "history = lstm_model.fit(train, epochs=100,\n",
    "                         validation_data=test,\n",
    "                         callbacks=[early_stopping, tensorboard_callback])\n"
   ]
  },
  {
   "cell_type": "code",
   "execution_count": 13,
   "id": "70bac8e2",
   "metadata": {},
   "outputs": [
    {
     "data": {
      "image/png": "[encoded data removed]",
      "text/plain": [
       "<Figure size 576x576 with 1 Axes>"
      ]
     },
     "metadata": {
      "needs_background": "light"
     },
     "output_type": "display_data"
    }
   ],
   "source": [
    "pyplot.figure(figsize=(8,8))\n",
    "pyplot.title('Loss / Mean Squared Error')\n",
    "pyplot.plot(history.history['loss'], label='train')\n",
    "pyplot.plot(history.history['val_loss'], label='test')\n",
    "pyplot.legend()\n",
    "pyplot.show()"
   ]
  },
  {
   "cell_type": "code",
   "execution_count": 14,
   "id": "64856d96",
   "metadata": {},
   "outputs": [
    {
     "data": {
      "text/html": [
       "<div>\n",
       "<style scoped>\n",
       "    .dataframe tbody tr th:only-of-type {\n",
       "        vertical-align: middle;\n",
       "    }\n",
       "\n",
       "    .dataframe tbody tr th {\n",
       "        vertical-align: top;\n",
       "    }\n",
       "\n",
       "    .dataframe thead th {\n",
       "        text-align: right;\n",
       "    }\n",
       "</style>\n",
       "<table border=\"1\" class=\"dataframe\">\n",
       "  <thead>\n",
       "    <tr style=\"text-align: right;\">\n",
       "      <th></th>\n",
       "      <th>location-long</th>\n",
       "      <th>location-lat</th>\n",
       "    </tr>\n",
       "  </thead>\n",
       "  <tbody>\n",
       "    <tr>\n",
       "      <th>290</th>\n",
       "      <td>-123.140</td>\n",
       "      <td>37.667</td>\n",
       "    </tr>\n",
       "    <tr>\n",
       "      <th>291</th>\n",
       "      <td>-122.513</td>\n",
       "      <td>37.741</td>\n",
       "    </tr>\n",
       "    <tr>\n",
       "      <th>292</th>\n",
       "      <td>-123.055</td>\n",
       "      <td>37.716</td>\n",
       "    </tr>\n",
       "    <tr>\n",
       "      <th>293</th>\n",
       "      <td>-123.105</td>\n",
       "      <td>37.725</td>\n",
       "    </tr>\n",
       "    <tr>\n",
       "      <th>294</th>\n",
       "      <td>-123.265</td>\n",
       "      <td>37.712</td>\n",
       "    </tr>\n",
       "    <tr>\n",
       "      <th>295</th>\n",
       "      <td>-123.220</td>\n",
       "      <td>37.522</td>\n",
       "    </tr>\n",
       "    <tr>\n",
       "      <th>296</th>\n",
       "      <td>-123.032</td>\n",
       "      <td>37.607</td>\n",
       "    </tr>\n",
       "    <tr>\n",
       "      <th>297</th>\n",
       "      <td>-123.182</td>\n",
       "      <td>37.659</td>\n",
       "    </tr>\n",
       "    <tr>\n",
       "      <th>298</th>\n",
       "      <td>-122.890</td>\n",
       "      <td>37.546</td>\n",
       "    </tr>\n",
       "    <tr>\n",
       "      <th>299</th>\n",
       "      <td>-122.928</td>\n",
       "      <td>37.625</td>\n",
       "    </tr>\n",
       "    <tr>\n",
       "      <th>300</th>\n",
       "      <td>-122.907</td>\n",
       "      <td>37.781</td>\n",
       "    </tr>\n",
       "    <tr>\n",
       "      <th>301</th>\n",
       "      <td>-123.129</td>\n",
       "      <td>37.588</td>\n",
       "    </tr>\n",
       "    <tr>\n",
       "      <th>302</th>\n",
       "      <td>-122.951</td>\n",
       "      <td>37.591</td>\n",
       "    </tr>\n",
       "    <tr>\n",
       "      <th>303</th>\n",
       "      <td>-123.081</td>\n",
       "      <td>37.509</td>\n",
       "    </tr>\n",
       "    <tr>\n",
       "      <th>304</th>\n",
       "      <td>-123.017</td>\n",
       "      <td>37.495</td>\n",
       "    </tr>\n",
       "    <tr>\n",
       "      <th>305</th>\n",
       "      <td>-123.080</td>\n",
       "      <td>37.577</td>\n",
       "    </tr>\n",
       "    <tr>\n",
       "      <th>306</th>\n",
       "      <td>-122.968</td>\n",
       "      <td>37.511</td>\n",
       "    </tr>\n",
       "    <tr>\n",
       "      <th>307</th>\n",
       "      <td>-123.381</td>\n",
       "      <td>37.576</td>\n",
       "    </tr>\n",
       "    <tr>\n",
       "      <th>308</th>\n",
       "      <td>-122.904</td>\n",
       "      <td>37.427</td>\n",
       "    </tr>\n",
       "    <tr>\n",
       "      <th>309</th>\n",
       "      <td>-123.132</td>\n",
       "      <td>37.471</td>\n",
       "    </tr>\n",
       "    <tr>\n",
       "      <th>310</th>\n",
       "      <td>-122.878</td>\n",
       "      <td>37.589</td>\n",
       "    </tr>\n",
       "  </tbody>\n",
       "</table>\n",
       "</div>"
      ],
      "text/plain": [
       "     location-long  location-lat\n",
       "290       -123.140        37.667\n",
       "291       -122.513        37.741\n",
       "292       -123.055        37.716\n",
       "293       -123.105        37.725\n",
       "294       -123.265        37.712\n",
       "295       -123.220        37.522\n",
       "296       -123.032        37.607\n",
       "297       -123.182        37.659\n",
       "298       -122.890        37.546\n",
       "299       -122.928        37.625\n",
       "300       -122.907        37.781\n",
       "301       -123.129        37.588\n",
       "302       -122.951        37.591\n",
       "303       -123.081        37.509\n",
       "304       -123.017        37.495\n",
       "305       -123.080        37.577\n",
       "306       -122.968        37.511\n",
       "307       -123.381        37.576\n",
       "308       -122.904        37.427\n",
       "309       -123.132        37.471\n",
       "310       -122.878        37.589"
      ]
     },
     "execution_count": 14,
     "metadata": {},
     "output_type": "execute_result"
    }
   ],
   "source": [
    "test_df[:21]"
   ]
  },
  {
   "cell_type": "code",
   "execution_count": 15,
   "id": "90c02c35",
   "metadata": {},
   "outputs": [
    {
     "data": {
      "text/plain": [
       "(1, 20, 2)"
      ]
     },
     "execution_count": 15,
     "metadata": {},
     "output_type": "execute_result"
    }
   ],
   "source": [
    "np.array([list(test.take(1).as_numpy_iterator())[0][0][0]]).shape"
   ]
  },
  {
   "cell_type": "code",
   "execution_count": 16,
   "id": "7a3fe791",
   "metadata": {},
   "outputs": [
    {
     "data": {
      "text/plain": [
       "(None, 20, 2)"
      ]
     },
     "execution_count": 16,
     "metadata": {},
     "output_type": "execute_result"
    }
   ],
   "source": [
    "lstm_model.layers[0].input_shape"
   ]
  },
  {
   "cell_type": "code",
   "execution_count": 17,
   "id": "b3f8bc81",
   "metadata": {},
   "outputs": [],
   "source": [
    "y_pred = lstm_model.predict(np.array([test_df[:20]]))[0]"
   ]
  },
  {
   "cell_type": "code",
   "execution_count": 18,
   "id": "dcd85e82",
   "metadata": {},
   "outputs": [
    {
     "data": {
      "text/plain": [
       "array([-120.875885,   35.12094 ], dtype=float32)"
      ]
     },
     "execution_count": 18,
     "metadata": {},
     "output_type": "execute_result"
    }
   ],
   "source": [
    "y_pred"
   ]
  },
  {
   "cell_type": "code",
   "execution_count": 19,
   "id": "3882a2cb",
   "metadata": {},
   "outputs": [
    {
     "data": {
      "text/plain": [
       "location-long   -123.031\n",
       "location-lat      37.511\n",
       "Name: 311, dtype: float64"
      ]
     },
     "execution_count": 19,
     "metadata": {},
     "output_type": "execute_result"
    }
   ],
   "source": [
    "test_df.iloc[21]"
   ]
  },
  {
   "cell_type": "code",
   "execution_count": 20,
   "id": "13a5aca1",
   "metadata": {},
   "outputs": [
    {
     "data": {
      "image/png": "[encoded data removed]",
      "text/plain": [
       "<Figure size 432x360 with 1 Axes>"
      ]
     },
     "metadata": {
      "needs_background": "light"
     },
     "output_type": "display_data"
    }
   ],
   "source": [
    "pyplot.figure(figsize=(6,5))\n",
    "pyplot.plot(test_df[:20][\"location-long\"], test_df[:20][\"location-lat\"], label='true')\n",
    "pyplot.scatter(y_pred[0], y_pred[1],  c=\"red\", label='pred')\n",
    "pyplot.scatter(test_df.iloc[21][0], test_df.iloc[21][1],  c=\"green\", label='pred')\n",
    "pyplot.xlabel(\"longitude\")\n",
    "pyplot.ylabel(\"latitude\")\n",
    "pyplot.legend()\n",
    "pyplot.show()"
   ]
  },
  {
   "cell_type": "markdown",
   "id": "27fa3aa3",
   "metadata": {},
   "source": [
    "### Predicting a new route"
   ]
  },
  {
   "cell_type": "code",
   "execution_count": 21,
   "id": "bd2080ec",
   "metadata": {},
   "outputs": [
    {
     "name": "stdout",
     "output_type": "stream",
     "text": [
      "    location-long  location-lat\n",
      "0     -123.140000     37.667000\n",
      "1     -122.513000     37.741000\n",
      "2     -123.055000     37.716000\n",
      "3     -123.105000     37.725000\n",
      "4     -123.265000     37.712000\n",
      "5     -123.220000     37.522000\n",
      "6     -123.032000     37.607000\n",
      "7     -123.182000     37.659000\n",
      "8     -122.890000     37.546000\n",
      "9     -122.928000     37.625000\n",
      "10    -122.907000     37.781000\n",
      "11    -123.129000     37.588000\n",
      "12    -122.951000     37.591000\n",
      "13    -123.081000     37.509000\n",
      "14    -123.017000     37.495000\n",
      "15    -123.080000     37.577000\n",
      "16    -122.968000     37.511000\n",
      "17    -123.381000     37.576000\n",
      "18    -122.904000     37.427000\n",
      "19    -123.132000     37.471000\n",
      "20    -120.875870     35.120926\n",
      "21    -120.844711     35.111256\n",
      "22    -120.844574     35.111225\n",
      "23    -120.844574     35.111229\n",
      "24    -120.844566     35.111221\n",
      "25    -120.844559     35.111221\n",
      "26    -120.844559     35.111217\n",
      "27    -120.844566     35.111217\n",
      "28    -120.844551     35.111214\n",
      "29    -120.844528     35.111214\n"
     ]
    }
   ],
   "source": [
    "route_predict = test_df[:20]\n",
    "new_points = 10\n",
    "for n in range(new_points):\n",
    "    n = n+1\n",
    "    points = np.array([route_predict[n:20+n]])\n",
    "    r_predict=lstm_model.predict(points)\n",
    "    route_predict = route_predict.append(pd.DataFrame(r_predict, columns=[\"location-long\", \"location-lat\"]), ignore_index=True)\n",
    "    \n",
    "print(route_predict) #Predicción de 10 puntos nuevos \n"
   ]
  },
  {
   "cell_type": "code",
   "execution_count": 22,
   "id": "7184a62b",
   "metadata": {},
   "outputs": [
    {
     "name": "stdout",
     "output_type": "stream",
     "text": [
      "<class 'pandas.core.frame.DataFrame'>\n",
      "RangeIndex: 30 entries, 0 to 29\n",
      "Data columns (total 2 columns):\n",
      " #   Column         Non-Null Count  Dtype  \n",
      "---  ------         --------------  -----  \n",
      " 0   location-long  30 non-null     float64\n",
      " 1   location-lat   30 non-null     float64\n",
      "dtypes: float64(2)\n",
      "memory usage: 608.0 bytes\n"
     ]
    }
   ],
   "source": [
    "route_predict.info()"
   ]
  },
  {
   "cell_type": "code",
   "execution_count": 23,
   "id": "96840f9c",
   "metadata": {},
   "outputs": [],
   "source": [
    "route_predict.to_csv(\"../data/predict.csv\", index=False)"
   ]
  },
  {
   "cell_type": "code",
   "execution_count": 24,
   "id": "a2f3ee90",
   "metadata": {},
   "outputs": [],
   "source": [
    "from folium import Map, Marker, PolyLine"
   ]
  },
  {
   "cell_type": "code",
   "execution_count": 25,
   "id": "cc04b67f",
   "metadata": {},
   "outputs": [],
   "source": [
    "route = route_predict.to_numpy()"
   ]
  },
  {
   "cell_type": "code",
   "execution_count": 26,
   "id": "166b3fe0",
   "metadata": {},
   "outputs": [
    {
     "data": {
      "text/plain": [
       "<folium.vector_layers.PolyLine at 0x7f52b457d700>"
      ]
     },
     "execution_count": 26,
     "metadata": {},
     "output_type": "execute_result"
    }
   ],
   "source": [
    " m = Map([28.773552, -115.176131])\n",
    "\n",
    "for point in route:\n",
    "    Marker(location=[point[1], point[0]]).add_to(m)"
   ]
  },
  {
   "cell_type": "code",
   "execution_count": 27,
   "id": "675f1e8d",
   "metadata": {},
   "outputs": [
    {
     "data": {
      "text/html": [
       "<div style=\"width:100%;\"><div style=\"position:relative;width:100%;height:0;padding-bottom:60%;\"><span style=\"color:#565656\">Make this Notebook Trusted to load map: File -> Trust Notebook</span><iframe src=\"about:blank\" style=\"position:absolute;width:100%;height:100%;left:0;top:0;border:none !important;\" data-html=%3C%21DOCTYPE%20html%3E%0A%3Chead%3E%20%20%20%20%0A%20%20%20%20%3Cmeta%20http-equiv%3D%22content-type%22%20content%3D%22text/html%3B%20charset%3DUTF-8%22%20/%3E%0A%20%20%20%20%0A%20%20%20%20%20%20%20%20%3Cscript%3E%0A%20%20%20%20%20%20%20%20%20%20%20%20L_NO_TOUCH%20%3D%20false%3B%0A%20%20%20%20%20%20%20%20%20%20%20%20L_DISABLE_3D%20%3D%20false%3B%0A%20%20%20%20%20%20%20%20%3C/script%3E%0A%20%20%20%20%0A%20%20%20%20%3Cstyle%3Ehtml%2C%20body%20%7Bwidth%3A%20100%25%3Bheight%3A%20100%25%3Bmargin%3A%200%3Bpadding%3A%200%3B%7D%3C/style%3E%0A%20%20%20%20%3Cstyle%3E%23map%20%7Bposition%3Aabsolute%3Btop%3A0%3Bbottom%3A0%3Bright%3A0%3Bleft%3A0%3B%7D%3C/style%3E%0A%20%20%20%20%3Cscript%20src%3D%22https%3A//cdn.jsdelivr.net/npm/leaflet%401.6.0/dist/leaflet.js%22%3E%3C/script%3E%0A%20%20%20%20%3Cscript%20src%3D%22https%3A//code.jquery.com/jquery-1.12.4.min.js%22%3E%3C/script%3E%0A%20%20%20%20%3Cscript%20src%3D%22https%3A//maxcdn.bootstrapcdn.com/bootstrap/3.2.0/js/bootstrap.min.js%22%3E%3C/script%3E%0A%20%20%20%20%3Cscript%20src%3D%22https%3A//cdnjs.cloudflare.com/ajax/libs/Leaflet.awesome-markers/2.0.2/leaflet.awesome-markers.js%22%3E%3C/script%3E%0A%20%20%20%20%3Clink%20rel%3D%22stylesheet%22%20href%3D%22https%3A//cdn.jsdelivr.net/npm/leaflet%401.6.0/dist/leaflet.css%22/%3E%0A%20%20%20%20%3Clink%20rel%3D%22stylesheet%22%20href%3D%22https%3A//maxcdn.bootstrapcdn.com/bootstrap/3.2.0/css/bootstrap.min.css%22/%3E%0A%20%20%20%20%3Clink%20rel%3D%22stylesheet%22%20href%3D%22https%3A//maxcdn.bootstrapcdn.com/bootstrap/3.2.0/css/bootstrap-theme.min.css%22/%3E%0A%20%20%20%20%3Clink%20rel%3D%22stylesheet%22%20href%3D%22https%3A//maxcdn.bootstrapcdn.com/font-awesome/4.6.3/css/font-awesome.min.css%22/%3E%0A%20%20%20%20%3Clink%20rel%3D%22stylesheet%22%20href%3D%22https%3A//cdnjs.cloudflare.com/ajax/libs/Leaflet.awesome-markers/2.0.2/leaflet.awesome-markers.css%22/%3E%0A%20%20%20%20%3Clink%20rel%3D%22stylesheet%22%20href%3D%22https%3A//cdn.jsdelivr.net/gh/python-visualization/folium/folium/templates/leaflet.awesome.rotate.min.css%22/%3E%0A%20%20%20%20%0A%20%20%20%20%20%20%20%20%20%20%20%20%3Cmeta%20name%3D%22viewport%22%20content%3D%22width%3Ddevice-width%2C%0A%20%20%20%20%20%20%20%20%20%20%20%20%20%20%20%20initial-scale%3D1.0%2C%20maximum-scale%3D1.0%2C%20user-scalable%3Dno%22%20/%3E%0A%20%20%20%20%20%20%20%20%20%20%20%20%3Cstyle%3E%0A%20%20%20%20%20%20%20%20%20%20%20%20%20%20%20%20%23map_4aa6459205ce4820b40924fd060aaca8%20%7B%0A%20%20%20%20%20%20%20%20%20%20%20%20%20%20%20%20%20%20%20%20position%3A%20relative%3B%0A%20%20%20%20%20%20%20%20%20%20%20%20%20%20%20%20%20%20%20%20width%3A%20100.0%25%3B%0A%20%20%20%20%20%20%20%20%20%20%20%20%20%20%20%20%20%20%20%20height%3A%20100.0%25%3B%0A%20%20%20%20%20%20%20%20%20%20%20%20%20%20%20%20%20%20%20%20left%3A%200.0%25%3B%0A%20%20%20%20%20%20%20%20%20%20%20%20%20%20%20%20%20%20%20%20top%3A%200.0%25%3B%0A%20%20%20%20%20%20%20%20%20%20%20%20%20%20%20%20%7D%0A%20%20%20%20%20%20%20%20%20%20%20%20%3C/style%3E%0A%20%20%20%20%20%20%20%20%0A%3C/head%3E%0A%3Cbody%3E%20%20%20%20%0A%20%20%20%20%0A%20%20%20%20%20%20%20%20%20%20%20%20%3Cdiv%20class%3D%22folium-map%22%20id%3D%22map_4aa6459205ce4820b40924fd060aaca8%22%20%3E%3C/div%3E%0A%20%20%20%20%20%20%20%20%0A%3C/body%3E%0A%3Cscript%3E%20%20%20%20%0A%20%20%20%20%0A%20%20%20%20%20%20%20%20%20%20%20%20var%20map_4aa6459205ce4820b40924fd060aaca8%20%3D%20L.map%28%0A%20%20%20%20%20%20%20%20%20%20%20%20%20%20%20%20%22map_4aa6459205ce4820b40924fd060aaca8%22%2C%0A%20%20%20%20%20%20%20%20%20%20%20%20%20%20%20%20%7B%0A%20%20%20%20%20%20%20%20%20%20%20%20%20%20%20%20%20%20%20%20center%3A%20%5B28.773552%2C%20-115.176131%5D%2C%0A%20%20%20%20%20%20%20%20%20%20%20%20%20%20%20%20%20%20%20%20crs%3A%20L.CRS.EPSG3857%2C%0A%20%20%20%20%20%20%20%20%20%20%20%20%20%20%20%20%20%20%20%20zoom%3A%2010%2C%0A%20%20%20%20%20%20%20%20%20%20%20%20%20%20%20%20%20%20%20%20zoomControl%3A%20true%2C%0A%20%20%20%20%20%20%20%20%20%20%20%20%20%20%20%20%20%20%20%20preferCanvas%3A%20false%2C%0A%20%20%20%20%20%20%20%20%20%20%20%20%20%20%20%20%7D%0A%20%20%20%20%20%20%20%20%20%20%20%20%29%3B%0A%0A%20%20%20%20%20%20%20%20%20%20%20%20%0A%0A%20%20%20%20%20%20%20%20%0A%20%20%20%20%0A%20%20%20%20%20%20%20%20%20%20%20%20var%20tile_layer_fecc0eeb710d4a348b31f4f779774e24%20%3D%20L.tileLayer%28%0A%20%20%20%20%20%20%20%20%20%20%20%20%20%20%20%20%22https%3A//%7Bs%7D.tile.openstreetmap.org/%7Bz%7D/%7Bx%7D/%7By%7D.png%22%2C%0A%20%20%20%20%20%20%20%20%20%20%20%20%20%20%20%20%7B%22attribution%22%3A%20%22Data%20by%20%5Cu0026copy%3B%20%5Cu003ca%20href%3D%5C%22http%3A//openstreetmap.org%5C%22%5Cu003eOpenStreetMap%5Cu003c/a%5Cu003e%2C%20under%20%5Cu003ca%20href%3D%5C%22http%3A//www.openstreetmap.org/copyright%5C%22%5Cu003eODbL%5Cu003c/a%5Cu003e.%22%2C%20%22detectRetina%22%3A%20false%2C%20%22maxNativeZoom%22%3A%2018%2C%20%22maxZoom%22%3A%2018%2C%20%22minZoom%22%3A%200%2C%20%22noWrap%22%3A%20false%2C%20%22opacity%22%3A%201%2C%20%22subdomains%22%3A%20%22abc%22%2C%20%22tms%22%3A%20false%7D%0A%20%20%20%20%20%20%20%20%20%20%20%20%29.addTo%28map_4aa6459205ce4820b40924fd060aaca8%29%3B%0A%20%20%20%20%20%20%20%20%0A%20%20%20%20%0A%20%20%20%20%20%20%20%20%20%20%20%20var%20marker_adec137d362d4a8aab49696b1b3f6eea%20%3D%20L.marker%28%0A%20%20%20%20%20%20%20%20%20%20%20%20%20%20%20%20%5B37.667%2C%20-123.14%5D%2C%0A%20%20%20%20%20%20%20%20%20%20%20%20%20%20%20%20%7B%7D%0A%20%20%20%20%20%20%20%20%20%20%20%20%29.addTo%28map_4aa6459205ce4820b40924fd060aaca8%29%3B%0A%20%20%20%20%20%20%20%20%0A%20%20%20%20%0A%20%20%20%20%20%20%20%20%20%20%20%20var%20marker_5a1a6dc1292e4a1b94a24c3ad88d78fa%20%3D%20L.marker%28%0A%20%20%20%20%20%20%20%20%20%20%20%20%20%20%20%20%5B37.741%2C%20-122.513%5D%2C%0A%20%20%20%20%20%20%20%20%20%20%20%20%20%20%20%20%7B%7D%0A%20%20%20%20%20%20%20%20%20%20%20%20%29.addTo%28map_4aa6459205ce4820b40924fd060aaca8%29%3B%0A%20%20%20%20%20%20%20%20%0A%20%20%20%20%0A%20%20%20%20%20%20%20%20%20%20%20%20var%20marker_6466d598a0454106bc53b485b5f5eb26%20%3D%20L.marker%28%0A%20%20%20%20%20%20%20%20%20%20%20%20%20%20%20%20%5B37.716%2C%20-123.055%5D%2C%0A%20%20%20%20%20%20%20%20%20%20%20%20%20%20%20%20%7B%7D%0A%20%20%20%20%20%20%20%20%20%20%20%20%29.addTo%28map_4aa6459205ce4820b40924fd060aaca8%29%3B%0A%20%20%20%20%20%20%20%20%0A%20%20%20%20%0A%20%20%20%20%20%20%20%20%20%20%20%20var%20marker_57fe70f0e12e4b86ac99753ed7c1ac7e%20%3D%20L.marker%28%0A%20%20%20%20%20%20%20%20%20%20%20%20%20%20%20%20%5B37.725%2C%20-123.10500000000002%5D%2C%0A%20%20%20%20%20%20%20%20%20%20%20%20%20%20%20%20%7B%7D%0A%20%20%20%20%20%20%20%20%20%20%20%20%29.addTo%28map_4aa6459205ce4820b40924fd060aaca8%29%3B%0A%20%20%20%20%20%20%20%20%0A%20%20%20%20%0A%20%20%20%20%20%20%20%20%20%20%20%20var%20marker_1f73e244c42742a38a61fa3349fbe347%20%3D%20L.marker%28%0A%20%20%20%20%20%20%20%20%20%20%20%20%20%20%20%20%5B37.712%2C%20-123.265%5D%2C%0A%20%20%20%20%20%20%20%20%20%20%20%20%20%20%20%20%7B%7D%0A%20%20%20%20%20%20%20%20%20%20%20%20%29.addTo%28map_4aa6459205ce4820b40924fd060aaca8%29%3B%0A%20%20%20%20%20%20%20%20%0A%20%20%20%20%0A%20%20%20%20%20%20%20%20%20%20%20%20var%20marker_8d6327d9914340a6aea65be91febda37%20%3D%20L.marker%28%0A%20%20%20%20%20%20%20%20%20%20%20%20%20%20%20%20%5B37.522%2C%20-123.22%5D%2C%0A%20%20%20%20%20%20%20%20%20%20%20%20%20%20%20%20%7B%7D%0A%20%20%20%20%20%20%20%20%20%20%20%20%29.addTo%28map_4aa6459205ce4820b40924fd060aaca8%29%3B%0A%20%20%20%20%20%20%20%20%0A%20%20%20%20%0A%20%20%20%20%20%20%20%20%20%20%20%20var%20marker_a07b1a074f33457fad5e7f2c4ade2a8b%20%3D%20L.marker%28%0A%20%20%20%20%20%20%20%20%20%20%20%20%20%20%20%20%5B37.607%2C%20-123.03199999999998%5D%2C%0A%20%20%20%20%20%20%20%20%20%20%20%20%20%20%20%20%7B%7D%0A%20%20%20%20%20%20%20%20%20%20%20%20%29.addTo%28map_4aa6459205ce4820b40924fd060aaca8%29%3B%0A%20%20%20%20%20%20%20%20%0A%20%20%20%20%0A%20%20%20%20%20%20%20%20%20%20%20%20var%20marker_dcd96e38d7a6412d90b84657b9b5382f%20%3D%20L.marker%28%0A%20%20%20%20%20%20%20%20%20%20%20%20%20%20%20%20%5B37.659%2C%20-123.18200000000002%5D%2C%0A%20%20%20%20%20%20%20%20%20%20%20%20%20%20%20%20%7B%7D%0A%20%20%20%20%20%20%20%20%20%20%20%20%29.addTo%28map_4aa6459205ce4820b40924fd060aaca8%29%3B%0A%20%20%20%20%20%20%20%20%0A%20%20%20%20%0A%20%20%20%20%20%20%20%20%20%20%20%20var%20marker_df82ae26addd40efabeb87373d5fcafc%20%3D%20L.marker%28%0A%20%20%20%20%20%20%20%20%20%20%20%20%20%20%20%20%5B37.546%2C%20-122.89%5D%2C%0A%20%20%20%20%20%20%20%20%20%20%20%20%20%20%20%20%7B%7D%0A%20%20%20%20%20%20%20%20%20%20%20%20%29.addTo%28map_4aa6459205ce4820b40924fd060aaca8%29%3B%0A%20%20%20%20%20%20%20%20%0A%20%20%20%20%0A%20%20%20%20%20%20%20%20%20%20%20%20var%20marker_648c5389c757432c9c3d415405cf3bd3%20%3D%20L.marker%28%0A%20%20%20%20%20%20%20%20%20%20%20%20%20%20%20%20%5B37.625%2C%20-122.928%5D%2C%0A%20%20%20%20%20%20%20%20%20%20%20%20%20%20%20%20%7B%7D%0A%20%20%20%20%20%20%20%20%20%20%20%20%29.addTo%28map_4aa6459205ce4820b40924fd060aaca8%29%3B%0A%20%20%20%20%20%20%20%20%0A%20%20%20%20%0A%20%20%20%20%20%20%20%20%20%20%20%20var%20marker_00c7a2fb82d245bfa5cf482691087e5a%20%3D%20L.marker%28%0A%20%20%20%20%20%20%20%20%20%20%20%20%20%20%20%20%5B37.781%2C%20-122.90699999999998%5D%2C%0A%20%20%20%20%20%20%20%20%20%20%20%20%20%20%20%20%7B%7D%0A%20%20%20%20%20%20%20%20%20%20%20%20%29.addTo%28map_4aa6459205ce4820b40924fd060aaca8%29%3B%0A%20%20%20%20%20%20%20%20%0A%20%20%20%20%0A%20%20%20%20%20%20%20%20%20%20%20%20var%20marker_5c2541710bf84dd8b1c9a3731960a32b%20%3D%20L.marker%28%0A%20%20%20%20%20%20%20%20%20%20%20%20%20%20%20%20%5B37.588%2C%20-123.12900000000002%5D%2C%0A%20%20%20%20%20%20%20%20%20%20%20%20%20%20%20%20%7B%7D%0A%20%20%20%20%20%20%20%20%20%20%20%20%29.addTo%28map_4aa6459205ce4820b40924fd060aaca8%29%3B%0A%20%20%20%20%20%20%20%20%0A%20%20%20%20%0A%20%20%20%20%20%20%20%20%20%20%20%20var%20marker_6c52e276ad7947f79f6c4873fccdd29d%20%3D%20L.marker%28%0A%20%20%20%20%20%20%20%20%20%20%20%20%20%20%20%20%5B37.591%2C%20-122.951%5D%2C%0A%20%20%20%20%20%20%20%20%20%20%20%20%20%20%20%20%7B%7D%0A%20%20%20%20%20%20%20%20%20%20%20%20%29.addTo%28map_4aa6459205ce4820b40924fd060aaca8%29%3B%0A%20%20%20%20%20%20%20%20%0A%20%20%20%20%0A%20%20%20%20%20%20%20%20%20%20%20%20var%20marker_408be9e8ecec42cbaef1411d0442b71a%20%3D%20L.marker%28%0A%20%20%20%20%20%20%20%20%20%20%20%20%20%20%20%20%5B37.509%2C%20-123.08100000000002%5D%2C%0A%20%20%20%20%20%20%20%20%20%20%20%20%20%20%20%20%7B%7D%0A%20%20%20%20%20%20%20%20%20%20%20%20%29.addTo%28map_4aa6459205ce4820b40924fd060aaca8%29%3B%0A%20%20%20%20%20%20%20%20%0A%20%20%20%20%0A%20%20%20%20%20%20%20%20%20%20%20%20var%20marker_756d2864afe94f6c84539c2f57db5ad8%20%3D%20L.marker%28%0A%20%20%20%20%20%20%20%20%20%20%20%20%20%20%20%20%5B37.495%2C%20-123.017%5D%2C%0A%20%20%20%20%20%20%20%20%20%20%20%20%20%20%20%20%7B%7D%0A%20%20%20%20%20%20%20%20%20%20%20%20%29.addTo%28map_4aa6459205ce4820b40924fd060aaca8%29%3B%0A%20%20%20%20%20%20%20%20%0A%20%20%20%20%0A%20%20%20%20%20%20%20%20%20%20%20%20var%20marker_06df5c2ec718466daedb0012926b359f%20%3D%20L.marker%28%0A%20%20%20%20%20%20%20%20%20%20%20%20%20%20%20%20%5B37.577%2C%20-123.07999999999998%5D%2C%0A%20%20%20%20%20%20%20%20%20%20%20%20%20%20%20%20%7B%7D%0A%20%20%20%20%20%20%20%20%20%20%20%20%29.addTo%28map_4aa6459205ce4820b40924fd060aaca8%29%3B%0A%20%20%20%20%20%20%20%20%0A%20%20%20%20%0A%20%20%20%20%20%20%20%20%20%20%20%20var%20marker_7149ffab194d4c1a877f33f821a4ca83%20%3D%20L.marker%28%0A%20%20%20%20%20%20%20%20%20%20%20%20%20%20%20%20%5B37.511%2C%20-122.96800000000002%5D%2C%0A%20%20%20%20%20%20%20%20%20%20%20%20%20%20%20%20%7B%7D%0A%20%20%20%20%20%20%20%20%20%20%20%20%29.addTo%28map_4aa6459205ce4820b40924fd060aaca8%29%3B%0A%20%20%20%20%20%20%20%20%0A%20%20%20%20%0A%20%20%20%20%20%20%20%20%20%20%20%20var%20marker_3a9f5b4e894a4a40b1c31f54615921a7%20%3D%20L.marker%28%0A%20%20%20%20%20%20%20%20%20%20%20%20%20%20%20%20%5B37.576%2C%20-123.381%5D%2C%0A%20%20%20%20%20%20%20%20%20%20%20%20%20%20%20%20%7B%7D%0A%20%20%20%20%20%20%20%20%20%20%20%20%29.addTo%28map_4aa6459205ce4820b40924fd060aaca8%29%3B%0A%20%20%20%20%20%20%20%20%0A%20%20%20%20%0A%20%20%20%20%20%20%20%20%20%20%20%20var%20marker_d3a387eb42a2412186cc2d40a05ae2c3%20%3D%20L.marker%28%0A%20%20%20%20%20%20%20%20%20%20%20%20%20%20%20%20%5B37.427%2C%20-122.904%5D%2C%0A%20%20%20%20%20%20%20%20%20%20%20%20%20%20%20%20%7B%7D%0A%20%20%20%20%20%20%20%20%20%20%20%20%29.addTo%28map_4aa6459205ce4820b40924fd060aaca8%29%3B%0A%20%20%20%20%20%20%20%20%0A%20%20%20%20%0A%20%20%20%20%20%20%20%20%20%20%20%20var%20marker_8317fb5288b345e78666395f540e1c70%20%3D%20L.marker%28%0A%20%20%20%20%20%20%20%20%20%20%20%20%20%20%20%20%5B37.471%2C%20-123.132%5D%2C%0A%20%20%20%20%20%20%20%20%20%20%20%20%20%20%20%20%7B%7D%0A%20%20%20%20%20%20%20%20%20%20%20%20%29.addTo%28map_4aa6459205ce4820b40924fd060aaca8%29%3B%0A%20%20%20%20%20%20%20%20%0A%20%20%20%20%0A%20%20%20%20%20%20%20%20%20%20%20%20var%20marker_205cc572fc2e42ecaaa5897a1e0e3f32%20%3D%20L.marker%28%0A%20%20%20%20%20%20%20%20%20%20%20%20%20%20%20%20%5B35.12092590332031%2C%20-120.87586975097656%5D%2C%0A%20%20%20%20%20%20%20%20%20%20%20%20%20%20%20%20%7B%7D%0A%20%20%20%20%20%20%20%20%20%20%20%20%29.addTo%28map_4aa6459205ce4820b40924fd060aaca8%29%3B%0A%20%20%20%20%20%20%20%20%0A%20%20%20%20%0A%20%20%20%20%20%20%20%20%20%20%20%20var%20marker_ea5869c4ac514fa59453599baad9ac42%20%3D%20L.marker%28%0A%20%20%20%20%20%20%20%20%20%20%20%20%20%20%20%20%5B35.11125564575195%2C%20-120.84471130371094%5D%2C%0A%20%20%20%20%20%20%20%20%20%20%20%20%20%20%20%20%7B%7D%0A%20%20%20%20%20%20%20%20%20%20%20%20%29.addTo%28map_4aa6459205ce4820b40924fd060aaca8%29%3B%0A%20%20%20%20%20%20%20%20%0A%20%20%20%20%0A%20%20%20%20%20%20%20%20%20%20%20%20var%20marker_194beb0998924f8abe907961704f63b8%20%3D%20L.marker%28%0A%20%20%20%20%20%20%20%20%20%20%20%20%20%20%20%20%5B35.11122512817383%2C%20-120.84457397460938%5D%2C%0A%20%20%20%20%20%20%20%20%20%20%20%20%20%20%20%20%7B%7D%0A%20%20%20%20%20%20%20%20%20%20%20%20%29.addTo%28map_4aa6459205ce4820b40924fd060aaca8%29%3B%0A%20%20%20%20%20%20%20%20%0A%20%20%20%20%0A%20%20%20%20%20%20%20%20%20%20%20%20var%20marker_c6d8535d29c84b8c9882d874f52c41aa%20%3D%20L.marker%28%0A%20%20%20%20%20%20%20%20%20%20%20%20%20%20%20%20%5B35.111228942871094%2C%20-120.84457397460938%5D%2C%0A%20%20%20%20%20%20%20%20%20%20%20%20%20%20%20%20%7B%7D%0A%20%20%20%20%20%20%20%20%20%20%20%20%29.addTo%28map_4aa6459205ce4820b40924fd060aaca8%29%3B%0A%20%20%20%20%20%20%20%20%0A%20%20%20%20%0A%20%20%20%20%20%20%20%20%20%20%20%20var%20marker_d2c739d5a32543078336380ddb04c3f2%20%3D%20L.marker%28%0A%20%20%20%20%20%20%20%20%20%20%20%20%20%20%20%20%5B35.11122131347656%2C%20-120.84456634521484%5D%2C%0A%20%20%20%20%20%20%20%20%20%20%20%20%20%20%20%20%7B%7D%0A%20%20%20%20%20%20%20%20%20%20%20%20%29.addTo%28map_4aa6459205ce4820b40924fd060aaca8%29%3B%0A%20%20%20%20%20%20%20%20%0A%20%20%20%20%0A%20%20%20%20%20%20%20%20%20%20%20%20var%20marker_4ff8fdf057f5428bb0ca6f111b15dae8%20%3D%20L.marker%28%0A%20%20%20%20%20%20%20%20%20%20%20%20%20%20%20%20%5B35.11122131347656%2C%20-120.84455871582031%5D%2C%0A%20%20%20%20%20%20%20%20%20%20%20%20%20%20%20%20%7B%7D%0A%20%20%20%20%20%20%20%20%20%20%20%20%29.addTo%28map_4aa6459205ce4820b40924fd060aaca8%29%3B%0A%20%20%20%20%20%20%20%20%0A%20%20%20%20%0A%20%20%20%20%20%20%20%20%20%20%20%20var%20marker_d052b992d0d04422a6f5754f09a6fd10%20%3D%20L.marker%28%0A%20%20%20%20%20%20%20%20%20%20%20%20%20%20%20%20%5B35.1112174987793%2C%20-120.84455871582031%5D%2C%0A%20%20%20%20%20%20%20%20%20%20%20%20%20%20%20%20%7B%7D%0A%20%20%20%20%20%20%20%20%20%20%20%20%29.addTo%28map_4aa6459205ce4820b40924fd060aaca8%29%3B%0A%20%20%20%20%20%20%20%20%0A%20%20%20%20%0A%20%20%20%20%20%20%20%20%20%20%20%20var%20marker_b63d2218fcd64f609320050d0eebcdee%20%3D%20L.marker%28%0A%20%20%20%20%20%20%20%20%20%20%20%20%20%20%20%20%5B35.1112174987793%2C%20-120.84456634521484%5D%2C%0A%20%20%20%20%20%20%20%20%20%20%20%20%20%20%20%20%7B%7D%0A%20%20%20%20%20%20%20%20%20%20%20%20%29.addTo%28map_4aa6459205ce4820b40924fd060aaca8%29%3B%0A%20%20%20%20%20%20%20%20%0A%20%20%20%20%0A%20%20%20%20%20%20%20%20%20%20%20%20var%20marker_de78f33500b949a0a2cd6ebc94ff64f4%20%3D%20L.marker%28%0A%20%20%20%20%20%20%20%20%20%20%20%20%20%20%20%20%5B35.11121368408203%2C%20-120.84455108642578%5D%2C%0A%20%20%20%20%20%20%20%20%20%20%20%20%20%20%20%20%7B%7D%0A%20%20%20%20%20%20%20%20%20%20%20%20%29.addTo%28map_4aa6459205ce4820b40924fd060aaca8%29%3B%0A%20%20%20%20%20%20%20%20%0A%20%20%20%20%0A%20%20%20%20%20%20%20%20%20%20%20%20var%20marker_da543f1b2543404189be684e68f1da1f%20%3D%20L.marker%28%0A%20%20%20%20%20%20%20%20%20%20%20%20%20%20%20%20%5B35.11121368408203%2C%20-120.84452819824219%5D%2C%0A%20%20%20%20%20%20%20%20%20%20%20%20%20%20%20%20%7B%7D%0A%20%20%20%20%20%20%20%20%20%20%20%20%29.addTo%28map_4aa6459205ce4820b40924fd060aaca8%29%3B%0A%20%20%20%20%20%20%20%20%0A%20%20%20%20%0A%20%20%20%20%20%20%20%20%20%20%20%20var%20poly_line_b789a4d8c3ad45cda7200b6550cc3b9a%20%3D%20L.polyline%28%0A%20%20%20%20%20%20%20%20%20%20%20%20%20%20%20%20%5B%5B-123.14%2C%2037.667%5D%2C%20%5B-122.513%2C%2037.741%5D%2C%20%5B-123.055%2C%2037.716%5D%2C%20%5B-123.10500000000002%2C%2037.725%5D%2C%20%5B-123.265%2C%2037.712%5D%2C%20%5B-123.22%2C%2037.522%5D%2C%20%5B-123.03199999999998%2C%2037.607%5D%2C%20%5B-123.18200000000002%2C%2037.659%5D%2C%20%5B-122.89%2C%2037.546%5D%2C%20%5B-122.928%2C%2037.625%5D%2C%20%5B-122.90699999999998%2C%2037.781%5D%2C%20%5B-123.12900000000002%2C%2037.588%5D%2C%20%5B-122.951%2C%2037.591%5D%2C%20%5B-123.08100000000002%2C%2037.509%5D%2C%20%5B-123.017%2C%2037.495%5D%2C%20%5B-123.07999999999998%2C%2037.577%5D%2C%20%5B-122.96800000000002%2C%2037.511%5D%2C%20%5B-123.381%2C%2037.576%5D%2C%20%5B-122.904%2C%2037.427%5D%2C%20%5B-123.132%2C%2037.471%5D%2C%20%5B-120.87586975097656%2C%2035.12092590332031%5D%2C%20%5B-120.84471130371094%2C%2035.11125564575195%5D%2C%20%5B-120.84457397460938%2C%2035.11122512817383%5D%2C%20%5B-120.84457397460938%2C%2035.111228942871094%5D%2C%20%5B-120.84456634521484%2C%2035.11122131347656%5D%2C%20%5B-120.84455871582031%2C%2035.11122131347656%5D%2C%20%5B-120.84455871582031%2C%2035.1112174987793%5D%2C%20%5B-120.84456634521484%2C%2035.1112174987793%5D%2C%20%5B-120.84455108642578%2C%2035.11121368408203%5D%2C%20%5B-120.84452819824219%2C%2035.11121368408203%5D%5D%2C%0A%20%20%20%20%20%20%20%20%20%20%20%20%20%20%20%20%7B%22bubblingMouseEvents%22%3A%20true%2C%20%22color%22%3A%20%22red%22%2C%20%22dashArray%22%3A%20null%2C%20%22dashOffset%22%3A%20null%2C%20%22fill%22%3A%20false%2C%20%22fillColor%22%3A%20%22red%22%2C%20%22fillOpacity%22%3A%200.2%2C%20%22fillRule%22%3A%20%22evenodd%22%2C%20%22lineCap%22%3A%20%22round%22%2C%20%22lineJoin%22%3A%20%22round%22%2C%20%22noClip%22%3A%20false%2C%20%22opacity%22%3A%201%2C%20%22smoothFactor%22%3A%201.0%2C%20%22stroke%22%3A%20true%2C%20%22weight%22%3A%202.5%7D%0A%20%20%20%20%20%20%20%20%20%20%20%20%29.addTo%28map_4aa6459205ce4820b40924fd060aaca8%29%3B%0A%20%20%20%20%20%20%20%20%0A%3C/script%3E onload=\"this.contentDocument.open();this.contentDocument.write(    decodeURIComponent(this.getAttribute('data-html')));this.contentDocument.close();\" allowfullscreen webkitallowfullscreen mozallowfullscreen></iframe></div></div>"
      ],
      "text/plain": [
       "<folium.folium.Map at 0x7f52bc141460>"
      ]
     },
     "execution_count": 27,
     "metadata": {},
     "output_type": "execute_result"
    }
   ],
   "source": [
    "m"
   ]
  },
  {
   "cell_type": "code",
   "execution_count": null,
   "id": "b3eb6056",
   "metadata": {},
   "outputs": [],
   "source": []
  },
  {
   "cell_type": "code",
   "execution_count": null,
   "id": "541a0417",
   "metadata": {},
   "outputs": [],
   "source": []
  },
  {
   "cell_type": "code",
   "execution_count": null,
   "id": "b666b236",
   "metadata": {},
   "outputs": [],
   "source": []
  }
 ],
 "metadata": {
  "kernelspec": {
   "display_name": "Python 3 (ipykernel)",
   "language": "python",
   "name": "python3"
  },
  "language_info": {
   "codemirror_mode": {
    "name": "ipython",
    "version": 3
   },
   "file_extension": ".py",
   "mimetype": "text/x-python",
   "name": "python",
   "nbconvert_exporter": "python",
   "pygments_lexer": "ipython3",
   "version": "3.9.7"
  }
 },
 "nbformat": 4,
 "nbformat_minor": 5
}
