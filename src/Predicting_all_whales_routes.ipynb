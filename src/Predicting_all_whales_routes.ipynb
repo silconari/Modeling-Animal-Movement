{
 "cells": [
  {
   "cell_type": "code",
   "execution_count": 1,
   "id": "b66ea9c5",
   "metadata": {},
   "outputs": [
    {
     "name": "stderr",
     "output_type": "stream",
     "text": [
      "2021-10-20 19:18:25.956252: W tensorflow/stream_executor/platform/default/dso_loader.cc:64] Could not load dynamic library 'libcudart.so.11.0'; dlerror: libcudart.so.11.0: cannot open shared object file: No such file or directory\n",
      "2021-10-20 19:18:25.956294: I tensorflow/stream_executor/cuda/cudart_stub.cc:29] Ignore above cudart dlerror if you do not have a GPU set up on your machine.\n"
     ]
    }
   ],
   "source": [
    "import pandas as pd\n",
    "import glob\n",
    "import tensorflow as tf\n",
    "from tensorflow.data import Dataset\n",
    "from matplotlib import pyplot\n",
    "from tensorflow.keras.callbacks import TensorBoard\n",
    "import numpy as np"
   ]
  },
  {
   "cell_type": "code",
   "execution_count": 2,
   "id": "9450c337",
   "metadata": {},
   "outputs": [],
   "source": [
    "path =r'../data/datasets_by_year/'\n",
    "filenames = glob.glob(path + \"/*.csv\")\n",
    "\n",
    "dfs = []\n",
    "for filename in filenames:\n",
    "    df = pd.read_csv(filename).drop(columns=[\"Unnamed: 0\", \"individual-local-identifier\"])\n",
    "    if df.shape > (40,):\n",
    "        dfs.append(df[[\"location-long\", \"location-lat\"]])"
   ]
  },
  {
   "cell_type": "code",
   "execution_count": 3,
   "id": "a583c580",
   "metadata": {},
   "outputs": [],
   "source": [
    "def split_data(df):\n",
    "\n",
    "    n = len(df)\n",
    "    train_df = df[0:int(n*0.7)]\n",
    "    val_df = df[int(n*0.7):]\n",
    "    #test_df = df[int(n*0.9):]\n",
    "\n",
    "    num_features = df.shape[1]\n",
    "    \n",
    "    return train_df, val_df#,test_df"
   ]
  },
  {
   "cell_type": "code",
   "execution_count": 4,
   "id": "551a0244",
   "metadata": {},
   "outputs": [],
   "source": [
    "split_data_result = [split_data(df) for df in dfs]"
   ]
  },
  {
   "cell_type": "code",
   "execution_count": 5,
   "id": "d04238eb",
   "metadata": {},
   "outputs": [],
   "source": [
    "df_23043 = pd.read_csv(\"../data/datasets_by_year/1999CA-Bmu-23043.csv\")[[\"location-long\", \"location-lat\"]]"
   ]
  },
  {
   "cell_type": "code",
   "execution_count": 6,
   "id": "00013e0e",
   "metadata": {},
   "outputs": [],
   "source": [
    "train_df,val_df = split_data(df_23043)"
   ]
  },
  {
   "cell_type": "code",
   "execution_count": 7,
   "id": "d2a33e8d",
   "metadata": {},
   "outputs": [],
   "source": [
    "def data_windowing(train_df,val_df):\n",
    "    n_points = 20\n",
    "    window_length = n_points+ 1 \n",
    "    \n",
    "    window_train = tf.keras.utils.timeseries_dataset_from_array(\n",
    "    train_df, targets=None,sequence_length = window_length, sequence_stride=1, sampling_rate=1,\n",
    "    batch_size=32, shuffle=False, seed=None, start_index=None, end_index=None)\n",
    "    \n",
    "    \"\"\"\n",
    "    window_test = tf.keras.utils.timeseries_dataset_from_array(\n",
    "    test_df, targets=None,sequence_length = window_length, sequence_stride=1, sampling_rate=1,\n",
    "    batch_size=32, shuffle=False, seed=None, start_index=None, end_index=None)\n",
    "    \"\"\"\n",
    "        \n",
    "    window_val = tf.keras.utils.timeseries_dataset_from_array(\n",
    "    val_df, targets=None,sequence_length = window_length, sequence_stride=1, sampling_rate=1,\n",
    "    batch_size=32, shuffle=False, seed=None, start_index=None, end_index=None)\n",
    "    \n",
    "    return window_train, window_val"
   ]
  },
  {
   "cell_type": "code",
   "execution_count": 8,
   "id": "fd8f7bbb",
   "metadata": {},
   "outputs": [],
   "source": [
    "def data_map(elem):\n",
    "    n_points = 20\n",
    "    window_length = n_points+ 1 \n",
    "    X,y = elem[:,:-1,:],elem[:,-1:,0:2]\n",
    "    X.set_shape([None, n_points, None])\n",
    "    y.set_shape([None, window_length - n_points, None])\n",
    "    \n",
    "    return (X,y)\n"
   ]
  },
  {
   "cell_type": "code",
   "execution_count": 9,
   "id": "75bdfac0",
   "metadata": {},
   "outputs": [
    {
     "name": "stderr",
     "output_type": "stream",
     "text": [
      "2021-10-20 19:18:28.000222: W tensorflow/stream_executor/platform/default/dso_loader.cc:64] Could not load dynamic library 'libcuda.so.1'; dlerror: libcuda.so.1: cannot open shared object file: No such file or directory\n",
      "2021-10-20 19:18:28.000270: W tensorflow/stream_executor/cuda/cuda_driver.cc:269] failed call to cuInit: UNKNOWN ERROR (303)\n",
      "2021-10-20 19:18:28.000303: I tensorflow/stream_executor/cuda/cuda_diagnostics.cc:156] kernel driver does not appear to be running on this host (DESKTOP-R3AGIN3): /proc/driver/nvidia/version does not exist\n",
      "2021-10-20 19:18:28.000505: I tensorflow/core/platform/cpu_feature_guard.cc:142] This TensorFlow binary is optimized with oneAPI Deep Neural Network Library (oneDNN) to use the following CPU instructions in performance-critical operations:  AVX2 FMA\n",
      "To enable them in other operations, rebuild TensorFlow with the appropriate compiler flags.\n"
     ]
    }
   ],
   "source": [
    "lstm_model = tf.keras.models.Sequential([\n",
    "    tf.keras.layers.LSTM(32, return_sequences=False),\n",
    "    tf.keras.layers.Dense(units=10),\n",
    "    tf.keras.layers.Dropout(rate=0.1),\n",
    "    tf.keras.layers.Dense(units=10),\n",
    "    tf.keras.layers.Dense(units=10),\n",
    "    tf.keras.layers.Dense(units=10),\n",
    "    tf.keras.layers.Dense(units=2)\n",
    "])"
   ]
  },
  {
   "cell_type": "code",
   "execution_count": 10,
   "id": "46122b61",
   "metadata": {},
   "outputs": [],
   "source": [
    "lstm_model.compile(loss=tf.losses.MeanSquaredError(),optimizer=tf.optimizers.Adam(learning_rate=0.00005),metrics=[tf.metrics.MeanAbsoluteError()])"
   ]
  },
  {
   "cell_type": "code",
   "execution_count": 11,
   "id": "14bcbc00",
   "metadata": {
    "scrolled": true
   },
   "outputs": [
    {
     "name": "stderr",
     "output_type": "stream",
     "text": [
      "2021-10-20 19:18:28.189827: I tensorflow/core/profiler/lib/profiler_session.cc:131] Profiler session initializing.\n",
      "2021-10-20 19:18:28.189870: I tensorflow/core/profiler/lib/profiler_session.cc:146] Profiler session started.\n",
      "2021-10-20 19:18:28.189914: I tensorflow/core/profiler/lib/profiler_session.cc:164] Profiler session tear down.\n",
      "2021-10-20 19:18:28.209336: I tensorflow/compiler/mlir/mlir_graph_optimization_pass.cc:185] None of the MLIR Optimization Passes are enabled (registered 2)\n"
     ]
    },
    {
     "name": "stdout",
     "output_type": "stream",
     "text": [
      "Epoch 1/300\n",
      "6/9 [===================>..........] - ETA: 0s - loss: 7859.7246 - mean_absolute_error: 77.6261"
     ]
    },
    {
     "name": "stderr",
     "output_type": "stream",
     "text": [
      "2021-10-20 19:18:29.735521: I tensorflow/core/profiler/lib/profiler_session.cc:131] Profiler session initializing.\n",
      "2021-10-20 19:18:29.735566: I tensorflow/core/profiler/lib/profiler_session.cc:146] Profiler session started.\n",
      "2021-10-20 19:18:29.754193: I tensorflow/core/profiler/lib/profiler_session.cc:66] Profiler session collecting data.\n",
      "2021-10-20 19:18:29.760525: I tensorflow/core/profiler/lib/profiler_session.cc:164] Profiler session tear down.\n",
      "2021-10-20 19:18:29.789022: I tensorflow/core/profiler/rpc/client/save_profile.cc:136] Creating directory: ./logs/train/plugins/profile/2021_10_20_19_18_29\n",
      "\n",
      "2021-10-20 19:18:29.803839: I tensorflow/core/profiler/rpc/client/save_profile.cc:142] Dumped gzipped tool data for trace.json.gz to ./logs/train/plugins/profile/2021_10_20_19_18_29/DESKTOP-R3AGIN3.trace.json.gz\n",
      "2021-10-20 19:18:29.819331: I tensorflow/core/profiler/rpc/client/save_profile.cc:136] Creating directory: ./logs/train/plugins/profile/2021_10_20_19_18_29\n",
      "\n",
      "2021-10-20 19:18:29.822122: I tensorflow/core/profiler/rpc/client/save_profile.cc:142] Dumped gzipped tool data for memory_profile.json.gz to ./logs/train/plugins/profile/2021_10_20_19_18_29/DESKTOP-R3AGIN3.memory_profile.json.gz\n",
      "2021-10-20 19:18:29.840175: I tensorflow/core/profiler/rpc/client/capture_profile.cc:251] Creating directory: ./logs/train/plugins/profile/2021_10_20_19_18_29\n",
      "Dumped tool data for xplane.pb to ./logs/train/plugins/profile/2021_10_20_19_18_29/DESKTOP-R3AGIN3.xplane.pb\n",
      "Dumped tool data for overview_page.pb to ./logs/train/plugins/profile/2021_10_20_19_18_29/DESKTOP-R3AGIN3.overview_page.pb\n",
      "Dumped tool data for input_pipeline.pb to ./logs/train/plugins/profile/2021_10_20_19_18_29/DESKTOP-R3AGIN3.input_pipeline.pb\n",
      "Dumped tool data for tensorflow_stats.pb to ./logs/train/plugins/profile/2021_10_20_19_18_29/DESKTOP-R3AGIN3.tensorflow_stats.pb\n",
      "Dumped tool data for kernel_stats.pb to ./logs/train/plugins/profile/2021_10_20_19_18_29/DESKTOP-R3AGIN3.kernel_stats.pb\n",
      "\n"
     ]
    },
    {
     "name": "stdout",
     "output_type": "stream",
     "text": [
      "9/9 [==============================] - 2s 79ms/step - loss: 7951.2905 - mean_absolute_error: 78.1612 - val_loss: 7388.7905 - val_mean_absolute_error: 73.4809\n",
      "Epoch 2/300\n",
      "9/9 [==============================] - 0s 18ms/step - loss: 7951.2178 - mean_absolute_error: 78.1595 - val_loss: 7383.1899 - val_mean_absolute_error: 73.4554\n",
      "Epoch 3/300\n",
      "9/9 [==============================] - 0s 19ms/step - loss: 7939.4482 - mean_absolute_error: 78.1070 - val_loss: 7377.5791 - val_mean_absolute_error: 73.4299\n",
      "Epoch 4/300\n",
      "9/9 [==============================] - 0s 18ms/step - loss: 7931.3350 - mean_absolute_error: 78.0722 - val_loss: 7371.9941 - val_mean_absolute_error: 73.4045\n",
      "Epoch 5/300\n",
      "9/9 [==============================] - 0s 17ms/step - loss: 7928.8008 - mean_absolute_error: 78.0609 - val_loss: 7366.4058 - val_mean_absolute_error: 73.3790\n",
      "Epoch 6/300\n",
      "9/9 [==============================] - 0s 18ms/step - loss: 7917.9956 - mean_absolute_error: 78.0128 - val_loss: 7360.7681 - val_mean_absolute_error: 73.3533\n",
      "Epoch 7/300\n",
      "9/9 [==============================] - 0s 18ms/step - loss: 7914.7056 - mean_absolute_error: 77.9975 - val_loss: 7355.0488 - val_mean_absolute_error: 73.3272\n",
      "Epoch 8/300\n",
      "9/9 [==============================] - 0s 18ms/step - loss: 7918.7769 - mean_absolute_error: 78.0182 - val_loss: 7349.2925 - val_mean_absolute_error: 73.3010\n",
      "Epoch 9/300\n",
      "9/9 [==============================] - 0s 17ms/step - loss: 7899.1260 - mean_absolute_error: 77.9297 - val_loss: 7343.4429 - val_mean_absolute_error: 73.2742\n",
      "Epoch 10/300\n",
      "9/9 [==============================] - 0s 17ms/step - loss: 7900.6187 - mean_absolute_error: 77.9366 - val_loss: 7337.4761 - val_mean_absolute_error: 73.2469\n",
      "Epoch 11/300\n",
      "9/9 [==============================] - 0s 18ms/step - loss: 7888.6104 - mean_absolute_error: 77.8822 - val_loss: 7331.3965 - val_mean_absolute_error: 73.2190\n",
      "Epoch 12/300\n",
      "9/9 [==============================] - 0s 17ms/step - loss: 7886.3169 - mean_absolute_error: 77.8717 - val_loss: 7325.2310 - val_mean_absolute_error: 73.1907\n",
      "Epoch 13/300\n",
      "9/9 [==============================] - 0s 17ms/step - loss: 7872.7583 - mean_absolute_error: 77.8162 - val_loss: 7318.9106 - val_mean_absolute_error: 73.1617\n",
      "Epoch 14/300\n",
      "9/9 [==============================] - 0s 16ms/step - loss: 7873.2065 - mean_absolute_error: 77.8133 - val_loss: 7312.3740 - val_mean_absolute_error: 73.1315\n",
      "Epoch 15/300\n",
      "9/9 [==============================] - 0s 16ms/step - loss: 7864.4409 - mean_absolute_error: 77.7763 - val_loss: 7305.6504 - val_mean_absolute_error: 73.1005\n",
      "Epoch 16/300\n",
      "9/9 [==============================] - 0s 16ms/step - loss: 7855.9185 - mean_absolute_error: 77.7378 - val_loss: 7298.7222 - val_mean_absolute_error: 73.0684\n",
      "Epoch 17/300\n",
      "9/9 [==============================] - 0s 16ms/step - loss: 7851.4688 - mean_absolute_error: 77.7185 - val_loss: 7291.6138 - val_mean_absolute_error: 73.0354\n",
      "Epoch 18/300\n",
      "9/9 [==============================] - 0s 16ms/step - loss: 7839.9844 - mean_absolute_error: 77.6677 - val_loss: 7284.2017 - val_mean_absolute_error: 73.0009\n",
      "Epoch 19/300\n",
      "9/9 [==============================] - 0s 16ms/step - loss: 7837.1372 - mean_absolute_error: 77.6522 - val_loss: 7276.4780 - val_mean_absolute_error: 72.9648\n",
      "Epoch 20/300\n",
      "9/9 [==============================] - 0s 16ms/step - loss: 7826.0991 - mean_absolute_error: 77.6056 - val_loss: 7268.4136 - val_mean_absolute_error: 72.9269\n",
      "Epoch 21/300\n",
      "9/9 [==============================] - 0s 16ms/step - loss: 7817.2705 - mean_absolute_error: 77.5663 - val_loss: 7259.9785 - val_mean_absolute_error: 72.8873\n",
      "Epoch 22/300\n",
      "9/9 [==============================] - 0s 16ms/step - loss: 7806.7241 - mean_absolute_error: 77.5180 - val_loss: 7251.1050 - val_mean_absolute_error: 72.8454\n",
      "Epoch 23/300\n",
      "9/9 [==============================] - 0s 16ms/step - loss: 7794.0674 - mean_absolute_error: 77.4624 - val_loss: 7241.7446 - val_mean_absolute_error: 72.8010\n",
      "Epoch 24/300\n",
      "9/9 [==============================] - 0s 16ms/step - loss: 7784.2808 - mean_absolute_error: 77.4185 - val_loss: 7231.8101 - val_mean_absolute_error: 72.7537\n",
      "Epoch 25/300\n",
      "9/9 [==============================] - 0s 16ms/step - loss: 7773.8306 - mean_absolute_error: 77.3701 - val_loss: 7221.2988 - val_mean_absolute_error: 72.7033\n",
      "Epoch 26/300\n",
      "9/9 [==============================] - 0s 16ms/step - loss: 7760.6572 - mean_absolute_error: 77.3062 - val_loss: 7210.2373 - val_mean_absolute_error: 72.6500\n",
      "Epoch 27/300\n",
      "9/9 [==============================] - 0s 16ms/step - loss: 7746.8081 - mean_absolute_error: 77.2466 - val_loss: 7198.6440 - val_mean_absolute_error: 72.5940\n",
      "Epoch 28/300\n",
      "9/9 [==============================] - 0s 16ms/step - loss: 7736.0713 - mean_absolute_error: 77.1917 - val_loss: 7186.4126 - val_mean_absolute_error: 72.5347\n",
      "Epoch 29/300\n",
      "9/9 [==============================] - 0s 16ms/step - loss: 7714.1841 - mean_absolute_error: 77.0946 - val_loss: 7173.6675 - val_mean_absolute_error: 72.4726\n",
      "Epoch 30/300\n",
      "9/9 [==============================] - 0s 16ms/step - loss: 7700.5713 - mean_absolute_error: 77.0317 - val_loss: 7160.6274 - val_mean_absolute_error: 72.4089\n",
      "Epoch 31/300\n",
      "9/9 [==============================] - 0s 16ms/step - loss: 7691.0132 - mean_absolute_error: 76.9840 - val_loss: 7147.3555 - val_mean_absolute_error: 72.3439\n",
      "Epoch 32/300\n",
      "9/9 [==============================] - 0s 17ms/step - loss: 7671.3887 - mean_absolute_error: 76.8961 - val_loss: 7133.8149 - val_mean_absolute_error: 72.2773\n",
      "Epoch 33/300\n",
      "9/9 [==============================] - 0s 17ms/step - loss: 7659.4844 - mean_absolute_error: 76.8409 - val_loss: 7120.0654 - val_mean_absolute_error: 72.2096\n",
      "Epoch 34/300\n",
      "9/9 [==============================] - 0s 17ms/step - loss: 7639.4697 - mean_absolute_error: 76.7430 - val_loss: 7106.0273 - val_mean_absolute_error: 72.1404\n",
      "Epoch 35/300\n",
      "9/9 [==============================] - 0s 16ms/step - loss: 7624.5229 - mean_absolute_error: 76.6754 - val_loss: 7091.7334 - val_mean_absolute_error: 72.0697\n",
      "Epoch 36/300\n",
      "9/9 [==============================] - 0s 16ms/step - loss: 7602.6099 - mean_absolute_error: 76.5711 - val_loss: 7077.0435 - val_mean_absolute_error: 71.9968\n",
      "Epoch 37/300\n",
      "9/9 [==============================] - 0s 16ms/step - loss: 7594.0864 - mean_absolute_error: 76.5283 - val_loss: 7061.9136 - val_mean_absolute_error: 71.9216\n",
      "Epoch 38/300\n",
      "9/9 [==============================] - 0s 16ms/step - loss: 7577.4312 - mean_absolute_error: 76.4451 - val_loss: 7046.3809 - val_mean_absolute_error: 71.8442\n",
      "Epoch 39/300\n",
      "9/9 [==============================] - 0s 17ms/step - loss: 7554.6089 - mean_absolute_error: 76.3438 - val_loss: 7030.2036 - val_mean_absolute_error: 71.7633\n",
      "Epoch 40/300\n",
      "9/9 [==============================] - 0s 16ms/step - loss: 7540.9731 - mean_absolute_error: 76.2751 - val_loss: 7013.2417 - val_mean_absolute_error: 71.6783\n",
      "Epoch 41/300\n",
      "9/9 [==============================] - 0s 16ms/step - loss: 7516.4565 - mean_absolute_error: 76.1593 - val_loss: 6995.3174 - val_mean_absolute_error: 71.5882\n",
      "Epoch 42/300\n",
      "9/9 [==============================] - 0s 16ms/step - loss: 7497.3267 - mean_absolute_error: 76.0650 - val_loss: 6976.2466 - val_mean_absolute_error: 71.4919\n",
      "Epoch 43/300\n",
      "9/9 [==============================] - 0s 16ms/step - loss: 7471.0186 - mean_absolute_error: 75.9388 - val_loss: 6955.8755 - val_mean_absolute_error: 71.3886\n",
      "Epoch 44/300\n",
      "9/9 [==============================] - 0s 16ms/step - loss: 7445.4766 - mean_absolute_error: 75.8141 - val_loss: 6934.0513 - val_mean_absolute_error: 71.2775\n",
      "Epoch 45/300\n",
      "9/9 [==============================] - 0s 16ms/step - loss: 7422.7383 - mean_absolute_error: 75.7050 - val_loss: 6910.7129 - val_mean_absolute_error: 71.1582\n",
      "Epoch 46/300\n",
      "9/9 [==============================] - 0s 16ms/step - loss: 7390.3286 - mean_absolute_error: 75.5512 - val_loss: 6885.6802 - val_mean_absolute_error: 71.0298\n",
      "Epoch 47/300\n",
      "9/9 [==============================] - 0s 16ms/step - loss: 7361.9961 - mean_absolute_error: 75.4115 - val_loss: 6858.9429 - val_mean_absolute_error: 70.8922\n",
      "Epoch 48/300\n",
      "9/9 [==============================] - 0s 16ms/step - loss: 7336.1973 - mean_absolute_error: 75.2770 - val_loss: 6830.5444 - val_mean_absolute_error: 70.7454\n",
      "Epoch 49/300\n"
     ]
    },
    {
     "name": "stdout",
     "output_type": "stream",
     "text": [
      "9/9 [==============================] - 0s 17ms/step - loss: 7294.9834 - mean_absolute_error: 75.0782 - val_loss: 6800.7632 - val_mean_absolute_error: 70.5910\n",
      "Epoch 50/300\n",
      "9/9 [==============================] - 0s 16ms/step - loss: 7257.1421 - mean_absolute_error: 74.8891 - val_loss: 6769.3120 - val_mean_absolute_error: 70.4276\n",
      "Epoch 51/300\n",
      "9/9 [==============================] - 0s 16ms/step - loss: 7223.8364 - mean_absolute_error: 74.7252 - val_loss: 6736.4673 - val_mean_absolute_error: 70.2563\n",
      "Epoch 52/300\n",
      "9/9 [==============================] - 0s 16ms/step - loss: 7185.9844 - mean_absolute_error: 74.5358 - val_loss: 6702.1411 - val_mean_absolute_error: 70.0769\n",
      "Epoch 53/300\n",
      "9/9 [==============================] - 0s 16ms/step - loss: 7150.3301 - mean_absolute_error: 74.3549 - val_loss: 6666.3589 - val_mean_absolute_error: 69.8894\n",
      "Epoch 54/300\n",
      "9/9 [==============================] - 0s 16ms/step - loss: 7108.1040 - mean_absolute_error: 74.1394 - val_loss: 6629.1006 - val_mean_absolute_error: 69.6936\n",
      "Epoch 55/300\n",
      "9/9 [==============================] - 0s 16ms/step - loss: 7060.0625 - mean_absolute_error: 73.9014 - val_loss: 6589.9482 - val_mean_absolute_error: 69.4875\n",
      "Epoch 56/300\n",
      "9/9 [==============================] - 0s 15ms/step - loss: 7020.6567 - mean_absolute_error: 73.7034 - val_loss: 6548.3364 - val_mean_absolute_error: 69.2680\n",
      "Epoch 57/300\n",
      "9/9 [==============================] - 0s 17ms/step - loss: 6979.1592 - mean_absolute_error: 73.4903 - val_loss: 6504.0244 - val_mean_absolute_error: 69.0337\n",
      "Epoch 58/300\n",
      "9/9 [==============================] - 0s 16ms/step - loss: 6923.0962 - mean_absolute_error: 73.2128 - val_loss: 6456.5117 - val_mean_absolute_error: 68.7820\n",
      "Epoch 59/300\n",
      "9/9 [==============================] - 0s 16ms/step - loss: 6877.9648 - mean_absolute_error: 72.9680 - val_loss: 6404.8672 - val_mean_absolute_error: 68.5077\n",
      "Epoch 60/300\n",
      "9/9 [==============================] - 0s 16ms/step - loss: 6802.1187 - mean_absolute_error: 72.5956 - val_loss: 6348.1460 - val_mean_absolute_error: 68.2055\n",
      "Epoch 61/300\n",
      "9/9 [==============================] - 0s 16ms/step - loss: 6749.6025 - mean_absolute_error: 72.3225 - val_loss: 6285.1245 - val_mean_absolute_error: 67.8685\n",
      "Epoch 62/300\n",
      "9/9 [==============================] - 0s 16ms/step - loss: 6668.2402 - mean_absolute_error: 71.9074 - val_loss: 6214.2183 - val_mean_absolute_error: 67.4875\n",
      "Epoch 63/300\n",
      "9/9 [==============================] - 0s 16ms/step - loss: 6581.2822 - mean_absolute_error: 71.4677 - val_loss: 6133.1772 - val_mean_absolute_error: 67.0493\n",
      "Epoch 64/300\n",
      "9/9 [==============================] - 0s 16ms/step - loss: 6499.5381 - mean_absolute_error: 71.0601 - val_loss: 6040.1855 - val_mean_absolute_error: 66.5425\n",
      "Epoch 65/300\n",
      "9/9 [==============================] - 0s 16ms/step - loss: 6372.6978 - mean_absolute_error: 70.3778 - val_loss: 5933.6025 - val_mean_absolute_error: 65.9560\n",
      "Epoch 66/300\n",
      "9/9 [==============================] - 0s 16ms/step - loss: 6245.3081 - mean_absolute_error: 69.7195 - val_loss: 5813.7422 - val_mean_absolute_error: 65.2890\n",
      "Epoch 67/300\n",
      "9/9 [==============================] - 0s 16ms/step - loss: 6133.9751 - mean_absolute_error: 69.1084 - val_loss: 5680.6548 - val_mean_absolute_error: 64.5389\n",
      "Epoch 68/300\n",
      "9/9 [==============================] - 0s 16ms/step - loss: 5934.0146 - mean_absolute_error: 68.0646 - val_loss: 5533.0400 - val_mean_absolute_error: 63.6949\n",
      "Epoch 69/300\n",
      "9/9 [==============================] - 0s 16ms/step - loss: 5768.8477 - mean_absolute_error: 67.1302 - val_loss: 5371.0688 - val_mean_absolute_error: 62.7537\n",
      "Epoch 70/300\n",
      "9/9 [==============================] - 0s 16ms/step - loss: 5610.8105 - mean_absolute_error: 66.2568 - val_loss: 5199.0850 - val_mean_absolute_error: 61.7364\n",
      "Epoch 71/300\n",
      "9/9 [==============================] - 0s 16ms/step - loss: 5388.4668 - mean_absolute_error: 64.9465 - val_loss: 5023.8257 - val_mean_absolute_error: 60.6798\n",
      "Epoch 72/300\n",
      "9/9 [==============================] - 0s 16ms/step - loss: 5223.5034 - mean_absolute_error: 64.0202 - val_loss: 4857.0059 - val_mean_absolute_error: 59.6547\n",
      "Epoch 73/300\n",
      "9/9 [==============================] - 0s 16ms/step - loss: 5031.6504 - mean_absolute_error: 62.8542 - val_loss: 4705.6641 - val_mean_absolute_error: 58.7070\n",
      "Epoch 74/300\n",
      "9/9 [==============================] - 0s 16ms/step - loss: 4910.9497 - mean_absolute_error: 62.1244 - val_loss: 4570.9766 - val_mean_absolute_error: 57.8478\n",
      "Epoch 75/300\n",
      "9/9 [==============================] - 0s 16ms/step - loss: 4740.0532 - mean_absolute_error: 61.0720 - val_loss: 4448.5049 - val_mean_absolute_error: 57.0524\n",
      "Epoch 76/300\n",
      "9/9 [==============================] - 0s 16ms/step - loss: 4625.7246 - mean_absolute_error: 60.3498 - val_loss: 4333.3540 - val_mean_absolute_error: 56.2915\n",
      "Epoch 77/300\n",
      "9/9 [==============================] - 0s 16ms/step - loss: 4552.1147 - mean_absolute_error: 59.7982 - val_loss: 4222.1553 - val_mean_absolute_error: 55.5453\n",
      "Epoch 78/300\n",
      "9/9 [==============================] - 0s 16ms/step - loss: 4384.7251 - mean_absolute_error: 58.7900 - val_loss: 4111.9229 - val_mean_absolute_error: 54.7943\n",
      "Epoch 79/300\n",
      "9/9 [==============================] - 0s 16ms/step - loss: 4275.7061 - mean_absolute_error: 58.0442 - val_loss: 3999.2346 - val_mean_absolute_error: 54.0149\n",
      "Epoch 80/300\n",
      "9/9 [==============================] - 0s 17ms/step - loss: 4138.9175 - mean_absolute_error: 57.1096 - val_loss: 3882.3193 - val_mean_absolute_error: 53.1938\n",
      "Epoch 81/300\n",
      "9/9 [==============================] - 0s 16ms/step - loss: 3975.5469 - mean_absolute_error: 56.0084 - val_loss: 3759.7666 - val_mean_absolute_error: 52.3194\n",
      "Epoch 82/300\n",
      "9/9 [==============================] - 0s 17ms/step - loss: 3921.7671 - mean_absolute_error: 55.6377 - val_loss: 3631.2744 - val_mean_absolute_error: 51.3873\n",
      "Epoch 83/300\n",
      "9/9 [==============================] - 0s 15ms/step - loss: 3781.8821 - mean_absolute_error: 54.6539 - val_loss: 3496.7883 - val_mean_absolute_error: 50.3941\n",
      "Epoch 84/300\n",
      "9/9 [==============================] - 0s 16ms/step - loss: 3565.8696 - mean_absolute_error: 53.1400 - val_loss: 3356.4761 - val_mean_absolute_error: 49.3375\n",
      "Epoch 85/300\n",
      "9/9 [==============================] - 0s 16ms/step - loss: 3400.1594 - mean_absolute_error: 51.8671 - val_loss: 3211.2102 - val_mean_absolute_error: 48.2198\n",
      "Epoch 86/300\n",
      "9/9 [==============================] - 0s 16ms/step - loss: 3252.3286 - mean_absolute_error: 50.7647 - val_loss: 3064.0588 - val_mean_absolute_error: 47.0607\n",
      "Epoch 87/300\n",
      "9/9 [==============================] - 0s 16ms/step - loss: 3090.8608 - mean_absolute_error: 49.3970 - val_loss: 2917.3386 - val_mean_absolute_error: 45.8753\n",
      "Epoch 88/300\n",
      "9/9 [==============================] - 0s 16ms/step - loss: 2986.2417 - mean_absolute_error: 48.6817 - val_loss: 2775.0764 - val_mean_absolute_error: 44.6952\n",
      "Epoch 89/300\n",
      "9/9 [==============================] - 0s 16ms/step - loss: 2844.6558 - mean_absolute_error: 47.4253 - val_loss: 2639.5234 - val_mean_absolute_error: 43.5399\n",
      "Epoch 90/300\n",
      "9/9 [==============================] - 0s 17ms/step - loss: 2681.9612 - mean_absolute_error: 46.1312 - val_loss: 2512.5371 - val_mean_absolute_error: 42.4279\n",
      "Epoch 91/300\n",
      "9/9 [==============================] - 0s 16ms/step - loss: 2542.2590 - mean_absolute_error: 44.8431 - val_loss: 2393.7454 - val_mean_absolute_error: 41.3594\n",
      "Epoch 92/300\n",
      "9/9 [==============================] - 0s 16ms/step - loss: 2381.8201 - mean_absolute_error: 43.4990 - val_loss: 2282.7622 - val_mean_absolute_error: 40.3348\n",
      "Epoch 93/300\n",
      "9/9 [==============================] - 0s 16ms/step - loss: 2306.6948 - mean_absolute_error: 42.7668 - val_loss: 2178.0283 - val_mean_absolute_error: 39.3434\n",
      "Epoch 94/300\n",
      "9/9 [==============================] - 0s 16ms/step - loss: 2212.6379 - mean_absolute_error: 41.9191 - val_loss: 2077.9790 - val_mean_absolute_error: 38.3733\n",
      "Epoch 95/300\n",
      "9/9 [==============================] - 0s 16ms/step - loss: 2109.3579 - mean_absolute_error: 40.8661 - val_loss: 1980.8778 - val_mean_absolute_error: 37.4096\n",
      "Epoch 96/300\n",
      "9/9 [==============================] - 0s 16ms/step - loss: 2054.4846 - mean_absolute_error: 40.2729 - val_loss: 1885.3097 - val_mean_absolute_error: 36.4391\n"
     ]
    },
    {
     "name": "stdout",
     "output_type": "stream",
     "text": [
      "Epoch 97/300\n",
      "9/9 [==============================] - 0s 15ms/step - loss: 1890.9973 - mean_absolute_error: 38.7117 - val_loss: 1789.4376 - val_mean_absolute_error: 35.4424\n",
      "Epoch 98/300\n",
      "9/9 [==============================] - 0s 16ms/step - loss: 1833.6722 - mean_absolute_error: 37.9771 - val_loss: 1692.4064 - val_mean_absolute_error: 34.4082\n",
      "Epoch 99/300\n",
      "9/9 [==============================] - 0s 16ms/step - loss: 1769.8535 - mean_absolute_error: 37.3617 - val_loss: 1594.0549 - val_mean_absolute_error: 33.3309\n",
      "Epoch 100/300\n",
      "9/9 [==============================] - 0s 16ms/step - loss: 1624.0366 - mean_absolute_error: 35.7314 - val_loss: 1496.0580 - val_mean_absolute_error: 32.2235\n",
      "Epoch 101/300\n",
      "9/9 [==============================] - 0s 16ms/step - loss: 1516.0292 - mean_absolute_error: 34.5730 - val_loss: 1402.4219 - val_mean_absolute_error: 31.1273\n",
      "Epoch 102/300\n",
      "9/9 [==============================] - 0s 17ms/step - loss: 1509.1223 - mean_absolute_error: 34.3552 - val_loss: 1316.1986 - val_mean_absolute_error: 30.0795\n",
      "Epoch 103/300\n",
      "9/9 [==============================] - 0s 17ms/step - loss: 1355.6829 - mean_absolute_error: 32.6408 - val_loss: 1238.4574 - val_mean_absolute_error: 29.0985\n",
      "Epoch 104/300\n",
      "9/9 [==============================] - 0s 17ms/step - loss: 1286.6373 - mean_absolute_error: 31.6459 - val_loss: 1167.4933 - val_mean_absolute_error: 28.1699\n",
      "Epoch 105/300\n",
      "9/9 [==============================] - 0s 16ms/step - loss: 1224.6350 - mean_absolute_error: 30.9133 - val_loss: 1101.5468 - val_mean_absolute_error: 27.2769\n",
      "Epoch 106/300\n",
      "9/9 [==============================] - 0s 16ms/step - loss: 1145.2225 - mean_absolute_error: 29.8807 - val_loss: 1039.6691 - val_mean_absolute_error: 26.4105\n",
      "Epoch 107/300\n",
      "9/9 [==============================] - 0s 16ms/step - loss: 1148.4200 - mean_absolute_error: 29.7774 - val_loss: 981.1219 - val_mean_absolute_error: 25.5637\n",
      "Epoch 108/300\n",
      "9/9 [==============================] - 0s 16ms/step - loss: 1019.1290 - mean_absolute_error: 28.0362 - val_loss: 925.4525 - val_mean_absolute_error: 24.7328\n",
      "Epoch 109/300\n",
      "9/9 [==============================] - 0s 16ms/step - loss: 1019.1298 - mean_absolute_error: 27.8701 - val_loss: 872.2183 - val_mean_absolute_error: 23.9156\n",
      "Epoch 110/300\n",
      "9/9 [==============================] - 0s 16ms/step - loss: 945.9799 - mean_absolute_error: 26.8208 - val_loss: 820.7547 - val_mean_absolute_error: 23.1075\n",
      "Epoch 111/300\n",
      "9/9 [==============================] - 0s 16ms/step - loss: 869.7504 - mean_absolute_error: 25.8249 - val_loss: 770.8575 - val_mean_absolute_error: 22.3079\n",
      "Epoch 112/300\n",
      "9/9 [==============================] - 0s 16ms/step - loss: 849.4058 - mean_absolute_error: 25.2601 - val_loss: 721.8287 - val_mean_absolute_error: 21.5106\n",
      "Epoch 113/300\n",
      "9/9 [==============================] - 0s 16ms/step - loss: 806.6943 - mean_absolute_error: 24.7187 - val_loss: 672.5911 - val_mean_absolute_error: 20.6991\n",
      "Epoch 114/300\n",
      "9/9 [==============================] - 0s 16ms/step - loss: 734.7266 - mean_absolute_error: 23.4280 - val_loss: 623.0877 - val_mean_absolute_error: 19.8728\n",
      "Epoch 115/300\n",
      "9/9 [==============================] - 0s 16ms/step - loss: 661.5598 - mean_absolute_error: 22.2507 - val_loss: 572.3082 - val_mean_absolute_error: 19.0136\n",
      "Epoch 116/300\n",
      "9/9 [==============================] - 0s 16ms/step - loss: 660.2349 - mean_absolute_error: 21.8800 - val_loss: 520.0503 - val_mean_absolute_error: 18.1117\n",
      "Epoch 117/300\n",
      "9/9 [==============================] - 0s 16ms/step - loss: 567.1591 - mean_absolute_error: 20.3006 - val_loss: 467.1382 - val_mean_absolute_error: 17.1629\n",
      "Epoch 118/300\n",
      "9/9 [==============================] - 0s 16ms/step - loss: 550.5247 - mean_absolute_error: 19.8587 - val_loss: 416.2351 - val_mean_absolute_error: 16.1957\n",
      "Epoch 119/300\n",
      "9/9 [==============================] - 0s 16ms/step - loss: 493.4246 - mean_absolute_error: 18.6054 - val_loss: 370.9637 - val_mean_absolute_error: 15.2770\n",
      "Epoch 120/300\n",
      "9/9 [==============================] - 0s 16ms/step - loss: 441.2334 - mean_absolute_error: 17.4844 - val_loss: 333.7199 - val_mean_absolute_error: 14.4711\n",
      "Epoch 121/300\n",
      "9/9 [==============================] - 0s 16ms/step - loss: 370.1546 - mean_absolute_error: 15.7483 - val_loss: 304.4610 - val_mean_absolute_error: 13.8050\n",
      "Epoch 122/300\n",
      "9/9 [==============================] - 0s 16ms/step - loss: 372.8816 - mean_absolute_error: 15.8360 - val_loss: 280.5768 - val_mean_absolute_error: 13.2391\n",
      "Epoch 123/300\n",
      "9/9 [==============================] - 0s 16ms/step - loss: 356.2213 - mean_absolute_error: 15.1424 - val_loss: 259.7104 - val_mean_absolute_error: 12.7333\n",
      "Epoch 124/300\n",
      "9/9 [==============================] - 0s 16ms/step - loss: 337.7755 - mean_absolute_error: 14.6023 - val_loss: 241.0276 - val_mean_absolute_error: 12.2662\n",
      "Epoch 125/300\n",
      "9/9 [==============================] - 0s 16ms/step - loss: 283.1592 - mean_absolute_error: 13.3394 - val_loss: 224.0243 - val_mean_absolute_error: 11.8267\n",
      "Epoch 126/300\n",
      "9/9 [==============================] - 0s 16ms/step - loss: 289.5753 - mean_absolute_error: 13.2604 - val_loss: 208.6258 - val_mean_absolute_error: 11.4155\n",
      "Epoch 127/300\n",
      "9/9 [==============================] - 0s 16ms/step - loss: 260.8825 - mean_absolute_error: 12.5342 - val_loss: 194.3724 - val_mean_absolute_error: 11.0198\n",
      "Epoch 128/300\n",
      "9/9 [==============================] - 0s 16ms/step - loss: 255.7794 - mean_absolute_error: 11.9019 - val_loss: 181.2148 - val_mean_absolute_error: 10.6385\n",
      "Epoch 129/300\n",
      "9/9 [==============================] - 0s 16ms/step - loss: 234.4323 - mean_absolute_error: 11.5362 - val_loss: 169.0943 - val_mean_absolute_error: 10.2718\n",
      "Epoch 130/300\n",
      "9/9 [==============================] - 0s 16ms/step - loss: 229.3056 - mean_absolute_error: 10.9889 - val_loss: 157.9834 - val_mean_absolute_error: 9.9218\n",
      "Epoch 131/300\n",
      "9/9 [==============================] - 0s 15ms/step - loss: 204.8017 - mean_absolute_error: 10.0277 - val_loss: 147.9949 - val_mean_absolute_error: 9.5933\n",
      "Epoch 132/300\n",
      "9/9 [==============================] - 0s 15ms/step - loss: 195.6913 - mean_absolute_error: 9.5061 - val_loss: 138.8893 - val_mean_absolute_error: 9.2826\n",
      "Epoch 133/300\n",
      "9/9 [==============================] - 0s 16ms/step - loss: 191.0197 - mean_absolute_error: 9.1604 - val_loss: 130.4917 - val_mean_absolute_error: 8.9860\n",
      "Epoch 134/300\n",
      "9/9 [==============================] - 0s 16ms/step - loss: 204.3617 - mean_absolute_error: 9.5038 - val_loss: 122.6103 - val_mean_absolute_error: 8.6944\n",
      "Epoch 135/300\n",
      "9/9 [==============================] - 0s 16ms/step - loss: 183.9122 - mean_absolute_error: 9.1437 - val_loss: 115.1647 - val_mean_absolute_error: 8.4040\n",
      "Epoch 136/300\n",
      "9/9 [==============================] - 0s 15ms/step - loss: 172.1767 - mean_absolute_error: 8.5364 - val_loss: 108.3276 - val_mean_absolute_error: 8.1227\n",
      "Epoch 137/300\n",
      "9/9 [==============================] - 0s 15ms/step - loss: 145.0642 - mean_absolute_error: 7.2954 - val_loss: 102.3096 - val_mean_absolute_error: 7.8630\n",
      "Epoch 138/300\n",
      "9/9 [==============================] - 0s 16ms/step - loss: 160.1386 - mean_absolute_error: 7.6210 - val_loss: 96.8875 - val_mean_absolute_error: 7.6181\n",
      "Epoch 139/300\n",
      "9/9 [==============================] - 0s 16ms/step - loss: 143.0092 - mean_absolute_error: 7.5700 - val_loss: 91.5979 - val_mean_absolute_error: 7.3689\n",
      "Epoch 140/300\n",
      "9/9 [==============================] - 0s 16ms/step - loss: 136.9828 - mean_absolute_error: 7.1822 - val_loss: 87.0129 - val_mean_absolute_error: 7.1443\n",
      "Epoch 141/300\n",
      "9/9 [==============================] - 0s 16ms/step - loss: 175.5930 - mean_absolute_error: 8.1559 - val_loss: 82.5608 - val_mean_absolute_error: 6.9180\n",
      "Epoch 142/300\n",
      "9/9 [==============================] - 0s 16ms/step - loss: 135.7041 - mean_absolute_error: 7.5879 - val_loss: 78.3418 - val_mean_absolute_error: 6.6948\n",
      "Epoch 143/300\n",
      "9/9 [==============================] - 0s 17ms/step - loss: 144.9321 - mean_absolute_error: 7.8872 - val_loss: 74.1284 - val_mean_absolute_error: 6.4591\n",
      "Epoch 144/300\n",
      "9/9 [==============================] - 0s 16ms/step - loss: 139.3835 - mean_absolute_error: 7.6106 - val_loss: 69.9886 - val_mean_absolute_error: 6.2109\n",
      "Epoch 145/300\n"
     ]
    },
    {
     "name": "stdout",
     "output_type": "stream",
     "text": [
      "9/9 [==============================] - 0s 16ms/step - loss: 135.7704 - mean_absolute_error: 7.7629 - val_loss: 66.0321 - val_mean_absolute_error: 5.9544\n",
      "Epoch 146/300\n",
      "9/9 [==============================] - 0s 16ms/step - loss: 119.6418 - mean_absolute_error: 7.2096 - val_loss: 62.3072 - val_mean_absolute_error: 5.6921\n",
      "Epoch 147/300\n",
      "9/9 [==============================] - 0s 16ms/step - loss: 124.3193 - mean_absolute_error: 7.2971 - val_loss: 58.8952 - val_mean_absolute_error: 5.4357\n",
      "Epoch 148/300\n",
      "9/9 [==============================] - 0s 15ms/step - loss: 132.3061 - mean_absolute_error: 7.7860 - val_loss: 55.7410 - val_mean_absolute_error: 5.2209\n",
      "Epoch 149/300\n",
      "9/9 [==============================] - 0s 15ms/step - loss: 117.1562 - mean_absolute_error: 7.5523 - val_loss: 52.8570 - val_mean_absolute_error: 5.0709\n",
      "Epoch 150/300\n",
      "9/9 [==============================] - 0s 16ms/step - loss: 101.4055 - mean_absolute_error: 7.0511 - val_loss: 50.8347 - val_mean_absolute_error: 4.9883\n",
      "Epoch 151/300\n",
      "9/9 [==============================] - 0s 16ms/step - loss: 110.6906 - mean_absolute_error: 7.1107 - val_loss: 49.6281 - val_mean_absolute_error: 4.9495\n",
      "Epoch 152/300\n",
      "9/9 [==============================] - 0s 15ms/step - loss: 111.4156 - mean_absolute_error: 7.3686 - val_loss: 49.0603 - val_mean_absolute_error: 4.9519\n",
      "Epoch 153/300\n",
      "9/9 [==============================] - 0s 16ms/step - loss: 110.1424 - mean_absolute_error: 7.3404 - val_loss: 49.0651 - val_mean_absolute_error: 4.9937\n",
      "Epoch 154/300\n",
      "9/9 [==============================] - 0s 16ms/step - loss: 112.1517 - mean_absolute_error: 7.2476 - val_loss: 49.3909 - val_mean_absolute_error: 5.0423\n",
      "Epoch 155/300\n",
      "9/9 [==============================] - 0s 15ms/step - loss: 91.9936 - mean_absolute_error: 6.8981 - val_loss: 49.7735 - val_mean_absolute_error: 5.0838\n",
      "Epoch 156/300\n",
      "9/9 [==============================] - 0s 15ms/step - loss: 105.2801 - mean_absolute_error: 7.2638 - val_loss: 49.8417 - val_mean_absolute_error: 5.0880\n",
      "Epoch 157/300\n",
      "9/9 [==============================] - 0s 16ms/step - loss: 99.5844 - mean_absolute_error: 7.0232 - val_loss: 49.8036 - val_mean_absolute_error: 5.0802\n",
      "Epoch 158/300\n",
      "9/9 [==============================] - 0s 16ms/step - loss: 100.0474 - mean_absolute_error: 7.2133 - val_loss: 49.6008 - val_mean_absolute_error: 5.0527\n",
      "Epoch 159/300\n",
      "9/9 [==============================] - 0s 15ms/step - loss: 85.9597 - mean_absolute_error: 6.8526 - val_loss: 49.5204 - val_mean_absolute_error: 5.0383\n",
      "Epoch 160/300\n",
      "9/9 [==============================] - 0s 15ms/step - loss: 108.3154 - mean_absolute_error: 7.3406 - val_loss: 49.5538 - val_mean_absolute_error: 5.0390\n",
      "Epoch 161/300\n",
      "9/9 [==============================] - 0s 16ms/step - loss: 108.4160 - mean_absolute_error: 7.3430 - val_loss: 49.6503 - val_mean_absolute_error: 5.0483\n",
      "Epoch 162/300\n",
      "9/9 [==============================] - 0s 15ms/step - loss: 94.8673 - mean_absolute_error: 7.2282 - val_loss: 49.5969 - val_mean_absolute_error: 5.0361\n",
      "Epoch 163/300\n",
      "9/9 [==============================] - 0s 15ms/step - loss: 97.6342 - mean_absolute_error: 7.1184 - val_loss: 49.4849 - val_mean_absolute_error: 5.0074\n",
      "Epoch 164/300\n",
      "9/9 [==============================] - 0s 15ms/step - loss: 110.7676 - mean_absolute_error: 7.2157 - val_loss: 49.5125 - val_mean_absolute_error: 5.0052\n"
     ]
    }
   ],
   "source": [
    "window_train,window_val = data_windowing(train_df,val_df)\n",
    "train = window_train.map(data_map)\n",
    "#test = window_test.map(data_map)\n",
    "val = window_val.map(data_map)\n",
    "\n",
    "early_stopping = tf.keras.callbacks.EarlyStopping(monitor='loss',\n",
    "                                                patience=5,\n",
    "                                                mode='min')\n",
    "\n",
    "tensorboard_callback = TensorBoard(log_dir=\"./logs\", histogram_freq=2)\n",
    "\n",
    "history = lstm_model.fit(train, epochs=300,\n",
    "                         validation_data=val,\n",
    "                         callbacks=[early_stopping, tensorboard_callback])\n",
    "\n",
    "\n"
   ]
  },
  {
   "cell_type": "code",
   "execution_count": 12,
   "id": "eba7846a",
   "metadata": {},
   "outputs": [
    {
     "data": {
      "image/png": "[encoded data removed]",
      "text/plain": [
       "<Figure size 720x576 with 1 Axes>"
      ]
     },
     "metadata": {
      "needs_background": "light"
     },
     "output_type": "display_data"
    }
   ],
   "source": [
    "pyplot.figure(figsize=(10,8))\n",
    "pyplot.title('Loss / Mean Squared Error')\n",
    "pyplot.plot(history.history['loss'], label='train')\n",
    "pyplot.plot(history.history['val_loss'], label='test')\n",
    "pyplot.legend()\n",
    "pyplot.show()"
   ]
  },
  {
   "cell_type": "code",
   "execution_count": 30,
   "id": "65d7dd7c",
   "metadata": {},
   "outputs": [
    {
     "data": {
      "text/plain": [
       "array([-122.878,   37.589])"
      ]
     },
     "execution_count": 30,
     "metadata": {},
     "output_type": "execute_result"
    }
   ],
   "source": [
    "list(val.take(1).as_numpy_iterator())[0][1][0][0]"
   ]
  },
  {
   "cell_type": "code",
   "execution_count": 33,
   "id": "81d81a1e",
   "metadata": {
    "scrolled": true
   },
   "outputs": [
    {
     "data": {
      "text/plain": [
       "(1, 20, 2)"
      ]
     },
     "execution_count": 33,
     "metadata": {},
     "output_type": "execute_result"
    }
   ],
   "source": [
    "np.array([list(val.take(1).as_numpy_iterator())[0][0][0]]).shape"
   ]
  },
  {
   "cell_type": "code",
   "execution_count": 23,
   "id": "6f30f250",
   "metadata": {},
   "outputs": [
    {
     "data": {
      "text/plain": [
       "(None, 20, 2)"
      ]
     },
     "execution_count": 23,
     "metadata": {},
     "output_type": "execute_result"
    }
   ],
   "source": [
    "lstm_model.layers[0].input_shape"
   ]
  },
  {
   "cell_type": "code",
   "execution_count": 40,
   "id": "19df4a1f",
   "metadata": {},
   "outputs": [
    {
     "data": {
      "text/plain": [
       "(1, 20, 2)"
      ]
     },
     "execution_count": 40,
     "metadata": {},
     "output_type": "execute_result"
    }
   ],
   "source": [
    "np.array([val_df[:20]])"
   ]
  },
  {
   "cell_type": "code",
   "execution_count": 60,
   "id": "4aa50f36",
   "metadata": {},
   "outputs": [
    {
     "data": {
      "text/html": [
       "<div>\n",
       "<style scoped>\n",
       "    .dataframe tbody tr th:only-of-type {\n",
       "        vertical-align: middle;\n",
       "    }\n",
       "\n",
       "    .dataframe tbody tr th {\n",
       "        vertical-align: top;\n",
       "    }\n",
       "\n",
       "    .dataframe thead th {\n",
       "        text-align: right;\n",
       "    }\n",
       "</style>\n",
       "<table border=\"1\" class=\"dataframe\">\n",
       "  <thead>\n",
       "    <tr style=\"text-align: right;\">\n",
       "      <th></th>\n",
       "      <th>location-long</th>\n",
       "      <th>location-lat</th>\n",
       "    </tr>\n",
       "  </thead>\n",
       "  <tbody>\n",
       "    <tr>\n",
       "      <th>290</th>\n",
       "      <td>-123.140</td>\n",
       "      <td>37.667</td>\n",
       "    </tr>\n",
       "    <tr>\n",
       "      <th>291</th>\n",
       "      <td>-122.513</td>\n",
       "      <td>37.741</td>\n",
       "    </tr>\n",
       "    <tr>\n",
       "      <th>292</th>\n",
       "      <td>-123.055</td>\n",
       "      <td>37.716</td>\n",
       "    </tr>\n",
       "    <tr>\n",
       "      <th>293</th>\n",
       "      <td>-123.105</td>\n",
       "      <td>37.725</td>\n",
       "    </tr>\n",
       "    <tr>\n",
       "      <th>294</th>\n",
       "      <td>-123.265</td>\n",
       "      <td>37.712</td>\n",
       "    </tr>\n",
       "    <tr>\n",
       "      <th>295</th>\n",
       "      <td>-123.220</td>\n",
       "      <td>37.522</td>\n",
       "    </tr>\n",
       "    <tr>\n",
       "      <th>296</th>\n",
       "      <td>-123.032</td>\n",
       "      <td>37.607</td>\n",
       "    </tr>\n",
       "    <tr>\n",
       "      <th>297</th>\n",
       "      <td>-123.182</td>\n",
       "      <td>37.659</td>\n",
       "    </tr>\n",
       "    <tr>\n",
       "      <th>298</th>\n",
       "      <td>-122.890</td>\n",
       "      <td>37.546</td>\n",
       "    </tr>\n",
       "    <tr>\n",
       "      <th>299</th>\n",
       "      <td>-122.928</td>\n",
       "      <td>37.625</td>\n",
       "    </tr>\n",
       "    <tr>\n",
       "      <th>300</th>\n",
       "      <td>-122.907</td>\n",
       "      <td>37.781</td>\n",
       "    </tr>\n",
       "    <tr>\n",
       "      <th>301</th>\n",
       "      <td>-123.129</td>\n",
       "      <td>37.588</td>\n",
       "    </tr>\n",
       "    <tr>\n",
       "      <th>302</th>\n",
       "      <td>-122.951</td>\n",
       "      <td>37.591</td>\n",
       "    </tr>\n",
       "    <tr>\n",
       "      <th>303</th>\n",
       "      <td>-123.081</td>\n",
       "      <td>37.509</td>\n",
       "    </tr>\n",
       "    <tr>\n",
       "      <th>304</th>\n",
       "      <td>-123.017</td>\n",
       "      <td>37.495</td>\n",
       "    </tr>\n",
       "    <tr>\n",
       "      <th>305</th>\n",
       "      <td>-123.080</td>\n",
       "      <td>37.577</td>\n",
       "    </tr>\n",
       "    <tr>\n",
       "      <th>306</th>\n",
       "      <td>-122.968</td>\n",
       "      <td>37.511</td>\n",
       "    </tr>\n",
       "    <tr>\n",
       "      <th>307</th>\n",
       "      <td>-123.381</td>\n",
       "      <td>37.576</td>\n",
       "    </tr>\n",
       "    <tr>\n",
       "      <th>308</th>\n",
       "      <td>-122.904</td>\n",
       "      <td>37.427</td>\n",
       "    </tr>\n",
       "    <tr>\n",
       "      <th>309</th>\n",
       "      <td>-123.132</td>\n",
       "      <td>37.471</td>\n",
       "    </tr>\n",
       "    <tr>\n",
       "      <th>310</th>\n",
       "      <td>-122.878</td>\n",
       "      <td>37.589</td>\n",
       "    </tr>\n",
       "  </tbody>\n",
       "</table>\n",
       "</div>"
      ],
      "text/plain": [
       "     location-long  location-lat\n",
       "290       -123.140        37.667\n",
       "291       -122.513        37.741\n",
       "292       -123.055        37.716\n",
       "293       -123.105        37.725\n",
       "294       -123.265        37.712\n",
       "295       -123.220        37.522\n",
       "296       -123.032        37.607\n",
       "297       -123.182        37.659\n",
       "298       -122.890        37.546\n",
       "299       -122.928        37.625\n",
       "300       -122.907        37.781\n",
       "301       -123.129        37.588\n",
       "302       -122.951        37.591\n",
       "303       -123.081        37.509\n",
       "304       -123.017        37.495\n",
       "305       -123.080        37.577\n",
       "306       -122.968        37.511\n",
       "307       -123.381        37.576\n",
       "308       -122.904        37.427\n",
       "309       -123.132        37.471\n",
       "310       -122.878        37.589"
      ]
     },
     "execution_count": 60,
     "metadata": {},
     "output_type": "execute_result"
    }
   ],
   "source": [
    "val_df[:21]"
   ]
  },
  {
   "cell_type": "code",
   "execution_count": 50,
   "id": "a5e85350",
   "metadata": {},
   "outputs": [],
   "source": [
    "y_pred = lstm_model.predict(np.array([val_df[:20]]))[0]"
   ]
  },
  {
   "cell_type": "code",
   "execution_count": 61,
   "id": "cb366265",
   "metadata": {},
   "outputs": [
    {
     "data": {
      "text/plain": [
       "array([-119.34082 ,   34.686966], dtype=float32)"
      ]
     },
     "execution_count": 61,
     "metadata": {},
     "output_type": "execute_result"
    }
   ],
   "source": [
    "y_pred "
   ]
  },
  {
   "cell_type": "code",
   "execution_count": 59,
   "id": "ba1b6148",
   "metadata": {},
   "outputs": [
    {
     "data": {
      "image/png": "[encoded data removed]",
      "text/plain": [
       "<Figure size 720x576 with 1 Axes>"
      ]
     },
     "metadata": {
      "needs_background": "light"
     },
     "output_type": "display_data"
    }
   ],
   "source": [
    "pyplot.figure(figsize=(10,8))\n",
    "pyplot.plot(val_df[:20][\"location-long\"], val_df[:20][\"location-lat\"], label='true')\n",
    "pyplot.scatter(y_pred[0], y_pred[1],  c=\"red\", label='pred')\n",
    "pyplot.scatter(val_df.iloc[21][0], val_df.iloc[21][1],  c=\"green\", label='pred')\n",
    "pyplot.legend()\n",
    "pyplot.show()"
   ]
  },
  {
   "cell_type": "code",
   "execution_count": 45,
   "id": "c39ccf07",
   "metadata": {},
   "outputs": [
    {
     "data": {
      "text/plain": [
       "location-long   -123.031\n",
       "location-lat      37.511\n",
       "Name: 311, dtype: float64"
      ]
     },
     "execution_count": 45,
     "metadata": {},
     "output_type": "execute_result"
    }
   ],
   "source": [
    "val_df.iloc[21]"
   ]
  },
  {
   "cell_type": "code",
   "execution_count": 35,
   "id": "9ad13106",
   "metadata": {},
   "outputs": [
    {
     "data": {
      "text/plain": [
       "array([[-119.34082 ,   34.686966]], dtype=float32)"
      ]
     },
     "execution_count": 35,
     "metadata": {},
     "output_type": "execute_result"
    }
   ],
   "source": [
    "lstm_model.predict(np.array([list(val.take(1).as_numpy_iterator())[0][0][0]]))"
   ]
  },
  {
   "cell_type": "code",
   "execution_count": 11,
   "id": "501f5be2",
   "metadata": {},
   "outputs": [],
   "source": [
    "hist_df.reset_index(drop=True, inplace=True)"
   ]
  },
  {
   "cell_type": "code",
   "execution_count": 13,
   "id": "54f49828",
   "metadata": {},
   "outputs": [
    {
     "data": {
      "image/png": "[encoded data removed]",
      "text/plain": [
       "<Figure size 720x576 with 1 Axes>"
      ]
     },
     "metadata": {
      "needs_background": "light"
     },
     "output_type": "display_data"
    }
   ],
   "source": [
    "pyplot.figure(figsize=(10,8))\n",
    "pyplot.title('Loss / Mean Squared Error')\n",
    "pyplot.plot(hist_df['loss'], label='train')\n",
    "pyplot.plot(hist_df['val_loss'], label='test')\n",
    "pyplot.legend()\n",
    "pyplot.show()"
   ]
  },
  {
   "cell_type": "code",
   "execution_count": 16,
   "id": "c2b56fac",
   "metadata": {},
   "outputs": [
    {
     "data": {
      "text/plain": [
       "<MapDataset shapes: ((None, 20, 6), (None, 1, 2)), types: (tf.float64, tf.float64)>"
      ]
     },
     "execution_count": 16,
     "metadata": {},
     "output_type": "execute_result"
    }
   ],
   "source": [
    "test"
   ]
  },
  {
   "cell_type": "code",
   "execution_count": 14,
   "id": "5e1a8de3",
   "metadata": {},
   "outputs": [
    {
     "data": {
      "text/plain": [
       "array([[[-72.720345,  17.87779 ],\n",
       "        [-89.539696,  22.207363],\n",
       "        [-92.11757 ,  22.870949],\n",
       "        ...,\n",
       "        [-92.528435,  22.976711],\n",
       "        [-92.52844 ,  22.976711],\n",
       "        [-92.528435,  22.976711]],\n",
       "\n",
       "       [[-72.72038 ,  17.8778  ],\n",
       "        [-89.53972 ,  22.20737 ],\n",
       "        [-92.11756 ,  22.870947],\n",
       "        ...,\n",
       "        [-92.52844 ,  22.976711],\n",
       "        [-92.528435,  22.976711],\n",
       "        [-92.528435,  22.976711]],\n",
       "\n",
       "       [[-72.71978 ,  17.877653],\n",
       "        [-89.539635,  22.207352],\n",
       "        [-92.11756 ,  22.870945],\n",
       "        ...,\n",
       "        [-92.528435,  22.976711],\n",
       "        [-92.528435,  22.976711],\n",
       "        [-92.52844 ,  22.976713]],\n",
       "\n",
       "       ...,\n",
       "\n",
       "       [[-72.72013 ,  17.877739],\n",
       "        [-89.539696,  22.207367],\n",
       "        [-92.117546,  22.870943],\n",
       "        ...,\n",
       "        [-92.52843 ,  22.976707],\n",
       "        [-92.528435,  22.976711],\n",
       "        [-92.528435,  22.976711]],\n",
       "\n",
       "       [[-72.71868 ,  17.877377],\n",
       "        [-89.5395  ,  22.207314],\n",
       "        [-92.11753 ,  22.870941],\n",
       "        ...,\n",
       "        [-92.528435,  22.976711],\n",
       "        [-92.528435,  22.976711],\n",
       "        [-92.528435,  22.976711]],\n",
       "\n",
       "       [[-72.72001 ,  17.877699],\n",
       "        [-89.53968 ,  22.20736 ],\n",
       "        [-92.11756 ,  22.870947],\n",
       "        ...,\n",
       "        [-92.528435,  22.976711],\n",
       "        [-92.528435,  22.976711],\n",
       "        [-92.52843 ,  22.976707]]], dtype=float32)"
      ]
     },
     "execution_count": 14,
     "metadata": {},
     "output_type": "execute_result"
    }
   ],
   "source": [
    "predict = lstm_model.predict(test, verbose=0)\n",
    "predict"
   ]
  },
  {
   "cell_type": "code",
   "execution_count": 15,
   "id": "965edbe4",
   "metadata": {
    "scrolled": true
   },
   "outputs": [
    {
     "name": "stdout",
     "output_type": "stream",
     "text": [
      "[[[ -91.252    9.525]]\n",
      "\n",
      " [[ -91.148    9.519]]\n",
      "\n",
      " [[ -91.217    9.483]]\n",
      "\n",
      " [[ -91.262    9.564]]\n",
      "\n",
      " [[ -91.095    9.455]]\n",
      "\n",
      " [[ -91.301    9.631]]\n",
      "\n",
      " [[ -91.291    9.541]]\n",
      "\n",
      " [[ -91.237    9.429]]\n",
      "\n",
      " [[ -90.974    9.368]]\n",
      "\n",
      " [[ -90.797    9.218]]\n",
      "\n",
      " [[ -90.478    9.177]]\n",
      "\n",
      " [[ -90.48     9.161]]\n",
      "\n",
      " [[ -90.47     9.014]]\n",
      "\n",
      " [[ -90.045    8.954]]\n",
      "\n",
      " [[ -90.308    9.092]]\n",
      "\n",
      " [[ -90.027    8.951]]\n",
      "\n",
      " [[ -90.206    9.189]]\n",
      "\n",
      " [[ -90.212    9.054]]\n",
      "\n",
      " [[ -90.121    9.729]]\n",
      "\n",
      " [[ -90.226    9.727]]\n",
      "\n",
      " [[ -90.57     9.532]]\n",
      "\n",
      " [[ -90.385    9.429]]\n",
      "\n",
      " [[ -90.381    9.473]]\n",
      "\n",
      " [[ -90.777    8.904]]\n",
      "\n",
      " [[ -90.478    9.675]]\n",
      "\n",
      " [[ -90.471    9.707]]\n",
      "\n",
      " [[ -90.639    9.598]]\n",
      "\n",
      " [[ -90.284    9.656]]\n",
      "\n",
      " [[ -91.981    9.32 ]]\n",
      "\n",
      " [[ -90.031    9.678]]\n",
      "\n",
      " [[ -90.1      9.783]]\n",
      "\n",
      " [[-104.172   13.282]]]\n",
      "[[[-89.941   9.283]]\n",
      "\n",
      " [[-90.049   9.347]]\n",
      "\n",
      " [[-90.156   9.265]]\n",
      "\n",
      " [[-90.219   9.315]]\n",
      "\n",
      " [[-90.166   9.278]]\n",
      "\n",
      " [[-90.311   9.2  ]]\n",
      "\n",
      " [[-90.276   9.181]]\n",
      "\n",
      " [[-90.338   9.035]]\n",
      "\n",
      " [[-90.417   9.043]]\n",
      "\n",
      " [[-91.29    9.181]]\n",
      "\n",
      " [[-90.384   8.947]]\n",
      "\n",
      " [[-90.249   8.877]]]\n"
     ]
    }
   ],
   "source": [
    "for element in test.as_numpy_iterator():\n",
    "  print(element[1])"
   ]
  },
  {
   "cell_type": "code",
   "execution_count": 30,
   "id": "d9826721",
   "metadata": {},
   "outputs": [
    {
     "name": "stdout",
     "output_type": "stream",
     "text": [
      "Model: \"sequential\"\n",
      "_________________________________________________________________\n",
      "Layer (type)                 Output Shape              Param #   \n",
      "=================================================================\n",
      "lstm (LSTM)                  (None, 20, 32)            4992      \n",
      "_________________________________________________________________\n",
      "dense (Dense)                (None, 20, 2)             66        \n",
      "=================================================================\n",
      "Total params: 5,058\n",
      "Trainable params: 5,058\n",
      "Non-trainable params: 0\n",
      "_________________________________________________________________\n"
     ]
    }
   ],
   "source": [
    "lstm_model.summary()"
   ]
  },
  {
   "cell_type": "code",
   "execution_count": 39,
   "id": "e57900ca",
   "metadata": {},
   "outputs": [],
   "source": [
    "window_length = 20\n",
    "\n",
    "x_test = tf.keras.utils.timeseries_dataset_from_array(\n",
    "dfs[0][:20], targets=None,sequence_length = window_length, sequence_stride=1, sampling_rate=1,\n",
    "batch_size=32, shuffle=False, seed=None, start_index=None, end_index=None)"
   ]
  },
  {
   "cell_type": "code",
   "execution_count": 40,
   "id": "0f4abdb0",
   "metadata": {},
   "outputs": [
    {
     "data": {
      "text/plain": [
       "<BatchDataset shapes: (None, None, 6), types: tf.float64>"
      ]
     },
     "execution_count": 40,
     "metadata": {},
     "output_type": "execute_result"
    }
   ],
   "source": [
    "x_test"
   ]
  },
  {
   "cell_type": "code",
   "execution_count": 41,
   "id": "8cdac4a0",
   "metadata": {},
   "outputs": [
    {
     "data": {
      "text/plain": [
       "array([[[-72.72091 ,  17.877968],\n",
       "        [-89.539764,  22.207386],\n",
       "        [-92.11759 ,  22.870955],\n",
       "        [-92.472725,  22.962372],\n",
       "        [-92.520905,  22.974773],\n",
       "        [-92.52744 ,  22.97646 ],\n",
       "        [-92.52832 ,  22.976683],\n",
       "        [-92.52846 ,  22.976719],\n",
       "        [-92.52846 ,  22.976719],\n",
       "        [-92.52846 ,  22.976719],\n",
       "        [-92.52846 ,  22.976719],\n",
       "        [-92.52846 ,  22.976719],\n",
       "        [-92.52846 ,  22.976719],\n",
       "        [-92.52846 ,  22.976719],\n",
       "        [-92.52846 ,  22.976719],\n",
       "        [-92.52846 ,  22.976719],\n",
       "        [-92.52846 ,  22.976719],\n",
       "        [-92.52846 ,  22.976719],\n",
       "        [-92.52846 ,  22.976719],\n",
       "        [-92.52846 ,  22.976719]]], dtype=float32)"
      ]
     },
     "execution_count": 41,
     "metadata": {},
     "output_type": "execute_result"
    }
   ],
   "source": [
    "lstm_model.predict(x_test)"
   ]
  }
 ],
 "metadata": {
  "kernelspec": {
   "display_name": "Python 3 (ipykernel)",
   "language": "python",
   "name": "python3"
  },
  "language_info": {
   "codemirror_mode": {
    "name": "ipython",
    "version": 3
   },
   "file_extension": ".py",
   "mimetype": "text/x-python",
   "name": "python",
   "nbconvert_exporter": "python",
   "pygments_lexer": "ipython3",
   "version": "3.9.7"
  }
 },
 "nbformat": 4,
 "nbformat_minor": 5
}
