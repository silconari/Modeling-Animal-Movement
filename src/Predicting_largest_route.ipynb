{
 "cells": [
  {
   "cell_type": "code",
   "execution_count": 1,
   "id": "b66ea9c5",
   "metadata": {},
   "outputs": [
    {
     "name": "stderr",
     "output_type": "stream",
     "text": [
      "2021-10-21 12:36:10.325085: W tensorflow/stream_executor/platform/default/dso_loader.cc:64] Could not load dynamic library 'libcudart.so.11.0'; dlerror: libcudart.so.11.0: cannot open shared object file: No such file or directory\n",
      "2021-10-21 12:36:10.325122: I tensorflow/stream_executor/cuda/cudart_stub.cc:29] Ignore above cudart dlerror if you do not have a GPU set up on your machine.\n"
     ]
    }
   ],
   "source": [
    "import pandas as pd\n",
    "import glob\n",
    "import tensorflow as tf\n",
    "from tensorflow.data import Dataset\n",
    "from matplotlib import pyplot\n",
    "from tensorflow.keras.callbacks import TensorBoard\n",
    "import numpy as np"
   ]
  },
  {
   "cell_type": "code",
   "execution_count": 5,
   "id": "d04238eb",
   "metadata": {},
   "outputs": [],
   "source": [
    "df_23043 = pd.read_csv(\"../data/datasets_by_whale/1999CA-Bmu-23043.csv\")[[\"location-long\", \"location-lat\"]]"
   ]
  },
  {
   "cell_type": "code",
   "execution_count": 3,
   "id": "a583c580",
   "metadata": {},
   "outputs": [],
   "source": [
    "def split_data(df):\n",
    "\n",
    "    n = len(df)\n",
    "    train_df = df[0:int(n*0.7)]\n",
    "    val_df = df[int(n*0.7):]\n",
    "    #test_df = df[int(n*0.9):]\n",
    "\n",
    "    num_features = df.shape[1]\n",
    "    \n",
    "    return train_df, val_df#,test_df"
   ]
  },
  {
   "cell_type": "code",
   "execution_count": 6,
   "id": "00013e0e",
   "metadata": {},
   "outputs": [],
   "source": [
    "train_df,val_df = split_data(df_23043)"
   ]
  },
  {
   "cell_type": "code",
   "execution_count": 7,
   "id": "d2a33e8d",
   "metadata": {},
   "outputs": [],
   "source": [
    "def data_windowing(train_df,val_df):\n",
    "    n_points = 20\n",
    "    window_length = n_points+ 1 \n",
    "    \n",
    "    window_train = tf.keras.utils.timeseries_dataset_from_array(\n",
    "    train_df, targets=None,sequence_length = window_length, sequence_stride=1, sampling_rate=1,\n",
    "    batch_size=32, shuffle=False, seed=None, start_index=None, end_index=None)\n",
    "    \n",
    "    \"\"\"\n",
    "    window_test = tf.keras.utils.timeseries_dataset_from_array(\n",
    "    test_df, targets=None,sequence_length = window_length, sequence_stride=1, sampling_rate=1,\n",
    "    batch_size=32, shuffle=False, seed=None, start_index=None, end_index=None)\n",
    "    \"\"\"\n",
    "        \n",
    "    window_val = tf.keras.utils.timeseries_dataset_from_array(\n",
    "    val_df, targets=None,sequence_length = window_length, sequence_stride=1, sampling_rate=1,\n",
    "    batch_size=32, shuffle=False, seed=None, start_index=None, end_index=None)\n",
    "    \n",
    "    return window_train, window_val"
   ]
  },
  {
   "cell_type": "code",
   "execution_count": 8,
   "id": "fd8f7bbb",
   "metadata": {},
   "outputs": [],
   "source": [
    "def data_map(elem):\n",
    "    n_points = 20\n",
    "    window_length = n_points+ 1 \n",
    "    X,y = elem[:,:-1,:],elem[:,-1:,0:2]\n",
    "    X.set_shape([None, n_points, None])\n",
    "    y.set_shape([None, window_length - n_points, None])\n",
    "    \n",
    "    return (X,y)\n"
   ]
  },
  {
   "cell_type": "code",
   "execution_count": 9,
   "id": "75bdfac0",
   "metadata": {},
   "outputs": [
    {
     "name": "stderr",
     "output_type": "stream",
     "text": [
      "2021-10-21 12:36:13.609474: W tensorflow/stream_executor/platform/default/dso_loader.cc:64] Could not load dynamic library 'libcuda.so.1'; dlerror: libcuda.so.1: cannot open shared object file: No such file or directory\n",
      "2021-10-21 12:36:13.609514: W tensorflow/stream_executor/cuda/cuda_driver.cc:269] failed call to cuInit: UNKNOWN ERROR (303)\n",
      "2021-10-21 12:36:13.609530: I tensorflow/stream_executor/cuda/cuda_diagnostics.cc:156] kernel driver does not appear to be running on this host (DESKTOP-R3AGIN3): /proc/driver/nvidia/version does not exist\n",
      "2021-10-21 12:36:13.609719: I tensorflow/core/platform/cpu_feature_guard.cc:142] This TensorFlow binary is optimized with oneAPI Deep Neural Network Library (oneDNN) to use the following CPU instructions in performance-critical operations:  AVX2 FMA\n",
      "To enable them in other operations, rebuild TensorFlow with the appropriate compiler flags.\n"
     ]
    }
   ],
   "source": [
    "lstm_model = tf.keras.models.Sequential([\n",
    "    tf.keras.layers.LSTM(32, return_sequences=False),\n",
    "    tf.keras.layers.Dense(units=10),\n",
    "    tf.keras.layers.Dropout(rate=0.1),\n",
    "    tf.keras.layers.Dense(units=10),\n",
    "    tf.keras.layers.Dense(units=10),\n",
    "    tf.keras.layers.Dense(units=10),\n",
    "    tf.keras.layers.Dense(units=2)\n",
    "])"
   ]
  },
  {
   "cell_type": "code",
   "execution_count": 10,
   "id": "46122b61",
   "metadata": {},
   "outputs": [],
   "source": [
    "lstm_model.compile(loss=tf.losses.MeanSquaredError(),optimizer=tf.optimizers.Adam(learning_rate=0.0001),metrics=[tf.metrics.MeanAbsoluteError()])"
   ]
  },
  {
   "cell_type": "code",
   "execution_count": 11,
   "id": "14bcbc00",
   "metadata": {
    "scrolled": true
   },
   "outputs": [
    {
     "name": "stderr",
     "output_type": "stream",
     "text": [
      "2021-10-21 12:36:15.031092: I tensorflow/core/profiler/lib/profiler_session.cc:131] Profiler session initializing.\n",
      "2021-10-21 12:36:15.031135: I tensorflow/core/profiler/lib/profiler_session.cc:146] Profiler session started.\n",
      "2021-10-21 12:36:15.031181: I tensorflow/core/profiler/lib/profiler_session.cc:164] Profiler session tear down.\n",
      "2021-10-21 12:36:15.053374: I tensorflow/compiler/mlir/mlir_graph_optimization_pass.cc:185] None of the MLIR Optimization Passes are enabled (registered 2)\n"
     ]
    },
    {
     "name": "stdout",
     "output_type": "stream",
     "text": [
      "Epoch 1/100\n",
      "6/9 [===================>..........] - ETA: 0s - loss: 7861.3047 - mean_absolute_error: 77.7033"
     ]
    },
    {
     "name": "stderr",
     "output_type": "stream",
     "text": [
      "2021-10-21 12:36:16.524903: I tensorflow/core/profiler/lib/profiler_session.cc:131] Profiler session initializing.\n",
      "2021-10-21 12:36:16.524948: I tensorflow/core/profiler/lib/profiler_session.cc:146] Profiler session started.\n",
      "2021-10-21 12:36:16.544371: I tensorflow/core/profiler/lib/profiler_session.cc:66] Profiler session collecting data.\n",
      "2021-10-21 12:36:16.550598: I tensorflow/core/profiler/lib/profiler_session.cc:164] Profiler session tear down.\n",
      "2021-10-21 12:36:16.582236: I tensorflow/core/profiler/rpc/client/save_profile.cc:136] Creating directory: ./logs/train/plugins/profile/2021_10_21_12_36_16\n",
      "\n",
      "2021-10-21 12:36:16.598278: I tensorflow/core/profiler/rpc/client/save_profile.cc:142] Dumped gzipped tool data for trace.json.gz to ./logs/train/plugins/profile/2021_10_21_12_36_16/DESKTOP-R3AGIN3.trace.json.gz\n",
      "2021-10-21 12:36:16.611715: I tensorflow/core/profiler/rpc/client/save_profile.cc:136] Creating directory: ./logs/train/plugins/profile/2021_10_21_12_36_16\n",
      "\n",
      "2021-10-21 12:36:16.614723: I tensorflow/core/profiler/rpc/client/save_profile.cc:142] Dumped gzipped tool data for memory_profile.json.gz to ./logs/train/plugins/profile/2021_10_21_12_36_16/DESKTOP-R3AGIN3.memory_profile.json.gz\n",
      "2021-10-21 12:36:16.641877: I tensorflow/core/profiler/rpc/client/capture_profile.cc:251] Creating directory: ./logs/train/plugins/profile/2021_10_21_12_36_16\n",
      "Dumped tool data for xplane.pb to ./logs/train/plugins/profile/2021_10_21_12_36_16/DESKTOP-R3AGIN3.xplane.pb\n",
      "Dumped tool data for overview_page.pb to ./logs/train/plugins/profile/2021_10_21_12_36_16/DESKTOP-R3AGIN3.overview_page.pb\n",
      "Dumped tool data for input_pipeline.pb to ./logs/train/plugins/profile/2021_10_21_12_36_16/DESKTOP-R3AGIN3.input_pipeline.pb\n",
      "Dumped tool data for tensorflow_stats.pb to ./logs/train/plugins/profile/2021_10_21_12_36_16/DESKTOP-R3AGIN3.tensorflow_stats.pb\n",
      "Dumped tool data for kernel_stats.pb to ./logs/train/plugins/profile/2021_10_21_12_36_16/DESKTOP-R3AGIN3.kernel_stats.pb\n",
      "\n"
     ]
    },
    {
     "name": "stdout",
     "output_type": "stream",
     "text": [
      "9/9 [==============================] - 2s 77ms/step - loss: 7952.6509 - mean_absolute_error: 78.2269 - val_loss: 7397.1880 - val_mean_absolute_error: 73.6769\n",
      "Epoch 2/100\n",
      "9/9 [==============================] - 0s 18ms/step - loss: 7945.7686 - mean_absolute_error: 78.1801 - val_loss: 7389.3613 - val_mean_absolute_error: 73.6140\n",
      "Epoch 3/100\n",
      "9/9 [==============================] - 0s 17ms/step - loss: 7934.5073 - mean_absolute_error: 78.0968 - val_loss: 7381.3076 - val_mean_absolute_error: 73.5507\n",
      "Epoch 4/100\n",
      "9/9 [==============================] - 0s 18ms/step - loss: 7926.2192 - mean_absolute_error: 78.0471 - val_loss: 7372.9512 - val_mean_absolute_error: 73.4872\n",
      "Epoch 5/100\n",
      "9/9 [==============================] - 0s 17ms/step - loss: 7917.9326 - mean_absolute_error: 77.9903 - val_loss: 7364.2583 - val_mean_absolute_error: 73.4232\n",
      "Epoch 6/100\n",
      "9/9 [==============================] - 0s 18ms/step - loss: 7907.2002 - mean_absolute_error: 77.9229 - val_loss: 7355.1714 - val_mean_absolute_error: 73.3587\n",
      "Epoch 7/100\n",
      "9/9 [==============================] - 0s 17ms/step - loss: 7896.5103 - mean_absolute_error: 77.8528 - val_loss: 7345.5215 - val_mean_absolute_error: 73.2926\n",
      "Epoch 8/100\n",
      "9/9 [==============================] - 0s 17ms/step - loss: 7885.1919 - mean_absolute_error: 77.7940 - val_loss: 7335.3081 - val_mean_absolute_error: 73.2253\n",
      "Epoch 9/100\n",
      "9/9 [==============================] - 0s 18ms/step - loss: 7876.0547 - mean_absolute_error: 77.7390 - val_loss: 7324.4653 - val_mean_absolute_error: 73.1563\n",
      "Epoch 10/100\n",
      "9/9 [==============================] - 0s 17ms/step - loss: 7862.1001 - mean_absolute_error: 77.6664 - val_loss: 7312.8838 - val_mean_absolute_error: 73.0854\n",
      "Epoch 11/100\n",
      "9/9 [==============================] - 0s 18ms/step - loss: 7850.9722 - mean_absolute_error: 77.6084 - val_loss: 7300.3311 - val_mean_absolute_error: 73.0116\n",
      "Epoch 12/100\n",
      "9/9 [==============================] - 0s 17ms/step - loss: 7836.1631 - mean_absolute_error: 77.5323 - val_loss: 7286.6841 - val_mean_absolute_error: 72.9348\n",
      "Epoch 13/100\n",
      "9/9 [==============================] - 0s 17ms/step - loss: 7822.8149 - mean_absolute_error: 77.4625 - val_loss: 7271.4834 - val_mean_absolute_error: 72.8528\n",
      "Epoch 14/100\n",
      "9/9 [==============================] - 0s 16ms/step - loss: 7802.7085 - mean_absolute_error: 77.3608 - val_loss: 7254.2773 - val_mean_absolute_error: 72.7636\n",
      "Epoch 15/100\n",
      "9/9 [==============================] - 0s 17ms/step - loss: 7783.6851 - mean_absolute_error: 77.2729 - val_loss: 7234.3833 - val_mean_absolute_error: 72.6646\n",
      "Epoch 16/100\n",
      "9/9 [==============================] - 0s 17ms/step - loss: 7763.6172 - mean_absolute_error: 77.1814 - val_loss: 7211.2915 - val_mean_absolute_error: 72.5536\n",
      "Epoch 17/100\n",
      "9/9 [==============================] - 0s 17ms/step - loss: 7742.5166 - mean_absolute_error: 77.0944 - val_loss: 7184.6675 - val_mean_absolute_error: 72.4294\n",
      "Epoch 18/100\n",
      "9/9 [==============================] - 0s 16ms/step - loss: 7711.0791 - mean_absolute_error: 76.9424 - val_loss: 7154.2954 - val_mean_absolute_error: 72.2898\n",
      "Epoch 19/100\n",
      "9/9 [==============================] - 0s 17ms/step - loss: 7682.2031 - mean_absolute_error: 76.8107 - val_loss: 7120.1938 - val_mean_absolute_error: 72.1324\n",
      "Epoch 20/100\n",
      "9/9 [==============================] - 0s 17ms/step - loss: 7647.0024 - mean_absolute_error: 76.6508 - val_loss: 7082.7690 - val_mean_absolute_error: 71.9557\n",
      "Epoch 21/100\n",
      "9/9 [==============================] - 0s 17ms/step - loss: 7609.5269 - mean_absolute_error: 76.4881 - val_loss: 7042.0410 - val_mean_absolute_error: 71.7566\n",
      "Epoch 22/100\n",
      "9/9 [==============================] - 0s 17ms/step - loss: 7563.7188 - mean_absolute_error: 76.2652 - val_loss: 6998.6143 - val_mean_absolute_error: 71.5357\n",
      "Epoch 23/100\n",
      "9/9 [==============================] - 0s 17ms/step - loss: 7511.4004 - mean_absolute_error: 76.0121 - val_loss: 6953.0088 - val_mean_absolute_error: 71.2942\n",
      "Epoch 24/100\n",
      "9/9 [==============================] - 0s 17ms/step - loss: 7450.4951 - mean_absolute_error: 75.7020 - val_loss: 6905.4438 - val_mean_absolute_error: 71.0361\n",
      "Epoch 25/100\n",
      "9/9 [==============================] - 0s 16ms/step - loss: 7407.0562 - mean_absolute_error: 75.4699 - val_loss: 6856.1934 - val_mean_absolute_error: 70.7697\n",
      "Epoch 26/100\n",
      "9/9 [==============================] - 0s 17ms/step - loss: 7349.8882 - mean_absolute_error: 75.1662 - val_loss: 6805.2339 - val_mean_absolute_error: 70.5007\n",
      "Epoch 27/100\n",
      "9/9 [==============================] - 0s 17ms/step - loss: 7290.6528 - mean_absolute_error: 74.8845 - val_loss: 6751.4600 - val_mean_absolute_error: 70.2242\n",
      "Epoch 28/100\n",
      "9/9 [==============================] - 0s 16ms/step - loss: 7240.9868 - mean_absolute_error: 74.6416 - val_loss: 6693.0459 - val_mean_absolute_error: 69.9300\n",
      "Epoch 29/100\n",
      "9/9 [==============================] - 0s 17ms/step - loss: 7163.0957 - mean_absolute_error: 74.2549 - val_loss: 6627.7534 - val_mean_absolute_error: 69.6063\n",
      "Epoch 30/100\n",
      "9/9 [==============================] - 0s 17ms/step - loss: 7115.4443 - mean_absolute_error: 74.0390 - val_loss: 6554.1382 - val_mean_absolute_error: 69.2459\n",
      "Epoch 31/100\n",
      "9/9 [==============================] - 0s 16ms/step - loss: 7013.2275 - mean_absolute_error: 73.5512 - val_loss: 6470.7173 - val_mean_absolute_error: 68.8389\n",
      "Epoch 32/100\n",
      "9/9 [==============================] - 0s 17ms/step - loss: 6917.7080 - mean_absolute_error: 73.0912 - val_loss: 6377.8262 - val_mean_absolute_error: 68.3786\n",
      "Epoch 33/100\n",
      "9/9 [==============================] - 0s 17ms/step - loss: 6824.5630 - mean_absolute_error: 72.6524 - val_loss: 6277.7383 - val_mean_absolute_error: 67.8645\n",
      "Epoch 34/100\n",
      "9/9 [==============================] - 0s 17ms/step - loss: 6720.8833 - mean_absolute_error: 72.1511 - val_loss: 6167.8896 - val_mean_absolute_error: 67.2750\n",
      "Epoch 35/100\n",
      "9/9 [==============================] - 0s 17ms/step - loss: 6555.2734 - mean_absolute_error: 71.3076 - val_loss: 6036.4038 - val_mean_absolute_error: 66.5464\n",
      "Epoch 36/100\n",
      "9/9 [==============================] - 0s 16ms/step - loss: 6393.5273 - mean_absolute_error: 70.4449 - val_loss: 5878.6216 - val_mean_absolute_error: 65.6589\n",
      "Epoch 37/100\n",
      "9/9 [==============================] - 0s 16ms/step - loss: 6229.1260 - mean_absolute_error: 69.5724 - val_loss: 5716.5684 - val_mean_absolute_error: 64.7448\n",
      "Epoch 38/100\n",
      "9/9 [==============================] - 0s 16ms/step - loss: 6055.0225 - mean_absolute_error: 68.6325 - val_loss: 5558.3638 - val_mean_absolute_error: 63.8484\n",
      "Epoch 39/100\n",
      "9/9 [==============================] - 0s 16ms/step - loss: 5885.4541 - mean_absolute_error: 67.6860 - val_loss: 5395.5786 - val_mean_absolute_error: 62.9190\n",
      "Epoch 40/100\n",
      "9/9 [==============================] - 0s 16ms/step - loss: 5695.3438 - mean_absolute_error: 66.6285 - val_loss: 5219.4629 - val_mean_absolute_error: 61.9063\n",
      "Epoch 41/100\n",
      "9/9 [==============================] - 0s 16ms/step - loss: 5500.6299 - mean_absolute_error: 65.5763 - val_loss: 5031.1475 - val_mean_absolute_error: 60.8092\n",
      "Epoch 42/100\n",
      "9/9 [==============================] - 0s 16ms/step - loss: 5311.1230 - mean_absolute_error: 64.4874 - val_loss: 4845.6704 - val_mean_absolute_error: 59.7018\n",
      "Epoch 43/100\n",
      "9/9 [==============================] - 0s 16ms/step - loss: 5115.0796 - mean_absolute_error: 63.3912 - val_loss: 4668.7300 - val_mean_absolute_error: 58.6152\n",
      "Epoch 44/100\n",
      "9/9 [==============================] - 0s 18ms/step - loss: 4913.3638 - mean_absolute_error: 62.0933 - val_loss: 4493.1279 - val_mean_absolute_error: 57.5109\n",
      "Epoch 45/100\n",
      "9/9 [==============================] - 0s 20ms/step - loss: 4705.6699 - mean_absolute_error: 60.8462 - val_loss: 4315.4507 - val_mean_absolute_error: 56.3703\n",
      "Epoch 46/100\n",
      "9/9 [==============================] - 0s 22ms/step - loss: 4510.4258 - mean_absolute_error: 59.6711 - val_loss: 4130.2334 - val_mean_absolute_error: 55.1583\n",
      "Epoch 47/100\n",
      "9/9 [==============================] - 0s 22ms/step - loss: 4332.4521 - mean_absolute_error: 58.4548 - val_loss: 3929.7839 - val_mean_absolute_error: 53.8211\n",
      "Epoch 48/100\n",
      "9/9 [==============================] - 0s 23ms/step - loss: 4177.3154 - mean_absolute_error: 57.5046 - val_loss: 3706.8584 - val_mean_absolute_error: 52.2997\n",
      "Epoch 49/100\n"
     ]
    },
    {
     "name": "stdout",
     "output_type": "stream",
     "text": [
      "9/9 [==============================] - 0s 21ms/step - loss: 3848.0544 - mean_absolute_error: 55.3107 - val_loss: 3468.0017 - val_mean_absolute_error: 50.6176\n",
      "Epoch 50/100\n",
      "9/9 [==============================] - 0s 20ms/step - loss: 3663.0024 - mean_absolute_error: 54.0298 - val_loss: 3246.1567 - val_mean_absolute_error: 48.9938\n",
      "Epoch 51/100\n",
      "9/9 [==============================] - 0s 19ms/step - loss: 3420.7546 - mean_absolute_error: 52.3136 - val_loss: 3048.0615 - val_mean_absolute_error: 47.4817\n",
      "Epoch 52/100\n",
      "9/9 [==============================] - 0s 19ms/step - loss: 3239.6191 - mean_absolute_error: 50.8967 - val_loss: 2860.7388 - val_mean_absolute_error: 45.9895\n",
      "Epoch 53/100\n",
      "9/9 [==============================] - 0s 20ms/step - loss: 3021.1965 - mean_absolute_error: 49.2337 - val_loss: 2673.8679 - val_mean_absolute_error: 44.4378\n",
      "Epoch 54/100\n",
      "9/9 [==============================] - 0s 17ms/step - loss: 2813.5095 - mean_absolute_error: 47.4924 - val_loss: 2475.0791 - val_mean_absolute_error: 42.7155\n",
      "Epoch 55/100\n",
      "9/9 [==============================] - 0s 17ms/step - loss: 2653.1719 - mean_absolute_error: 46.1191 - val_loss: 2256.4009 - val_mean_absolute_error: 40.7342\n",
      "Epoch 56/100\n",
      "9/9 [==============================] - 0s 17ms/step - loss: 2403.5908 - mean_absolute_error: 43.9050 - val_loss: 2034.9982 - val_mean_absolute_error: 38.6316\n",
      "Epoch 57/100\n",
      "9/9 [==============================] - 0s 17ms/step - loss: 2170.8767 - mean_absolute_error: 41.6958 - val_loss: 1836.3965 - val_mean_absolute_error: 36.6465\n",
      "Epoch 58/100\n",
      "9/9 [==============================] - 0s 21ms/step - loss: 1916.3734 - mean_absolute_error: 39.2963 - val_loss: 1654.1066 - val_mean_absolute_error: 34.7219\n",
      "Epoch 59/100\n",
      "9/9 [==============================] - 0s 18ms/step - loss: 1796.0859 - mean_absolute_error: 37.9118 - val_loss: 1481.4299 - val_mean_absolute_error: 32.7920\n",
      "Epoch 60/100\n",
      "9/9 [==============================] - 0s 17ms/step - loss: 1595.6423 - mean_absolute_error: 35.8909 - val_loss: 1317.3160 - val_mean_absolute_error: 30.8450\n",
      "Epoch 61/100\n",
      "9/9 [==============================] - 0s 17ms/step - loss: 1430.8672 - mean_absolute_error: 33.8374 - val_loss: 1164.9084 - val_mean_absolute_error: 28.9190\n",
      "Epoch 62/100\n",
      "9/9 [==============================] - 0s 18ms/step - loss: 1247.0544 - mean_absolute_error: 31.6785 - val_loss: 1027.2910 - val_mean_absolute_error: 27.0619\n",
      "Epoch 63/100\n",
      "9/9 [==============================] - 0s 21ms/step - loss: 1095.4031 - mean_absolute_error: 29.7078 - val_loss: 904.4945 - val_mean_absolute_error: 25.2873\n",
      "Epoch 64/100\n",
      "9/9 [==============================] - 0s 22ms/step - loss: 957.3967 - mean_absolute_error: 27.5753 - val_loss: 794.3657 - val_mean_absolute_error: 23.5804\n",
      "Epoch 65/100\n",
      "9/9 [==============================] - 0s 20ms/step - loss: 912.3889 - mean_absolute_error: 26.7896 - val_loss: 694.7827 - val_mean_absolute_error: 21.9226\n",
      "Epoch 66/100\n",
      "9/9 [==============================] - 0s 22ms/step - loss: 745.8734 - mean_absolute_error: 24.2390 - val_loss: 605.6494 - val_mean_absolute_error: 20.3358\n",
      "Epoch 67/100\n",
      "9/9 [==============================] - 0s 24ms/step - loss: 723.7294 - mean_absolute_error: 23.5787 - val_loss: 525.2101 - val_mean_absolute_error: 18.8273\n",
      "Epoch 68/100\n",
      "9/9 [==============================] - 0s 23ms/step - loss: 637.4987 - mean_absolute_error: 22.1229 - val_loss: 452.8845 - val_mean_absolute_error: 17.4149\n",
      "Epoch 69/100\n",
      "9/9 [==============================] - 0s 19ms/step - loss: 543.9734 - mean_absolute_error: 20.1662 - val_loss: 387.5326 - val_mean_absolute_error: 16.0762\n",
      "Epoch 70/100\n",
      "9/9 [==============================] - 0s 18ms/step - loss: 491.7443 - mean_absolute_error: 18.8961 - val_loss: 329.4258 - val_mean_absolute_error: 14.8145\n",
      "Epoch 71/100\n",
      "9/9 [==============================] - 0s 18ms/step - loss: 422.1021 - mean_absolute_error: 17.1992 - val_loss: 277.8189 - val_mean_absolute_error: 13.6059\n",
      "Epoch 72/100\n",
      "9/9 [==============================] - 0s 18ms/step - loss: 349.3923 - mean_absolute_error: 15.6831 - val_loss: 232.4734 - val_mean_absolute_error: 12.4518\n",
      "Epoch 73/100\n",
      "9/9 [==============================] - 0s 18ms/step - loss: 285.8502 - mean_absolute_error: 13.5444 - val_loss: 194.5901 - val_mean_absolute_error: 11.3849\n",
      "Epoch 74/100\n",
      "9/9 [==============================] - 0s 17ms/step - loss: 299.7899 - mean_absolute_error: 13.6469 - val_loss: 160.7211 - val_mean_absolute_error: 10.3200\n",
      "Epoch 75/100\n",
      "9/9 [==============================] - 0s 17ms/step - loss: 233.6234 - mean_absolute_error: 11.5964 - val_loss: 131.1037 - val_mean_absolute_error: 9.2886\n",
      "Epoch 76/100\n",
      "9/9 [==============================] - 0s 17ms/step - loss: 207.9077 - mean_absolute_error: 10.2632 - val_loss: 107.0279 - val_mean_absolute_error: 8.3570\n",
      "Epoch 77/100\n",
      "9/9 [==============================] - 0s 17ms/step - loss: 235.8278 - mean_absolute_error: 10.4102 - val_loss: 89.1264 - val_mean_absolute_error: 7.5877\n",
      "Epoch 78/100\n",
      "9/9 [==============================] - 0s 17ms/step - loss: 174.1528 - mean_absolute_error: 8.7336 - val_loss: 76.2130 - val_mean_absolute_error: 6.9741\n",
      "Epoch 79/100\n",
      "9/9 [==============================] - 0s 17ms/step - loss: 150.8254 - mean_absolute_error: 7.9952 - val_loss: 66.7070 - val_mean_absolute_error: 6.4763\n",
      "Epoch 80/100\n",
      "9/9 [==============================] - 0s 16ms/step - loss: 163.2702 - mean_absolute_error: 8.5003 - val_loss: 59.3867 - val_mean_absolute_error: 6.0552\n",
      "Epoch 81/100\n",
      "9/9 [==============================] - 0s 17ms/step - loss: 129.3830 - mean_absolute_error: 7.5156 - val_loss: 53.8033 - val_mean_absolute_error: 5.6946\n",
      "Epoch 82/100\n",
      "9/9 [==============================] - 0s 17ms/step - loss: 146.8196 - mean_absolute_error: 7.8413 - val_loss: 49.6003 - val_mean_absolute_error: 5.3876\n",
      "Epoch 83/100\n",
      "9/9 [==============================] - 0s 16ms/step - loss: 127.3133 - mean_absolute_error: 7.4439 - val_loss: 46.5332 - val_mean_absolute_error: 5.1423\n",
      "Epoch 84/100\n",
      "9/9 [==============================] - 0s 17ms/step - loss: 135.8376 - mean_absolute_error: 7.6723 - val_loss: 44.0725 - val_mean_absolute_error: 4.9585\n",
      "Epoch 85/100\n",
      "9/9 [==============================] - 0s 17ms/step - loss: 110.9912 - mean_absolute_error: 7.0336 - val_loss: 42.5274 - val_mean_absolute_error: 4.8565\n",
      "Epoch 86/100\n",
      "9/9 [==============================] - 0s 16ms/step - loss: 118.4017 - mean_absolute_error: 7.3750 - val_loss: 41.6293 - val_mean_absolute_error: 4.7978\n",
      "Epoch 87/100\n",
      "9/9 [==============================] - 0s 16ms/step - loss: 124.8782 - mean_absolute_error: 7.6345 - val_loss: 40.9124 - val_mean_absolute_error: 4.7486\n",
      "Epoch 88/100\n",
      "9/9 [==============================] - 0s 17ms/step - loss: 142.1847 - mean_absolute_error: 7.7368 - val_loss: 40.4320 - val_mean_absolute_error: 4.7138\n",
      "Epoch 89/100\n",
      "9/9 [==============================] - 0s 17ms/step - loss: 113.0131 - mean_absolute_error: 7.2241 - val_loss: 40.2080 - val_mean_absolute_error: 4.6909\n",
      "Epoch 90/100\n",
      "9/9 [==============================] - 0s 16ms/step - loss: 125.8921 - mean_absolute_error: 7.6420 - val_loss: 40.1479 - val_mean_absolute_error: 4.6777\n"
     ]
    }
   ],
   "source": [
    "window_train,window_val = data_windowing(train_df,val_df)\n",
    "train = window_train.map(data_map)\n",
    "#test = window_test.map(data_map)\n",
    "val = window_val.map(data_map)\n",
    "\n",
    "early_stopping = tf.keras.callbacks.EarlyStopping(monitor='loss',\n",
    "                                                patience=5,\n",
    "                                                mode='min')\n",
    "\n",
    "tensorboard_callback = TensorBoard(log_dir=\"./logs\", histogram_freq=2)\n",
    "\n",
    "history = lstm_model.fit(train, epochs=100,\n",
    "                         validation_data=val,\n",
    "                         callbacks=[early_stopping, tensorboard_callback])\n",
    "\n",
    "\n"
   ]
  },
  {
   "cell_type": "code",
   "execution_count": 12,
   "id": "eba7846a",
   "metadata": {},
   "outputs": [
    {
     "data": {
      "image/png": "[encoded data removed]",
      "text/plain": [
       "<Figure size 720x576 with 1 Axes>"
      ]
     },
     "metadata": {
      "needs_background": "light"
     },
     "output_type": "display_data"
    }
   ],
   "source": [
    "pyplot.figure(figsize=(10,8))\n",
    "pyplot.title('Loss / Mean Squared Error')\n",
    "pyplot.plot(history.history['loss'], label='train')\n",
    "pyplot.plot(history.history['val_loss'], label='test')\n",
    "pyplot.legend()\n",
    "pyplot.show()"
   ]
  },
  {
   "cell_type": "code",
   "execution_count": 13,
   "id": "65d7dd7c",
   "metadata": {},
   "outputs": [
    {
     "data": {
      "text/plain": [
       "array([-122.878,   37.589])"
      ]
     },
     "execution_count": 13,
     "metadata": {},
     "output_type": "execute_result"
    }
   ],
   "source": [
    "list(val.take(1).as_numpy_iterator())[0][1][0][0]"
   ]
  },
  {
   "cell_type": "code",
   "execution_count": 14,
   "id": "81d81a1e",
   "metadata": {
    "scrolled": true
   },
   "outputs": [
    {
     "data": {
      "text/plain": [
       "(1, 20, 2)"
      ]
     },
     "execution_count": 14,
     "metadata": {},
     "output_type": "execute_result"
    }
   ],
   "source": [
    "np.array([list(val.take(1).as_numpy_iterator())[0][0][0]]).shape"
   ]
  },
  {
   "cell_type": "code",
   "execution_count": 15,
   "id": "6f30f250",
   "metadata": {},
   "outputs": [
    {
     "data": {
      "text/plain": [
       "(None, 20, 2)"
      ]
     },
     "execution_count": 15,
     "metadata": {},
     "output_type": "execute_result"
    }
   ],
   "source": [
    "lstm_model.layers[0].input_shape"
   ]
  },
  {
   "cell_type": "code",
   "execution_count": 16,
   "id": "19df4a1f",
   "metadata": {},
   "outputs": [
    {
     "data": {
      "text/plain": [
       "array([[[-123.14 ,   37.667],\n",
       "        [-122.513,   37.741],\n",
       "        [-123.055,   37.716],\n",
       "        [-123.105,   37.725],\n",
       "        [-123.265,   37.712],\n",
       "        [-123.22 ,   37.522],\n",
       "        [-123.032,   37.607],\n",
       "        [-123.182,   37.659],\n",
       "        [-122.89 ,   37.546],\n",
       "        [-122.928,   37.625],\n",
       "        [-122.907,   37.781],\n",
       "        [-123.129,   37.588],\n",
       "        [-122.951,   37.591],\n",
       "        [-123.081,   37.509],\n",
       "        [-123.017,   37.495],\n",
       "        [-123.08 ,   37.577],\n",
       "        [-122.968,   37.511],\n",
       "        [-123.381,   37.576],\n",
       "        [-122.904,   37.427],\n",
       "        [-123.132,   37.471]]])"
      ]
     },
     "execution_count": 16,
     "metadata": {},
     "output_type": "execute_result"
    }
   ],
   "source": [
    "np.array([val_df[:20]])"
   ]
  },
  {
   "cell_type": "code",
   "execution_count": 17,
   "id": "4aa50f36",
   "metadata": {},
   "outputs": [
    {
     "data": {
      "text/html": [
       "<div>\n",
       "<style scoped>\n",
       "    .dataframe tbody tr th:only-of-type {\n",
       "        vertical-align: middle;\n",
       "    }\n",
       "\n",
       "    .dataframe tbody tr th {\n",
       "        vertical-align: top;\n",
       "    }\n",
       "\n",
       "    .dataframe thead th {\n",
       "        text-align: right;\n",
       "    }\n",
       "</style>\n",
       "<table border=\"1\" class=\"dataframe\">\n",
       "  <thead>\n",
       "    <tr style=\"text-align: right;\">\n",
       "      <th></th>\n",
       "      <th>location-long</th>\n",
       "      <th>location-lat</th>\n",
       "    </tr>\n",
       "  </thead>\n",
       "  <tbody>\n",
       "    <tr>\n",
       "      <th>290</th>\n",
       "      <td>-123.140</td>\n",
       "      <td>37.667</td>\n",
       "    </tr>\n",
       "    <tr>\n",
       "      <th>291</th>\n",
       "      <td>-122.513</td>\n",
       "      <td>37.741</td>\n",
       "    </tr>\n",
       "    <tr>\n",
       "      <th>292</th>\n",
       "      <td>-123.055</td>\n",
       "      <td>37.716</td>\n",
       "    </tr>\n",
       "    <tr>\n",
       "      <th>293</th>\n",
       "      <td>-123.105</td>\n",
       "      <td>37.725</td>\n",
       "    </tr>\n",
       "    <tr>\n",
       "      <th>294</th>\n",
       "      <td>-123.265</td>\n",
       "      <td>37.712</td>\n",
       "    </tr>\n",
       "    <tr>\n",
       "      <th>295</th>\n",
       "      <td>-123.220</td>\n",
       "      <td>37.522</td>\n",
       "    </tr>\n",
       "    <tr>\n",
       "      <th>296</th>\n",
       "      <td>-123.032</td>\n",
       "      <td>37.607</td>\n",
       "    </tr>\n",
       "    <tr>\n",
       "      <th>297</th>\n",
       "      <td>-123.182</td>\n",
       "      <td>37.659</td>\n",
       "    </tr>\n",
       "    <tr>\n",
       "      <th>298</th>\n",
       "      <td>-122.890</td>\n",
       "      <td>37.546</td>\n",
       "    </tr>\n",
       "    <tr>\n",
       "      <th>299</th>\n",
       "      <td>-122.928</td>\n",
       "      <td>37.625</td>\n",
       "    </tr>\n",
       "    <tr>\n",
       "      <th>300</th>\n",
       "      <td>-122.907</td>\n",
       "      <td>37.781</td>\n",
       "    </tr>\n",
       "    <tr>\n",
       "      <th>301</th>\n",
       "      <td>-123.129</td>\n",
       "      <td>37.588</td>\n",
       "    </tr>\n",
       "    <tr>\n",
       "      <th>302</th>\n",
       "      <td>-122.951</td>\n",
       "      <td>37.591</td>\n",
       "    </tr>\n",
       "    <tr>\n",
       "      <th>303</th>\n",
       "      <td>-123.081</td>\n",
       "      <td>37.509</td>\n",
       "    </tr>\n",
       "    <tr>\n",
       "      <th>304</th>\n",
       "      <td>-123.017</td>\n",
       "      <td>37.495</td>\n",
       "    </tr>\n",
       "    <tr>\n",
       "      <th>305</th>\n",
       "      <td>-123.080</td>\n",
       "      <td>37.577</td>\n",
       "    </tr>\n",
       "    <tr>\n",
       "      <th>306</th>\n",
       "      <td>-122.968</td>\n",
       "      <td>37.511</td>\n",
       "    </tr>\n",
       "    <tr>\n",
       "      <th>307</th>\n",
       "      <td>-123.381</td>\n",
       "      <td>37.576</td>\n",
       "    </tr>\n",
       "    <tr>\n",
       "      <th>308</th>\n",
       "      <td>-122.904</td>\n",
       "      <td>37.427</td>\n",
       "    </tr>\n",
       "    <tr>\n",
       "      <th>309</th>\n",
       "      <td>-123.132</td>\n",
       "      <td>37.471</td>\n",
       "    </tr>\n",
       "    <tr>\n",
       "      <th>310</th>\n",
       "      <td>-122.878</td>\n",
       "      <td>37.589</td>\n",
       "    </tr>\n",
       "  </tbody>\n",
       "</table>\n",
       "</div>"
      ],
      "text/plain": [
       "     location-long  location-lat\n",
       "290       -123.140        37.667\n",
       "291       -122.513        37.741\n",
       "292       -123.055        37.716\n",
       "293       -123.105        37.725\n",
       "294       -123.265        37.712\n",
       "295       -123.220        37.522\n",
       "296       -123.032        37.607\n",
       "297       -123.182        37.659\n",
       "298       -122.890        37.546\n",
       "299       -122.928        37.625\n",
       "300       -122.907        37.781\n",
       "301       -123.129        37.588\n",
       "302       -122.951        37.591\n",
       "303       -123.081        37.509\n",
       "304       -123.017        37.495\n",
       "305       -123.080        37.577\n",
       "306       -122.968        37.511\n",
       "307       -123.381        37.576\n",
       "308       -122.904        37.427\n",
       "309       -123.132        37.471\n",
       "310       -122.878        37.589"
      ]
     },
     "execution_count": 17,
     "metadata": {},
     "output_type": "execute_result"
    }
   ],
   "source": [
    "val_df[:21]"
   ]
  },
  {
   "cell_type": "code",
   "execution_count": 18,
   "id": "a5e85350",
   "metadata": {},
   "outputs": [],
   "source": [
    "y_pred = lstm_model.predict(np.array([val_df[:20]]))[0]"
   ]
  },
  {
   "cell_type": "code",
   "execution_count": 19,
   "id": "cb366265",
   "metadata": {},
   "outputs": [
    {
     "data": {
      "text/plain": [
       "array([-117.97619 ,   33.007256], dtype=float32)"
      ]
     },
     "execution_count": 19,
     "metadata": {},
     "output_type": "execute_result"
    }
   ],
   "source": [
    "y_pred "
   ]
  },
  {
   "cell_type": "code",
   "execution_count": 23,
   "id": "ba1b6148",
   "metadata": {},
   "outputs": [
    {
     "data": {
      "image/png": "[encoded data removed]",
      "text/plain": [
       "<Figure size 360x360 with 1 Axes>"
      ]
     },
     "metadata": {
      "needs_background": "light"
     },
     "output_type": "display_data"
    }
   ],
   "source": [
    "pyplot.figure(figsize=(5,5))\n",
    "pyplot.plot(val_df[:20][\"location-long\"], val_df[:20][\"location-lat\"], label='true')\n",
    "pyplot.scatter(y_pred[0], y_pred[1],  c=\"red\", label='pred')\n",
    "pyplot.scatter(val_df.iloc[21][0], val_df.iloc[21][1],  c=\"green\", label='pred')\n",
    "pyplot.legend()\n",
    "pyplot.show()"
   ]
  },
  {
   "cell_type": "code",
   "execution_count": 24,
   "id": "c39ccf07",
   "metadata": {},
   "outputs": [
    {
     "data": {
      "text/plain": [
       "location-long   -123.031\n",
       "location-lat      37.511\n",
       "Name: 311, dtype: float64"
      ]
     },
     "execution_count": 24,
     "metadata": {},
     "output_type": "execute_result"
    }
   ],
   "source": [
    "val_df.iloc[21]"
   ]
  },
  {
   "cell_type": "code",
   "execution_count": 25,
   "id": "9ad13106",
   "metadata": {},
   "outputs": [
    {
     "data": {
      "text/plain": [
       "array([[-117.97619 ,   33.007256]], dtype=float32)"
      ]
     },
     "execution_count": 25,
     "metadata": {},
     "output_type": "execute_result"
    }
   ],
   "source": [
    "lstm_model.predict(np.array([list(val.take(1).as_numpy_iterator())[0][0][0]]))"
   ]
  }
 ],
 "metadata": {
  "kernelspec": {
   "display_name": "Python 3 (ipykernel)",
   "language": "python",
   "name": "python3"
  },
  "language_info": {
   "codemirror_mode": {
    "name": "ipython",
    "version": 3
   },
   "file_extension": ".py",
   "mimetype": "text/x-python",
   "name": "python",
   "nbconvert_exporter": "python",
   "pygments_lexer": "ipython3",
   "version": "3.9.7"
  }
 },
 "nbformat": 4,
 "nbformat_minor": 5
}
