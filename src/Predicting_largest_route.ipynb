{
 "cells": [
  {
   "cell_type": "code",
   "execution_count": 3,
   "id": "b66ea9c5",
   "metadata": {},
   "outputs": [
    {
     "name": "stderr",
     "output_type": "stream",
     "text": [
      "2021-10-22 14:54:38.165913: W tensorflow/stream_executor/platform/default/dso_loader.cc:64] Could not load dynamic library 'libcudart.so.11.0'; dlerror: libcudart.so.11.0: cannot open shared object file: No such file or directory\n",
      "2021-10-22 14:54:38.166262: I tensorflow/stream_executor/cuda/cudart_stub.cc:29] Ignore above cudart dlerror if you do not have a GPU set up on your machine.\n"
     ]
    }
   ],
   "source": [
    "import pandas as pd\n",
    "import glob\n",
    "import tensorflow as tf\n",
    "from tensorflow.data import Dataset\n",
    "from matplotlib import pyplot\n",
    "from tensorflow.keras.callbacks import TensorBoard\n",
    "import numpy as np"
   ]
  },
  {
   "cell_type": "code",
   "execution_count": 4,
   "id": "d04238eb",
   "metadata": {},
   "outputs": [],
   "source": [
    "df_23043 = pd.read_csv(\"../data/datasets_by_whale/1999CA-Bmu-23043.csv\")[[\"location-long\", \"location-lat\"]]"
   ]
  },
  {
   "cell_type": "code",
   "execution_count": 5,
   "id": "a583c580",
   "metadata": {},
   "outputs": [],
   "source": [
    "def split_data(df):\n",
    "\n",
    "    n = len(df)\n",
    "    train_df = df[0:int(n*0.7)]\n",
    "    val_df = df[int(n*0.7):]\n",
    "    #test_df = df[int(n*0.9):]\n",
    "\n",
    "    num_features = df.shape[1]\n",
    "    \n",
    "    return train_df, val_df#,test_df"
   ]
  },
  {
   "cell_type": "code",
   "execution_count": 6,
   "id": "00013e0e",
   "metadata": {},
   "outputs": [],
   "source": [
    "train_df,val_df = split_data(df_23043)"
   ]
  },
  {
   "cell_type": "code",
   "execution_count": 7,
   "id": "d2a33e8d",
   "metadata": {},
   "outputs": [],
   "source": [
    "def data_windowing(train_df,val_df):\n",
    "    n_points = 20\n",
    "    window_length = n_points+ 1 \n",
    "    \n",
    "    window_train = tf.keras.utils.timeseries_dataset_from_array(\n",
    "    train_df, targets=None,sequence_length = window_length, sequence_stride=1, sampling_rate=1,\n",
    "    batch_size=32, shuffle=False, seed=None, start_index=None, end_index=None)\n",
    "    \n",
    "    \"\"\"\n",
    "    window_test = tf.keras.utils.timeseries_dataset_from_array(\n",
    "    test_df, targets=None,sequence_length = window_length, sequence_stride=1, sampling_rate=1,\n",
    "    batch_size=32, shuffle=False, seed=None, start_index=None, end_index=None)\n",
    "    \"\"\"\n",
    "        \n",
    "    window_val = tf.keras.utils.timeseries_dataset_from_array(\n",
    "    val_df, targets=None,sequence_length = window_length, sequence_stride=1, sampling_rate=1,\n",
    "    batch_size=32, shuffle=False, seed=None, start_index=None, end_index=None)\n",
    "    \n",
    "    return window_train, window_val"
   ]
  },
  {
   "cell_type": "code",
   "execution_count": 8,
   "id": "fd8f7bbb",
   "metadata": {},
   "outputs": [],
   "source": [
    "def data_map(elem):\n",
    "    n_points = 20\n",
    "    window_length = n_points+ 1 \n",
    "    X,y = elem[:,:-1,:],elem[:,-1:,0:2]\n",
    "    X.set_shape([None, n_points, None])\n",
    "    y.set_shape([None, window_length - n_points, None])\n",
    "    \n",
    "    return (X,y)\n"
   ]
  },
  {
   "cell_type": "code",
   "execution_count": 9,
   "id": "75bdfac0",
   "metadata": {},
   "outputs": [
    {
     "name": "stderr",
     "output_type": "stream",
     "text": [
      "2021-10-22 14:54:40.799768: W tensorflow/stream_executor/platform/default/dso_loader.cc:64] Could not load dynamic library 'libcuda.so.1'; dlerror: libcuda.so.1: cannot open shared object file: No such file or directory\n",
      "2021-10-22 14:54:40.801068: W tensorflow/stream_executor/cuda/cuda_driver.cc:269] failed call to cuInit: UNKNOWN ERROR (303)\n",
      "2021-10-22 14:54:40.801171: I tensorflow/stream_executor/cuda/cuda_diagnostics.cc:156] kernel driver does not appear to be running on this host (DESKTOP-R3AGIN3): /proc/driver/nvidia/version does not exist\n",
      "2021-10-22 14:54:40.803644: I tensorflow/core/platform/cpu_feature_guard.cc:142] This TensorFlow binary is optimized with oneAPI Deep Neural Network Library (oneDNN) to use the following CPU instructions in performance-critical operations:  AVX2 FMA\n",
      "To enable them in other operations, rebuild TensorFlow with the appropriate compiler flags.\n"
     ]
    }
   ],
   "source": [
    "lstm_model = tf.keras.models.Sequential([\n",
    "    tf.keras.layers.LSTM(32, return_sequences=False),\n",
    "    tf.keras.layers.Dense(units=10),\n",
    "    tf.keras.layers.Dropout(rate=0.1),\n",
    "    tf.keras.layers.Dense(units=10),\n",
    "    tf.keras.layers.Dense(units=10),\n",
    "    tf.keras.layers.Dense(units=10),\n",
    "    tf.keras.layers.Dense(units=2)\n",
    "])"
   ]
  },
  {
   "cell_type": "code",
   "execution_count": 10,
   "id": "46122b61",
   "metadata": {},
   "outputs": [],
   "source": [
    "lstm_model.compile(loss=tf.losses.MeanSquaredError(),optimizer=tf.optimizers.Adam(learning_rate=0.0001),metrics=[tf.metrics.MeanAbsoluteError()])"
   ]
  },
  {
   "cell_type": "code",
   "execution_count": 11,
   "id": "14bcbc00",
   "metadata": {
    "scrolled": true
   },
   "outputs": [
    {
     "name": "stderr",
     "output_type": "stream",
     "text": [
      "2021-10-22 14:54:40.975711: I tensorflow/core/profiler/lib/profiler_session.cc:131] Profiler session initializing.\n",
      "2021-10-22 14:54:40.975753: I tensorflow/core/profiler/lib/profiler_session.cc:146] Profiler session started.\n",
      "2021-10-22 14:54:40.978021: I tensorflow/core/profiler/lib/profiler_session.cc:164] Profiler session tear down.\n",
      "2021-10-22 14:54:41.029185: I tensorflow/compiler/mlir/mlir_graph_optimization_pass.cc:185] None of the MLIR Optimization Passes are enabled (registered 2)\n"
     ]
    },
    {
     "name": "stdout",
     "output_type": "stream",
     "text": [
      "Epoch 1/100\n",
      "3/9 [=========>....................] - ETA: 0s - loss: 7692.4956 - mean_absolute_error: 76.6411"
     ]
    },
    {
     "name": "stderr",
     "output_type": "stream",
     "text": [
      "2021-10-22 14:54:42.709851: I tensorflow/core/profiler/lib/profiler_session.cc:131] Profiler session initializing.\n",
      "2021-10-22 14:54:42.709899: I tensorflow/core/profiler/lib/profiler_session.cc:146] Profiler session started.\n",
      "2021-10-22 14:54:42.729301: I tensorflow/core/profiler/lib/profiler_session.cc:66] Profiler session collecting data.\n",
      "2021-10-22 14:54:42.745254: I tensorflow/core/profiler/lib/profiler_session.cc:164] Profiler session tear down.\n",
      "2021-10-22 14:54:42.786087: I tensorflow/core/profiler/rpc/client/save_profile.cc:136] Creating directory: ./logs/train/plugins/profile/2021_10_22_14_54_42\n",
      "\n",
      "2021-10-22 14:54:42.801992: I tensorflow/core/profiler/rpc/client/save_profile.cc:142] Dumped gzipped tool data for trace.json.gz to ./logs/train/plugins/profile/2021_10_22_14_54_42/DESKTOP-R3AGIN3.trace.json.gz\n",
      "2021-10-22 14:54:42.822218: I tensorflow/core/profiler/rpc/client/save_profile.cc:136] Creating directory: ./logs/train/plugins/profile/2021_10_22_14_54_42\n",
      "\n",
      "2021-10-22 14:54:42.825219: I tensorflow/core/profiler/rpc/client/save_profile.cc:142] Dumped gzipped tool data for memory_profile.json.gz to ./logs/train/plugins/profile/2021_10_22_14_54_42/DESKTOP-R3AGIN3.memory_profile.json.gz\n",
      "2021-10-22 14:54:42.842995: I tensorflow/core/profiler/rpc/client/capture_profile.cc:251] Creating directory: ./logs/train/plugins/profile/2021_10_22_14_54_42\n",
      "Dumped tool data for xplane.pb to ./logs/train/plugins/profile/2021_10_22_14_54_42/DESKTOP-R3AGIN3.xplane.pb\n",
      "Dumped tool data for overview_page.pb to ./logs/train/plugins/profile/2021_10_22_14_54_42/DESKTOP-R3AGIN3.overview_page.pb\n",
      "Dumped tool data for input_pipeline.pb to ./logs/train/plugins/profile/2021_10_22_14_54_42/DESKTOP-R3AGIN3.input_pipeline.pb\n",
      "Dumped tool data for tensorflow_stats.pb to ./logs/train/plugins/profile/2021_10_22_14_54_42/DESKTOP-R3AGIN3.tensorflow_stats.pb\n",
      "Dumped tool data for kernel_stats.pb to ./logs/train/plugins/profile/2021_10_22_14_54_42/DESKTOP-R3AGIN3.kernel_stats.pb\n",
      "\n"
     ]
    },
    {
     "name": "stdout",
     "output_type": "stream",
     "text": [
      "9/9 [==============================] - 2s 79ms/step - loss: 7855.8887 - mean_absolute_error: 77.6339 - val_loss: 7310.7100 - val_mean_absolute_error: 73.0064\n",
      "Epoch 2/100\n",
      "9/9 [==============================] - 0s 18ms/step - loss: 7847.0093 - mean_absolute_error: 77.5916 - val_loss: 7294.0513 - val_mean_absolute_error: 72.9053\n",
      "Epoch 3/100\n",
      "9/9 [==============================] - 0s 18ms/step - loss: 7827.9082 - mean_absolute_error: 77.4823 - val_loss: 7277.1431 - val_mean_absolute_error: 72.8026\n",
      "Epoch 4/100\n",
      "9/9 [==============================] - 0s 19ms/step - loss: 7806.0669 - mean_absolute_error: 77.3502 - val_loss: 7260.0220 - val_mean_absolute_error: 72.6988\n",
      "Epoch 5/100\n",
      "9/9 [==============================] - 0s 17ms/step - loss: 7795.2715 - mean_absolute_error: 77.2934 - val_loss: 7242.3760 - val_mean_absolute_error: 72.5922\n",
      "Epoch 6/100\n",
      "9/9 [==============================] - 0s 17ms/step - loss: 7778.7632 - mean_absolute_error: 77.1960 - val_loss: 7221.8472 - val_mean_absolute_error: 72.4734\n",
      "Epoch 7/100\n",
      "9/9 [==============================] - 0s 17ms/step - loss: 7757.0591 - mean_absolute_error: 77.0782 - val_loss: 7197.5889 - val_mean_absolute_error: 72.3461\n",
      "Epoch 8/100\n",
      "9/9 [==============================] - 0s 18ms/step - loss: 7742.5317 - mean_absolute_error: 76.9892 - val_loss: 7178.8662 - val_mean_absolute_error: 72.2366\n",
      "Epoch 9/100\n",
      "9/9 [==============================] - 0s 16ms/step - loss: 7725.2100 - mean_absolute_error: 76.8957 - val_loss: 7160.0742 - val_mean_absolute_error: 72.1250\n",
      "Epoch 10/100\n",
      "9/9 [==============================] - 0s 17ms/step - loss: 7697.8232 - mean_absolute_error: 76.7413 - val_loss: 7140.2666 - val_mean_absolute_error: 72.0074\n",
      "Epoch 11/100\n",
      "9/9 [==============================] - 0s 17ms/step - loss: 7678.3394 - mean_absolute_error: 76.6345 - val_loss: 7119.3457 - val_mean_absolute_error: 71.8828\n",
      "Epoch 12/100\n",
      "9/9 [==============================] - 0s 16ms/step - loss: 7651.5493 - mean_absolute_error: 76.4790 - val_loss: 7096.8770 - val_mean_absolute_error: 71.7489\n",
      "Epoch 13/100\n",
      "9/9 [==============================] - 0s 16ms/step - loss: 7632.8740 - mean_absolute_error: 76.3788 - val_loss: 7072.5435 - val_mean_absolute_error: 71.6037\n",
      "Epoch 14/100\n",
      "9/9 [==============================] - 0s 16ms/step - loss: 7607.3662 - mean_absolute_error: 76.2303 - val_loss: 7045.9219 - val_mean_absolute_error: 71.4446\n",
      "Epoch 15/100\n",
      "9/9 [==============================] - 0s 16ms/step - loss: 7566.9033 - mean_absolute_error: 75.9991 - val_loss: 7016.4839 - val_mean_absolute_error: 71.2682\n",
      "Epoch 16/100\n",
      "9/9 [==============================] - 0s 16ms/step - loss: 7542.4507 - mean_absolute_error: 75.8656 - val_loss: 6983.7275 - val_mean_absolute_error: 71.0713\n",
      "Epoch 17/100\n",
      "9/9 [==============================] - 0s 16ms/step - loss: 7507.0718 - mean_absolute_error: 75.6651 - val_loss: 6947.4858 - val_mean_absolute_error: 70.8532\n",
      "Epoch 18/100\n",
      "9/9 [==============================] - 0s 16ms/step - loss: 7469.1309 - mean_absolute_error: 75.4448 - val_loss: 6907.5244 - val_mean_absolute_error: 70.6125\n",
      "Epoch 19/100\n",
      "9/9 [==============================] - 0s 16ms/step - loss: 7429.1230 - mean_absolute_error: 75.2094 - val_loss: 6863.8525 - val_mean_absolute_error: 70.3493\n",
      "Epoch 20/100\n",
      "9/9 [==============================] - 0s 16ms/step - loss: 7367.1040 - mean_absolute_error: 74.8619 - val_loss: 6815.8589 - val_mean_absolute_error: 70.0615\n",
      "Epoch 21/100\n",
      "9/9 [==============================] - 0s 16ms/step - loss: 7315.5278 - mean_absolute_error: 74.5624 - val_loss: 6756.1846 - val_mean_absolute_error: 69.7238\n",
      "Epoch 22/100\n",
      "9/9 [==============================] - 0s 16ms/step - loss: 7249.4331 - mean_absolute_error: 74.1757 - val_loss: 6704.4893 - val_mean_absolute_error: 69.4047\n",
      "Epoch 23/100\n",
      "9/9 [==============================] - 0s 16ms/step - loss: 7200.6177 - mean_absolute_error: 73.9114 - val_loss: 6653.7681 - val_mean_absolute_error: 69.0782\n",
      "Epoch 24/100\n",
      "9/9 [==============================] - 0s 16ms/step - loss: 7135.1831 - mean_absolute_error: 73.5331 - val_loss: 6593.6411 - val_mean_absolute_error: 68.7113\n",
      "Epoch 25/100\n",
      "9/9 [==============================] - 0s 16ms/step - loss: 7056.9268 - mean_absolute_error: 73.0721 - val_loss: 6530.1548 - val_mean_absolute_error: 68.3220\n",
      "Epoch 26/100\n",
      "9/9 [==============================] - 0s 16ms/step - loss: 7002.8701 - mean_absolute_error: 72.7536 - val_loss: 6463.0391 - val_mean_absolute_error: 67.9084\n",
      "Epoch 27/100\n",
      "9/9 [==============================] - 0s 16ms/step - loss: 6932.0098 - mean_absolute_error: 72.3502 - val_loss: 6391.3745 - val_mean_absolute_error: 67.4642\n",
      "Epoch 28/100\n",
      "9/9 [==============================] - 0s 16ms/step - loss: 6836.7852 - mean_absolute_error: 71.7656 - val_loss: 6314.2393 - val_mean_absolute_error: 66.9833\n",
      "Epoch 29/100\n",
      "9/9 [==============================] - 0s 16ms/step - loss: 6750.5273 - mean_absolute_error: 71.2473 - val_loss: 6231.3413 - val_mean_absolute_error: 66.4629\n",
      "Epoch 30/100\n",
      "9/9 [==============================] - 0s 16ms/step - loss: 6670.2661 - mean_absolute_error: 70.7884 - val_loss: 6143.0190 - val_mean_absolute_error: 65.9041\n",
      "Epoch 31/100\n",
      "9/9 [==============================] - 0s 16ms/step - loss: 6581.0698 - mean_absolute_error: 70.2341 - val_loss: 6049.4238 - val_mean_absolute_error: 65.3063\n",
      "Epoch 32/100\n",
      "9/9 [==============================] - 0s 16ms/step - loss: 6463.6616 - mean_absolute_error: 69.5108 - val_loss: 5950.9648 - val_mean_absolute_error: 64.6711\n",
      "Epoch 33/100\n",
      "9/9 [==============================] - 0s 16ms/step - loss: 6357.2646 - mean_absolute_error: 68.8528 - val_loss: 5847.4805 - val_mean_absolute_error: 63.9965\n",
      "Epoch 34/100\n",
      "9/9 [==============================] - 0s 16ms/step - loss: 6271.1230 - mean_absolute_error: 68.3225 - val_loss: 5738.1792 - val_mean_absolute_error: 63.2762\n",
      "Epoch 35/100\n",
      "9/9 [==============================] - 0s 16ms/step - loss: 6134.1240 - mean_absolute_error: 67.4695 - val_loss: 5619.9956 - val_mean_absolute_error: 62.4885\n",
      "Epoch 36/100\n",
      "9/9 [==============================] - 0s 16ms/step - loss: 6023.4683 - mean_absolute_error: 66.7875 - val_loss: 5487.7656 - val_mean_absolute_error: 61.5966\n",
      "Epoch 37/100\n",
      "9/9 [==============================] - 0s 16ms/step - loss: 5872.8564 - mean_absolute_error: 65.8053 - val_loss: 5336.3809 - val_mean_absolute_error: 60.5611\n",
      "Epoch 38/100\n",
      "9/9 [==============================] - 0s 16ms/step - loss: 5731.8647 - mean_absolute_error: 64.8666 - val_loss: 5156.7915 - val_mean_absolute_error: 59.3110\n",
      "Epoch 39/100\n",
      "9/9 [==============================] - 0s 17ms/step - loss: 5532.2520 - mean_absolute_error: 63.5738 - val_loss: 4938.2520 - val_mean_absolute_error: 57.7529\n",
      "Epoch 40/100\n",
      "9/9 [==============================] - 0s 18ms/step - loss: 5296.7461 - mean_absolute_error: 61.9988 - val_loss: 4674.8799 - val_mean_absolute_error: 55.8160\n",
      "Epoch 41/100\n",
      "9/9 [==============================] - 0s 19ms/step - loss: 4955.8628 - mean_absolute_error: 59.6014 - val_loss: 4385.9902 - val_mean_absolute_error: 53.6178\n",
      "Epoch 42/100\n",
      "9/9 [==============================] - 0s 16ms/step - loss: 4621.5396 - mean_absolute_error: 57.2041 - val_loss: 4125.3604 - val_mean_absolute_error: 51.5697\n",
      "Epoch 43/100\n",
      "9/9 [==============================] - 0s 16ms/step - loss: 4345.4707 - mean_absolute_error: 55.0905 - val_loss: 3910.7910 - val_mean_absolute_error: 49.8323\n",
      "Epoch 44/100\n",
      "9/9 [==============================] - 0s 15ms/step - loss: 4099.3784 - mean_absolute_error: 53.1753 - val_loss: 3713.7441 - val_mean_absolute_error: 48.1859\n",
      "Epoch 45/100\n",
      "9/9 [==============================] - 0s 16ms/step - loss: 3971.7046 - mean_absolute_error: 52.2078 - val_loss: 3517.4297 - val_mean_absolute_error: 46.4915\n",
      "Epoch 46/100\n",
      "9/9 [==============================] - 0s 15ms/step - loss: 3748.2227 - mean_absolute_error: 50.3904 - val_loss: 3317.9780 - val_mean_absolute_error: 44.7122\n",
      "Epoch 47/100\n",
      "9/9 [==============================] - 0s 16ms/step - loss: 3482.1213 - mean_absolute_error: 48.0910 - val_loss: 3115.7556 - val_mean_absolute_error: 42.9055\n",
      "Epoch 48/100\n",
      "9/9 [==============================] - 0s 17ms/step - loss: 3277.2334 - mean_absolute_error: 46.2687 - val_loss: 2913.5417 - val_mean_absolute_error: 41.2292\n",
      "Epoch 49/100\n"
     ]
    },
    {
     "name": "stdout",
     "output_type": "stream",
     "text": [
      "9/9 [==============================] - 0s 16ms/step - loss: 3093.4468 - mean_absolute_error: 44.6540 - val_loss: 2717.4014 - val_mean_absolute_error: 39.6579\n",
      "Epoch 50/100\n",
      "9/9 [==============================] - 0s 15ms/step - loss: 2902.8982 - mean_absolute_error: 42.7222 - val_loss: 2530.1968 - val_mean_absolute_error: 38.1475\n",
      "Epoch 51/100\n",
      "9/9 [==============================] - 0s 15ms/step - loss: 2673.2925 - mean_absolute_error: 40.5398 - val_loss: 2349.7236 - val_mean_absolute_error: 36.6574\n",
      "Epoch 52/100\n",
      "9/9 [==============================] - 0s 17ms/step - loss: 2485.8745 - mean_absolute_error: 38.6675 - val_loss: 2175.9700 - val_mean_absolute_error: 35.2631\n",
      "Epoch 53/100\n",
      "9/9 [==============================] - 0s 16ms/step - loss: 2371.7126 - mean_absolute_error: 37.2878 - val_loss: 2015.2936 - val_mean_absolute_error: 33.9892\n",
      "Epoch 54/100\n",
      "9/9 [==============================] - 0s 18ms/step - loss: 2128.5051 - mean_absolute_error: 34.6963 - val_loss: 1868.1923 - val_mean_absolute_error: 32.8320\n",
      "Epoch 55/100\n",
      "9/9 [==============================] - 0s 17ms/step - loss: 1958.9698 - mean_absolute_error: 32.7236 - val_loss: 1730.7969 - val_mean_absolute_error: 31.7301\n",
      "Epoch 56/100\n",
      "9/9 [==============================] - 0s 16ms/step - loss: 1837.6117 - mean_absolute_error: 31.7322 - val_loss: 1601.0687 - val_mean_absolute_error: 30.6764\n",
      "Epoch 57/100\n",
      "9/9 [==============================] - 0s 16ms/step - loss: 1709.5685 - mean_absolute_error: 30.6953 - val_loss: 1478.6591 - val_mean_absolute_error: 29.7599\n",
      "Epoch 58/100\n",
      "9/9 [==============================] - 0s 15ms/step - loss: 1591.0927 - mean_absolute_error: 29.7245 - val_loss: 1362.9696 - val_mean_absolute_error: 28.8684\n",
      "Epoch 59/100\n",
      "9/9 [==============================] - 0s 16ms/step - loss: 1412.2325 - mean_absolute_error: 28.1454 - val_loss: 1254.4048 - val_mean_absolute_error: 27.9917\n",
      "Epoch 60/100\n",
      "9/9 [==============================] - 0s 16ms/step - loss: 1333.9081 - mean_absolute_error: 27.4983 - val_loss: 1152.3170 - val_mean_absolute_error: 27.1714\n",
      "Epoch 61/100\n",
      "9/9 [==============================] - 0s 16ms/step - loss: 1277.9655 - mean_absolute_error: 27.0501 - val_loss: 1055.8291 - val_mean_absolute_error: 26.5020\n",
      "Epoch 62/100\n",
      "9/9 [==============================] - 0s 16ms/step - loss: 1094.5811 - mean_absolute_error: 25.5315 - val_loss: 965.4730 - val_mean_absolute_error: 25.8130\n",
      "Epoch 63/100\n",
      "9/9 [==============================] - 0s 16ms/step - loss: 964.6487 - mean_absolute_error: 24.3581 - val_loss: 882.6348 - val_mean_absolute_error: 25.1077\n",
      "Epoch 64/100\n",
      "9/9 [==============================] - 0s 17ms/step - loss: 905.2594 - mean_absolute_error: 23.7382 - val_loss: 807.4273 - val_mean_absolute_error: 24.3993\n",
      "Epoch 65/100\n",
      "9/9 [==============================] - 0s 16ms/step - loss: 877.6667 - mean_absolute_error: 23.4823 - val_loss: 739.0658 - val_mean_absolute_error: 23.6934\n",
      "Epoch 66/100\n",
      "9/9 [==============================] - 0s 16ms/step - loss: 781.1512 - mean_absolute_error: 22.4130 - val_loss: 676.9313 - val_mean_absolute_error: 22.9839\n",
      "Epoch 67/100\n",
      "9/9 [==============================] - 0s 16ms/step - loss: 731.5798 - mean_absolute_error: 21.9567 - val_loss: 620.2415 - val_mean_absolute_error: 22.2706\n",
      "Epoch 68/100\n",
      "9/9 [==============================] - 0s 16ms/step - loss: 607.2986 - mean_absolute_error: 20.5685 - val_loss: 569.2469 - val_mean_absolute_error: 21.5566\n",
      "Epoch 69/100\n",
      "9/9 [==============================] - 0s 17ms/step - loss: 662.8734 - mean_absolute_error: 20.8886 - val_loss: 522.6288 - val_mean_absolute_error: 20.8441\n",
      "Epoch 70/100\n",
      "9/9 [==============================] - 0s 16ms/step - loss: 510.2763 - mean_absolute_error: 19.0720 - val_loss: 480.7445 - val_mean_absolute_error: 20.1379\n",
      "Epoch 71/100\n",
      "9/9 [==============================] - 0s 15ms/step - loss: 512.6965 - mean_absolute_error: 18.8475 - val_loss: 442.6393 - val_mean_absolute_error: 19.4363\n",
      "Epoch 72/100\n",
      "9/9 [==============================] - 0s 16ms/step - loss: 481.5010 - mean_absolute_error: 18.2046 - val_loss: 408.1675 - val_mean_absolute_error: 18.7424\n",
      "Epoch 73/100\n",
      "9/9 [==============================] - 0s 16ms/step - loss: 458.6499 - mean_absolute_error: 17.7258 - val_loss: 376.9233 - val_mean_absolute_error: 18.0572\n",
      "Epoch 74/100\n",
      "9/9 [==============================] - 0s 16ms/step - loss: 375.7968 - mean_absolute_error: 16.4334 - val_loss: 349.1466 - val_mean_absolute_error: 17.3881\n",
      "Epoch 75/100\n",
      "9/9 [==============================] - 0s 16ms/step - loss: 357.8430 - mean_absolute_error: 15.9512 - val_loss: 324.0905 - val_mean_absolute_error: 16.7318\n",
      "Epoch 76/100\n",
      "9/9 [==============================] - 0s 16ms/step - loss: 326.9690 - mean_absolute_error: 15.0728 - val_loss: 301.4775 - val_mean_absolute_error: 16.0896\n",
      "Epoch 77/100\n",
      "9/9 [==============================] - 0s 15ms/step - loss: 306.6315 - mean_absolute_error: 14.5662 - val_loss: 280.5270 - val_mean_absolute_error: 15.4474\n",
      "Epoch 78/100\n",
      "9/9 [==============================] - 0s 16ms/step - loss: 303.8245 - mean_absolute_error: 14.1423 - val_loss: 260.8854 - val_mean_absolute_error: 14.7928\n",
      "Epoch 79/100\n",
      "9/9 [==============================] - 0s 16ms/step - loss: 283.4169 - mean_absolute_error: 13.4694 - val_loss: 242.5255 - val_mean_absolute_error: 14.1144\n",
      "Epoch 80/100\n",
      "9/9 [==============================] - 0s 16ms/step - loss: 285.5738 - mean_absolute_error: 12.9616 - val_loss: 226.5483 - val_mean_absolute_error: 13.4537\n",
      "Epoch 81/100\n",
      "9/9 [==============================] - 0s 16ms/step - loss: 241.2039 - mean_absolute_error: 11.9128 - val_loss: 213.3348 - val_mean_absolute_error: 12.8570\n",
      "Epoch 82/100\n",
      "9/9 [==============================] - 0s 16ms/step - loss: 213.6820 - mean_absolute_error: 11.2152 - val_loss: 201.8957 - val_mean_absolute_error: 12.3338\n",
      "Epoch 83/100\n",
      "9/9 [==============================] - 0s 16ms/step - loss: 233.6228 - mean_absolute_error: 11.5928 - val_loss: 191.5034 - val_mean_absolute_error: 11.8589\n",
      "Epoch 84/100\n",
      "9/9 [==============================] - 0s 16ms/step - loss: 201.9694 - mean_absolute_error: 11.0083 - val_loss: 182.0406 - val_mean_absolute_error: 11.4133\n",
      "Epoch 85/100\n",
      "9/9 [==============================] - 0s 16ms/step - loss: 190.2002 - mean_absolute_error: 10.6276 - val_loss: 173.3904 - val_mean_absolute_error: 10.9935\n",
      "Epoch 86/100\n",
      "9/9 [==============================] - 0s 16ms/step - loss: 174.0545 - mean_absolute_error: 10.4281 - val_loss: 165.6402 - val_mean_absolute_error: 10.5856\n",
      "Epoch 87/100\n",
      "9/9 [==============================] - 0s 16ms/step - loss: 178.1846 - mean_absolute_error: 10.5992 - val_loss: 159.4455 - val_mean_absolute_error: 10.1644\n",
      "Epoch 88/100\n",
      "9/9 [==============================] - 0s 16ms/step - loss: 183.6677 - mean_absolute_error: 10.6379 - val_loss: 154.2037 - val_mean_absolute_error: 9.7778\n",
      "Epoch 89/100\n",
      "9/9 [==============================] - 0s 15ms/step - loss: 169.9462 - mean_absolute_error: 10.4110 - val_loss: 149.2055 - val_mean_absolute_error: 9.4880\n",
      "Epoch 90/100\n",
      "9/9 [==============================] - 0s 16ms/step - loss: 167.4398 - mean_absolute_error: 10.3477 - val_loss: 144.7424 - val_mean_absolute_error: 9.2914\n",
      "Epoch 91/100\n",
      "9/9 [==============================] - 0s 15ms/step - loss: 142.7396 - mean_absolute_error: 9.9705 - val_loss: 138.7655 - val_mean_absolute_error: 9.0760\n",
      "Epoch 92/100\n",
      "9/9 [==============================] - 0s 17ms/step - loss: 166.8130 - mean_absolute_error: 10.3084 - val_loss: 133.8711 - val_mean_absolute_error: 8.8988\n",
      "Epoch 93/100\n",
      "9/9 [==============================] - 0s 16ms/step - loss: 164.9221 - mean_absolute_error: 10.1814 - val_loss: 128.7340 - val_mean_absolute_error: 8.7120\n",
      "Epoch 94/100\n",
      "9/9 [==============================] - 0s 16ms/step - loss: 139.5062 - mean_absolute_error: 9.6941 - val_loss: 123.7303 - val_mean_absolute_error: 8.5263\n",
      "Epoch 95/100\n",
      "9/9 [==============================] - 0s 15ms/step - loss: 154.9695 - mean_absolute_error: 9.8237 - val_loss: 118.6330 - val_mean_absolute_error: 8.3344\n",
      "Epoch 96/100\n",
      "9/9 [==============================] - 0s 16ms/step - loss: 132.5822 - mean_absolute_error: 9.2918 - val_loss: 113.3420 - val_mean_absolute_error: 8.1309\n",
      "Epoch 97/100\n",
      "9/9 [==============================] - 0s 16ms/step - loss: 134.2268 - mean_absolute_error: 9.1801 - val_loss: 108.8956 - val_mean_absolute_error: 7.9535\n",
      "Epoch 98/100\n",
      "9/9 [==============================] - 0s 16ms/step - loss: 122.5721 - mean_absolute_error: 8.8731 - val_loss: 104.7059 - val_mean_absolute_error: 7.7818\n",
      "Epoch 99/100\n",
      "9/9 [==============================] - 0s 16ms/step - loss: 123.5929 - mean_absolute_error: 8.9157 - val_loss: 100.6701 - val_mean_absolute_error: 7.6125\n",
      "Epoch 100/100\n",
      "9/9 [==============================] - 0s 19ms/step - loss: 131.3727 - mean_absolute_error: 9.0430 - val_loss: 97.1995 - val_mean_absolute_error: 7.4631\n"
     ]
    }
   ],
   "source": [
    "window_train,window_val = data_windowing(train_df,val_df)\n",
    "train = window_train.map(data_map)\n",
    "#test = window_test.map(data_map)\n",
    "val = window_val.map(data_map)\n",
    "\n",
    "early_stopping = tf.keras.callbacks.EarlyStopping(monitor='loss',\n",
    "                                                patience=5,\n",
    "                                                mode='min')\n",
    "\n",
    "tensorboard_callback = TensorBoard(log_dir=\"./logs\", histogram_freq=2)\n",
    "\n",
    "history = lstm_model.fit(train, epochs=100,\n",
    "                         validation_data=val,\n",
    "                         callbacks=[early_stopping, tensorboard_callback])\n",
    "\n",
    "\n"
   ]
  },
  {
   "cell_type": "code",
   "execution_count": 12,
   "id": "eba7846a",
   "metadata": {},
   "outputs": [
    {
     "data": {
      "image/png": "[encoded data removed]",
      "text/plain": [
       "<Figure size 720x576 with 1 Axes>"
      ]
     },
     "metadata": {
      "needs_background": "light"
     },
     "output_type": "display_data"
    }
   ],
   "source": [
    "pyplot.figure(figsize=(10,8))\n",
    "pyplot.title('Loss / Mean Squared Error')\n",
    "pyplot.plot(history.history['loss'], label='train')\n",
    "pyplot.plot(history.history['val_loss'], label='test')\n",
    "pyplot.legend()\n",
    "pyplot.show()"
   ]
  },
  {
   "cell_type": "code",
   "execution_count": 13,
   "id": "65d7dd7c",
   "metadata": {},
   "outputs": [
    {
     "data": {
      "text/plain": [
       "array([-122.878,   37.589])"
      ]
     },
     "execution_count": 13,
     "metadata": {},
     "output_type": "execute_result"
    }
   ],
   "source": [
    "list(val.take(1).as_numpy_iterator())[0][1][0][0]"
   ]
  },
  {
   "cell_type": "code",
   "execution_count": 14,
   "id": "81d81a1e",
   "metadata": {
    "scrolled": true
   },
   "outputs": [
    {
     "data": {
      "text/plain": [
       "(1, 20, 2)"
      ]
     },
     "execution_count": 14,
     "metadata": {},
     "output_type": "execute_result"
    }
   ],
   "source": [
    "np.array([list(val.take(1).as_numpy_iterator())[0][0][0]]).shape"
   ]
  },
  {
   "cell_type": "code",
   "execution_count": 15,
   "id": "6f30f250",
   "metadata": {},
   "outputs": [
    {
     "data": {
      "text/plain": [
       "(None, 20, 2)"
      ]
     },
     "execution_count": 15,
     "metadata": {},
     "output_type": "execute_result"
    }
   ],
   "source": [
    "lstm_model.layers[0].input_shape"
   ]
  },
  {
   "cell_type": "code",
   "execution_count": 16,
   "id": "19df4a1f",
   "metadata": {},
   "outputs": [
    {
     "data": {
      "text/plain": [
       "array([[[-123.14 ,   37.667],\n",
       "        [-122.513,   37.741],\n",
       "        [-123.055,   37.716],\n",
       "        [-123.105,   37.725],\n",
       "        [-123.265,   37.712],\n",
       "        [-123.22 ,   37.522],\n",
       "        [-123.032,   37.607],\n",
       "        [-123.182,   37.659],\n",
       "        [-122.89 ,   37.546],\n",
       "        [-122.928,   37.625],\n",
       "        [-122.907,   37.781],\n",
       "        [-123.129,   37.588],\n",
       "        [-122.951,   37.591],\n",
       "        [-123.081,   37.509],\n",
       "        [-123.017,   37.495],\n",
       "        [-123.08 ,   37.577],\n",
       "        [-122.968,   37.511],\n",
       "        [-123.381,   37.576],\n",
       "        [-122.904,   37.427],\n",
       "        [-123.132,   37.471]]])"
      ]
     },
     "execution_count": 16,
     "metadata": {},
     "output_type": "execute_result"
    }
   ],
   "source": [
    "np.array([val_df[:20]])"
   ]
  },
  {
   "cell_type": "code",
   "execution_count": 83,
   "id": "4aa50f36",
   "metadata": {},
   "outputs": [],
   "source": [
    "truth = val_df[:21]"
   ]
  },
  {
   "cell_type": "code",
   "execution_count": 18,
   "id": "a5e85350",
   "metadata": {},
   "outputs": [],
   "source": [
    "y_pred = lstm_model.predict(np.array([val_df[:20]]))[0]"
   ]
  },
  {
   "cell_type": "code",
   "execution_count": 19,
   "id": "cb366265",
   "metadata": {},
   "outputs": [
    {
     "data": {
      "text/plain": [
       "array([-117.59136 ,   40.478867], dtype=float32)"
      ]
     },
     "execution_count": 19,
     "metadata": {},
     "output_type": "execute_result"
    }
   ],
   "source": [
    "y_pred "
   ]
  },
  {
   "cell_type": "code",
   "execution_count": 20,
   "id": "ba1b6148",
   "metadata": {},
   "outputs": [
    {
     "data": {
      "image/png": "[encoded data removed]",
      "text/plain": [
       "<Figure size 360x360 with 1 Axes>"
      ]
     },
     "metadata": {
      "needs_background": "light"
     },
     "output_type": "display_data"
    }
   ],
   "source": [
    "pyplot.figure(figsize=(5,5))\n",
    "pyplot.plot(val_df[:20][\"location-long\"], val_df[:20][\"location-lat\"], label='true')\n",
    "pyplot.scatter(y_pred[0], y_pred[1],  c=\"red\", label='pred')\n",
    "pyplot.scatter(val_df.iloc[21][0], val_df.iloc[21][1],  c=\"green\", label='pred')\n",
    "pyplot.legend()\n",
    "pyplot.show()"
   ]
  },
  {
   "cell_type": "code",
   "execution_count": 21,
   "id": "c39ccf07",
   "metadata": {},
   "outputs": [
    {
     "data": {
      "text/plain": [
       "location-long   -123.031\n",
       "location-lat      37.511\n",
       "Name: 311, dtype: float64"
      ]
     },
     "execution_count": 21,
     "metadata": {},
     "output_type": "execute_result"
    }
   ],
   "source": [
    "val_df.iloc[21]"
   ]
  },
  {
   "cell_type": "code",
   "execution_count": 74,
   "id": "6c1b65e6",
   "metadata": {},
   "outputs": [],
   "source": [
    "import folium\n",
    "from folium import Map, Marker"
   ]
  },
  {
   "cell_type": "code",
   "execution_count": 87,
   "id": "5e3a279d",
   "metadata": {},
   "outputs": [
    {
     "data": {
      "text/html": [
       "<div>\n",
       "<style scoped>\n",
       "    .dataframe tbody tr th:only-of-type {\n",
       "        vertical-align: middle;\n",
       "    }\n",
       "\n",
       "    .dataframe tbody tr th {\n",
       "        vertical-align: top;\n",
       "    }\n",
       "\n",
       "    .dataframe thead th {\n",
       "        text-align: right;\n",
       "    }\n",
       "</style>\n",
       "<table border=\"1\" class=\"dataframe\">\n",
       "  <thead>\n",
       "    <tr style=\"text-align: right;\">\n",
       "      <th></th>\n",
       "      <th>location-long</th>\n",
       "      <th>location-lat</th>\n",
       "    </tr>\n",
       "  </thead>\n",
       "  <tbody>\n",
       "    <tr>\n",
       "      <th>290</th>\n",
       "      <td>-123.140</td>\n",
       "      <td>37.667</td>\n",
       "    </tr>\n",
       "    <tr>\n",
       "      <th>291</th>\n",
       "      <td>-122.513</td>\n",
       "      <td>37.741</td>\n",
       "    </tr>\n",
       "    <tr>\n",
       "      <th>292</th>\n",
       "      <td>-123.055</td>\n",
       "      <td>37.716</td>\n",
       "    </tr>\n",
       "    <tr>\n",
       "      <th>293</th>\n",
       "      <td>-123.105</td>\n",
       "      <td>37.725</td>\n",
       "    </tr>\n",
       "    <tr>\n",
       "      <th>294</th>\n",
       "      <td>-123.265</td>\n",
       "      <td>37.712</td>\n",
       "    </tr>\n",
       "    <tr>\n",
       "      <th>295</th>\n",
       "      <td>-123.220</td>\n",
       "      <td>37.522</td>\n",
       "    </tr>\n",
       "    <tr>\n",
       "      <th>296</th>\n",
       "      <td>-123.032</td>\n",
       "      <td>37.607</td>\n",
       "    </tr>\n",
       "    <tr>\n",
       "      <th>297</th>\n",
       "      <td>-123.182</td>\n",
       "      <td>37.659</td>\n",
       "    </tr>\n",
       "    <tr>\n",
       "      <th>298</th>\n",
       "      <td>-122.890</td>\n",
       "      <td>37.546</td>\n",
       "    </tr>\n",
       "    <tr>\n",
       "      <th>299</th>\n",
       "      <td>-122.928</td>\n",
       "      <td>37.625</td>\n",
       "    </tr>\n",
       "    <tr>\n",
       "      <th>300</th>\n",
       "      <td>-122.907</td>\n",
       "      <td>37.781</td>\n",
       "    </tr>\n",
       "    <tr>\n",
       "      <th>301</th>\n",
       "      <td>-123.129</td>\n",
       "      <td>37.588</td>\n",
       "    </tr>\n",
       "    <tr>\n",
       "      <th>302</th>\n",
       "      <td>-122.951</td>\n",
       "      <td>37.591</td>\n",
       "    </tr>\n",
       "    <tr>\n",
       "      <th>303</th>\n",
       "      <td>-123.081</td>\n",
       "      <td>37.509</td>\n",
       "    </tr>\n",
       "    <tr>\n",
       "      <th>304</th>\n",
       "      <td>-123.017</td>\n",
       "      <td>37.495</td>\n",
       "    </tr>\n",
       "    <tr>\n",
       "      <th>305</th>\n",
       "      <td>-123.080</td>\n",
       "      <td>37.577</td>\n",
       "    </tr>\n",
       "    <tr>\n",
       "      <th>306</th>\n",
       "      <td>-122.968</td>\n",
       "      <td>37.511</td>\n",
       "    </tr>\n",
       "    <tr>\n",
       "      <th>307</th>\n",
       "      <td>-123.381</td>\n",
       "      <td>37.576</td>\n",
       "    </tr>\n",
       "    <tr>\n",
       "      <th>308</th>\n",
       "      <td>-122.904</td>\n",
       "      <td>37.427</td>\n",
       "    </tr>\n",
       "    <tr>\n",
       "      <th>309</th>\n",
       "      <td>-123.132</td>\n",
       "      <td>37.471</td>\n",
       "    </tr>\n",
       "    <tr>\n",
       "      <th>310</th>\n",
       "      <td>-122.878</td>\n",
       "      <td>37.589</td>\n",
       "    </tr>\n",
       "  </tbody>\n",
       "</table>\n",
       "</div>"
      ],
      "text/plain": [
       "     location-long  location-lat\n",
       "290       -123.140        37.667\n",
       "291       -122.513        37.741\n",
       "292       -123.055        37.716\n",
       "293       -123.105        37.725\n",
       "294       -123.265        37.712\n",
       "295       -123.220        37.522\n",
       "296       -123.032        37.607\n",
       "297       -123.182        37.659\n",
       "298       -122.890        37.546\n",
       "299       -122.928        37.625\n",
       "300       -122.907        37.781\n",
       "301       -123.129        37.588\n",
       "302       -122.951        37.591\n",
       "303       -123.081        37.509\n",
       "304       -123.017        37.495\n",
       "305       -123.080        37.577\n",
       "306       -122.968        37.511\n",
       "307       -123.381        37.576\n",
       "308       -122.904        37.427\n",
       "309       -123.132        37.471\n",
       "310       -122.878        37.589"
      ]
     },
     "execution_count": 87,
     "metadata": {},
     "output_type": "execute_result"
    }
   ],
   "source": [
    "truth"
   ]
  },
  {
   "cell_type": "code",
   "execution_count": 90,
   "id": "df8efd8d",
   "metadata": {},
   "outputs": [],
   "source": [
    "truth = truth.to_numpy()"
   ]
  },
  {
   "cell_type": "code",
   "execution_count": 79,
   "id": "92a6720e",
   "metadata": {},
   "outputs": [],
   "source": [
    "from folium import Map, Marker"
   ]
  },
  {
   "cell_type": "code",
   "execution_count": 93,
   "id": "0887e44e",
   "metadata": {},
   "outputs": [],
   "source": [
    " m = Map([28.773552, -115.176131])\n",
    "\n",
    "for point in truth:\n",
    "    folium.Marker(location=[point[1], point[0]]).add_to(m)"
   ]
  },
  {
   "cell_type": "code",
   "execution_count": 94,
   "id": "62a2d0b6",
   "metadata": {},
   "outputs": [
    {
     "data": {
      "text/html": [
       "<div style=\"width:100%;\"><div style=\"position:relative;width:100%;height:0;padding-bottom:60%;\"><span style=\"color:#565656\">Make this Notebook Trusted to load map: File -> Trust Notebook</span><iframe src=\"about:blank\" style=\"position:absolute;width:100%;height:100%;left:0;top:0;border:none !important;\" data-html=%3C%21DOCTYPE%20html%3E%0A%3Chead%3E%20%20%20%20%0A%20%20%20%20%3Cmeta%20http-equiv%3D%22content-type%22%20content%3D%22text/html%3B%20charset%3DUTF-8%22%20/%3E%0A%20%20%20%20%0A%20%20%20%20%20%20%20%20%3Cscript%3E%0A%20%20%20%20%20%20%20%20%20%20%20%20L_NO_TOUCH%20%3D%20false%3B%0A%20%20%20%20%20%20%20%20%20%20%20%20L_DISABLE_3D%20%3D%20false%3B%0A%20%20%20%20%20%20%20%20%3C/script%3E%0A%20%20%20%20%0A%20%20%20%20%3Cstyle%3Ehtml%2C%20body%20%7Bwidth%3A%20100%25%3Bheight%3A%20100%25%3Bmargin%3A%200%3Bpadding%3A%200%3B%7D%3C/style%3E%0A%20%20%20%20%3Cstyle%3E%23map%20%7Bposition%3Aabsolute%3Btop%3A0%3Bbottom%3A0%3Bright%3A0%3Bleft%3A0%3B%7D%3C/style%3E%0A%20%20%20%20%3Cscript%20src%3D%22https%3A//cdn.jsdelivr.net/npm/leaflet%401.6.0/dist/leaflet.js%22%3E%3C/script%3E%0A%20%20%20%20%3Cscript%20src%3D%22https%3A//code.jquery.com/jquery-1.12.4.min.js%22%3E%3C/script%3E%0A%20%20%20%20%3Cscript%20src%3D%22https%3A//maxcdn.bootstrapcdn.com/bootstrap/3.2.0/js/bootstrap.min.js%22%3E%3C/script%3E%0A%20%20%20%20%3Cscript%20src%3D%22https%3A//cdnjs.cloudflare.com/ajax/libs/Leaflet.awesome-markers/2.0.2/leaflet.awesome-markers.js%22%3E%3C/script%3E%0A%20%20%20%20%3Clink%20rel%3D%22stylesheet%22%20href%3D%22https%3A//cdn.jsdelivr.net/npm/leaflet%401.6.0/dist/leaflet.css%22/%3E%0A%20%20%20%20%3Clink%20rel%3D%22stylesheet%22%20href%3D%22https%3A//maxcdn.bootstrapcdn.com/bootstrap/3.2.0/css/bootstrap.min.css%22/%3E%0A%20%20%20%20%3Clink%20rel%3D%22stylesheet%22%20href%3D%22https%3A//maxcdn.bootstrapcdn.com/bootstrap/3.2.0/css/bootstrap-theme.min.css%22/%3E%0A%20%20%20%20%3Clink%20rel%3D%22stylesheet%22%20href%3D%22https%3A//maxcdn.bootstrapcdn.com/font-awesome/4.6.3/css/font-awesome.min.css%22/%3E%0A%20%20%20%20%3Clink%20rel%3D%22stylesheet%22%20href%3D%22https%3A//cdnjs.cloudflare.com/ajax/libs/Leaflet.awesome-markers/2.0.2/leaflet.awesome-markers.css%22/%3E%0A%20%20%20%20%3Clink%20rel%3D%22stylesheet%22%20href%3D%22https%3A//cdn.jsdelivr.net/gh/python-visualization/folium/folium/templates/leaflet.awesome.rotate.min.css%22/%3E%0A%20%20%20%20%0A%20%20%20%20%20%20%20%20%20%20%20%20%3Cmeta%20name%3D%22viewport%22%20content%3D%22width%3Ddevice-width%2C%0A%20%20%20%20%20%20%20%20%20%20%20%20%20%20%20%20initial-scale%3D1.0%2C%20maximum-scale%3D1.0%2C%20user-scalable%3Dno%22%20/%3E%0A%20%20%20%20%20%20%20%20%20%20%20%20%3Cstyle%3E%0A%20%20%20%20%20%20%20%20%20%20%20%20%20%20%20%20%23map_e2e970a4cd0641b0a3f2c730a95e16a8%20%7B%0A%20%20%20%20%20%20%20%20%20%20%20%20%20%20%20%20%20%20%20%20position%3A%20relative%3B%0A%20%20%20%20%20%20%20%20%20%20%20%20%20%20%20%20%20%20%20%20width%3A%20100.0%25%3B%0A%20%20%20%20%20%20%20%20%20%20%20%20%20%20%20%20%20%20%20%20height%3A%20100.0%25%3B%0A%20%20%20%20%20%20%20%20%20%20%20%20%20%20%20%20%20%20%20%20left%3A%200.0%25%3B%0A%20%20%20%20%20%20%20%20%20%20%20%20%20%20%20%20%20%20%20%20top%3A%200.0%25%3B%0A%20%20%20%20%20%20%20%20%20%20%20%20%20%20%20%20%7D%0A%20%20%20%20%20%20%20%20%20%20%20%20%3C/style%3E%0A%20%20%20%20%20%20%20%20%0A%3C/head%3E%0A%3Cbody%3E%20%20%20%20%0A%20%20%20%20%0A%20%20%20%20%20%20%20%20%20%20%20%20%3Cdiv%20class%3D%22folium-map%22%20id%3D%22map_e2e970a4cd0641b0a3f2c730a95e16a8%22%20%3E%3C/div%3E%0A%20%20%20%20%20%20%20%20%0A%3C/body%3E%0A%3Cscript%3E%20%20%20%20%0A%20%20%20%20%0A%20%20%20%20%20%20%20%20%20%20%20%20var%20map_e2e970a4cd0641b0a3f2c730a95e16a8%20%3D%20L.map%28%0A%20%20%20%20%20%20%20%20%20%20%20%20%20%20%20%20%22map_e2e970a4cd0641b0a3f2c730a95e16a8%22%2C%0A%20%20%20%20%20%20%20%20%20%20%20%20%20%20%20%20%7B%0A%20%20%20%20%20%20%20%20%20%20%20%20%20%20%20%20%20%20%20%20center%3A%20%5B28.773552%2C%20-115.176131%5D%2C%0A%20%20%20%20%20%20%20%20%20%20%20%20%20%20%20%20%20%20%20%20crs%3A%20L.CRS.EPSG3857%2C%0A%20%20%20%20%20%20%20%20%20%20%20%20%20%20%20%20%20%20%20%20zoom%3A%2010%2C%0A%20%20%20%20%20%20%20%20%20%20%20%20%20%20%20%20%20%20%20%20zoomControl%3A%20true%2C%0A%20%20%20%20%20%20%20%20%20%20%20%20%20%20%20%20%20%20%20%20preferCanvas%3A%20false%2C%0A%20%20%20%20%20%20%20%20%20%20%20%20%20%20%20%20%7D%0A%20%20%20%20%20%20%20%20%20%20%20%20%29%3B%0A%0A%20%20%20%20%20%20%20%20%20%20%20%20%0A%0A%20%20%20%20%20%20%20%20%0A%20%20%20%20%0A%20%20%20%20%20%20%20%20%20%20%20%20var%20tile_layer_3d459c389775420e8ade12a6fa28cfa6%20%3D%20L.tileLayer%28%0A%20%20%20%20%20%20%20%20%20%20%20%20%20%20%20%20%22https%3A//%7Bs%7D.tile.openstreetmap.org/%7Bz%7D/%7Bx%7D/%7By%7D.png%22%2C%0A%20%20%20%20%20%20%20%20%20%20%20%20%20%20%20%20%7B%22attribution%22%3A%20%22Data%20by%20%5Cu0026copy%3B%20%5Cu003ca%20href%3D%5C%22http%3A//openstreetmap.org%5C%22%5Cu003eOpenStreetMap%5Cu003c/a%5Cu003e%2C%20under%20%5Cu003ca%20href%3D%5C%22http%3A//www.openstreetmap.org/copyright%5C%22%5Cu003eODbL%5Cu003c/a%5Cu003e.%22%2C%20%22detectRetina%22%3A%20false%2C%20%22maxNativeZoom%22%3A%2018%2C%20%22maxZoom%22%3A%2018%2C%20%22minZoom%22%3A%200%2C%20%22noWrap%22%3A%20false%2C%20%22opacity%22%3A%201%2C%20%22subdomains%22%3A%20%22abc%22%2C%20%22tms%22%3A%20false%7D%0A%20%20%20%20%20%20%20%20%20%20%20%20%29.addTo%28map_e2e970a4cd0641b0a3f2c730a95e16a8%29%3B%0A%20%20%20%20%20%20%20%20%0A%20%20%20%20%0A%20%20%20%20%20%20%20%20%20%20%20%20var%20marker_fb180301b67540b985d7cbba24392342%20%3D%20L.marker%28%0A%20%20%20%20%20%20%20%20%20%20%20%20%20%20%20%20%5B37.667%2C%20-123.14%5D%2C%0A%20%20%20%20%20%20%20%20%20%20%20%20%20%20%20%20%7B%7D%0A%20%20%20%20%20%20%20%20%20%20%20%20%29.addTo%28map_e2e970a4cd0641b0a3f2c730a95e16a8%29%3B%0A%20%20%20%20%20%20%20%20%0A%20%20%20%20%0A%20%20%20%20%20%20%20%20%20%20%20%20var%20marker_fbde1177ecd44cf4b7dedd7c107fd868%20%3D%20L.marker%28%0A%20%20%20%20%20%20%20%20%20%20%20%20%20%20%20%20%5B37.741%2C%20-122.513%5D%2C%0A%20%20%20%20%20%20%20%20%20%20%20%20%20%20%20%20%7B%7D%0A%20%20%20%20%20%20%20%20%20%20%20%20%29.addTo%28map_e2e970a4cd0641b0a3f2c730a95e16a8%29%3B%0A%20%20%20%20%20%20%20%20%0A%20%20%20%20%0A%20%20%20%20%20%20%20%20%20%20%20%20var%20marker_18bcf5dee54a42158af230b3ccdd7c2e%20%3D%20L.marker%28%0A%20%20%20%20%20%20%20%20%20%20%20%20%20%20%20%20%5B37.716%2C%20-123.055%5D%2C%0A%20%20%20%20%20%20%20%20%20%20%20%20%20%20%20%20%7B%7D%0A%20%20%20%20%20%20%20%20%20%20%20%20%29.addTo%28map_e2e970a4cd0641b0a3f2c730a95e16a8%29%3B%0A%20%20%20%20%20%20%20%20%0A%20%20%20%20%0A%20%20%20%20%20%20%20%20%20%20%20%20var%20marker_606f918d05fc4ee3a3efaddbd900d3b2%20%3D%20L.marker%28%0A%20%20%20%20%20%20%20%20%20%20%20%20%20%20%20%20%5B37.725%2C%20-123.10500000000002%5D%2C%0A%20%20%20%20%20%20%20%20%20%20%20%20%20%20%20%20%7B%7D%0A%20%20%20%20%20%20%20%20%20%20%20%20%29.addTo%28map_e2e970a4cd0641b0a3f2c730a95e16a8%29%3B%0A%20%20%20%20%20%20%20%20%0A%20%20%20%20%0A%20%20%20%20%20%20%20%20%20%20%20%20var%20marker_ade71fec0c014279b91e0a47ddf3e857%20%3D%20L.marker%28%0A%20%20%20%20%20%20%20%20%20%20%20%20%20%20%20%20%5B37.712%2C%20-123.265%5D%2C%0A%20%20%20%20%20%20%20%20%20%20%20%20%20%20%20%20%7B%7D%0A%20%20%20%20%20%20%20%20%20%20%20%20%29.addTo%28map_e2e970a4cd0641b0a3f2c730a95e16a8%29%3B%0A%20%20%20%20%20%20%20%20%0A%20%20%20%20%0A%20%20%20%20%20%20%20%20%20%20%20%20var%20marker_b5d59ae7f5d74a4683b7673f6cdc613d%20%3D%20L.marker%28%0A%20%20%20%20%20%20%20%20%20%20%20%20%20%20%20%20%5B37.522%2C%20-123.22%5D%2C%0A%20%20%20%20%20%20%20%20%20%20%20%20%20%20%20%20%7B%7D%0A%20%20%20%20%20%20%20%20%20%20%20%20%29.addTo%28map_e2e970a4cd0641b0a3f2c730a95e16a8%29%3B%0A%20%20%20%20%20%20%20%20%0A%20%20%20%20%0A%20%20%20%20%20%20%20%20%20%20%20%20var%20marker_c2a4421095a5474cad46bc5c38920f31%20%3D%20L.marker%28%0A%20%20%20%20%20%20%20%20%20%20%20%20%20%20%20%20%5B37.607%2C%20-123.03199999999998%5D%2C%0A%20%20%20%20%20%20%20%20%20%20%20%20%20%20%20%20%7B%7D%0A%20%20%20%20%20%20%20%20%20%20%20%20%29.addTo%28map_e2e970a4cd0641b0a3f2c730a95e16a8%29%3B%0A%20%20%20%20%20%20%20%20%0A%20%20%20%20%0A%20%20%20%20%20%20%20%20%20%20%20%20var%20marker_0ef4d6dbb44c47d78f66f364057adee0%20%3D%20L.marker%28%0A%20%20%20%20%20%20%20%20%20%20%20%20%20%20%20%20%5B37.659%2C%20-123.18200000000002%5D%2C%0A%20%20%20%20%20%20%20%20%20%20%20%20%20%20%20%20%7B%7D%0A%20%20%20%20%20%20%20%20%20%20%20%20%29.addTo%28map_e2e970a4cd0641b0a3f2c730a95e16a8%29%3B%0A%20%20%20%20%20%20%20%20%0A%20%20%20%20%0A%20%20%20%20%20%20%20%20%20%20%20%20var%20marker_8dfe603caac94fb1981039c3dc4d672b%20%3D%20L.marker%28%0A%20%20%20%20%20%20%20%20%20%20%20%20%20%20%20%20%5B37.546%2C%20-122.89%5D%2C%0A%20%20%20%20%20%20%20%20%20%20%20%20%20%20%20%20%7B%7D%0A%20%20%20%20%20%20%20%20%20%20%20%20%29.addTo%28map_e2e970a4cd0641b0a3f2c730a95e16a8%29%3B%0A%20%20%20%20%20%20%20%20%0A%20%20%20%20%0A%20%20%20%20%20%20%20%20%20%20%20%20var%20marker_52833d2d1a38459d9fb821a47f1417f6%20%3D%20L.marker%28%0A%20%20%20%20%20%20%20%20%20%20%20%20%20%20%20%20%5B37.625%2C%20-122.928%5D%2C%0A%20%20%20%20%20%20%20%20%20%20%20%20%20%20%20%20%7B%7D%0A%20%20%20%20%20%20%20%20%20%20%20%20%29.addTo%28map_e2e970a4cd0641b0a3f2c730a95e16a8%29%3B%0A%20%20%20%20%20%20%20%20%0A%20%20%20%20%0A%20%20%20%20%20%20%20%20%20%20%20%20var%20marker_a1d9493cd447400c8a1d085eea3a2686%20%3D%20L.marker%28%0A%20%20%20%20%20%20%20%20%20%20%20%20%20%20%20%20%5B37.781%2C%20-122.90699999999998%5D%2C%0A%20%20%20%20%20%20%20%20%20%20%20%20%20%20%20%20%7B%7D%0A%20%20%20%20%20%20%20%20%20%20%20%20%29.addTo%28map_e2e970a4cd0641b0a3f2c730a95e16a8%29%3B%0A%20%20%20%20%20%20%20%20%0A%20%20%20%20%0A%20%20%20%20%20%20%20%20%20%20%20%20var%20marker_637583b8848249b99d8b3917317b1fda%20%3D%20L.marker%28%0A%20%20%20%20%20%20%20%20%20%20%20%20%20%20%20%20%5B37.588%2C%20-123.12900000000002%5D%2C%0A%20%20%20%20%20%20%20%20%20%20%20%20%20%20%20%20%7B%7D%0A%20%20%20%20%20%20%20%20%20%20%20%20%29.addTo%28map_e2e970a4cd0641b0a3f2c730a95e16a8%29%3B%0A%20%20%20%20%20%20%20%20%0A%20%20%20%20%0A%20%20%20%20%20%20%20%20%20%20%20%20var%20marker_5f2376af78134612badfeaa6cbbf155c%20%3D%20L.marker%28%0A%20%20%20%20%20%20%20%20%20%20%20%20%20%20%20%20%5B37.591%2C%20-122.951%5D%2C%0A%20%20%20%20%20%20%20%20%20%20%20%20%20%20%20%20%7B%7D%0A%20%20%20%20%20%20%20%20%20%20%20%20%29.addTo%28map_e2e970a4cd0641b0a3f2c730a95e16a8%29%3B%0A%20%20%20%20%20%20%20%20%0A%20%20%20%20%0A%20%20%20%20%20%20%20%20%20%20%20%20var%20marker_53ccbf1ad07941198d0516d7b5d88bbc%20%3D%20L.marker%28%0A%20%20%20%20%20%20%20%20%20%20%20%20%20%20%20%20%5B37.509%2C%20-123.08100000000002%5D%2C%0A%20%20%20%20%20%20%20%20%20%20%20%20%20%20%20%20%7B%7D%0A%20%20%20%20%20%20%20%20%20%20%20%20%29.addTo%28map_e2e970a4cd0641b0a3f2c730a95e16a8%29%3B%0A%20%20%20%20%20%20%20%20%0A%20%20%20%20%0A%20%20%20%20%20%20%20%20%20%20%20%20var%20marker_2190c8717d1144d9b462a3e9259a0fc1%20%3D%20L.marker%28%0A%20%20%20%20%20%20%20%20%20%20%20%20%20%20%20%20%5B37.495%2C%20-123.017%5D%2C%0A%20%20%20%20%20%20%20%20%20%20%20%20%20%20%20%20%7B%7D%0A%20%20%20%20%20%20%20%20%20%20%20%20%29.addTo%28map_e2e970a4cd0641b0a3f2c730a95e16a8%29%3B%0A%20%20%20%20%20%20%20%20%0A%20%20%20%20%0A%20%20%20%20%20%20%20%20%20%20%20%20var%20marker_81f86bfb65fd499db8096028415d2928%20%3D%20L.marker%28%0A%20%20%20%20%20%20%20%20%20%20%20%20%20%20%20%20%5B37.577%2C%20-123.07999999999998%5D%2C%0A%20%20%20%20%20%20%20%20%20%20%20%20%20%20%20%20%7B%7D%0A%20%20%20%20%20%20%20%20%20%20%20%20%29.addTo%28map_e2e970a4cd0641b0a3f2c730a95e16a8%29%3B%0A%20%20%20%20%20%20%20%20%0A%20%20%20%20%0A%20%20%20%20%20%20%20%20%20%20%20%20var%20marker_ad4224e0ae47457a8880a2d7026dda66%20%3D%20L.marker%28%0A%20%20%20%20%20%20%20%20%20%20%20%20%20%20%20%20%5B37.511%2C%20-122.96800000000002%5D%2C%0A%20%20%20%20%20%20%20%20%20%20%20%20%20%20%20%20%7B%7D%0A%20%20%20%20%20%20%20%20%20%20%20%20%29.addTo%28map_e2e970a4cd0641b0a3f2c730a95e16a8%29%3B%0A%20%20%20%20%20%20%20%20%0A%20%20%20%20%0A%20%20%20%20%20%20%20%20%20%20%20%20var%20marker_1da3125b68cc4d85a18ba2d64c526767%20%3D%20L.marker%28%0A%20%20%20%20%20%20%20%20%20%20%20%20%20%20%20%20%5B37.576%2C%20-123.381%5D%2C%0A%20%20%20%20%20%20%20%20%20%20%20%20%20%20%20%20%7B%7D%0A%20%20%20%20%20%20%20%20%20%20%20%20%29.addTo%28map_e2e970a4cd0641b0a3f2c730a95e16a8%29%3B%0A%20%20%20%20%20%20%20%20%0A%20%20%20%20%0A%20%20%20%20%20%20%20%20%20%20%20%20var%20marker_5c9b8f824aec4faab84d62405e9fa733%20%3D%20L.marker%28%0A%20%20%20%20%20%20%20%20%20%20%20%20%20%20%20%20%5B37.427%2C%20-122.904%5D%2C%0A%20%20%20%20%20%20%20%20%20%20%20%20%20%20%20%20%7B%7D%0A%20%20%20%20%20%20%20%20%20%20%20%20%29.addTo%28map_e2e970a4cd0641b0a3f2c730a95e16a8%29%3B%0A%20%20%20%20%20%20%20%20%0A%20%20%20%20%0A%20%20%20%20%20%20%20%20%20%20%20%20var%20marker_5b1497bc9d9f4257b30e93fb50def20a%20%3D%20L.marker%28%0A%20%20%20%20%20%20%20%20%20%20%20%20%20%20%20%20%5B37.471%2C%20-123.132%5D%2C%0A%20%20%20%20%20%20%20%20%20%20%20%20%20%20%20%20%7B%7D%0A%20%20%20%20%20%20%20%20%20%20%20%20%29.addTo%28map_e2e970a4cd0641b0a3f2c730a95e16a8%29%3B%0A%20%20%20%20%20%20%20%20%0A%20%20%20%20%0A%20%20%20%20%20%20%20%20%20%20%20%20var%20marker_f9f3ea7edb3646568154385600d85068%20%3D%20L.marker%28%0A%20%20%20%20%20%20%20%20%20%20%20%20%20%20%20%20%5B37.589%2C%20-122.878%5D%2C%0A%20%20%20%20%20%20%20%20%20%20%20%20%20%20%20%20%7B%7D%0A%20%20%20%20%20%20%20%20%20%20%20%20%29.addTo%28map_e2e970a4cd0641b0a3f2c730a95e16a8%29%3B%0A%20%20%20%20%20%20%20%20%0A%3C/script%3E onload=\"this.contentDocument.open();this.contentDocument.write(    decodeURIComponent(this.getAttribute('data-html')));this.contentDocument.close();\" allowfullscreen webkitallowfullscreen mozallowfullscreen></iframe></div></div>"
      ],
      "text/plain": [
       "<folium.folium.Map at 0x7f2682a19be0>"
      ]
     },
     "execution_count": 94,
     "metadata": {},
     "output_type": "execute_result"
    }
   ],
   "source": [
    "m"
   ]
  },
  {
   "cell_type": "code",
   "execution_count": 25,
   "id": "9ad13106",
   "metadata": {},
   "outputs": [
    {
     "data": {
      "text/plain": [
       "array([[-117.97619 ,   33.007256]], dtype=float32)"
      ]
     },
     "execution_count": 25,
     "metadata": {},
     "output_type": "execute_result"
    }
   ],
   "source": [
    "lstm_model.predict(np.array([list(val.take(1).as_numpy_iterator())[0][0][0]]))"
   ]
  }
 ],
 "metadata": {
  "kernelspec": {
   "display_name": "Python 3 (ipykernel)",
   "language": "python",
   "name": "python3"
  },
  "language_info": {
   "codemirror_mode": {
    "name": "ipython",
    "version": 3
   },
   "file_extension": ".py",
   "mimetype": "text/x-python",
   "name": "python",
   "nbconvert_exporter": "python",
   "pygments_lexer": "ipython3",
   "version": "3.9.7"
  }
 },
 "nbformat": 4,
 "nbformat_minor": 5
}
