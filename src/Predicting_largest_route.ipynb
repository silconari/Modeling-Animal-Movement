{
 "cells": [
  {
   "cell_type": "code",
   "execution_count": 1,
   "id": "b66ea9c5",
   "metadata": {},
   "outputs": [
    {
     "name": "stderr",
     "output_type": "stream",
     "text": [
      "2021-10-27 17:59:00.813602: W tensorflow/stream_executor/platform/default/dso_loader.cc:64] Could not load dynamic library 'libcudart.so.11.0'; dlerror: libcudart.so.11.0: cannot open shared object file: No such file or directory\n",
      "2021-10-27 17:59:00.813644: I tensorflow/stream_executor/cuda/cudart_stub.cc:29] Ignore above cudart dlerror if you do not have a GPU set up on your machine.\n"
     ]
    }
   ],
   "source": [
    "import pandas as pd\n",
    "import glob\n",
    "import tensorflow as tf\n",
    "from tensorflow.data import Dataset\n",
    "from matplotlib import pyplot\n",
    "from tensorflow.keras.callbacks import TensorBoard\n",
    "import numpy as np"
   ]
  },
  {
   "cell_type": "code",
   "execution_count": 2,
   "id": "d04238eb",
   "metadata": {},
   "outputs": [],
   "source": [
    "df_23043 = pd.read_csv(\"../data/datasets_by_whale/1999CA-Bmu-23043.csv\")[[\"location-long\", \"location-lat\"]]"
   ]
  },
  {
   "cell_type": "code",
   "execution_count": 3,
   "id": "a583c580",
   "metadata": {},
   "outputs": [],
   "source": [
    "def split_data(df):\n",
    "\n",
    "    n = len(df)\n",
    "    train_df = df[0:int(n*0.7)]\n",
    "    val_df = df[int(n*0.7):]\n",
    "    #test_df = df[int(n*0.9):]\n",
    "\n",
    "    num_features = df.shape[1]\n",
    "    \n",
    "    return train_df, val_df#,test_df"
   ]
  },
  {
   "cell_type": "code",
   "execution_count": 4,
   "id": "00013e0e",
   "metadata": {},
   "outputs": [],
   "source": [
    "train_df,val_df = split_data(df_23043)"
   ]
  },
  {
   "cell_type": "code",
   "execution_count": 5,
   "id": "d2a33e8d",
   "metadata": {},
   "outputs": [],
   "source": [
    "def data_windowing(train_df,val_df):\n",
    "    n_points = 20\n",
    "    window_length = n_points+ 1 \n",
    "    \n",
    "    window_train = tf.keras.utils.timeseries_dataset_from_array(\n",
    "    train_df, targets=None,sequence_length = window_length, sequence_stride=1, sampling_rate=1,\n",
    "    batch_size=32, shuffle=False, seed=None, start_index=None, end_index=None)\n",
    "    \n",
    "    \"\"\"\n",
    "    window_test = tf.keras.utils.timeseries_dataset_from_array(\n",
    "    test_df, targets=None,sequence_length = window_length, sequence_stride=1, sampling_rate=1,\n",
    "    batch_size=32, shuffle=False, seed=None, start_index=None, end_index=None)\n",
    "    \"\"\"\n",
    "        \n",
    "    window_val = tf.keras.utils.timeseries_dataset_from_array(\n",
    "    val_df, targets=None,sequence_length = window_length, sequence_stride=1, sampling_rate=1,\n",
    "    batch_size=32, shuffle=False, seed=None, start_index=None, end_index=None)\n",
    "    \n",
    "    return window_train, window_val"
   ]
  },
  {
   "cell_type": "code",
   "execution_count": 6,
   "id": "fd8f7bbb",
   "metadata": {},
   "outputs": [],
   "source": [
    "def data_map(elem):\n",
    "    n_points = 20\n",
    "    window_length = n_points+ 1 \n",
    "    X,y = elem[:,:-1,:],elem[:,-1:,0:2]\n",
    "    X.set_shape([None, n_points, None])\n",
    "    y.set_shape([None, window_length - n_points, None])\n",
    "    \n",
    "    return (X,y)\n"
   ]
  },
  {
   "cell_type": "code",
   "execution_count": 7,
   "id": "75bdfac0",
   "metadata": {},
   "outputs": [
    {
     "name": "stderr",
     "output_type": "stream",
     "text": [
      "2021-10-27 17:59:04.384387: W tensorflow/stream_executor/platform/default/dso_loader.cc:64] Could not load dynamic library 'libcuda.so.1'; dlerror: libcuda.so.1: cannot open shared object file: No such file or directory\n",
      "2021-10-27 17:59:04.384436: W tensorflow/stream_executor/cuda/cuda_driver.cc:269] failed call to cuInit: UNKNOWN ERROR (303)\n",
      "2021-10-27 17:59:04.384455: I tensorflow/stream_executor/cuda/cuda_diagnostics.cc:156] kernel driver does not appear to be running on this host (DESKTOP-R3AGIN3): /proc/driver/nvidia/version does not exist\n",
      "2021-10-27 17:59:04.384696: I tensorflow/core/platform/cpu_feature_guard.cc:142] This TensorFlow binary is optimized with oneAPI Deep Neural Network Library (oneDNN) to use the following CPU instructions in performance-critical operations:  AVX2 FMA\n",
      "To enable them in other operations, rebuild TensorFlow with the appropriate compiler flags.\n"
     ]
    }
   ],
   "source": [
    "lstm_model = tf.keras.models.Sequential([\n",
    "    tf.keras.layers.LSTM(32, return_sequences=False),\n",
    "    tf.keras.layers.Dense(units=10),\n",
    "    tf.keras.layers.Dropout(rate=0.1),\n",
    "    tf.keras.layers.Dense(units=10),\n",
    "    tf.keras.layers.Dense(units=10),\n",
    "    tf.keras.layers.Dense(units=10),\n",
    "    tf.keras.layers.Dense(units=2)\n",
    "])"
   ]
  },
  {
   "cell_type": "code",
   "execution_count": 8,
   "id": "46122b61",
   "metadata": {},
   "outputs": [],
   "source": [
    "lstm_model.compile(loss=tf.losses.MeanSquaredError(),optimizer=tf.optimizers.Adam(learning_rate=0.0001),metrics=[tf.metrics.MeanAbsoluteError()])"
   ]
  },
  {
   "cell_type": "code",
   "execution_count": 9,
   "id": "14bcbc00",
   "metadata": {
    "scrolled": true
   },
   "outputs": [
    {
     "name": "stderr",
     "output_type": "stream",
     "text": [
      "2021-10-27 17:59:05.636110: I tensorflow/core/profiler/lib/profiler_session.cc:131] Profiler session initializing.\n",
      "2021-10-27 17:59:05.636158: I tensorflow/core/profiler/lib/profiler_session.cc:146] Profiler session started.\n",
      "2021-10-27 17:59:05.638985: I tensorflow/core/profiler/lib/profiler_session.cc:164] Profiler session tear down.\n",
      "2021-10-27 17:59:05.701627: I tensorflow/compiler/mlir/mlir_graph_optimization_pass.cc:185] None of the MLIR Optimization Passes are enabled (registered 2)\n"
     ]
    },
    {
     "name": "stdout",
     "output_type": "stream",
     "text": [
      "Epoch 1/100\n",
      "3/9 [=========>....................] - ETA: 0s - loss: 7689.1655 - mean_absolute_error: 77.0989"
     ]
    },
    {
     "name": "stderr",
     "output_type": "stream",
     "text": [
      "2021-10-27 17:59:07.372040: I tensorflow/core/profiler/lib/profiler_session.cc:131] Profiler session initializing.\n",
      "2021-10-27 17:59:07.372084: I tensorflow/core/profiler/lib/profiler_session.cc:146] Profiler session started.\n",
      "2021-10-27 17:59:07.390658: I tensorflow/core/profiler/lib/profiler_session.cc:66] Profiler session collecting data.\n",
      "2021-10-27 17:59:07.401975: I tensorflow/core/profiler/lib/profiler_session.cc:164] Profiler session tear down.\n",
      "2021-10-27 17:59:07.450115: I tensorflow/core/profiler/rpc/client/save_profile.cc:136] Creating directory: ./logs/train/plugins/profile/2021_10_27_17_59_07\n",
      "\n",
      "2021-10-27 17:59:07.469419: I tensorflow/core/profiler/rpc/client/save_profile.cc:142] Dumped gzipped tool data for trace.json.gz to ./logs/train/plugins/profile/2021_10_27_17_59_07/DESKTOP-R3AGIN3.trace.json.gz\n",
      "2021-10-27 17:59:07.490676: I tensorflow/core/profiler/rpc/client/save_profile.cc:136] Creating directory: ./logs/train/plugins/profile/2021_10_27_17_59_07\n",
      "\n",
      "2021-10-27 17:59:07.493894: I tensorflow/core/profiler/rpc/client/save_profile.cc:142] Dumped gzipped tool data for memory_profile.json.gz to ./logs/train/plugins/profile/2021_10_27_17_59_07/DESKTOP-R3AGIN3.memory_profile.json.gz\n",
      "2021-10-27 17:59:07.517276: I tensorflow/core/profiler/rpc/client/capture_profile.cc:251] Creating directory: ./logs/train/plugins/profile/2021_10_27_17_59_07\n",
      "Dumped tool data for xplane.pb to ./logs/train/plugins/profile/2021_10_27_17_59_07/DESKTOP-R3AGIN3.xplane.pb\n",
      "Dumped tool data for overview_page.pb to ./logs/train/plugins/profile/2021_10_27_17_59_07/DESKTOP-R3AGIN3.overview_page.pb\n",
      "Dumped tool data for input_pipeline.pb to ./logs/train/plugins/profile/2021_10_27_17_59_07/DESKTOP-R3AGIN3.input_pipeline.pb\n",
      "Dumped tool data for tensorflow_stats.pb to ./logs/train/plugins/profile/2021_10_27_17_59_07/DESKTOP-R3AGIN3.tensorflow_stats.pb\n",
      "Dumped tool data for kernel_stats.pb to ./logs/train/plugins/profile/2021_10_27_17_59_07/DESKTOP-R3AGIN3.kernel_stats.pb\n",
      "\n"
     ]
    },
    {
     "name": "stdout",
     "output_type": "stream",
     "text": [
      "9/9 [==============================] - 2s 87ms/step - loss: 7853.4297 - mean_absolute_error: 78.0913 - val_loss: 7308.9321 - val_mean_absolute_error: 73.4356\n",
      "Epoch 2/100\n",
      "9/9 [==============================] - 0s 18ms/step - loss: 7845.3525 - mean_absolute_error: 78.0563 - val_loss: 7297.9556 - val_mean_absolute_error: 73.4015\n",
      "Epoch 3/100\n",
      "9/9 [==============================] - 0s 16ms/step - loss: 7836.7324 - mean_absolute_error: 78.0247 - val_loss: 7287.3379 - val_mean_absolute_error: 73.3665\n",
      "Epoch 4/100\n",
      "9/9 [==============================] - 0s 17ms/step - loss: 7821.8345 - mean_absolute_error: 77.9841 - val_loss: 7276.7876 - val_mean_absolute_error: 73.3306\n",
      "Epoch 5/100\n",
      "9/9 [==============================] - 0s 18ms/step - loss: 7812.1445 - mean_absolute_error: 77.9540 - val_loss: 7266.1719 - val_mean_absolute_error: 73.2936\n",
      "Epoch 6/100\n",
      "9/9 [==============================] - 0s 20ms/step - loss: 7802.8276 - mean_absolute_error: 77.9109 - val_loss: 7255.3862 - val_mean_absolute_error: 73.2554\n",
      "Epoch 7/100\n",
      "9/9 [==============================] - 0s 22ms/step - loss: 7794.2095 - mean_absolute_error: 77.8735 - val_loss: 7244.3667 - val_mean_absolute_error: 73.2160\n",
      "Epoch 8/100\n",
      "9/9 [==============================] - 0s 23ms/step - loss: 7776.9712 - mean_absolute_error: 77.8394 - val_loss: 7232.9263 - val_mean_absolute_error: 73.1750\n",
      "Epoch 9/100\n",
      "9/9 [==============================] - 0s 18ms/step - loss: 7762.8110 - mean_absolute_error: 77.7857 - val_loss: 7220.8838 - val_mean_absolute_error: 73.1317\n",
      "Epoch 10/100\n",
      "9/9 [==============================] - 0s 23ms/step - loss: 7751.6240 - mean_absolute_error: 77.7406 - val_loss: 7208.2490 - val_mean_absolute_error: 73.0864\n",
      "Epoch 11/100\n",
      "9/9 [==============================] - 0s 19ms/step - loss: 7740.9229 - mean_absolute_error: 77.6999 - val_loss: 7194.9214 - val_mean_absolute_error: 73.0386\n",
      "Epoch 12/100\n",
      "9/9 [==============================] - 0s 28ms/step - loss: 7720.3433 - mean_absolute_error: 77.6363 - val_loss: 7180.6367 - val_mean_absolute_error: 72.9877\n",
      "Epoch 13/100\n",
      "9/9 [==============================] - 0s 18ms/step - loss: 7706.5762 - mean_absolute_error: 77.5742 - val_loss: 7165.1797 - val_mean_absolute_error: 72.9329\n",
      "Epoch 14/100\n",
      "9/9 [==============================] - 0s 23ms/step - loss: 7688.4839 - mean_absolute_error: 77.5237 - val_loss: 7147.9722 - val_mean_absolute_error: 72.8731\n",
      "Epoch 15/100\n",
      "9/9 [==============================] - 0s 23ms/step - loss: 7664.8931 - mean_absolute_error: 77.4393 - val_loss: 7127.5605 - val_mean_absolute_error: 72.8046\n",
      "Epoch 16/100\n",
      "9/9 [==============================] - 0s 23ms/step - loss: 7654.3120 - mean_absolute_error: 77.3962 - val_loss: 7095.5508 - val_mean_absolute_error: 72.7159\n",
      "Epoch 17/100\n",
      "9/9 [==============================] - 0s 19ms/step - loss: 7623.1948 - mean_absolute_error: 77.3029 - val_loss: 7063.9058 - val_mean_absolute_error: 72.6316\n",
      "Epoch 18/100\n",
      "9/9 [==============================] - 0s 25ms/step - loss: 7604.6470 - mean_absolute_error: 77.2319 - val_loss: 7041.3242 - val_mean_absolute_error: 72.5509\n",
      "Epoch 19/100\n",
      "9/9 [==============================] - 0s 17ms/step - loss: 7580.7700 - mean_absolute_error: 77.1450 - val_loss: 7017.3286 - val_mean_absolute_error: 72.4645\n",
      "Epoch 20/100\n",
      "9/9 [==============================] - 0s 19ms/step - loss: 7550.6260 - mean_absolute_error: 77.0394 - val_loss: 6991.5220 - val_mean_absolute_error: 72.3715\n",
      "Epoch 21/100\n",
      "9/9 [==============================] - 0s 21ms/step - loss: 7526.2549 - mean_absolute_error: 76.9419 - val_loss: 6963.8027 - val_mean_absolute_error: 72.2713\n",
      "Epoch 22/100\n",
      "9/9 [==============================] - 0s 19ms/step - loss: 7491.0396 - mean_absolute_error: 76.8321 - val_loss: 6933.3037 - val_mean_absolute_error: 72.1609\n",
      "Epoch 23/100\n",
      "9/9 [==============================] - 0s 18ms/step - loss: 7454.2529 - mean_absolute_error: 76.6995 - val_loss: 6899.1440 - val_mean_absolute_error: 72.0369\n",
      "Epoch 24/100\n",
      "9/9 [==============================] - 0s 17ms/step - loss: 7407.0103 - mean_absolute_error: 76.5467 - val_loss: 6860.4819 - val_mean_absolute_error: 71.8952\n",
      "Epoch 25/100\n",
      "9/9 [==============================] - 0s 19ms/step - loss: 7370.7163 - mean_absolute_error: 76.4322 - val_loss: 6816.8145 - val_mean_absolute_error: 71.7333\n",
      "Epoch 26/100\n",
      "9/9 [==============================] - 0s 17ms/step - loss: 7308.3916 - mean_absolute_error: 76.1943 - val_loss: 6767.1494 - val_mean_absolute_error: 71.5462\n",
      "Epoch 27/100\n",
      "9/9 [==============================] - 0s 17ms/step - loss: 7260.7979 - mean_absolute_error: 76.0193 - val_loss: 6710.8447 - val_mean_absolute_error: 71.3310\n",
      "Epoch 28/100\n",
      "9/9 [==============================] - 0s 17ms/step - loss: 7173.2432 - mean_absolute_error: 75.7057 - val_loss: 6646.3716 - val_mean_absolute_error: 71.0813\n",
      "Epoch 29/100\n",
      "9/9 [==============================] - 0s 17ms/step - loss: 7092.7065 - mean_absolute_error: 75.3942 - val_loss: 6572.4966 - val_mean_absolute_error: 70.7916\n",
      "Epoch 30/100\n",
      "9/9 [==============================] - 0s 16ms/step - loss: 7018.4434 - mean_absolute_error: 75.0971 - val_loss: 6487.7905 - val_mean_absolute_error: 70.4555\n",
      "Epoch 31/100\n",
      "9/9 [==============================] - 0s 16ms/step - loss: 6925.2544 - mean_absolute_error: 74.7542 - val_loss: 6390.0098 - val_mean_absolute_error: 70.0624\n",
      "Epoch 32/100\n",
      "9/9 [==============================] - 0s 19ms/step - loss: 6810.3857 - mean_absolute_error: 74.2793 - val_loss: 6276.4072 - val_mean_absolute_error: 69.5964\n",
      "Epoch 33/100\n",
      "9/9 [==============================] - 0s 25ms/step - loss: 6656.2500 - mean_absolute_error: 73.6621 - val_loss: 6145.6367 - val_mean_absolute_error: 69.0433\n",
      "Epoch 34/100\n",
      "9/9 [==============================] - 0s 18ms/step - loss: 6510.8794 - mean_absolute_error: 73.0276 - val_loss: 5997.9673 - val_mean_absolute_error: 68.3931\n",
      "Epoch 35/100\n",
      "9/9 [==============================] - 0s 18ms/step - loss: 6344.7632 - mean_absolute_error: 72.3173 - val_loss: 5835.9653 - val_mean_absolute_error: 67.6501\n",
      "Epoch 36/100\n",
      "9/9 [==============================] - 0s 19ms/step - loss: 6150.0215 - mean_absolute_error: 71.4261 - val_loss: 5668.0571 - val_mean_absolute_error: 66.8550\n",
      "Epoch 37/100\n",
      "9/9 [==============================] - 0s 21ms/step - loss: 5951.0674 - mean_absolute_error: 70.5092 - val_loss: 5499.6729 - val_mean_absolute_error: 66.0382\n",
      "Epoch 38/100\n",
      "9/9 [==============================] - 0s 19ms/step - loss: 5827.5464 - mean_absolute_error: 69.8594 - val_loss: 5325.0547 - val_mean_absolute_error: 65.1727\n",
      "Epoch 39/100\n",
      "9/9 [==============================] - 0s 19ms/step - loss: 5595.5049 - mean_absolute_error: 68.7710 - val_loss: 5135.1958 - val_mean_absolute_error: 64.2141\n",
      "Epoch 40/100\n",
      "9/9 [==============================] - 0s 19ms/step - loss: 5387.8374 - mean_absolute_error: 67.7378 - val_loss: 4914.9365 - val_mean_absolute_error: 63.0870\n",
      "Epoch 41/100\n",
      "9/9 [==============================] - 0s 22ms/step - loss: 5075.9741 - mean_absolute_error: 66.1520 - val_loss: 4643.7476 - val_mean_absolute_error: 61.6804\n",
      "Epoch 42/100\n",
      "9/9 [==============================] - 0s 27ms/step - loss: 4808.5059 - mean_absolute_error: 64.7290 - val_loss: 4367.2344 - val_mean_absolute_error: 60.1672\n",
      "Epoch 43/100\n",
      "9/9 [==============================] - 0s 26ms/step - loss: 4520.9702 - mean_absolute_error: 63.1216 - val_loss: 4129.7969 - val_mean_absolute_error: 58.7601\n",
      "Epoch 44/100\n",
      "9/9 [==============================] - 0s 26ms/step - loss: 4361.0005 - mean_absolute_error: 62.1173 - val_loss: 3925.2964 - val_mean_absolute_error: 57.4739\n",
      "Epoch 45/100\n",
      "9/9 [==============================] - 0s 25ms/step - loss: 4128.2896 - mean_absolute_error: 60.7317 - val_loss: 3731.6580 - val_mean_absolute_error: 56.1952\n",
      "Epoch 46/100\n",
      "9/9 [==============================] - 0s 33ms/step - loss: 3878.8186 - mean_absolute_error: 59.1008 - val_loss: 3538.4446 - val_mean_absolute_error: 54.8620\n",
      "Epoch 47/100\n",
      "9/9 [==============================] - 0s 43ms/step - loss: 3682.3318 - mean_absolute_error: 57.6985 - val_loss: 3342.1545 - val_mean_absolute_error: 53.4557\n",
      "Epoch 48/100\n",
      "9/9 [==============================] - 0s 42ms/step - loss: 3484.9727 - mean_absolute_error: 56.2603 - val_loss: 3142.9724 - val_mean_absolute_error: 51.9759\n",
      "Epoch 49/100\n"
     ]
    },
    {
     "name": "stdout",
     "output_type": "stream",
     "text": [
      "9/9 [==============================] - 0s 49ms/step - loss: 3276.2180 - mean_absolute_error: 54.7010 - val_loss: 2940.9268 - val_mean_absolute_error: 50.4161\n",
      "Epoch 50/100\n",
      "9/9 [==============================] - 0s 44ms/step - loss: 3014.4919 - mean_absolute_error: 52.7478 - val_loss: 2742.1780 - val_mean_absolute_error: 48.8070\n",
      "Epoch 51/100\n",
      "9/9 [==============================] - 0s 59ms/step - loss: 2868.5044 - mean_absolute_error: 51.4369 - val_loss: 2559.7810 - val_mean_absolute_error: 47.2553\n",
      "Epoch 52/100\n",
      "9/9 [==============================] - 1s 93ms/step - loss: 2725.3972 - mean_absolute_error: 50.2220 - val_loss: 2393.9543 - val_mean_absolute_error: 45.7834\n",
      "Epoch 53/100\n",
      "9/9 [==============================] - 1s 86ms/step - loss: 2482.7754 - mean_absolute_error: 48.0719 - val_loss: 2235.6755 - val_mean_absolute_error: 44.3167\n",
      "Epoch 54/100\n",
      "9/9 [==============================] - 0s 51ms/step - loss: 2316.2883 - mean_absolute_error: 46.5723 - val_loss: 2082.1484 - val_mean_absolute_error: 42.8325\n",
      "Epoch 55/100\n",
      "9/9 [==============================] - 0s 34ms/step - loss: 2139.5200 - mean_absolute_error: 44.7930 - val_loss: 1932.4890 - val_mean_absolute_error: 41.3215\n",
      "Epoch 56/100\n",
      "9/9 [==============================] - 0s 56ms/step - loss: 2008.5034 - mean_absolute_error: 43.3834 - val_loss: 1786.9940 - val_mean_absolute_error: 39.7870\n",
      "Epoch 57/100\n",
      "9/9 [==============================] - 0s 38ms/step - loss: 1908.3640 - mean_absolute_error: 42.3482 - val_loss: 1647.1012 - val_mean_absolute_error: 38.2429\n",
      "Epoch 58/100\n",
      "9/9 [==============================] - 0s 40ms/step - loss: 1711.4908 - mean_absolute_error: 40.0874 - val_loss: 1512.8375 - val_mean_absolute_error: 36.6871\n",
      "Epoch 59/100\n",
      "9/9 [==============================] - 1s 67ms/step - loss: 1580.4579 - mean_absolute_error: 38.6146 - val_loss: 1383.1443 - val_mean_absolute_error: 35.1068\n",
      "Epoch 60/100\n",
      "9/9 [==============================] - 1s 61ms/step - loss: 1475.6132 - mean_absolute_error: 37.3100 - val_loss: 1256.3413 - val_mean_absolute_error: 33.4779\n",
      "Epoch 61/100\n",
      "9/9 [==============================] - 1s 83ms/step - loss: 1306.1254 - mean_absolute_error: 35.1507 - val_loss: 1131.7255 - val_mean_absolute_error: 31.7869\n",
      "Epoch 62/100\n",
      "9/9 [==============================] - 0s 53ms/step - loss: 1191.1313 - mean_absolute_error: 33.4805 - val_loss: 1012.8617 - val_mean_absolute_error: 30.0751\n",
      "Epoch 63/100\n",
      "9/9 [==============================] - 0s 50ms/step - loss: 1052.3910 - mean_absolute_error: 31.5145 - val_loss: 906.6709 - val_mean_absolute_error: 28.4428\n",
      "Epoch 64/100\n",
      "9/9 [==============================] - 0s 45ms/step - loss: 960.1490 - mean_absolute_error: 30.0184 - val_loss: 813.7455 - val_mean_absolute_error: 26.9086\n",
      "Epoch 65/100\n",
      "9/9 [==============================] - 0s 53ms/step - loss: 893.9010 - mean_absolute_error: 28.7366 - val_loss: 728.3126 - val_mean_absolute_error: 25.4016\n",
      "Epoch 66/100\n",
      "9/9 [==============================] - 0s 36ms/step - loss: 752.1418 - mean_absolute_error: 26.2419 - val_loss: 648.5798 - val_mean_absolute_error: 23.8957\n",
      "Epoch 67/100\n",
      "9/9 [==============================] - 0s 33ms/step - loss: 685.3599 - mean_absolute_error: 24.8776 - val_loss: 572.1898 - val_mean_absolute_error: 22.3493\n",
      "Epoch 68/100\n",
      "9/9 [==============================] - 0s 32ms/step - loss: 650.2703 - mean_absolute_error: 23.8815 - val_loss: 496.3256 - val_mean_absolute_error: 20.6977\n",
      "Epoch 69/100\n",
      "9/9 [==============================] - 1s 63ms/step - loss: 570.4690 - mean_absolute_error: 22.0900 - val_loss: 422.7861 - val_mean_absolute_error: 18.9561\n",
      "Epoch 70/100\n",
      "9/9 [==============================] - 0s 31ms/step - loss: 493.9589 - mean_absolute_error: 20.1321 - val_loss: 355.9134 - val_mean_absolute_error: 17.2200\n",
      "Epoch 71/100\n",
      "9/9 [==============================] - 0s 43ms/step - loss: 414.1688 - mean_absolute_error: 18.2086 - val_loss: 298.8539 - val_mean_absolute_error: 15.5888\n",
      "Epoch 72/100\n",
      "9/9 [==============================] - 0s 36ms/step - loss: 372.4211 - mean_absolute_error: 16.5996 - val_loss: 251.4400 - val_mean_absolute_error: 14.0916\n",
      "Epoch 73/100\n",
      "9/9 [==============================] - 0s 42ms/step - loss: 278.1767 - mean_absolute_error: 14.0018 - val_loss: 210.1659 - val_mean_absolute_error: 12.6515\n",
      "Epoch 74/100\n",
      "9/9 [==============================] - 0s 38ms/step - loss: 313.7524 - mean_absolute_error: 14.9343 - val_loss: 170.6781 - val_mean_absolute_error: 11.1094\n",
      "Epoch 75/100\n",
      "9/9 [==============================] - 0s 37ms/step - loss: 249.2828 - mean_absolute_error: 13.2041 - val_loss: 133.4521 - val_mean_absolute_error: 9.3927\n",
      "Epoch 76/100\n",
      "9/9 [==============================] - 0s 27ms/step - loss: 200.6070 - mean_absolute_error: 12.2673 - val_loss: 105.2534 - val_mean_absolute_error: 7.8397\n",
      "Epoch 77/100\n",
      "9/9 [==============================] - 0s 30ms/step - loss: 193.1632 - mean_absolute_error: 11.8219 - val_loss: 88.9670 - val_mean_absolute_error: 6.9205\n",
      "Epoch 78/100\n",
      "9/9 [==============================] - 0s 27ms/step - loss: 195.7649 - mean_absolute_error: 12.1720 - val_loss: 78.7696 - val_mean_absolute_error: 6.3428\n",
      "Epoch 79/100\n",
      "9/9 [==============================] - 0s 31ms/step - loss: 175.9491 - mean_absolute_error: 11.2153 - val_loss: 71.3262 - val_mean_absolute_error: 5.9409\n",
      "Epoch 80/100\n",
      "9/9 [==============================] - 0s 29ms/step - loss: 176.9838 - mean_absolute_error: 11.4974 - val_loss: 65.5594 - val_mean_absolute_error: 5.6465\n",
      "Epoch 81/100\n",
      "9/9 [==============================] - 0s 26ms/step - loss: 149.1156 - mean_absolute_error: 10.5876 - val_loss: 61.1012 - val_mean_absolute_error: 5.4235\n",
      "Epoch 82/100\n",
      "9/9 [==============================] - 0s 30ms/step - loss: 154.9967 - mean_absolute_error: 10.5118 - val_loss: 57.6397 - val_mean_absolute_error: 5.2477\n",
      "Epoch 83/100\n",
      "9/9 [==============================] - 0s 30ms/step - loss: 135.0387 - mean_absolute_error: 9.6885 - val_loss: 55.0834 - val_mean_absolute_error: 5.1128\n",
      "Epoch 84/100\n",
      "9/9 [==============================] - 0s 28ms/step - loss: 116.7974 - mean_absolute_error: 9.2026 - val_loss: 53.3240 - val_mean_absolute_error: 5.0237\n",
      "Epoch 85/100\n",
      "9/9 [==============================] - 0s 29ms/step - loss: 132.6005 - mean_absolute_error: 9.2033 - val_loss: 52.0233 - val_mean_absolute_error: 4.9670\n",
      "Epoch 86/100\n",
      "9/9 [==============================] - 0s 30ms/step - loss: 132.2303 - mean_absolute_error: 9.1678 - val_loss: 50.7206 - val_mean_absolute_error: 4.9192\n",
      "Epoch 87/100\n",
      "9/9 [==============================] - 0s 28ms/step - loss: 123.1740 - mean_absolute_error: 8.6405 - val_loss: 49.5368 - val_mean_absolute_error: 4.8752\n",
      "Epoch 88/100\n",
      "9/9 [==============================] - 0s 31ms/step - loss: 130.6216 - mean_absolute_error: 8.9310 - val_loss: 48.2524 - val_mean_absolute_error: 4.8256\n",
      "Epoch 89/100\n",
      "9/9 [==============================] - 0s 28ms/step - loss: 128.8571 - mean_absolute_error: 8.5240 - val_loss: 47.3642 - val_mean_absolute_error: 4.7926\n"
     ]
    }
   ],
   "source": [
    "window_train,window_val = data_windowing(train_df,val_df)\n",
    "train = window_train.map(data_map)\n",
    "#test = window_test.map(data_map)\n",
    "val = window_val.map(data_map)\n",
    "\n",
    "early_stopping = tf.keras.callbacks.EarlyStopping(monitor='loss',\n",
    "                                                patience=5,\n",
    "                                                mode='min')\n",
    "\n",
    "tensorboard_callback = TensorBoard(log_dir=\"./logs\", histogram_freq=2)\n",
    "\n",
    "history = lstm_model.fit(train, epochs=100,\n",
    "                         validation_data=val,\n",
    "                         callbacks=[early_stopping, tensorboard_callback])\n",
    "\n",
    "\n"
   ]
  },
  {
   "cell_type": "code",
   "execution_count": 10,
   "id": "eba7846a",
   "metadata": {},
   "outputs": [
    {
     "data": {
      "image/png": "[encoded data removed]",
      "text/plain": [
       "<Figure size 720x576 with 1 Axes>"
      ]
     },
     "metadata": {
      "needs_background": "light"
     },
     "output_type": "display_data"
    }
   ],
   "source": [
    "pyplot.figure(figsize=(10,8))\n",
    "pyplot.title('Loss / Mean Squared Error')\n",
    "pyplot.plot(history.history['loss'], label='train')\n",
    "pyplot.plot(history.history['val_loss'], label='test')\n",
    "pyplot.legend()\n",
    "pyplot.show()"
   ]
  },
  {
   "cell_type": "code",
   "execution_count": 11,
   "id": "65d7dd7c",
   "metadata": {},
   "outputs": [
    {
     "data": {
      "text/plain": [
       "array([-122.878,   37.589])"
      ]
     },
     "execution_count": 11,
     "metadata": {},
     "output_type": "execute_result"
    }
   ],
   "source": [
    "list(val.take(1).as_numpy_iterator())[0][1][0][0]"
   ]
  },
  {
   "cell_type": "code",
   "execution_count": 12,
   "id": "81d81a1e",
   "metadata": {
    "scrolled": true
   },
   "outputs": [
    {
     "data": {
      "text/plain": [
       "(1, 20, 2)"
      ]
     },
     "execution_count": 12,
     "metadata": {},
     "output_type": "execute_result"
    }
   ],
   "source": [
    "np.array([list(val.take(1).as_numpy_iterator())[0][0][0]]).shape"
   ]
  },
  {
   "cell_type": "code",
   "execution_count": 13,
   "id": "6f30f250",
   "metadata": {},
   "outputs": [
    {
     "data": {
      "text/plain": [
       "(None, 20, 2)"
      ]
     },
     "execution_count": 13,
     "metadata": {},
     "output_type": "execute_result"
    }
   ],
   "source": [
    "lstm_model.layers[0].input_shape"
   ]
  },
  {
   "cell_type": "code",
   "execution_count": 14,
   "id": "19df4a1f",
   "metadata": {},
   "outputs": [
    {
     "data": {
      "text/plain": [
       "array([[[-123.14 ,   37.667],\n",
       "        [-122.513,   37.741],\n",
       "        [-123.055,   37.716],\n",
       "        [-123.105,   37.725],\n",
       "        [-123.265,   37.712],\n",
       "        [-123.22 ,   37.522],\n",
       "        [-123.032,   37.607],\n",
       "        [-123.182,   37.659],\n",
       "        [-122.89 ,   37.546],\n",
       "        [-122.928,   37.625],\n",
       "        [-122.907,   37.781],\n",
       "        [-123.129,   37.588],\n",
       "        [-122.951,   37.591],\n",
       "        [-123.081,   37.509],\n",
       "        [-123.017,   37.495],\n",
       "        [-123.08 ,   37.577],\n",
       "        [-122.968,   37.511],\n",
       "        [-123.381,   37.576],\n",
       "        [-122.904,   37.427],\n",
       "        [-123.132,   37.471]]])"
      ]
     },
     "execution_count": 14,
     "metadata": {},
     "output_type": "execute_result"
    }
   ],
   "source": [
    "np.array([val_df[:20]])"
   ]
  },
  {
   "cell_type": "code",
   "execution_count": 15,
   "id": "4aa50f36",
   "metadata": {},
   "outputs": [],
   "source": [
    "truth = val_df[:21]"
   ]
  },
  {
   "cell_type": "code",
   "execution_count": 16,
   "id": "a5e85350",
   "metadata": {},
   "outputs": [],
   "source": [
    "y_pred = lstm_model.predict(np.array([val_df[:20]]))[0]"
   ]
  },
  {
   "cell_type": "code",
   "execution_count": 17,
   "id": "cb366265",
   "metadata": {},
   "outputs": [
    {
     "data": {
      "text/plain": [
       "array([-119.48951 ,   29.940447], dtype=float32)"
      ]
     },
     "execution_count": 17,
     "metadata": {},
     "output_type": "execute_result"
    }
   ],
   "source": [
    "y_pred "
   ]
  },
  {
   "cell_type": "code",
   "execution_count": 18,
   "id": "ba1b6148",
   "metadata": {},
   "outputs": [
    {
     "data": {
      "image/png": "[encoded data removed]",
      "text/plain": [
       "<Figure size 360x360 with 1 Axes>"
      ]
     },
     "metadata": {
      "needs_background": "light"
     },
     "output_type": "display_data"
    }
   ],
   "source": [
    "pyplot.figure(figsize=(5,5))\n",
    "pyplot.plot(val_df[:20][\"location-long\"], val_df[:20][\"location-lat\"], label='true')\n",
    "pyplot.scatter(y_pred[0], y_pred[1],  c=\"red\", label='pred')\n",
    "pyplot.scatter(val_df.iloc[21][0], val_df.iloc[21][1],  c=\"green\", label='pred')\n",
    "pyplot.legend()\n",
    "pyplot.show()"
   ]
  },
  {
   "cell_type": "code",
   "execution_count": 19,
   "id": "c39ccf07",
   "metadata": {},
   "outputs": [
    {
     "data": {
      "text/plain": [
       "location-long   -123.031\n",
       "location-lat      37.511\n",
       "Name: 311, dtype: float64"
      ]
     },
     "execution_count": 19,
     "metadata": {},
     "output_type": "execute_result"
    }
   ],
   "source": [
    "val_df.iloc[21]"
   ]
  },
  {
   "cell_type": "code",
   "execution_count": 20,
   "id": "6c1b65e6",
   "metadata": {},
   "outputs": [],
   "source": [
    "import folium\n",
    "from folium import Map, Marker"
   ]
  },
  {
   "cell_type": "code",
   "execution_count": 21,
   "id": "5e3a279d",
   "metadata": {},
   "outputs": [
    {
     "data": {
      "text/html": [
       "<div>\n",
       "<style scoped>\n",
       "    .dataframe tbody tr th:only-of-type {\n",
       "        vertical-align: middle;\n",
       "    }\n",
       "\n",
       "    .dataframe tbody tr th {\n",
       "        vertical-align: top;\n",
       "    }\n",
       "\n",
       "    .dataframe thead th {\n",
       "        text-align: right;\n",
       "    }\n",
       "</style>\n",
       "<table border=\"1\" class=\"dataframe\">\n",
       "  <thead>\n",
       "    <tr style=\"text-align: right;\">\n",
       "      <th></th>\n",
       "      <th>location-long</th>\n",
       "      <th>location-lat</th>\n",
       "    </tr>\n",
       "  </thead>\n",
       "  <tbody>\n",
       "    <tr>\n",
       "      <th>290</th>\n",
       "      <td>-123.140</td>\n",
       "      <td>37.667</td>\n",
       "    </tr>\n",
       "    <tr>\n",
       "      <th>291</th>\n",
       "      <td>-122.513</td>\n",
       "      <td>37.741</td>\n",
       "    </tr>\n",
       "    <tr>\n",
       "      <th>292</th>\n",
       "      <td>-123.055</td>\n",
       "      <td>37.716</td>\n",
       "    </tr>\n",
       "    <tr>\n",
       "      <th>293</th>\n",
       "      <td>-123.105</td>\n",
       "      <td>37.725</td>\n",
       "    </tr>\n",
       "    <tr>\n",
       "      <th>294</th>\n",
       "      <td>-123.265</td>\n",
       "      <td>37.712</td>\n",
       "    </tr>\n",
       "    <tr>\n",
       "      <th>295</th>\n",
       "      <td>-123.220</td>\n",
       "      <td>37.522</td>\n",
       "    </tr>\n",
       "    <tr>\n",
       "      <th>296</th>\n",
       "      <td>-123.032</td>\n",
       "      <td>37.607</td>\n",
       "    </tr>\n",
       "    <tr>\n",
       "      <th>297</th>\n",
       "      <td>-123.182</td>\n",
       "      <td>37.659</td>\n",
       "    </tr>\n",
       "    <tr>\n",
       "      <th>298</th>\n",
       "      <td>-122.890</td>\n",
       "      <td>37.546</td>\n",
       "    </tr>\n",
       "    <tr>\n",
       "      <th>299</th>\n",
       "      <td>-122.928</td>\n",
       "      <td>37.625</td>\n",
       "    </tr>\n",
       "    <tr>\n",
       "      <th>300</th>\n",
       "      <td>-122.907</td>\n",
       "      <td>37.781</td>\n",
       "    </tr>\n",
       "    <tr>\n",
       "      <th>301</th>\n",
       "      <td>-123.129</td>\n",
       "      <td>37.588</td>\n",
       "    </tr>\n",
       "    <tr>\n",
       "      <th>302</th>\n",
       "      <td>-122.951</td>\n",
       "      <td>37.591</td>\n",
       "    </tr>\n",
       "    <tr>\n",
       "      <th>303</th>\n",
       "      <td>-123.081</td>\n",
       "      <td>37.509</td>\n",
       "    </tr>\n",
       "    <tr>\n",
       "      <th>304</th>\n",
       "      <td>-123.017</td>\n",
       "      <td>37.495</td>\n",
       "    </tr>\n",
       "    <tr>\n",
       "      <th>305</th>\n",
       "      <td>-123.080</td>\n",
       "      <td>37.577</td>\n",
       "    </tr>\n",
       "    <tr>\n",
       "      <th>306</th>\n",
       "      <td>-122.968</td>\n",
       "      <td>37.511</td>\n",
       "    </tr>\n",
       "    <tr>\n",
       "      <th>307</th>\n",
       "      <td>-123.381</td>\n",
       "      <td>37.576</td>\n",
       "    </tr>\n",
       "    <tr>\n",
       "      <th>308</th>\n",
       "      <td>-122.904</td>\n",
       "      <td>37.427</td>\n",
       "    </tr>\n",
       "    <tr>\n",
       "      <th>309</th>\n",
       "      <td>-123.132</td>\n",
       "      <td>37.471</td>\n",
       "    </tr>\n",
       "    <tr>\n",
       "      <th>310</th>\n",
       "      <td>-122.878</td>\n",
       "      <td>37.589</td>\n",
       "    </tr>\n",
       "  </tbody>\n",
       "</table>\n",
       "</div>"
      ],
      "text/plain": [
       "     location-long  location-lat\n",
       "290       -123.140        37.667\n",
       "291       -122.513        37.741\n",
       "292       -123.055        37.716\n",
       "293       -123.105        37.725\n",
       "294       -123.265        37.712\n",
       "295       -123.220        37.522\n",
       "296       -123.032        37.607\n",
       "297       -123.182        37.659\n",
       "298       -122.890        37.546\n",
       "299       -122.928        37.625\n",
       "300       -122.907        37.781\n",
       "301       -123.129        37.588\n",
       "302       -122.951        37.591\n",
       "303       -123.081        37.509\n",
       "304       -123.017        37.495\n",
       "305       -123.080        37.577\n",
       "306       -122.968        37.511\n",
       "307       -123.381        37.576\n",
       "308       -122.904        37.427\n",
       "309       -123.132        37.471\n",
       "310       -122.878        37.589"
      ]
     },
     "execution_count": 21,
     "metadata": {},
     "output_type": "execute_result"
    }
   ],
   "source": [
    "truth"
   ]
  },
  {
   "cell_type": "code",
   "execution_count": 22,
   "id": "df8efd8d",
   "metadata": {},
   "outputs": [],
   "source": [
    "truth = truth.to_numpy()"
   ]
  },
  {
   "cell_type": "code",
   "execution_count": 23,
   "id": "92a6720e",
   "metadata": {},
   "outputs": [],
   "source": [
    "from folium import Map, Marker"
   ]
  },
  {
   "cell_type": "code",
   "execution_count": 24,
   "id": "0887e44e",
   "metadata": {},
   "outputs": [],
   "source": [
    " m = Map([28.773552, -115.176131])\n",
    "\n",
    "for point in truth:\n",
    "    folium.Marker(location=[point[1], point[0]]).add_to(m)"
   ]
  },
  {
   "cell_type": "code",
   "execution_count": 25,
   "id": "62a2d0b6",
   "metadata": {},
   "outputs": [
    {
     "data": {
      "text/html": [
       "<div style=\"width:100%;\"><div style=\"position:relative;width:100%;height:0;padding-bottom:60%;\"><span style=\"color:#565656\">Make this Notebook Trusted to load map: File -> Trust Notebook</span><iframe src=\"about:blank\" style=\"position:absolute;width:100%;height:100%;left:0;top:0;border:none !important;\" data-html=%3C%21DOCTYPE%20html%3E%0A%3Chead%3E%20%20%20%20%0A%20%20%20%20%3Cmeta%20http-equiv%3D%22content-type%22%20content%3D%22text/html%3B%20charset%3DUTF-8%22%20/%3E%0A%20%20%20%20%0A%20%20%20%20%20%20%20%20%3Cscript%3E%0A%20%20%20%20%20%20%20%20%20%20%20%20L_NO_TOUCH%20%3D%20false%3B%0A%20%20%20%20%20%20%20%20%20%20%20%20L_DISABLE_3D%20%3D%20false%3B%0A%20%20%20%20%20%20%20%20%3C/script%3E%0A%20%20%20%20%0A%20%20%20%20%3Cstyle%3Ehtml%2C%20body%20%7Bwidth%3A%20100%25%3Bheight%3A%20100%25%3Bmargin%3A%200%3Bpadding%3A%200%3B%7D%3C/style%3E%0A%20%20%20%20%3Cstyle%3E%23map%20%7Bposition%3Aabsolute%3Btop%3A0%3Bbottom%3A0%3Bright%3A0%3Bleft%3A0%3B%7D%3C/style%3E%0A%20%20%20%20%3Cscript%20src%3D%22https%3A//cdn.jsdelivr.net/npm/leaflet%401.6.0/dist/leaflet.js%22%3E%3C/script%3E%0A%20%20%20%20%3Cscript%20src%3D%22https%3A//code.jquery.com/jquery-1.12.4.min.js%22%3E%3C/script%3E%0A%20%20%20%20%3Cscript%20src%3D%22https%3A//maxcdn.bootstrapcdn.com/bootstrap/3.2.0/js/bootstrap.min.js%22%3E%3C/script%3E%0A%20%20%20%20%3Cscript%20src%3D%22https%3A//cdnjs.cloudflare.com/ajax/libs/Leaflet.awesome-markers/2.0.2/leaflet.awesome-markers.js%22%3E%3C/script%3E%0A%20%20%20%20%3Clink%20rel%3D%22stylesheet%22%20href%3D%22https%3A//cdn.jsdelivr.net/npm/leaflet%401.6.0/dist/leaflet.css%22/%3E%0A%20%20%20%20%3Clink%20rel%3D%22stylesheet%22%20href%3D%22https%3A//maxcdn.bootstrapcdn.com/bootstrap/3.2.0/css/bootstrap.min.css%22/%3E%0A%20%20%20%20%3Clink%20rel%3D%22stylesheet%22%20href%3D%22https%3A//maxcdn.bootstrapcdn.com/bootstrap/3.2.0/css/bootstrap-theme.min.css%22/%3E%0A%20%20%20%20%3Clink%20rel%3D%22stylesheet%22%20href%3D%22https%3A//maxcdn.bootstrapcdn.com/font-awesome/4.6.3/css/font-awesome.min.css%22/%3E%0A%20%20%20%20%3Clink%20rel%3D%22stylesheet%22%20href%3D%22https%3A//cdnjs.cloudflare.com/ajax/libs/Leaflet.awesome-markers/2.0.2/leaflet.awesome-markers.css%22/%3E%0A%20%20%20%20%3Clink%20rel%3D%22stylesheet%22%20href%3D%22https%3A//cdn.jsdelivr.net/gh/python-visualization/folium/folium/templates/leaflet.awesome.rotate.min.css%22/%3E%0A%20%20%20%20%0A%20%20%20%20%20%20%20%20%20%20%20%20%3Cmeta%20name%3D%22viewport%22%20content%3D%22width%3Ddevice-width%2C%0A%20%20%20%20%20%20%20%20%20%20%20%20%20%20%20%20initial-scale%3D1.0%2C%20maximum-scale%3D1.0%2C%20user-scalable%3Dno%22%20/%3E%0A%20%20%20%20%20%20%20%20%20%20%20%20%3Cstyle%3E%0A%20%20%20%20%20%20%20%20%20%20%20%20%20%20%20%20%23map_6dc6148f564a4fb4923027929b8bab8b%20%7B%0A%20%20%20%20%20%20%20%20%20%20%20%20%20%20%20%20%20%20%20%20position%3A%20relative%3B%0A%20%20%20%20%20%20%20%20%20%20%20%20%20%20%20%20%20%20%20%20width%3A%20100.0%25%3B%0A%20%20%20%20%20%20%20%20%20%20%20%20%20%20%20%20%20%20%20%20height%3A%20100.0%25%3B%0A%20%20%20%20%20%20%20%20%20%20%20%20%20%20%20%20%20%20%20%20left%3A%200.0%25%3B%0A%20%20%20%20%20%20%20%20%20%20%20%20%20%20%20%20%20%20%20%20top%3A%200.0%25%3B%0A%20%20%20%20%20%20%20%20%20%20%20%20%20%20%20%20%7D%0A%20%20%20%20%20%20%20%20%20%20%20%20%3C/style%3E%0A%20%20%20%20%20%20%20%20%0A%3C/head%3E%0A%3Cbody%3E%20%20%20%20%0A%20%20%20%20%0A%20%20%20%20%20%20%20%20%20%20%20%20%3Cdiv%20class%3D%22folium-map%22%20id%3D%22map_6dc6148f564a4fb4923027929b8bab8b%22%20%3E%3C/div%3E%0A%20%20%20%20%20%20%20%20%0A%3C/body%3E%0A%3Cscript%3E%20%20%20%20%0A%20%20%20%20%0A%20%20%20%20%20%20%20%20%20%20%20%20var%20map_6dc6148f564a4fb4923027929b8bab8b%20%3D%20L.map%28%0A%20%20%20%20%20%20%20%20%20%20%20%20%20%20%20%20%22map_6dc6148f564a4fb4923027929b8bab8b%22%2C%0A%20%20%20%20%20%20%20%20%20%20%20%20%20%20%20%20%7B%0A%20%20%20%20%20%20%20%20%20%20%20%20%20%20%20%20%20%20%20%20center%3A%20%5B28.773552%2C%20-115.176131%5D%2C%0A%20%20%20%20%20%20%20%20%20%20%20%20%20%20%20%20%20%20%20%20crs%3A%20L.CRS.EPSG3857%2C%0A%20%20%20%20%20%20%20%20%20%20%20%20%20%20%20%20%20%20%20%20zoom%3A%2010%2C%0A%20%20%20%20%20%20%20%20%20%20%20%20%20%20%20%20%20%20%20%20zoomControl%3A%20true%2C%0A%20%20%20%20%20%20%20%20%20%20%20%20%20%20%20%20%20%20%20%20preferCanvas%3A%20false%2C%0A%20%20%20%20%20%20%20%20%20%20%20%20%20%20%20%20%7D%0A%20%20%20%20%20%20%20%20%20%20%20%20%29%3B%0A%0A%20%20%20%20%20%20%20%20%20%20%20%20%0A%0A%20%20%20%20%20%20%20%20%0A%20%20%20%20%0A%20%20%20%20%20%20%20%20%20%20%20%20var%20tile_layer_3ed006b4e0b94b9782022d72ad764d57%20%3D%20L.tileLayer%28%0A%20%20%20%20%20%20%20%20%20%20%20%20%20%20%20%20%22https%3A//%7Bs%7D.tile.openstreetmap.org/%7Bz%7D/%7Bx%7D/%7By%7D.png%22%2C%0A%20%20%20%20%20%20%20%20%20%20%20%20%20%20%20%20%7B%22attribution%22%3A%20%22Data%20by%20%5Cu0026copy%3B%20%5Cu003ca%20href%3D%5C%22http%3A//openstreetmap.org%5C%22%5Cu003eOpenStreetMap%5Cu003c/a%5Cu003e%2C%20under%20%5Cu003ca%20href%3D%5C%22http%3A//www.openstreetmap.org/copyright%5C%22%5Cu003eODbL%5Cu003c/a%5Cu003e.%22%2C%20%22detectRetina%22%3A%20false%2C%20%22maxNativeZoom%22%3A%2018%2C%20%22maxZoom%22%3A%2018%2C%20%22minZoom%22%3A%200%2C%20%22noWrap%22%3A%20false%2C%20%22opacity%22%3A%201%2C%20%22subdomains%22%3A%20%22abc%22%2C%20%22tms%22%3A%20false%7D%0A%20%20%20%20%20%20%20%20%20%20%20%20%29.addTo%28map_6dc6148f564a4fb4923027929b8bab8b%29%3B%0A%20%20%20%20%20%20%20%20%0A%20%20%20%20%0A%20%20%20%20%20%20%20%20%20%20%20%20var%20marker_ab90b447dc0b4213a12e316b32ec1e3e%20%3D%20L.marker%28%0A%20%20%20%20%20%20%20%20%20%20%20%20%20%20%20%20%5B37.667%2C%20-123.14%5D%2C%0A%20%20%20%20%20%20%20%20%20%20%20%20%20%20%20%20%7B%7D%0A%20%20%20%20%20%20%20%20%20%20%20%20%29.addTo%28map_6dc6148f564a4fb4923027929b8bab8b%29%3B%0A%20%20%20%20%20%20%20%20%0A%20%20%20%20%0A%20%20%20%20%20%20%20%20%20%20%20%20var%20marker_bdd0c63cda7345669b1256d6ea33b5dc%20%3D%20L.marker%28%0A%20%20%20%20%20%20%20%20%20%20%20%20%20%20%20%20%5B37.741%2C%20-122.513%5D%2C%0A%20%20%20%20%20%20%20%20%20%20%20%20%20%20%20%20%7B%7D%0A%20%20%20%20%20%20%20%20%20%20%20%20%29.addTo%28map_6dc6148f564a4fb4923027929b8bab8b%29%3B%0A%20%20%20%20%20%20%20%20%0A%20%20%20%20%0A%20%20%20%20%20%20%20%20%20%20%20%20var%20marker_91979e43a9bd4319aa15f4c792d731b5%20%3D%20L.marker%28%0A%20%20%20%20%20%20%20%20%20%20%20%20%20%20%20%20%5B37.716%2C%20-123.055%5D%2C%0A%20%20%20%20%20%20%20%20%20%20%20%20%20%20%20%20%7B%7D%0A%20%20%20%20%20%20%20%20%20%20%20%20%29.addTo%28map_6dc6148f564a4fb4923027929b8bab8b%29%3B%0A%20%20%20%20%20%20%20%20%0A%20%20%20%20%0A%20%20%20%20%20%20%20%20%20%20%20%20var%20marker_507ef6764d6e4bfcb58809ef9acf70ab%20%3D%20L.marker%28%0A%20%20%20%20%20%20%20%20%20%20%20%20%20%20%20%20%5B37.725%2C%20-123.10500000000002%5D%2C%0A%20%20%20%20%20%20%20%20%20%20%20%20%20%20%20%20%7B%7D%0A%20%20%20%20%20%20%20%20%20%20%20%20%29.addTo%28map_6dc6148f564a4fb4923027929b8bab8b%29%3B%0A%20%20%20%20%20%20%20%20%0A%20%20%20%20%0A%20%20%20%20%20%20%20%20%20%20%20%20var%20marker_b13d425ec362444f93d20ed5a451e1eb%20%3D%20L.marker%28%0A%20%20%20%20%20%20%20%20%20%20%20%20%20%20%20%20%5B37.712%2C%20-123.265%5D%2C%0A%20%20%20%20%20%20%20%20%20%20%20%20%20%20%20%20%7B%7D%0A%20%20%20%20%20%20%20%20%20%20%20%20%29.addTo%28map_6dc6148f564a4fb4923027929b8bab8b%29%3B%0A%20%20%20%20%20%20%20%20%0A%20%20%20%20%0A%20%20%20%20%20%20%20%20%20%20%20%20var%20marker_326f5edc1179497bacffb27218b3e881%20%3D%20L.marker%28%0A%20%20%20%20%20%20%20%20%20%20%20%20%20%20%20%20%5B37.522%2C%20-123.22%5D%2C%0A%20%20%20%20%20%20%20%20%20%20%20%20%20%20%20%20%7B%7D%0A%20%20%20%20%20%20%20%20%20%20%20%20%29.addTo%28map_6dc6148f564a4fb4923027929b8bab8b%29%3B%0A%20%20%20%20%20%20%20%20%0A%20%20%20%20%0A%20%20%20%20%20%20%20%20%20%20%20%20var%20marker_fadc74a500474b018f88f73bec6eb03b%20%3D%20L.marker%28%0A%20%20%20%20%20%20%20%20%20%20%20%20%20%20%20%20%5B37.607%2C%20-123.03199999999998%5D%2C%0A%20%20%20%20%20%20%20%20%20%20%20%20%20%20%20%20%7B%7D%0A%20%20%20%20%20%20%20%20%20%20%20%20%29.addTo%28map_6dc6148f564a4fb4923027929b8bab8b%29%3B%0A%20%20%20%20%20%20%20%20%0A%20%20%20%20%0A%20%20%20%20%20%20%20%20%20%20%20%20var%20marker_8006b7dd436f4b3e962339783f3bae1c%20%3D%20L.marker%28%0A%20%20%20%20%20%20%20%20%20%20%20%20%20%20%20%20%5B37.659%2C%20-123.18200000000002%5D%2C%0A%20%20%20%20%20%20%20%20%20%20%20%20%20%20%20%20%7B%7D%0A%20%20%20%20%20%20%20%20%20%20%20%20%29.addTo%28map_6dc6148f564a4fb4923027929b8bab8b%29%3B%0A%20%20%20%20%20%20%20%20%0A%20%20%20%20%0A%20%20%20%20%20%20%20%20%20%20%20%20var%20marker_aa07daae946f42e08a18bfeefbbef871%20%3D%20L.marker%28%0A%20%20%20%20%20%20%20%20%20%20%20%20%20%20%20%20%5B37.546%2C%20-122.89%5D%2C%0A%20%20%20%20%20%20%20%20%20%20%20%20%20%20%20%20%7B%7D%0A%20%20%20%20%20%20%20%20%20%20%20%20%29.addTo%28map_6dc6148f564a4fb4923027929b8bab8b%29%3B%0A%20%20%20%20%20%20%20%20%0A%20%20%20%20%0A%20%20%20%20%20%20%20%20%20%20%20%20var%20marker_bff711774e424af3b0e46975b6af7c34%20%3D%20L.marker%28%0A%20%20%20%20%20%20%20%20%20%20%20%20%20%20%20%20%5B37.625%2C%20-122.928%5D%2C%0A%20%20%20%20%20%20%20%20%20%20%20%20%20%20%20%20%7B%7D%0A%20%20%20%20%20%20%20%20%20%20%20%20%29.addTo%28map_6dc6148f564a4fb4923027929b8bab8b%29%3B%0A%20%20%20%20%20%20%20%20%0A%20%20%20%20%0A%20%20%20%20%20%20%20%20%20%20%20%20var%20marker_fbfb41443df44409acaece5a9d717091%20%3D%20L.marker%28%0A%20%20%20%20%20%20%20%20%20%20%20%20%20%20%20%20%5B37.781%2C%20-122.90699999999998%5D%2C%0A%20%20%20%20%20%20%20%20%20%20%20%20%20%20%20%20%7B%7D%0A%20%20%20%20%20%20%20%20%20%20%20%20%29.addTo%28map_6dc6148f564a4fb4923027929b8bab8b%29%3B%0A%20%20%20%20%20%20%20%20%0A%20%20%20%20%0A%20%20%20%20%20%20%20%20%20%20%20%20var%20marker_6f91b93966964fcdbbdeb3ff1b5e01cf%20%3D%20L.marker%28%0A%20%20%20%20%20%20%20%20%20%20%20%20%20%20%20%20%5B37.588%2C%20-123.12900000000002%5D%2C%0A%20%20%20%20%20%20%20%20%20%20%20%20%20%20%20%20%7B%7D%0A%20%20%20%20%20%20%20%20%20%20%20%20%29.addTo%28map_6dc6148f564a4fb4923027929b8bab8b%29%3B%0A%20%20%20%20%20%20%20%20%0A%20%20%20%20%0A%20%20%20%20%20%20%20%20%20%20%20%20var%20marker_98f87a0557c54bd29e83bc568c38433c%20%3D%20L.marker%28%0A%20%20%20%20%20%20%20%20%20%20%20%20%20%20%20%20%5B37.591%2C%20-122.951%5D%2C%0A%20%20%20%20%20%20%20%20%20%20%20%20%20%20%20%20%7B%7D%0A%20%20%20%20%20%20%20%20%20%20%20%20%29.addTo%28map_6dc6148f564a4fb4923027929b8bab8b%29%3B%0A%20%20%20%20%20%20%20%20%0A%20%20%20%20%0A%20%20%20%20%20%20%20%20%20%20%20%20var%20marker_b4931208d45f49bcb435618914754984%20%3D%20L.marker%28%0A%20%20%20%20%20%20%20%20%20%20%20%20%20%20%20%20%5B37.509%2C%20-123.08100000000002%5D%2C%0A%20%20%20%20%20%20%20%20%20%20%20%20%20%20%20%20%7B%7D%0A%20%20%20%20%20%20%20%20%20%20%20%20%29.addTo%28map_6dc6148f564a4fb4923027929b8bab8b%29%3B%0A%20%20%20%20%20%20%20%20%0A%20%20%20%20%0A%20%20%20%20%20%20%20%20%20%20%20%20var%20marker_56375782260a47feb64c6dbbc02d1493%20%3D%20L.marker%28%0A%20%20%20%20%20%20%20%20%20%20%20%20%20%20%20%20%5B37.495%2C%20-123.017%5D%2C%0A%20%20%20%20%20%20%20%20%20%20%20%20%20%20%20%20%7B%7D%0A%20%20%20%20%20%20%20%20%20%20%20%20%29.addTo%28map_6dc6148f564a4fb4923027929b8bab8b%29%3B%0A%20%20%20%20%20%20%20%20%0A%20%20%20%20%0A%20%20%20%20%20%20%20%20%20%20%20%20var%20marker_9858760e4dab4dae82072b7ebe0233c5%20%3D%20L.marker%28%0A%20%20%20%20%20%20%20%20%20%20%20%20%20%20%20%20%5B37.577%2C%20-123.07999999999998%5D%2C%0A%20%20%20%20%20%20%20%20%20%20%20%20%20%20%20%20%7B%7D%0A%20%20%20%20%20%20%20%20%20%20%20%20%29.addTo%28map_6dc6148f564a4fb4923027929b8bab8b%29%3B%0A%20%20%20%20%20%20%20%20%0A%20%20%20%20%0A%20%20%20%20%20%20%20%20%20%20%20%20var%20marker_3630d08537a049d8a18ce99b75edaf7c%20%3D%20L.marker%28%0A%20%20%20%20%20%20%20%20%20%20%20%20%20%20%20%20%5B37.511%2C%20-122.96800000000002%5D%2C%0A%20%20%20%20%20%20%20%20%20%20%20%20%20%20%20%20%7B%7D%0A%20%20%20%20%20%20%20%20%20%20%20%20%29.addTo%28map_6dc6148f564a4fb4923027929b8bab8b%29%3B%0A%20%20%20%20%20%20%20%20%0A%20%20%20%20%0A%20%20%20%20%20%20%20%20%20%20%20%20var%20marker_2f2434bae2ed497eb5c405b1a27671be%20%3D%20L.marker%28%0A%20%20%20%20%20%20%20%20%20%20%20%20%20%20%20%20%5B37.576%2C%20-123.381%5D%2C%0A%20%20%20%20%20%20%20%20%20%20%20%20%20%20%20%20%7B%7D%0A%20%20%20%20%20%20%20%20%20%20%20%20%29.addTo%28map_6dc6148f564a4fb4923027929b8bab8b%29%3B%0A%20%20%20%20%20%20%20%20%0A%20%20%20%20%0A%20%20%20%20%20%20%20%20%20%20%20%20var%20marker_2977358058a24221ac45482432f12e72%20%3D%20L.marker%28%0A%20%20%20%20%20%20%20%20%20%20%20%20%20%20%20%20%5B37.427%2C%20-122.904%5D%2C%0A%20%20%20%20%20%20%20%20%20%20%20%20%20%20%20%20%7B%7D%0A%20%20%20%20%20%20%20%20%20%20%20%20%29.addTo%28map_6dc6148f564a4fb4923027929b8bab8b%29%3B%0A%20%20%20%20%20%20%20%20%0A%20%20%20%20%0A%20%20%20%20%20%20%20%20%20%20%20%20var%20marker_e8e0377e570c443e81139db182dc0f3d%20%3D%20L.marker%28%0A%20%20%20%20%20%20%20%20%20%20%20%20%20%20%20%20%5B37.471%2C%20-123.132%5D%2C%0A%20%20%20%20%20%20%20%20%20%20%20%20%20%20%20%20%7B%7D%0A%20%20%20%20%20%20%20%20%20%20%20%20%29.addTo%28map_6dc6148f564a4fb4923027929b8bab8b%29%3B%0A%20%20%20%20%20%20%20%20%0A%20%20%20%20%0A%20%20%20%20%20%20%20%20%20%20%20%20var%20marker_0b93e439de5445c69e05a1a9acdfd85c%20%3D%20L.marker%28%0A%20%20%20%20%20%20%20%20%20%20%20%20%20%20%20%20%5B37.589%2C%20-122.878%5D%2C%0A%20%20%20%20%20%20%20%20%20%20%20%20%20%20%20%20%7B%7D%0A%20%20%20%20%20%20%20%20%20%20%20%20%29.addTo%28map_6dc6148f564a4fb4923027929b8bab8b%29%3B%0A%20%20%20%20%20%20%20%20%0A%3C/script%3E onload=\"this.contentDocument.open();this.contentDocument.write(    decodeURIComponent(this.getAttribute('data-html')));this.contentDocument.close();\" allowfullscreen webkitallowfullscreen mozallowfullscreen></iframe></div></div>"
      ],
      "text/plain": [
       "<folium.folium.Map at 0x7f67853ae7f0>"
      ]
     },
     "execution_count": 25,
     "metadata": {},
     "output_type": "execute_result"
    }
   ],
   "source": [
    "m"
   ]
  },
  {
   "cell_type": "code",
   "execution_count": 26,
   "id": "9ad13106",
   "metadata": {},
   "outputs": [
    {
     "data": {
      "text/plain": [
       "array([[-119.48951 ,   29.940447]], dtype=float32)"
      ]
     },
     "execution_count": 26,
     "metadata": {},
     "output_type": "execute_result"
    }
   ],
   "source": [
    "lstm_model.predict(np.array([list(val.take(1).as_numpy_iterator())[0][0][0]]))"
   ]
  },
  {
   "cell_type": "code",
   "execution_count": null,
   "id": "56acf285",
   "metadata": {},
   "outputs": [],
   "source": []
  }
 ],
 "metadata": {
  "kernelspec": {
   "display_name": "Python 3 (ipykernel)",
   "language": "python",
   "name": "python3"
  },
  "language_info": {
   "codemirror_mode": {
    "name": "ipython",
    "version": 3
   },
   "file_extension": ".py",
   "mimetype": "text/x-python",
   "name": "python",
   "nbconvert_exporter": "python",
   "pygments_lexer": "ipython3",
   "version": "3.9.7"
  }
 },
 "nbformat": 4,
 "nbformat_minor": 5
}
