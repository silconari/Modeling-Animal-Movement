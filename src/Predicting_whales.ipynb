{
 "cells": [
  {
   "cell_type": "code",
   "execution_count": 1,
   "id": "f9950fba",
   "metadata": {},
   "outputs": [],
   "source": [
    "import pandas as pd"
   ]
  },
  {
   "cell_type": "code",
   "execution_count": 2,
   "id": "d22b0b91",
   "metadata": {},
   "outputs": [],
   "source": [
    "df = pd.read_csv(\"../data/data_transformed.csv\")"
   ]
  },
  {
   "cell_type": "code",
   "execution_count": 3,
   "id": "a287199d",
   "metadata": {},
   "outputs": [
    {
     "data": {
      "text/plain": [
       "event-id                        0\n",
       "location-long                   0\n",
       "location-lat                    0\n",
       "argos:lat1                      0\n",
       "argos:lat2                     85\n",
       "argos:lon1                      0\n",
       "argos:lon2                     85\n",
       "individual-local-identifier     0\n",
       "date                            0\n",
       "time                            0\n",
       "dtype: int64"
      ]
     },
     "execution_count": 3,
     "metadata": {},
     "output_type": "execute_result"
    }
   ],
   "source": [
    "df.isna().sum()"
   ]
  },
  {
   "cell_type": "code",
   "execution_count": 4,
   "id": "5324b7f2",
   "metadata": {},
   "outputs": [],
   "source": [
    "df = df.dropna()"
   ]
  },
  {
   "cell_type": "code",
   "execution_count": 5,
   "id": "fbc6cf48",
   "metadata": {},
   "outputs": [
    {
     "data": {
      "text/plain": [
       "event-id                       0\n",
       "location-long                  0\n",
       "location-lat                   0\n",
       "argos:lat1                     0\n",
       "argos:lat2                     0\n",
       "argos:lon1                     0\n",
       "argos:lon2                     0\n",
       "individual-local-identifier    0\n",
       "date                           0\n",
       "time                           0\n",
       "dtype: int64"
      ]
     },
     "execution_count": 5,
     "metadata": {},
     "output_type": "execute_result"
    }
   ],
   "source": [
    "df.isna().sum()"
   ]
  },
  {
   "cell_type": "code",
   "execution_count": 6,
   "id": "dfddc9b3",
   "metadata": {},
   "outputs": [],
   "source": [
    "import datetime as dt"
   ]
  },
  {
   "cell_type": "code",
   "execution_count": 7,
   "id": "bf55af3f",
   "metadata": {},
   "outputs": [],
   "source": [
    "df[\"year\"] = df[\"date\"].apply(lambda x: \n",
    "                                    dt.datetime.strptime(x, \"%Y-%m-%d\").year)\n"
   ]
  },
  {
   "cell_type": "code",
   "execution_count": 8,
   "id": "6d76843a",
   "metadata": {},
   "outputs": [],
   "source": [
    "df[\"month\"] = df[\"date\"].apply(lambda x: \n",
    "                                    dt.datetime.strptime(x, \"%Y-%m-%d\").month)"
   ]
  },
  {
   "cell_type": "code",
   "execution_count": 9,
   "id": "62a45005",
   "metadata": {},
   "outputs": [],
   "source": [
    "df=df.drop(columns=[\"event-id\", \"date\", \"individual-local-identifier\"])"
   ]
  },
  {
   "cell_type": "code",
   "execution_count": 10,
   "id": "f4de7f9e",
   "metadata": {
    "scrolled": true
   },
   "outputs": [
    {
     "data": {
      "text/html": [
       "<div>\n",
       "<style scoped>\n",
       "    .dataframe tbody tr th:only-of-type {\n",
       "        vertical-align: middle;\n",
       "    }\n",
       "\n",
       "    .dataframe tbody tr th {\n",
       "        vertical-align: top;\n",
       "    }\n",
       "\n",
       "    .dataframe thead th {\n",
       "        text-align: right;\n",
       "    }\n",
       "</style>\n",
       "<table border=\"1\" class=\"dataframe\">\n",
       "  <thead>\n",
       "    <tr style=\"text-align: right;\">\n",
       "      <th></th>\n",
       "      <th>location-long</th>\n",
       "      <th>location-lat</th>\n",
       "      <th>argos:lat1</th>\n",
       "      <th>argos:lat2</th>\n",
       "      <th>argos:lon1</th>\n",
       "      <th>argos:lon2</th>\n",
       "      <th>time</th>\n",
       "      <th>year</th>\n",
       "      <th>month</th>\n",
       "    </tr>\n",
       "  </thead>\n",
       "  <tbody>\n",
       "    <tr>\n",
       "      <th>0</th>\n",
       "      <td>-122.407</td>\n",
       "      <td>36.981</td>\n",
       "      <td>36.981</td>\n",
       "      <td>47.285</td>\n",
       "      <td>-122.407</td>\n",
       "      <td>-69.471</td>\n",
       "      <td>01:23:17</td>\n",
       "      <td>1993</td>\n",
       "      <td>8</td>\n",
       "    </tr>\n",
       "    <tr>\n",
       "      <th>1</th>\n",
       "      <td>-122.788</td>\n",
       "      <td>37.637</td>\n",
       "      <td>37.637</td>\n",
       "      <td>39.596</td>\n",
       "      <td>-122.788</td>\n",
       "      <td>-132.219</td>\n",
       "      <td>13:04:34</td>\n",
       "      <td>1993</td>\n",
       "      <td>8</td>\n",
       "    </tr>\n",
       "    <tr>\n",
       "      <th>2</th>\n",
       "      <td>-122.827</td>\n",
       "      <td>37.166</td>\n",
       "      <td>37.166</td>\n",
       "      <td>44.267</td>\n",
       "      <td>-122.827</td>\n",
       "      <td>-86.243</td>\n",
       "      <td>01:57:39</td>\n",
       "      <td>1993</td>\n",
       "      <td>9</td>\n",
       "    </tr>\n",
       "    <tr>\n",
       "      <th>3</th>\n",
       "      <td>-123.466</td>\n",
       "      <td>38.184</td>\n",
       "      <td>38.184</td>\n",
       "      <td>45.262</td>\n",
       "      <td>-123.466</td>\n",
       "      <td>-88.640</td>\n",
       "      <td>22:35:12</td>\n",
       "      <td>1993</td>\n",
       "      <td>9</td>\n",
       "    </tr>\n",
       "    <tr>\n",
       "      <th>4</th>\n",
       "      <td>-123.410</td>\n",
       "      <td>37.141</td>\n",
       "      <td>37.141</td>\n",
       "      <td>34.968</td>\n",
       "      <td>-123.410</td>\n",
       "      <td>-133.827</td>\n",
       "      <td>03:40:17</td>\n",
       "      <td>1993</td>\n",
       "      <td>9</td>\n",
       "    </tr>\n",
       "    <tr>\n",
       "      <th>...</th>\n",
       "      <td>...</td>\n",
       "      <td>...</td>\n",
       "      <td>...</td>\n",
       "      <td>...</td>\n",
       "      <td>...</td>\n",
       "      <td>...</td>\n",
       "      <td>...</td>\n",
       "      <td>...</td>\n",
       "      <td>...</td>\n",
       "    </tr>\n",
       "    <tr>\n",
       "      <th>15540</th>\n",
       "      <td>-115.027</td>\n",
       "      <td>26.702</td>\n",
       "      <td>26.702</td>\n",
       "      <td>37.012</td>\n",
       "      <td>-115.027</td>\n",
       "      <td>-165.932</td>\n",
       "      <td>19:13:04</td>\n",
       "      <td>2008</td>\n",
       "      <td>6</td>\n",
       "    </tr>\n",
       "    <tr>\n",
       "      <th>15541</th>\n",
       "      <td>-115.930</td>\n",
       "      <td>26.972</td>\n",
       "      <td>26.972</td>\n",
       "      <td>18.266</td>\n",
       "      <td>-115.930</td>\n",
       "      <td>-154.364</td>\n",
       "      <td>22:27:15</td>\n",
       "      <td>2008</td>\n",
       "      <td>6</td>\n",
       "    </tr>\n",
       "    <tr>\n",
       "      <th>15542</th>\n",
       "      <td>-119.121</td>\n",
       "      <td>30.734</td>\n",
       "      <td>30.734</td>\n",
       "      <td>21.285</td>\n",
       "      <td>-119.121</td>\n",
       "      <td>-73.036</td>\n",
       "      <td>11:42:10</td>\n",
       "      <td>2008</td>\n",
       "      <td>6</td>\n",
       "    </tr>\n",
       "    <tr>\n",
       "      <th>15543</th>\n",
       "      <td>-119.172</td>\n",
       "      <td>30.742</td>\n",
       "      <td>30.742</td>\n",
       "      <td>23.543</td>\n",
       "      <td>-119.172</td>\n",
       "      <td>-86.128</td>\n",
       "      <td>11:59:00</td>\n",
       "      <td>2008</td>\n",
       "      <td>6</td>\n",
       "    </tr>\n",
       "    <tr>\n",
       "      <th>15544</th>\n",
       "      <td>-117.927</td>\n",
       "      <td>31.318</td>\n",
       "      <td>31.318</td>\n",
       "      <td>39.205</td>\n",
       "      <td>-117.927</td>\n",
       "      <td>-157.699</td>\n",
       "      <td>19:08:34</td>\n",
       "      <td>2008</td>\n",
       "      <td>6</td>\n",
       "    </tr>\n",
       "  </tbody>\n",
       "</table>\n",
       "<p>15460 rows × 9 columns</p>\n",
       "</div>"
      ],
      "text/plain": [
       "       location-long  location-lat  argos:lat1  argos:lat2  argos:lon1  \\\n",
       "0           -122.407        36.981      36.981      47.285    -122.407   \n",
       "1           -122.788        37.637      37.637      39.596    -122.788   \n",
       "2           -122.827        37.166      37.166      44.267    -122.827   \n",
       "3           -123.466        38.184      38.184      45.262    -123.466   \n",
       "4           -123.410        37.141      37.141      34.968    -123.410   \n",
       "...              ...           ...         ...         ...         ...   \n",
       "15540       -115.027        26.702      26.702      37.012    -115.027   \n",
       "15541       -115.930        26.972      26.972      18.266    -115.930   \n",
       "15542       -119.121        30.734      30.734      21.285    -119.121   \n",
       "15543       -119.172        30.742      30.742      23.543    -119.172   \n",
       "15544       -117.927        31.318      31.318      39.205    -117.927   \n",
       "\n",
       "       argos:lon2      time  year  month  \n",
       "0         -69.471  01:23:17  1993      8  \n",
       "1        -132.219  13:04:34  1993      8  \n",
       "2         -86.243  01:57:39  1993      9  \n",
       "3         -88.640  22:35:12  1993      9  \n",
       "4        -133.827  03:40:17  1993      9  \n",
       "...           ...       ...   ...    ...  \n",
       "15540    -165.932  19:13:04  2008      6  \n",
       "15541    -154.364  22:27:15  2008      6  \n",
       "15542     -73.036  11:42:10  2008      6  \n",
       "15543     -86.128  11:59:00  2008      6  \n",
       "15544    -157.699  19:08:34  2008      6  \n",
       "\n",
       "[15460 rows x 9 columns]"
      ]
     },
     "execution_count": 10,
     "metadata": {},
     "output_type": "execute_result"
    }
   ],
   "source": [
    "df"
   ]
  },
  {
   "cell_type": "code",
   "execution_count": null,
   "id": "1c85f546",
   "metadata": {},
   "outputs": [],
   "source": []
  }
 ],
 "metadata": {
  "kernelspec": {
   "display_name": "Python 3 (ipykernel)",
   "language": "python",
   "name": "python3"
  },
  "language_info": {
   "codemirror_mode": {
    "name": "ipython",
    "version": 3
   },
   "file_extension": ".py",
   "mimetype": "text/x-python",
   "name": "python",
   "nbconvert_exporter": "python",
   "pygments_lexer": "ipython3",
   "version": "3.9.7"
  }
 },
 "nbformat": 4,
 "nbformat_minor": 5
}
