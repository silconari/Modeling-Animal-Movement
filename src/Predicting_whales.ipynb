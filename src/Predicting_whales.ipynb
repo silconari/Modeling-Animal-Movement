{
 "cells": [
  {
   "cell_type": "code",
   "execution_count": 13,
   "id": "f9950fba",
   "metadata": {},
   "outputs": [],
   "source": [
    "import pandas as pd"
   ]
  },
  {
   "cell_type": "code",
   "execution_count": 14,
   "id": "d22b0b91",
   "metadata": {},
   "outputs": [],
   "source": [
    "df = pd.read_csv(\"../data/data_transformed.csv\")"
   ]
  },
  {
   "cell_type": "code",
   "execution_count": 15,
   "id": "ec21509e",
   "metadata": {},
   "outputs": [
    {
     "data": {
      "text/html": [
       "<div>\n",
       "<style scoped>\n",
       "    .dataframe tbody tr th:only-of-type {\n",
       "        vertical-align: middle;\n",
       "    }\n",
       "\n",
       "    .dataframe tbody tr th {\n",
       "        vertical-align: top;\n",
       "    }\n",
       "\n",
       "    .dataframe thead th {\n",
       "        text-align: right;\n",
       "    }\n",
       "</style>\n",
       "<table border=\"1\" class=\"dataframe\">\n",
       "  <thead>\n",
       "    <tr style=\"text-align: right;\">\n",
       "      <th></th>\n",
       "      <th>event-id</th>\n",
       "      <th>location-long</th>\n",
       "      <th>location-lat</th>\n",
       "      <th>argos:lat1</th>\n",
       "      <th>argos:lat2</th>\n",
       "      <th>argos:lon1</th>\n",
       "      <th>argos:lon2</th>\n",
       "      <th>individual-local-identifier</th>\n",
       "      <th>date</th>\n",
       "      <th>time</th>\n",
       "    </tr>\n",
       "  </thead>\n",
       "  <tbody>\n",
       "    <tr>\n",
       "      <th>0</th>\n",
       "      <td>18347727173</td>\n",
       "      <td>-122.407</td>\n",
       "      <td>36.981</td>\n",
       "      <td>36.981</td>\n",
       "      <td>47.285</td>\n",
       "      <td>-122.407</td>\n",
       "      <td>-69.471</td>\n",
       "      <td>1993CA-Bmu-00834</td>\n",
       "      <td>1993-08-29</td>\n",
       "      <td>01:23:17</td>\n",
       "    </tr>\n",
       "    <tr>\n",
       "      <th>1</th>\n",
       "      <td>18347727174</td>\n",
       "      <td>-122.788</td>\n",
       "      <td>37.637</td>\n",
       "      <td>37.637</td>\n",
       "      <td>39.596</td>\n",
       "      <td>-122.788</td>\n",
       "      <td>-132.219</td>\n",
       "      <td>1993CA-Bmu-00834</td>\n",
       "      <td>1993-08-31</td>\n",
       "      <td>13:04:34</td>\n",
       "    </tr>\n",
       "    <tr>\n",
       "      <th>2</th>\n",
       "      <td>18347727175</td>\n",
       "      <td>-122.827</td>\n",
       "      <td>37.166</td>\n",
       "      <td>37.166</td>\n",
       "      <td>44.267</td>\n",
       "      <td>-122.827</td>\n",
       "      <td>-86.243</td>\n",
       "      <td>1993CA-Bmu-00834</td>\n",
       "      <td>1993-09-01</td>\n",
       "      <td>01:57:39</td>\n",
       "    </tr>\n",
       "    <tr>\n",
       "      <th>3</th>\n",
       "      <td>18347727180</td>\n",
       "      <td>-123.466</td>\n",
       "      <td>38.184</td>\n",
       "      <td>38.184</td>\n",
       "      <td>45.262</td>\n",
       "      <td>-123.466</td>\n",
       "      <td>-88.640</td>\n",
       "      <td>1993CA-Bmu-10823</td>\n",
       "      <td>1993-09-01</td>\n",
       "      <td>22:35:12</td>\n",
       "    </tr>\n",
       "    <tr>\n",
       "      <th>4</th>\n",
       "      <td>18347727182</td>\n",
       "      <td>-123.410</td>\n",
       "      <td>37.141</td>\n",
       "      <td>37.141</td>\n",
       "      <td>34.968</td>\n",
       "      <td>-123.410</td>\n",
       "      <td>-133.827</td>\n",
       "      <td>1993CA-Bmu-10836</td>\n",
       "      <td>1993-09-01</td>\n",
       "      <td>03:40:17</td>\n",
       "    </tr>\n",
       "    <tr>\n",
       "      <th>...</th>\n",
       "      <td>...</td>\n",
       "      <td>...</td>\n",
       "      <td>...</td>\n",
       "      <td>...</td>\n",
       "      <td>...</td>\n",
       "      <td>...</td>\n",
       "      <td>...</td>\n",
       "      <td>...</td>\n",
       "      <td>...</td>\n",
       "      <td>...</td>\n",
       "    </tr>\n",
       "    <tr>\n",
       "      <th>15540</th>\n",
       "      <td>18347743274</td>\n",
       "      <td>-115.027</td>\n",
       "      <td>26.702</td>\n",
       "      <td>26.702</td>\n",
       "      <td>37.012</td>\n",
       "      <td>-115.027</td>\n",
       "      <td>-165.932</td>\n",
       "      <td>2008CR-Bmu-01388</td>\n",
       "      <td>2008-06-03</td>\n",
       "      <td>19:13:04</td>\n",
       "    </tr>\n",
       "    <tr>\n",
       "      <th>15541</th>\n",
       "      <td>18347743275</td>\n",
       "      <td>-115.930</td>\n",
       "      <td>26.972</td>\n",
       "      <td>26.972</td>\n",
       "      <td>18.266</td>\n",
       "      <td>-115.930</td>\n",
       "      <td>-154.364</td>\n",
       "      <td>2008CR-Bmu-01388</td>\n",
       "      <td>2008-06-04</td>\n",
       "      <td>22:27:15</td>\n",
       "    </tr>\n",
       "    <tr>\n",
       "      <th>15542</th>\n",
       "      <td>18347743276</td>\n",
       "      <td>-119.121</td>\n",
       "      <td>30.734</td>\n",
       "      <td>30.734</td>\n",
       "      <td>21.285</td>\n",
       "      <td>-119.121</td>\n",
       "      <td>-73.036</td>\n",
       "      <td>2008CR-Bmu-01388</td>\n",
       "      <td>2008-06-11</td>\n",
       "      <td>11:42:10</td>\n",
       "    </tr>\n",
       "    <tr>\n",
       "      <th>15543</th>\n",
       "      <td>18347743277</td>\n",
       "      <td>-119.172</td>\n",
       "      <td>30.742</td>\n",
       "      <td>30.742</td>\n",
       "      <td>23.543</td>\n",
       "      <td>-119.172</td>\n",
       "      <td>-86.128</td>\n",
       "      <td>2008CR-Bmu-01388</td>\n",
       "      <td>2008-06-11</td>\n",
       "      <td>11:59:00</td>\n",
       "    </tr>\n",
       "    <tr>\n",
       "      <th>15544</th>\n",
       "      <td>18347743278</td>\n",
       "      <td>-117.927</td>\n",
       "      <td>31.318</td>\n",
       "      <td>31.318</td>\n",
       "      <td>39.205</td>\n",
       "      <td>-117.927</td>\n",
       "      <td>-157.699</td>\n",
       "      <td>2008CR-Bmu-01388</td>\n",
       "      <td>2008-06-13</td>\n",
       "      <td>19:08:34</td>\n",
       "    </tr>\n",
       "  </tbody>\n",
       "</table>\n",
       "<p>15545 rows × 10 columns</p>\n",
       "</div>"
      ],
      "text/plain": [
       "          event-id  location-long  location-lat  argos:lat1  argos:lat2  \\\n",
       "0      18347727173       -122.407        36.981      36.981      47.285   \n",
       "1      18347727174       -122.788        37.637      37.637      39.596   \n",
       "2      18347727175       -122.827        37.166      37.166      44.267   \n",
       "3      18347727180       -123.466        38.184      38.184      45.262   \n",
       "4      18347727182       -123.410        37.141      37.141      34.968   \n",
       "...            ...            ...           ...         ...         ...   \n",
       "15540  18347743274       -115.027        26.702      26.702      37.012   \n",
       "15541  18347743275       -115.930        26.972      26.972      18.266   \n",
       "15542  18347743276       -119.121        30.734      30.734      21.285   \n",
       "15543  18347743277       -119.172        30.742      30.742      23.543   \n",
       "15544  18347743278       -117.927        31.318      31.318      39.205   \n",
       "\n",
       "       argos:lon1  argos:lon2 individual-local-identifier        date  \\\n",
       "0        -122.407     -69.471            1993CA-Bmu-00834  1993-08-29   \n",
       "1        -122.788    -132.219            1993CA-Bmu-00834  1993-08-31   \n",
       "2        -122.827     -86.243            1993CA-Bmu-00834  1993-09-01   \n",
       "3        -123.466     -88.640            1993CA-Bmu-10823  1993-09-01   \n",
       "4        -123.410    -133.827            1993CA-Bmu-10836  1993-09-01   \n",
       "...           ...         ...                         ...         ...   \n",
       "15540    -115.027    -165.932            2008CR-Bmu-01388  2008-06-03   \n",
       "15541    -115.930    -154.364            2008CR-Bmu-01388  2008-06-04   \n",
       "15542    -119.121     -73.036            2008CR-Bmu-01388  2008-06-11   \n",
       "15543    -119.172     -86.128            2008CR-Bmu-01388  2008-06-11   \n",
       "15544    -117.927    -157.699            2008CR-Bmu-01388  2008-06-13   \n",
       "\n",
       "           time  \n",
       "0      01:23:17  \n",
       "1      13:04:34  \n",
       "2      01:57:39  \n",
       "3      22:35:12  \n",
       "4      03:40:17  \n",
       "...         ...  \n",
       "15540  19:13:04  \n",
       "15541  22:27:15  \n",
       "15542  11:42:10  \n",
       "15543  11:59:00  \n",
       "15544  19:08:34  \n",
       "\n",
       "[15545 rows x 10 columns]"
      ]
     },
     "execution_count": 15,
     "metadata": {},
     "output_type": "execute_result"
    }
   ],
   "source": [
    "df"
   ]
  },
  {
   "cell_type": "code",
   "execution_count": 16,
   "id": "a287199d",
   "metadata": {},
   "outputs": [
    {
     "data": {
      "text/plain": [
       "event-id                        0\n",
       "location-long                   0\n",
       "location-lat                    0\n",
       "argos:lat1                      0\n",
       "argos:lat2                     85\n",
       "argos:lon1                      0\n",
       "argos:lon2                     85\n",
       "individual-local-identifier     0\n",
       "date                            0\n",
       "time                            0\n",
       "dtype: int64"
      ]
     },
     "execution_count": 16,
     "metadata": {},
     "output_type": "execute_result"
    }
   ],
   "source": [
    "df.isna().sum()"
   ]
  },
  {
   "cell_type": "code",
   "execution_count": 17,
   "id": "5324b7f2",
   "metadata": {},
   "outputs": [],
   "source": [
    "df = df.dropna()"
   ]
  },
  {
   "cell_type": "code",
   "execution_count": 18,
   "id": "fbc6cf48",
   "metadata": {},
   "outputs": [
    {
     "data": {
      "text/plain": [
       "event-id                       0\n",
       "location-long                  0\n",
       "location-lat                   0\n",
       "argos:lat1                     0\n",
       "argos:lat2                     0\n",
       "argos:lon1                     0\n",
       "argos:lon2                     0\n",
       "individual-local-identifier    0\n",
       "date                           0\n",
       "time                           0\n",
       "dtype: int64"
      ]
     },
     "execution_count": 18,
     "metadata": {},
     "output_type": "execute_result"
    }
   ],
   "source": [
    "df.isna().sum()"
   ]
  },
  {
   "cell_type": "code",
   "execution_count": 19,
   "id": "dfddc9b3",
   "metadata": {},
   "outputs": [],
   "source": [
    "import datetime as dt"
   ]
  },
  {
   "cell_type": "code",
   "execution_count": 20,
   "id": "bf55af3f",
   "metadata": {},
   "outputs": [
    {
     "name": "stderr",
     "output_type": "stream",
     "text": [
      "/tmp/ipykernel_914/1657816618.py:1: SettingWithCopyWarning: \n",
      "A value is trying to be set on a copy of a slice from a DataFrame.\n",
      "Try using .loc[row_indexer,col_indexer] = value instead\n",
      "\n",
      "See the caveats in the documentation: https://pandas.pydata.org/pandas-docs/stable/user_guide/indexing.html#returning-a-view-versus-a-copy\n",
      "  df[\"date\"] = df[\"date\"].apply(lambda x:\n"
     ]
    }
   ],
   "source": [
    "df[\"date\"] = df[\"date\"].apply(lambda x: \n",
    "                                    dt.datetime.strptime(x, \"%Y-%m-%d\").year)\n"
   ]
  },
  {
   "cell_type": "code",
   "execution_count": 21,
   "id": "32ddefc8",
   "metadata": {},
   "outputs": [
    {
     "data": {
      "text/plain": [
       "0        1993\n",
       "1        1993\n",
       "2        1993\n",
       "3        1993\n",
       "4        1993\n",
       "         ... \n",
       "15540    2008\n",
       "15541    2008\n",
       "15542    2008\n",
       "15543    2008\n",
       "15544    2008\n",
       "Name: date, Length: 15460, dtype: int64"
      ]
     },
     "execution_count": 21,
     "metadata": {},
     "output_type": "execute_result"
    }
   ],
   "source": [
    "df[\"date\"]"
   ]
  },
  {
   "cell_type": "code",
   "execution_count": 22,
   "id": "937ea377",
   "metadata": {},
   "outputs": [],
   "source": [
    "y= df[\"individual-local-identifier\"]\n",
    "X= df.drop(columns=[\"individual-local-identifier\", \"time\", \"event-id\"])"
   ]
  },
  {
   "cell_type": "code",
   "execution_count": 23,
   "id": "e49d4f16",
   "metadata": {},
   "outputs": [
    {
     "data": {
      "text/plain": [
       "count    15460.000000\n",
       "mean      2003.878719\n",
       "std          3.829502\n",
       "min       1993.000000\n",
       "25%       2000.000000\n",
       "50%       2005.000000\n",
       "75%       2007.000000\n",
       "max       2009.000000\n",
       "Name: date, dtype: float64"
      ]
     },
     "execution_count": 23,
     "metadata": {},
     "output_type": "execute_result"
    }
   ],
   "source": [
    "df[\"date\"].describe()"
   ]
  },
  {
   "cell_type": "code",
   "execution_count": 24,
   "id": "04a138da",
   "metadata": {},
   "outputs": [],
   "source": [
    "X = pd.get_dummies(X)"
   ]
  },
  {
   "cell_type": "code",
   "execution_count": 25,
   "id": "b6d3fe3b",
   "metadata": {},
   "outputs": [],
   "source": [
    "y = pd.get_dummies(y)"
   ]
  },
  {
   "cell_type": "code",
   "execution_count": 26,
   "id": "9bbd32ab",
   "metadata": {},
   "outputs": [],
   "source": [
    "from sklearn.model_selection import train_test_split\n",
    "\n",
    "X_train, X_test, y_train, y_test = train_test_split(X,y)"
   ]
  },
  {
   "cell_type": "code",
   "execution_count": 27,
   "id": "913b5744",
   "metadata": {},
   "outputs": [
    {
     "data": {
      "text/html": [
       "<div>\n",
       "<style scoped>\n",
       "    .dataframe tbody tr th:only-of-type {\n",
       "        vertical-align: middle;\n",
       "    }\n",
       "\n",
       "    .dataframe tbody tr th {\n",
       "        vertical-align: top;\n",
       "    }\n",
       "\n",
       "    .dataframe thead th {\n",
       "        text-align: right;\n",
       "    }\n",
       "</style>\n",
       "<table border=\"1\" class=\"dataframe\">\n",
       "  <thead>\n",
       "    <tr style=\"text-align: right;\">\n",
       "      <th></th>\n",
       "      <th>location-long</th>\n",
       "      <th>location-lat</th>\n",
       "      <th>argos:lat1</th>\n",
       "      <th>argos:lat2</th>\n",
       "      <th>argos:lon1</th>\n",
       "      <th>argos:lon2</th>\n",
       "      <th>date</th>\n",
       "    </tr>\n",
       "  </thead>\n",
       "  <tbody>\n",
       "    <tr>\n",
       "      <th>13906</th>\n",
       "      <td>-123.540</td>\n",
       "      <td>30.220</td>\n",
       "      <td>30.220</td>\n",
       "      <td>32.652</td>\n",
       "      <td>-123.540</td>\n",
       "      <td>-111.942</td>\n",
       "      <td>2008</td>\n",
       "    </tr>\n",
       "    <tr>\n",
       "      <th>4265</th>\n",
       "      <td>-115.643</td>\n",
       "      <td>28.177</td>\n",
       "      <td>28.177</td>\n",
       "      <td>23.334</td>\n",
       "      <td>-115.643</td>\n",
       "      <td>-93.707</td>\n",
       "      <td>2001</td>\n",
       "    </tr>\n",
       "    <tr>\n",
       "      <th>2514</th>\n",
       "      <td>-114.118</td>\n",
       "      <td>30.203</td>\n",
       "      <td>30.203</td>\n",
       "      <td>29.203</td>\n",
       "      <td>-114.118</td>\n",
       "      <td>-109.398</td>\n",
       "      <td>2000</td>\n",
       "    </tr>\n",
       "    <tr>\n",
       "      <th>11564</th>\n",
       "      <td>-112.550</td>\n",
       "      <td>26.046</td>\n",
       "      <td>26.046</td>\n",
       "      <td>29.524</td>\n",
       "      <td>-112.550</td>\n",
       "      <td>-128.081</td>\n",
       "      <td>2008</td>\n",
       "    </tr>\n",
       "    <tr>\n",
       "      <th>9608</th>\n",
       "      <td>-113.847</td>\n",
       "      <td>25.880</td>\n",
       "      <td>25.880</td>\n",
       "      <td>30.258</td>\n",
       "      <td>-113.847</td>\n",
       "      <td>-133.624</td>\n",
       "      <td>2006</td>\n",
       "    </tr>\n",
       "  </tbody>\n",
       "</table>\n",
       "</div>"
      ],
      "text/plain": [
       "       location-long  location-lat  argos:lat1  argos:lat2  argos:lon1  \\\n",
       "13906       -123.540        30.220      30.220      32.652    -123.540   \n",
       "4265        -115.643        28.177      28.177      23.334    -115.643   \n",
       "2514        -114.118        30.203      30.203      29.203    -114.118   \n",
       "11564       -112.550        26.046      26.046      29.524    -112.550   \n",
       "9608        -113.847        25.880      25.880      30.258    -113.847   \n",
       "\n",
       "       argos:lon2  date  \n",
       "13906    -111.942  2008  \n",
       "4265      -93.707  2001  \n",
       "2514     -109.398  2000  \n",
       "11564    -128.081  2008  \n",
       "9608     -133.624  2006  "
      ]
     },
     "execution_count": 27,
     "metadata": {},
     "output_type": "execute_result"
    }
   ],
   "source": [
    "X_train.head()"
   ]
  },
  {
   "cell_type": "code",
   "execution_count": 28,
   "id": "b29d48dd",
   "metadata": {},
   "outputs": [],
   "source": [
    "from sklearn.metrics import mean_squared_error as mse\n",
    "from sklearn.ensemble import RandomForestClassifier"
   ]
  },
  {
   "cell_type": "code",
   "execution_count": 29,
   "id": "955f474e",
   "metadata": {},
   "outputs": [],
   "source": [
    "rf = RandomForestClassifier(n_jobs=-1, verbose=2)"
   ]
  },
  {
   "cell_type": "code",
   "execution_count": 30,
   "id": "ff46a7c3",
   "metadata": {},
   "outputs": [
    {
     "name": "stderr",
     "output_type": "stream",
     "text": [
      "[Parallel(n_jobs=-1)]: Using backend ThreadingBackend with 12 concurrent workers.\n"
     ]
    },
    {
     "name": "stdout",
     "output_type": "stream",
     "text": [
      "building tree 1 of 100\n",
      "building tree 2 of 100\n",
      "building tree 3 of 100\n",
      "building tree 4 of 100\n",
      "building tree 5 of 100\n",
      "building tree 6 of 100building tree 7 of 100\n",
      "\n",
      "building tree 8 of 100\n",
      "building tree 9 of 100\n",
      "building tree 10 of 100\n",
      "building tree 11 of 100\n",
      "building tree 12 of 100\n",
      "building tree 13 of 100\n",
      "building tree 14 of 100\n",
      "building tree 15 of 100\n",
      "building tree 16 of 100\n",
      "building tree 17 of 100\n",
      "building tree 18 of 100\n",
      "building tree 19 of 100\n",
      "building tree 20 of 100\n",
      "building tree 21 of 100\n",
      "building tree 22 of 100\n",
      "building tree 23 of 100\n",
      "building tree 24 of 100\n",
      "building tree 25 of 100\n",
      "building tree 26 of 100\n",
      "building tree 27 of 100\n",
      "building tree 28 of 100\n"
     ]
    },
    {
     "name": "stderr",
     "output_type": "stream",
     "text": [
      "[Parallel(n_jobs=-1)]: Done  17 tasks      | elapsed:    2.9s\n"
     ]
    },
    {
     "name": "stdout",
     "output_type": "stream",
     "text": [
      "building tree 29 of 100\n",
      "building tree 30 of 100\n",
      "building tree 31 of 100\n",
      "building tree 32 of 100\n",
      "building tree 33 of 100building tree 34 of 100\n",
      "\n",
      "building tree 35 of 100\n",
      "building tree 36 of 100\n",
      "building tree 37 of 100\n",
      "building tree 38 of 100\n",
      "building tree 39 of 100\n",
      "building tree 40 of 100\n",
      "building tree 41 of 100\n",
      "building tree 42 of 100\n",
      "building tree 43 of 100\n",
      "building tree 44 of 100\n",
      "building tree 45 of 100\n",
      "building tree 46 of 100building tree 47 of 100\n",
      "\n",
      "building tree 48 of 100\n",
      "building tree 49 of 100\n",
      "building tree 50 of 100\n",
      "building tree 51 of 100\n",
      "building tree 52 of 100\n",
      "building tree 53 of 100\n",
      "building tree 54 of 100\n",
      "building tree 55 of 100\n",
      "building tree 56 of 100\n",
      "building tree 57 of 100\n",
      "building tree 58 of 100\n",
      "building tree 59 of 100\n",
      "building tree 60 of 100\n",
      "building tree 61 of 100\n",
      "building tree 62 of 100\n",
      "building tree 63 of 100\n",
      "building tree 64 of 100\n",
      "building tree 65 of 100\n",
      "building tree 66 of 100\n",
      "building tree 67 of 100\n",
      "building tree 68 of 100\n",
      "building tree 69 of 100\n",
      "building tree 70 of 100\n",
      "building tree 71 of 100\n",
      "building tree 72 of 100\n",
      "building tree 73 of 100\n",
      "building tree 74 of 100\n",
      "building tree 75 of 100\n",
      "building tree 76 of 100\n",
      "building tree 77 of 100\n",
      "building tree 78 of 100\n",
      "building tree 79 of 100\n",
      "building tree 80 of 100\n",
      "building tree 81 of 100\n",
      "building tree 82 of 100\n",
      "building tree 83 of 100\n",
      "building tree 84 of 100\n",
      "building tree 85 of 100\n",
      "building tree 86 of 100\n",
      "building tree 87 of 100\n",
      "building tree 88 of 100\n",
      "building tree 89 of 100\n",
      "building tree 90 of 100\n",
      "building tree 91 of 100\n",
      "building tree 92 of 100\n",
      "building tree 93 of 100\n",
      "building tree 94 of 100building tree 95 of 100\n",
      "\n",
      "building tree 96 of 100\n",
      "building tree 97 of 100\n",
      "building tree 98 of 100\n",
      "building tree 99 of 100\n",
      "building tree 100 of 100\n"
     ]
    },
    {
     "name": "stderr",
     "output_type": "stream",
     "text": [
      "[Parallel(n_jobs=-1)]: Done 100 out of 100 | elapsed:   10.7s finished\n"
     ]
    },
    {
     "data": {
      "text/plain": [
       "RandomForestClassifier(n_jobs=-1, verbose=2)"
      ]
     },
     "execution_count": 30,
     "metadata": {},
     "output_type": "execute_result"
    }
   ],
   "source": [
    "rf.fit(X_train, y_train)"
   ]
  },
  {
   "cell_type": "code",
   "execution_count": 31,
   "id": "950691f7",
   "metadata": {},
   "outputs": [
    {
     "name": "stderr",
     "output_type": "stream",
     "text": [
      "[Parallel(n_jobs=12)]: Using backend ThreadingBackend with 12 concurrent workers.\n",
      "[Parallel(n_jobs=12)]: Done  17 tasks      | elapsed:    1.1s\n",
      "[Parallel(n_jobs=12)]: Done 100 out of 100 | elapsed:    4.3s finished\n"
     ]
    }
   ],
   "source": [
    "y_pred =rf.predict(X_test)"
   ]
  },
  {
   "cell_type": "code",
   "execution_count": 32,
   "id": "892e4cd6",
   "metadata": {},
   "outputs": [
    {
     "data": {
      "text/plain": [
       "array([[0, 0, 0, ..., 0, 0, 0],\n",
       "       [0, 0, 0, ..., 0, 0, 0],\n",
       "       [0, 0, 0, ..., 0, 0, 0],\n",
       "       ...,\n",
       "       [0, 0, 0, ..., 0, 0, 0],\n",
       "       [0, 0, 0, ..., 0, 0, 0],\n",
       "       [0, 0, 0, ..., 0, 0, 0]], dtype=uint8)"
      ]
     },
     "execution_count": 32,
     "metadata": {},
     "output_type": "execute_result"
    }
   ],
   "source": [
    "y_pred"
   ]
  },
  {
   "cell_type": "markdown",
   "id": "eb5e449d",
   "metadata": {},
   "source": [
    "**Métricas**"
   ]
  },
  {
   "cell_type": "code",
   "execution_count": 33,
   "id": "b10a449e",
   "metadata": {},
   "outputs": [
    {
     "name": "stderr",
     "output_type": "stream",
     "text": [
      "[Parallel(n_jobs=-1)]: Using backend ThreadingBackend with 12 concurrent workers.\n"
     ]
    },
    {
     "name": "stdout",
     "output_type": "stream",
     "text": [
      "building tree 1 of 100\n",
      "building tree 2 of 100\n",
      "building tree 3 of 100building tree 4 of 100\n",
      "building tree 5 of 100\n",
      "building tree 6 of 100building tree 7 of 100\n",
      "\n",
      "building tree 8 of 100\n",
      "\n",
      "building tree 9 of 100\n",
      "building tree 10 of 100\n",
      "building tree 11 of 100\n",
      "building tree 12 of 100\n",
      "building tree 13 of 100\n",
      "building tree 14 of 100\n",
      "building tree 15 of 100\n",
      "building tree 16 of 100\n",
      "building tree 17 of 100\n",
      "building tree 18 of 100\n",
      "building tree 19 of 100\n",
      "building tree 20 of 100\n",
      "building tree 21 of 100\n",
      "building tree 22 of 100\n",
      "building tree 23 of 100\n",
      "building tree 24 of 100\n",
      "building tree 25 of 100\n",
      "building tree 26 of 100\n",
      "building tree 27 of 100\n",
      "building tree 28 of 100\n",
      "building tree 29 of 100building tree 30 of 100\n",
      "\n",
      "building tree 31 of 100\n",
      "building tree 32 of 100\n",
      "building tree 33 of 100\n",
      "building tree 34 of 100\n",
      "building tree 35 of 100\n",
      "building tree 36 of 100\n"
     ]
    },
    {
     "name": "stderr",
     "output_type": "stream",
     "text": [
      "[Parallel(n_jobs=-1)]: Done  17 tasks      | elapsed:    3.8s\n"
     ]
    },
    {
     "name": "stdout",
     "output_type": "stream",
     "text": [
      "building tree 37 of 100\n",
      "building tree 38 of 100\n",
      "building tree 39 of 100\n",
      "building tree 40 of 100\n",
      "building tree 41 of 100\n",
      "building tree 42 of 100\n",
      "building tree 43 of 100building tree 44 of 100\n",
      "\n",
      "building tree 45 of 100\n",
      "building tree 46 of 100\n",
      "building tree 47 of 100\n",
      "building tree 48 of 100\n",
      "building tree 49 of 100\n",
      "building tree 50 of 100\n",
      "building tree 51 of 100\n",
      "building tree 52 of 100\n",
      "building tree 53 of 100\n",
      "building tree 54 of 100\n",
      "building tree 55 of 100\n",
      "building tree 56 of 100building tree 57 of 100\n",
      "\n",
      "building tree 58 of 100\n",
      "building tree 59 of 100\n",
      "building tree 60 of 100\n",
      "building tree 61 of 100\n",
      "building tree 62 of 100\n",
      "building tree 63 of 100\n",
      "building tree 64 of 100\n",
      "building tree 65 of 100\n",
      "building tree 66 of 100\n",
      "building tree 67 of 100\n",
      "building tree 68 of 100\n",
      "building tree 69 of 100\n",
      "building tree 70 of 100\n",
      "building tree 71 of 100\n",
      "building tree 72 of 100\n",
      "building tree 73 of 100\n",
      "building tree 74 of 100\n",
      "building tree 75 of 100\n",
      "building tree 76 of 100\n",
      "building tree 77 of 100\n",
      "building tree 78 of 100\n",
      "building tree 79 of 100\n",
      "building tree 80 of 100\n",
      "building tree 81 of 100\n",
      "building tree 82 of 100\n",
      "building tree 83 of 100\n",
      "building tree 84 of 100\n",
      "building tree 85 of 100building tree 86 of 100\n",
      "\n",
      "building tree 87 of 100\n",
      "building tree 88 of 100\n",
      "building tree 89 of 100\n",
      "building tree 90 of 100\n",
      "building tree 91 of 100\n",
      "building tree 92 of 100\n",
      "building tree 93 of 100\n",
      "building tree 94 of 100\n",
      "building tree 95 of 100\n",
      "building tree 96 of 100\n",
      "building tree 97 of 100\n",
      "building tree 98 of 100\n",
      "building tree 99 of 100\n",
      "building tree 100 of 100\n"
     ]
    },
    {
     "name": "stderr",
     "output_type": "stream",
     "text": [
      "[Parallel(n_jobs=-1)]: Done 100 out of 100 | elapsed:   14.7s finished\n"
     ]
    },
    {
     "data": {
      "text/plain": [
       "RandomForestClassifier(n_jobs=-1, verbose=2)"
      ]
     },
     "execution_count": 33,
     "metadata": {},
     "output_type": "execute_result"
    }
   ],
   "source": [
    "rf.fit(X,y)"
   ]
  },
  {
   "cell_type": "code",
   "execution_count": 34,
   "id": "3188a364",
   "metadata": {},
   "outputs": [
    {
     "name": "stderr",
     "output_type": "stream",
     "text": [
      "[Parallel(n_jobs=12)]: Using backend ThreadingBackend with 12 concurrent workers.\n",
      "[Parallel(n_jobs=12)]: Done  17 tasks      | elapsed:    2.3s\n",
      "[Parallel(n_jobs=12)]: Done 100 out of 100 | elapsed:    7.4s finished\n"
     ]
    }
   ],
   "source": [
    "y_pred_train = rf.predict(X_train)"
   ]
  },
  {
   "cell_type": "code",
   "execution_count": 35,
   "id": "34ff0628",
   "metadata": {},
   "outputs": [],
   "source": [
    "import numpy as np"
   ]
  },
  {
   "cell_type": "code",
   "execution_count": 36,
   "id": "93e08589",
   "metadata": {},
   "outputs": [
    {
     "data": {
      "text/plain": [
       "array([[0, 0, 0, ..., 0, 0, 0],\n",
       "       [0, 0, 0, ..., 0, 0, 0],\n",
       "       [0, 0, 0, ..., 0, 0, 0],\n",
       "       ...,\n",
       "       [0, 0, 0, ..., 0, 0, 0],\n",
       "       [0, 0, 0, ..., 0, 0, 0],\n",
       "       [0, 0, 0, ..., 0, 0, 0]], dtype=uint8)"
      ]
     },
     "execution_count": 36,
     "metadata": {},
     "output_type": "execute_result"
    }
   ],
   "source": [
    "np.array(y_test)"
   ]
  },
  {
   "cell_type": "code",
   "execution_count": 37,
   "id": "2de78ae1",
   "metadata": {},
   "outputs": [],
   "source": [
    "from sklearn.metrics import accuracy_score, precision_score, recall_score"
   ]
  },
  {
   "cell_type": "code",
   "execution_count": 38,
   "id": "9e09bd15",
   "metadata": {},
   "outputs": [
    {
     "data": {
      "text/plain": [
       "0.4690815006468305"
      ]
     },
     "execution_count": 38,
     "metadata": {},
     "output_type": "execute_result"
    }
   ],
   "source": [
    "accuracy_score(y_test,y_pred)"
   ]
  },
  {
   "cell_type": "code",
   "execution_count": 39,
   "id": "bc976645",
   "metadata": {},
   "outputs": [
    {
     "name": "stderr",
     "output_type": "stream",
     "text": [
      "/home/silvia/miniconda3/envs/animal_movement/lib/python3.9/site-packages/sklearn/metrics/_classification.py:1308: UndefinedMetricWarning: Precision is ill-defined and being set to 0.0 in labels with no predicted samples. Use `zero_division` parameter to control this behavior.\n",
      "  _warn_prf(average, modifier, msg_start, len(result))\n"
     ]
    },
    {
     "data": {
      "text/plain": [
       "0.4563960748872694"
      ]
     },
     "execution_count": 39,
     "metadata": {},
     "output_type": "execute_result"
    }
   ],
   "source": [
    "precision_score(y_test,y_pred,average='macro')"
   ]
  },
  {
   "cell_type": "code",
   "execution_count": 40,
   "id": "c4c32336",
   "metadata": {},
   "outputs": [
    {
     "name": "stderr",
     "output_type": "stream",
     "text": [
      "/home/silvia/miniconda3/envs/animal_movement/lib/python3.9/site-packages/sklearn/metrics/_classification.py:1308: UndefinedMetricWarning: Recall is ill-defined and being set to 0.0 in labels with no true samples. Use `zero_division` parameter to control this behavior.\n",
      "  _warn_prf(average, modifier, msg_start, len(result))\n"
     ]
    },
    {
     "data": {
      "text/plain": [
       "0.2610469458118502"
      ]
     },
     "execution_count": 40,
     "metadata": {},
     "output_type": "execute_result"
    }
   ],
   "source": [
    "recall_score(y_test,y_pred, average='macro')"
   ]
  },
  {
   "cell_type": "code",
   "execution_count": null,
   "id": "a85706f4",
   "metadata": {},
   "outputs": [],
   "source": []
  },
  {
   "cell_type": "code",
   "execution_count": null,
   "id": "4258f36b",
   "metadata": {},
   "outputs": [],
   "source": []
  }
 ],
 "metadata": {
  "kernelspec": {
   "display_name": "Python 3 (ipykernel)",
   "language": "python",
   "name": "python3"
  },
  "language_info": {
   "codemirror_mode": {
    "name": "ipython",
    "version": 3
   },
   "file_extension": ".py",
   "mimetype": "text/x-python",
   "name": "python",
   "nbconvert_exporter": "python",
   "pygments_lexer": "ipython3",
   "version": "3.9.7"
  }
 },
 "nbformat": 4,
 "nbformat_minor": 5
}
